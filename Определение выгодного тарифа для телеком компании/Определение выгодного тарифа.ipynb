{
  "cells": [
    {
      "cell_type": "markdown",
      "metadata": {
        "id": "sXpeybNGRvDT"
      },
      "source": [
        "# Рекомендация тарифов"
      ]
    },
    {
      "cell_type": "markdown",
      "metadata": {
        "id": "2WlHjg7NRvDU"
      },
      "source": [
        "В вашем распоряжении данные о поведении клиентов, которые уже перешли на эти тарифы (из проекта курса «Статистический анализ данных»). Нужно построить модель для задачи классификации, которая выберет подходящий тариф. Предобработка данных не понадобится — вы её уже сделали.\n",
        "\n",
        "Постройте модель с максимально большим значением *accuracy*. Чтобы сдать проект успешно, нужно довести долю правильных ответов по крайней мере до 0.75. Проверьте *accuracy* на тестовой выборке самостоятельно."
      ]
    },
    {
      "cell_type": "markdown",
      "metadata": {
        "id": "Uzuw6R3nRvDW"
      },
      "source": [
        "## Откройте и изучите файл"
      ]
    },
    {
      "cell_type": "code",
      "execution_count": null,
      "metadata": {
        "id": "9hV1DGEuRvDY"
      },
      "outputs": [],
      "source": [
        "#импортируем все то что необходимо нам для построение моделей, возьмем 3 алгоритма ( дерево, случайный лес, логистическая\n",
        "#регрессия)\n",
        "import pandas as pd\n",
        "import numpy as np\n",
        "import sklearn.metrics\n",
        "import matplotlib.pyplot as plt\n",
        "import tqdm\n",
        "from tqdm import tqdm\n",
        "from sklearn import tree\n",
        "from sklearn.dummy import DummyClassifier\n",
        "from sklearn.tree import DecisionTreeClassifier\n",
        "from sklearn.ensemble import RandomForestClassifier\n",
        "from sklearn.model_selection import GridSearchCV\n",
        "from sklearn.linear_model import LogisticRegression\n",
        "from sklearn.model_selection import train_test_split\n",
        "from sklearn.metrics import accuracy_score"
      ]
    },
    {
      "cell_type": "code",
      "execution_count": null,
      "metadata": {
        "id": "lkIyNz1mRvDc"
      },
      "outputs": [],
      "source": [
        "#прочитаем файл и сохраним в переменную df\n",
        "df = pd.read_csv('/datasets/users_behavior.csv')"
      ]
    },
    {
      "cell_type": "code",
      "execution_count": null,
      "metadata": {
        "id": "8w7bIgJyRvDc",
        "outputId": "511d6508-ccfb-48ad-df51-049bcd609685"
      },
      "outputs": [
        {
          "data": {
            "text/html": [
              "<div>\n",
              "<style scoped>\n",
              "    .dataframe tbody tr th:only-of-type {\n",
              "        vertical-align: middle;\n",
              "    }\n",
              "\n",
              "    .dataframe tbody tr th {\n",
              "        vertical-align: top;\n",
              "    }\n",
              "\n",
              "    .dataframe thead th {\n",
              "        text-align: right;\n",
              "    }\n",
              "</style>\n",
              "<table border=\"1\" class=\"dataframe\">\n",
              "  <thead>\n",
              "    <tr style=\"text-align: right;\">\n",
              "      <th></th>\n",
              "      <th>calls</th>\n",
              "      <th>minutes</th>\n",
              "      <th>messages</th>\n",
              "      <th>mb_used</th>\n",
              "      <th>is_ultra</th>\n",
              "    </tr>\n",
              "  </thead>\n",
              "  <tbody>\n",
              "    <tr>\n",
              "      <th>0</th>\n",
              "      <td>40.0</td>\n",
              "      <td>311.90</td>\n",
              "      <td>83.0</td>\n",
              "      <td>19915.42</td>\n",
              "      <td>0</td>\n",
              "    </tr>\n",
              "    <tr>\n",
              "      <th>1</th>\n",
              "      <td>85.0</td>\n",
              "      <td>516.75</td>\n",
              "      <td>56.0</td>\n",
              "      <td>22696.96</td>\n",
              "      <td>0</td>\n",
              "    </tr>\n",
              "    <tr>\n",
              "      <th>2</th>\n",
              "      <td>77.0</td>\n",
              "      <td>467.66</td>\n",
              "      <td>86.0</td>\n",
              "      <td>21060.45</td>\n",
              "      <td>0</td>\n",
              "    </tr>\n",
              "    <tr>\n",
              "      <th>3</th>\n",
              "      <td>106.0</td>\n",
              "      <td>745.53</td>\n",
              "      <td>81.0</td>\n",
              "      <td>8437.39</td>\n",
              "      <td>1</td>\n",
              "    </tr>\n",
              "    <tr>\n",
              "      <th>4</th>\n",
              "      <td>66.0</td>\n",
              "      <td>418.74</td>\n",
              "      <td>1.0</td>\n",
              "      <td>14502.75</td>\n",
              "      <td>0</td>\n",
              "    </tr>\n",
              "    <tr>\n",
              "      <th>5</th>\n",
              "      <td>58.0</td>\n",
              "      <td>344.56</td>\n",
              "      <td>21.0</td>\n",
              "      <td>15823.37</td>\n",
              "      <td>0</td>\n",
              "    </tr>\n",
              "    <tr>\n",
              "      <th>6</th>\n",
              "      <td>57.0</td>\n",
              "      <td>431.64</td>\n",
              "      <td>20.0</td>\n",
              "      <td>3738.90</td>\n",
              "      <td>1</td>\n",
              "    </tr>\n",
              "    <tr>\n",
              "      <th>7</th>\n",
              "      <td>15.0</td>\n",
              "      <td>132.40</td>\n",
              "      <td>6.0</td>\n",
              "      <td>21911.60</td>\n",
              "      <td>0</td>\n",
              "    </tr>\n",
              "    <tr>\n",
              "      <th>8</th>\n",
              "      <td>7.0</td>\n",
              "      <td>43.39</td>\n",
              "      <td>3.0</td>\n",
              "      <td>2538.67</td>\n",
              "      <td>1</td>\n",
              "    </tr>\n",
              "    <tr>\n",
              "      <th>9</th>\n",
              "      <td>90.0</td>\n",
              "      <td>665.41</td>\n",
              "      <td>38.0</td>\n",
              "      <td>17358.61</td>\n",
              "      <td>0</td>\n",
              "    </tr>\n",
              "  </tbody>\n",
              "</table>\n",
              "</div>"
            ],
            "text/plain": [
              "   calls  minutes  messages   mb_used  is_ultra\n",
              "0   40.0   311.90      83.0  19915.42         0\n",
              "1   85.0   516.75      56.0  22696.96         0\n",
              "2   77.0   467.66      86.0  21060.45         0\n",
              "3  106.0   745.53      81.0   8437.39         1\n",
              "4   66.0   418.74       1.0  14502.75         0\n",
              "5   58.0   344.56      21.0  15823.37         0\n",
              "6   57.0   431.64      20.0   3738.90         1\n",
              "7   15.0   132.40       6.0  21911.60         0\n",
              "8    7.0    43.39       3.0   2538.67         1\n",
              "9   90.0   665.41      38.0  17358.61         0"
            ]
          },
          "execution_count": 3,
          "metadata": {},
          "output_type": "execute_result"
        }
      ],
      "source": [
        "#рассмотрим ближе наши данные\n",
        "df.head(10)"
      ]
    },
    {
      "cell_type": "code",
      "execution_count": null,
      "metadata": {
        "id": "0tcFMj6vRvDf",
        "outputId": "23057870-db6f-40f9-ab34-17bba8956290"
      },
      "outputs": [
        {
          "data": {
            "text/html": [
              "<div>\n",
              "<style scoped>\n",
              "    .dataframe tbody tr th:only-of-type {\n",
              "        vertical-align: middle;\n",
              "    }\n",
              "\n",
              "    .dataframe tbody tr th {\n",
              "        vertical-align: top;\n",
              "    }\n",
              "\n",
              "    .dataframe thead th {\n",
              "        text-align: right;\n",
              "    }\n",
              "</style>\n",
              "<table border=\"1\" class=\"dataframe\">\n",
              "  <thead>\n",
              "    <tr style=\"text-align: right;\">\n",
              "      <th></th>\n",
              "      <th>calls</th>\n",
              "      <th>minutes</th>\n",
              "      <th>messages</th>\n",
              "      <th>mb_used</th>\n",
              "      <th>is_ultra</th>\n",
              "    </tr>\n",
              "  </thead>\n",
              "  <tbody>\n",
              "    <tr>\n",
              "      <th>0</th>\n",
              "      <td>40.0</td>\n",
              "      <td>311.90</td>\n",
              "      <td>83.0</td>\n",
              "      <td>19915.42</td>\n",
              "      <td>0</td>\n",
              "    </tr>\n",
              "    <tr>\n",
              "      <th>1</th>\n",
              "      <td>85.0</td>\n",
              "      <td>516.75</td>\n",
              "      <td>56.0</td>\n",
              "      <td>22696.96</td>\n",
              "      <td>0</td>\n",
              "    </tr>\n",
              "    <tr>\n",
              "      <th>2</th>\n",
              "      <td>77.0</td>\n",
              "      <td>467.66</td>\n",
              "      <td>86.0</td>\n",
              "      <td>21060.45</td>\n",
              "      <td>0</td>\n",
              "    </tr>\n",
              "    <tr>\n",
              "      <th>3</th>\n",
              "      <td>106.0</td>\n",
              "      <td>745.53</td>\n",
              "      <td>81.0</td>\n",
              "      <td>8437.39</td>\n",
              "      <td>1</td>\n",
              "    </tr>\n",
              "    <tr>\n",
              "      <th>4</th>\n",
              "      <td>66.0</td>\n",
              "      <td>418.74</td>\n",
              "      <td>1.0</td>\n",
              "      <td>14502.75</td>\n",
              "      <td>0</td>\n",
              "    </tr>\n",
              "    <tr>\n",
              "      <th>...</th>\n",
              "      <td>...</td>\n",
              "      <td>...</td>\n",
              "      <td>...</td>\n",
              "      <td>...</td>\n",
              "      <td>...</td>\n",
              "    </tr>\n",
              "    <tr>\n",
              "      <th>3209</th>\n",
              "      <td>122.0</td>\n",
              "      <td>910.98</td>\n",
              "      <td>20.0</td>\n",
              "      <td>35124.90</td>\n",
              "      <td>1</td>\n",
              "    </tr>\n",
              "    <tr>\n",
              "      <th>3210</th>\n",
              "      <td>25.0</td>\n",
              "      <td>190.36</td>\n",
              "      <td>0.0</td>\n",
              "      <td>3275.61</td>\n",
              "      <td>0</td>\n",
              "    </tr>\n",
              "    <tr>\n",
              "      <th>3211</th>\n",
              "      <td>97.0</td>\n",
              "      <td>634.44</td>\n",
              "      <td>70.0</td>\n",
              "      <td>13974.06</td>\n",
              "      <td>0</td>\n",
              "    </tr>\n",
              "    <tr>\n",
              "      <th>3212</th>\n",
              "      <td>64.0</td>\n",
              "      <td>462.32</td>\n",
              "      <td>90.0</td>\n",
              "      <td>31239.78</td>\n",
              "      <td>0</td>\n",
              "    </tr>\n",
              "    <tr>\n",
              "      <th>3213</th>\n",
              "      <td>80.0</td>\n",
              "      <td>566.09</td>\n",
              "      <td>6.0</td>\n",
              "      <td>29480.52</td>\n",
              "      <td>1</td>\n",
              "    </tr>\n",
              "  </tbody>\n",
              "</table>\n",
              "<p>3214 rows × 5 columns</p>\n",
              "</div>"
            ],
            "text/plain": [
              "      calls  minutes  messages   mb_used  is_ultra\n",
              "0      40.0   311.90      83.0  19915.42         0\n",
              "1      85.0   516.75      56.0  22696.96         0\n",
              "2      77.0   467.66      86.0  21060.45         0\n",
              "3     106.0   745.53      81.0   8437.39         1\n",
              "4      66.0   418.74       1.0  14502.75         0\n",
              "...     ...      ...       ...       ...       ...\n",
              "3209  122.0   910.98      20.0  35124.90         1\n",
              "3210   25.0   190.36       0.0   3275.61         0\n",
              "3211   97.0   634.44      70.0  13974.06         0\n",
              "3212   64.0   462.32      90.0  31239.78         0\n",
              "3213   80.0   566.09       6.0  29480.52         1\n",
              "\n",
              "[3214 rows x 5 columns]"
            ]
          },
          "execution_count": 4,
          "metadata": {},
          "output_type": "execute_result"
        }
      ],
      "source": [
        "df"
      ]
    },
    {
      "cell_type": "code",
      "execution_count": null,
      "metadata": {
        "scrolled": true,
        "id": "6eb4PGEpRvDg",
        "outputId": "cf64a891-1b32-4b13-f930-e89248266ae1"
      },
      "outputs": [
        {
          "name": "stdout",
          "output_type": "stream",
          "text": [
            "<class 'pandas.core.frame.DataFrame'>\n",
            "RangeIndex: 3214 entries, 0 to 3213\n",
            "Data columns (total 5 columns):\n",
            " #   Column    Non-Null Count  Dtype  \n",
            "---  ------    --------------  -----  \n",
            " 0   calls     3214 non-null   float64\n",
            " 1   minutes   3214 non-null   float64\n",
            " 2   messages  3214 non-null   float64\n",
            " 3   mb_used   3214 non-null   float64\n",
            " 4   is_ultra  3214 non-null   int64  \n",
            "dtypes: float64(4), int64(1)\n",
            "memory usage: 125.7 KB\n"
          ]
        }
      ],
      "source": [
        "df.info()"
      ]
    },
    {
      "cell_type": "code",
      "execution_count": null,
      "metadata": {
        "id": "3ns_PTpbRvDi",
        "outputId": "7c021bcb-401b-4e74-dc85-d43be27c3383"
      },
      "outputs": [
        {
          "data": {
            "text/plain": [
              "(3214, 5)"
            ]
          },
          "execution_count": 6,
          "metadata": {},
          "output_type": "execute_result"
        }
      ],
      "source": [
        "#посмотрим сколько всего строк и столбцов в нашем DF\n",
        "df.shape"
      ]
    },
    {
      "cell_type": "markdown",
      "metadata": {
        "id": "DT1mldlURvDj"
      },
      "source": [
        "## Разбейте данные на выборки"
      ]
    },
    {
      "cell_type": "code",
      "execution_count": null,
      "metadata": {
        "id": "YgUmRxrDRvDk"
      },
      "outputs": [],
      "source": [
        "#Разбиваем данные на признак и целевой признак\n",
        "features = df.drop(['is_ultra'], axis = 1) #признак\n",
        "target = df['is_ultra'] #целевой признак "
      ]
    },
    {
      "cell_type": "code",
      "execution_count": null,
      "metadata": {
        "id": "3FJ91GLLRvDk"
      },
      "outputs": [],
      "source": [
        "# делим нашу выборку 60 на 40, где тренировочных данных мы оставим 60% а тестовые данные 40%\n",
        "features_train, features_test, target_train, target_test = train_test_split(\n",
        "    features, target, test_size=0.40, random_state=12345, stratify = target ) "
      ]
    },
    {
      "cell_type": "code",
      "execution_count": null,
      "metadata": {
        "id": "c5xXfWJlRvDl"
      },
      "outputs": [],
      "source": [
        "# делим наши тестовые данные пополам где, 50% будет тестовая выборка и 50% будет валидационная выборка\n",
        "features_test, features_valid, target_test, target_valid = train_test_split(\n",
        "    features_test, target_test, test_size=0.5, random_state = 12345, stratify= target_test)"
      ]
    },
    {
      "cell_type": "code",
      "execution_count": null,
      "metadata": {
        "id": "-qFYQJLzRvDm",
        "outputId": "d55999c5-c155-4ff7-894d-be2ac8621716"
      },
      "outputs": [
        {
          "name": "stdout",
          "output_type": "stream",
          "text": [
            "(3214, 4)\n",
            "(3214,)\n",
            "---------------------------------------------\n",
            "Тренировочная выборка\n",
            "(1928, 4)\n",
            "(1928,)\n",
            "---------------------------------------------\n",
            "Валидационная выборка\n",
            "(643, 4)\n",
            "(643,)\n",
            "---------------------------------------------\n",
            "Тестовая выборка\n",
            "(643, 4)\n",
            "(643,)\n"
          ]
        }
      ],
      "source": [
        "#проверим как разделились наши выборки\n",
        "print(features.shape)\n",
        "print(target.shape)\n",
        "print('-'* 45)\n",
        "print('Тренировочная выборка')\n",
        "print(features_train.shape)\n",
        "print(target_train.shape)\n",
        "print('-'* 45)\n",
        "print('Валидационная выборка')\n",
        "print(features_valid.shape)\n",
        "print(target_valid.shape)\n",
        "print('-'* 45)\n",
        "print('Тестовая выборка')\n",
        "print(features_test.shape)\n",
        "print(target_test.shape)\n"
      ]
    },
    {
      "cell_type": "markdown",
      "metadata": {
        "id": "uaRoUDKtRvDo"
      },
      "source": [
        "Вывод: разделили выборку на 3 части, на которой мы будем тренировать наши модельки, валидационная выборка и тестовая на которой будем тестить нашу одну 'лучшую модель'"
      ]
    },
    {
      "cell_type": "markdown",
      "metadata": {
        "id": "cEnj4wmkRvDp"
      },
      "source": [
        "## Исследуйте модели"
      ]
    },
    {
      "cell_type": "code",
      "execution_count": null,
      "metadata": {
        "id": "DlywiHJIRvDp",
        "outputId": "0caea10f-c932-472d-ec62-afa9a8ca410d"
      },
      "outputs": [
        {
          "name": "stdout",
          "output_type": "stream",
          "text": [
            "Лучшая глубина дерева: 5\n",
            "Accuracy лучшей модели: 81.2%\n",
            "---------------------------------------------\n",
            "CPU times: user 28.7 ms, sys: 2.74 ms, total: 31.4 ms\n",
            "Wall time: 30.4 ms\n"
          ]
        }
      ],
      "source": [
        "%%time\n",
        "#создаем переменные в которой сохраним лучшую модель, лучшую глубину дерева, лучшее качество предсказания алгоритма\n",
        "show_tree = []\n",
        "show_tree_two = []\n",
        "best_model_tree = None\n",
        "best_result_tree = 0\n",
        "best_depth_tree = 0\n",
        "\n",
        "for depth in range(1, 6):\n",
        "    model_tree = DecisionTreeClassifier(random_state=12345, max_depth= depth) # обучаем модель с заданной глубиной дерева\n",
        "    model_tree.fit(features_train, target_train ) # обучаем модель\n",
        "    predictions = model_tree.predict(features_valid) # получам предсказания модели\n",
        "    result = accuracy_score(target_valid , predictions) # посчитаем качество модели\n",
        "    #сделаем условие что бы лучшая модель сохранялась в переменную\n",
        "    show_tree.append(predictions)\n",
        "    show_tree_two.append(depth)\n",
        "    if result > best_result_tree:\n",
        "        best_model_tree = model_tree #сохраним лучшую модель\n",
        "        best_result_tree = result # сохраним лучший рузельтат качества модели\n",
        "        best_depth_tree = depth # сохраним лучшую глубину дерева\n",
        "#Выведем на экран Accuracy лучшей модели\n",
        "\n",
        "print('Лучшая глубина дерева:', best_depth_tree)\n",
        "print(\"Accuracy лучшей модели:\",\"{:.1%}\".format( round(best_result_tree, 4)))\n",
        "print('-' * 45)\n"
      ]
    },
    {
      "cell_type": "code",
      "execution_count": null,
      "metadata": {
        "id": "ZlPAtXn5RvDr",
        "outputId": "fc6f8666-5413-4d64-cc00-3ddf5fdceaf5"
      },
      "outputs": [
        {
          "data": {
            "image/png": "[encoded data removed]",
            "text/plain": [
              "<Figure size 3600x5040 with 1 Axes>"
            ]
          },
          "metadata": {
            "needs_background": "light"
          },
          "output_type": "display_data"
        }
      ],
      "source": [
        "plt.figure(figsize=(50,70))\n",
        "tree.plot_tree(model_tree, feature_names=df.is_ultra, filled=True)\n",
        "plt.title('Распределение дерева', fontsize = 30)\n",
        "plt.show()"
      ]
    },
    {
      "cell_type": "code",
      "execution_count": null,
      "metadata": {
        "id": "8ZeEKK_kRvDs",
        "outputId": "fd708e20-c66b-4408-8143-dc4d3422abe6"
      },
      "outputs": [
        {
          "data": {
            "text/html": [
              "<div>\n",
              "<style scoped>\n",
              "    .dataframe tbody tr th:only-of-type {\n",
              "        vertical-align: middle;\n",
              "    }\n",
              "\n",
              "    .dataframe tbody tr th {\n",
              "        vertical-align: top;\n",
              "    }\n",
              "\n",
              "    .dataframe thead th {\n",
              "        text-align: right;\n",
              "    }\n",
              "</style>\n",
              "<table border=\"1\" class=\"dataframe\">\n",
              "  <thead>\n",
              "    <tr style=\"text-align: right;\">\n",
              "      <th></th>\n",
              "      <th>calls</th>\n",
              "      <th>minutes</th>\n",
              "      <th>messages</th>\n",
              "      <th>mb_used</th>\n",
              "      <th>is_ultra</th>\n",
              "    </tr>\n",
              "  </thead>\n",
              "  <tbody>\n",
              "    <tr>\n",
              "      <th>0</th>\n",
              "      <td>40.0</td>\n",
              "      <td>311.90</td>\n",
              "      <td>83.0</td>\n",
              "      <td>19915.42</td>\n",
              "      <td>0</td>\n",
              "    </tr>\n",
              "    <tr>\n",
              "      <th>1</th>\n",
              "      <td>85.0</td>\n",
              "      <td>516.75</td>\n",
              "      <td>56.0</td>\n",
              "      <td>22696.96</td>\n",
              "      <td>0</td>\n",
              "    </tr>\n",
              "    <tr>\n",
              "      <th>2</th>\n",
              "      <td>77.0</td>\n",
              "      <td>467.66</td>\n",
              "      <td>86.0</td>\n",
              "      <td>21060.45</td>\n",
              "      <td>0</td>\n",
              "    </tr>\n",
              "    <tr>\n",
              "      <th>3</th>\n",
              "      <td>106.0</td>\n",
              "      <td>745.53</td>\n",
              "      <td>81.0</td>\n",
              "      <td>8437.39</td>\n",
              "      <td>1</td>\n",
              "    </tr>\n",
              "    <tr>\n",
              "      <th>4</th>\n",
              "      <td>66.0</td>\n",
              "      <td>418.74</td>\n",
              "      <td>1.0</td>\n",
              "      <td>14502.75</td>\n",
              "      <td>0</td>\n",
              "    </tr>\n",
              "  </tbody>\n",
              "</table>\n",
              "</div>"
            ],
            "text/plain": [
              "   calls  minutes  messages   mb_used  is_ultra\n",
              "0   40.0   311.90      83.0  19915.42         0\n",
              "1   85.0   516.75      56.0  22696.96         0\n",
              "2   77.0   467.66      86.0  21060.45         0\n",
              "3  106.0   745.53      81.0   8437.39         1\n",
              "4   66.0   418.74       1.0  14502.75         0"
            ]
          },
          "execution_count": 13,
          "metadata": {},
          "output_type": "execute_result"
        }
      ],
      "source": [
        "df.head()"
      ]
    },
    {
      "cell_type": "code",
      "execution_count": null,
      "metadata": {
        "id": "lmOve8ZQRvDv",
        "outputId": "0a50c326-ddd6-420d-a2d4-7f84113528f3"
      },
      "outputs": [
        {
          "name": "stderr",
          "output_type": "stream",
          "text": [
            "100%|██████████| 9/9 [01:48<00:00, 12.06s/it]"
          ]
        },
        {
          "name": "stdout",
          "output_type": "stream",
          "text": [
            "Лучшая глубина дерева 9\n",
            "Лучший лес: 63\n",
            "Accuracy наилучшей модели на валидационной выборке: 82.4%\n",
            "CPU times: user 1min 47s, sys: 622 ms, total: 1min 48s\n",
            "Wall time: 1min 48s\n"
          ]
        },
        {
          "name": "stderr",
          "output_type": "stream",
          "text": [
            "\n"
          ]
        }
      ],
      "source": [
        "%%time\n",
        "# создаем переменные в которые будем сохранять лучшую модель , лучший результат, и лучшее количество деревьев\n",
        "best_model_forest = None\n",
        "best_result_forest = 0\n",
        "best_est_forest = 0\n",
        "max_depth = 0\n",
        "for depth in tqdm(range(1, 10)):\n",
        "    for est in range(1, 100):\n",
        "        model_forest = RandomForestClassifier(random_state=12345, n_estimators=est, max_depth = depth) # обучаем модель с заданным количеством деревьев\n",
        "        model_forest.fit(features_train,target_train) # обучаем модель на тренировочной выборке\n",
        "        result = model_forest.score(features_valid, target_valid) # посчитаем качество модели на валидационной выборке\n",
        "        if result > best_result_forest:\n",
        "            best_model_forest = model_forest #сохраним наилучшую модель\n",
        "            best_result_forest = result #сохраним наилучшее значение метрики accuracy на валидационных данных\n",
        "            best_est_forest = est #сохраним наилучшее значение леса\n",
        "            max_depth = depth\n",
        "\n",
        "print(\"Лучшая глубина дерева\", depth)\n",
        "print('Лучший лес:',best_est_forest )\n",
        "print(\"Accuracy наилучшей модели на валидационной выборке:\", \"{:.1%}\".format(round(best_result_forest,4)))"
      ]
    },
    {
      "cell_type": "code",
      "execution_count": null,
      "metadata": {
        "id": "2Kt5ctNCRvDy",
        "outputId": "b32e0147-073b-4e29-c092-685e4217af8a"
      },
      "outputs": [
        {
          "name": "stdout",
          "output_type": "stream",
          "text": [
            "74.7%\n"
          ]
        }
      ],
      "source": [
        "\n",
        "model_logist = LogisticRegression(random_state=12345, solver='lbfgs', max_iter=100)\n",
        "model_logist.fit(features_train, target_train)\n",
        "model_logist.predict(features_valid)\n",
        "\n",
        "print(\"{:.1%}\".format(round(model_logist.score(features_valid, target_valid),4)))"
      ]
    },
    {
      "cell_type": "markdown",
      "metadata": {
        "id": "AUh-yWDFRvDz"
      },
      "source": [
        "Вывод: самый лучшая модель на валидационной выборке у нас случайный лес результат '82.4%', ее мы возьмем для того что бы проверить ее на тестовой выборке и сделать прогноз.\n",
        "Самый худший результат у нас в Логистической модельке, даже 74.7% данных нет правильных ответов."
      ]
    },
    {
      "cell_type": "markdown",
      "metadata": {
        "id": "pu4D-EQnRvD2"
      },
      "source": [
        "## Проверьте модель на тестовой выборке"
      ]
    },
    {
      "cell_type": "code",
      "execution_count": null,
      "metadata": {
        "id": "DnB_WhYuRvD2",
        "outputId": "be9d6ff0-c6c6-46f9-dbc4-24ebd6282089"
      },
      "outputs": [
        {
          "name": "stdout",
          "output_type": "stream",
          "text": [
            "89.7%\n"
          ]
        }
      ],
      "source": [
        "y_train_validate = pd.concat([target_train,target_valid] )\n",
        "x_train_validation = pd.concat([features_train, features_valid])\n",
        "\n",
        "model_forest = RandomForestClassifier(random_state=12345, n_estimators=63, max_depth = 9) # обучаем модель с заданным количеством деревьев\n",
        "best_model_rf= model_forest.fit(x_train_validation,y_train_validate) # обучаем модель на тренировочной выборке\n",
        "result = model_forest.score(features_valid, target_valid)\n",
        "\n",
        "print(\"{:.1%}\".format(result))"
      ]
    },
    {
      "cell_type": "markdown",
      "metadata": {
        "id": "4y3KssRaRvD3"
      },
      "source": [
        "**вывод:**\n",
        "- Accuracy наилучшей модели на валидационной выборке у нас получилось 82.4%\n",
        "- После обьединения выборок наш результат повысился до 89.7%\n"
      ]
    },
    {
      "cell_type": "code",
      "execution_count": null,
      "metadata": {
        "id": "Lpr72NHvRvD4",
        "outputId": "3e5a1ebb-e484-4ace-9bbf-beae4a755817"
      },
      "outputs": [
        {
          "data": {
            "text/plain": [
              "'82.4%'"
            ]
          },
          "execution_count": 17,
          "metadata": {},
          "output_type": "execute_result"
        }
      ],
      "source": [
        "predictions = best_model_rf.predict(features_test)\n",
        "result_forest = round(accuracy_score(target_test, predictions), 4)\n",
        "\n",
        "\"{:.1%}\".format(result_forest)"
      ]
    },
    {
      "cell_type": "markdown",
      "metadata": {
        "id": "7tLhi-T1RvD5"
      },
      "source": [
        "Вывод: Проверили модель на тестовой выборке где мы не затрагивали эти данные не на обучении не на валидационной выборке. Результат у нас получился не плохой '82.4%' правильных ответов."
      ]
    },
    {
      "cell_type": "markdown",
      "metadata": {
        "id": "JyuPR14ERvD6"
      },
      "source": [
        "## (бонус) Проверьте модели на адекватность"
      ]
    },
    {
      "cell_type": "code",
      "execution_count": null,
      "metadata": {
        "id": "olMWtFrnRvD7",
        "outputId": "0e0e7634-78e6-4201-fce3-55f3f5747ef7"
      },
      "outputs": [
        {
          "name": "stdout",
          "output_type": "stream",
          "text": [
            "69.4%\n"
          ]
        }
      ],
      "source": [
        "dummy_clf = DummyClassifier(strategy='most_frequent', random_state=1)\n",
        "dummy_clf.fit(features_train, target_train)\n",
        "dummy_clf.predict(features_test)\n",
        "accuracy_random_test = dummy_clf.score(features_test, target_test)\n",
        "print(\"{:.1%}\".format(dummy_clf.score(features_test, target_test)))"
      ]
    },
    {
      "cell_type": "code",
      "execution_count": null,
      "metadata": {
        "id": "aDFy-jS3RvD9",
        "outputId": "e05eea38-799d-48e3-890c-8696dff1f2dc"
      },
      "outputs": [
        {
          "name": "stdout",
          "output_type": "stream",
          "text": [
            "Наша модель лучше, она дает больше правильных ответов на 13.0% больше правильных ответов чем случайная модель\n"
          ]
        }
      ],
      "source": [
        "if result_forest > accuracy_random_test:\n",
        "    print('Наша модель лучше, она дает больше правильных ответов на',\"{:.1%}\".format( round(result_forest - accuracy_random_test, 2)), 'больше правильных ответов чем случайная модель')\n",
        "else:\n",
        "    print('Наша модель предсказывает хуже чем случайная модель на',\"{:.1%}\".format( round(accuracy_random_test - result_forest, 4 )))"
      ]
    },
    {
      "cell_type": "markdown",
      "metadata": {
        "id": "UPyM3rfIRvD-"
      },
      "source": [
        "**Вывод:** мы сделали случайную модель, она дает нам предсказания мы сравнили предсказания случайной модели с тестовой выборкой посмотрели Accuracy и случайная модель выдала результат '70.6%' а наша модель случайный лес выдала результат '82.4%' что на 13.0% наша модель предсказывает лучше чем случайная модель."
      ]
    },
    {
      "cell_type": "markdown",
      "metadata": {
        "id": "IYDdX7xpRvD-"
      },
      "source": [
        "**Вывод:**\n",
        "- В нашем проекте мы обучили 3 модели, модель дерева, модель случайного леса и модель логической регрессии.\n",
        "- Лучший результат у нас по моделе Случайный лес правильных ответов на валидационной выборке ( 89.7%) самый худший результат по модели Логистическая регрессия правильных ответов (74.7%).\n",
        "- Лучшая выбранная модель 'Случайный лес' дал нам на тестовой выборке правильных ответов ('82.4%'), что уже хороший результат для тестовой выборки.\n",
        "- Последним шагом мы проверили нашу модельку на 'адекватность', т.е. мы создали рандомную таблицу и сравнили с нашей тестовой выборкой, наша модель дала больше правильных предсказаний на (13.0%)  что является хорошим результатам, и мы добились хороших результатов от нашей обученной модели."
      ]
    },
    {
      "cell_type": "markdown",
      "metadata": {
        "id": "YqdI-6lwRvEB"
      },
      "source": [
        "\n",
        "<div class=\"alert alert-info\">\n",
        "<font size=\"5\"><b>Комментарий ревьюераV2</b></font>\n",
        "\n",
        "Спасибо за работу!    \n",
        "\n",
        "    \n",
        "Красное исправлено, многие желтые советы использованы, на  вопросы есть ответы  (это все было по желанию), значит стремишься развиваться, а желание и интерес это главное. Надеюсь мои советы и вопросики были полезны и в копилочку знаний упало что то новое, а проект стал лучше, и симпатичней.\n",
        "\n",
        "\n",
        "\n",
        "Отличная работа Николай. Желаю успехов в дальнейшей учебе!\n"
      ]
    }
  ],
  "metadata": {
    "ExecuteTimeLog": [
      {
        "duration": 43,
        "start_time": "2022-11-18T11:23:16.123Z"
      },
      {
        "duration": 335,
        "start_time": "2022-11-18T11:23:33.236Z"
      },
      {
        "duration": 122,
        "start_time": "2022-11-18T11:23:33.898Z"
      },
      {
        "duration": 14,
        "start_time": "2022-11-18T11:23:43.329Z"
      },
      {
        "duration": 11,
        "start_time": "2022-11-18T11:30:30.225Z"
      },
      {
        "duration": 10,
        "start_time": "2022-11-18T11:30:38.223Z"
      },
      {
        "duration": 366,
        "start_time": "2022-11-18T11:44:35.713Z"
      },
      {
        "duration": 33,
        "start_time": "2022-11-18T11:44:36.432Z"
      },
      {
        "duration": 20,
        "start_time": "2022-11-18T11:44:37.144Z"
      },
      {
        "duration": 4,
        "start_time": "2022-11-18T11:45:59.703Z"
      },
      {
        "duration": 9,
        "start_time": "2022-11-18T11:46:12.439Z"
      },
      {
        "duration": 6,
        "start_time": "2022-11-18T11:46:19.976Z"
      },
      {
        "duration": 62,
        "start_time": "2022-11-18T11:47:14.432Z"
      },
      {
        "duration": 994,
        "start_time": "2022-11-18T11:48:43.825Z"
      },
      {
        "duration": 31,
        "start_time": "2022-11-18T11:48:45.247Z"
      },
      {
        "duration": 18,
        "start_time": "2022-11-18T11:48:45.624Z"
      },
      {
        "duration": 4,
        "start_time": "2022-11-18T11:48:47.800Z"
      },
      {
        "duration": 5,
        "start_time": "2022-11-18T11:48:48.287Z"
      },
      {
        "duration": 9,
        "start_time": "2022-11-18T11:57:44.247Z"
      },
      {
        "duration": 1140,
        "start_time": "2022-11-18T11:59:37.470Z"
      },
      {
        "duration": 30,
        "start_time": "2022-11-18T11:59:38.612Z"
      },
      {
        "duration": 20,
        "start_time": "2022-11-18T11:59:38.710Z"
      },
      {
        "duration": 4,
        "start_time": "2022-11-18T11:59:41.038Z"
      },
      {
        "duration": 6,
        "start_time": "2022-11-18T11:59:41.541Z"
      },
      {
        "duration": 5,
        "start_time": "2022-11-18T12:41:29.697Z"
      },
      {
        "duration": 1259,
        "start_time": "2022-11-18T12:46:58.561Z"
      },
      {
        "duration": 12,
        "start_time": "2022-11-18T12:47:48.473Z"
      },
      {
        "duration": 1050,
        "start_time": "2022-11-18T12:47:53.584Z"
      },
      {
        "duration": 33,
        "start_time": "2022-11-18T12:47:57.592Z"
      },
      {
        "duration": 18,
        "start_time": "2022-11-18T12:47:58.371Z"
      },
      {
        "duration": 5,
        "start_time": "2022-11-18T12:48:00.552Z"
      },
      {
        "duration": 5,
        "start_time": "2022-11-18T12:48:03.049Z"
      },
      {
        "duration": 105,
        "start_time": "2022-11-18T13:19:30.401Z"
      },
      {
        "duration": 1046,
        "start_time": "2022-11-18T13:21:33.709Z"
      },
      {
        "duration": 32,
        "start_time": "2022-11-18T13:21:34.758Z"
      },
      {
        "duration": 19,
        "start_time": "2022-11-18T13:21:35.357Z"
      },
      {
        "duration": 4,
        "start_time": "2022-11-18T13:21:36.772Z"
      },
      {
        "duration": 5,
        "start_time": "2022-11-18T13:21:37.212Z"
      },
      {
        "duration": 31,
        "start_time": "2022-11-18T13:21:38.478Z"
      },
      {
        "duration": 29,
        "start_time": "2022-11-18T13:26:42.309Z"
      },
      {
        "duration": 1072,
        "start_time": "2022-11-18T13:26:51.363Z"
      },
      {
        "duration": 32,
        "start_time": "2022-11-18T13:26:52.437Z"
      },
      {
        "duration": 16,
        "start_time": "2022-11-18T13:26:52.803Z"
      },
      {
        "duration": 4,
        "start_time": "2022-11-18T13:26:54.066Z"
      },
      {
        "duration": 5,
        "start_time": "2022-11-18T13:26:54.651Z"
      },
      {
        "duration": 100,
        "start_time": "2022-11-18T13:26:55.819Z"
      },
      {
        "duration": 30,
        "start_time": "2022-11-18T13:27:31.180Z"
      },
      {
        "duration": 1079,
        "start_time": "2022-11-18T13:36:25.838Z"
      },
      {
        "duration": 31,
        "start_time": "2022-11-18T13:36:26.921Z"
      },
      {
        "duration": 17,
        "start_time": "2022-11-18T13:36:26.954Z"
      },
      {
        "duration": 4,
        "start_time": "2022-11-18T13:36:27.666Z"
      },
      {
        "duration": 6,
        "start_time": "2022-11-18T13:36:28.105Z"
      },
      {
        "duration": 46,
        "start_time": "2022-11-18T13:36:29.257Z"
      },
      {
        "duration": 35,
        "start_time": "2022-11-18T13:36:56.554Z"
      },
      {
        "duration": 62,
        "start_time": "2022-11-18T13:39:34.778Z"
      },
      {
        "duration": 33,
        "start_time": "2022-11-18T13:40:02.418Z"
      },
      {
        "duration": 44,
        "start_time": "2022-11-18T13:40:19.129Z"
      },
      {
        "duration": 35,
        "start_time": "2022-11-18T13:42:07.713Z"
      },
      {
        "duration": 3,
        "start_time": "2022-11-18T13:42:36.484Z"
      },
      {
        "duration": 32,
        "start_time": "2022-11-18T13:42:48.577Z"
      },
      {
        "duration": 31,
        "start_time": "2022-11-18T13:43:00.042Z"
      },
      {
        "duration": 5,
        "start_time": "2022-11-18T13:43:35.152Z"
      },
      {
        "duration": 39,
        "start_time": "2022-11-18T13:43:53.700Z"
      },
      {
        "duration": 43,
        "start_time": "2022-11-18T13:44:05.701Z"
      },
      {
        "duration": 64,
        "start_time": "2022-11-18T13:44:11.280Z"
      },
      {
        "duration": 86,
        "start_time": "2022-11-18T13:44:20.960Z"
      },
      {
        "duration": 172,
        "start_time": "2022-11-18T13:44:31.688Z"
      },
      {
        "duration": 177,
        "start_time": "2022-11-18T13:45:56.819Z"
      },
      {
        "duration": 32,
        "start_time": "2022-11-18T13:46:04.257Z"
      },
      {
        "duration": 32,
        "start_time": "2022-11-18T13:54:09.224Z"
      },
      {
        "duration": 105,
        "start_time": "2022-11-18T13:57:17.648Z"
      },
      {
        "duration": 18,
        "start_time": "2022-11-18T13:57:31.248Z"
      },
      {
        "duration": 274,
        "start_time": "2022-11-18T13:57:42.879Z"
      },
      {
        "duration": 296,
        "start_time": "2022-11-18T13:59:01.991Z"
      },
      {
        "duration": 70,
        "start_time": "2022-11-18T13:59:07.519Z"
      },
      {
        "duration": 281,
        "start_time": "2022-11-18T13:59:18.199Z"
      },
      {
        "duration": 500,
        "start_time": "2022-11-18T13:59:25.662Z"
      },
      {
        "duration": 992,
        "start_time": "2022-11-18T13:59:37.246Z"
      },
      {
        "duration": 541,
        "start_time": "2022-11-18T13:59:43.463Z"
      },
      {
        "duration": 235,
        "start_time": "2022-11-18T14:02:27.550Z"
      },
      {
        "duration": 232,
        "start_time": "2022-11-18T14:21:07.245Z"
      },
      {
        "duration": 1038,
        "start_time": "2022-11-18T14:21:11.306Z"
      },
      {
        "duration": 31,
        "start_time": "2022-11-18T14:21:12.346Z"
      },
      {
        "duration": 16,
        "start_time": "2022-11-18T14:21:12.378Z"
      },
      {
        "duration": 34,
        "start_time": "2022-11-18T14:21:12.396Z"
      },
      {
        "duration": 18,
        "start_time": "2022-11-18T14:21:12.432Z"
      },
      {
        "duration": 38,
        "start_time": "2022-11-18T14:21:12.452Z"
      },
      {
        "duration": 589,
        "start_time": "2022-11-18T14:21:12.491Z"
      },
      {
        "duration": 204,
        "start_time": "2022-11-18T14:21:13.081Z"
      },
      {
        "duration": 276,
        "start_time": "2022-11-18T14:21:35.806Z"
      },
      {
        "duration": 213,
        "start_time": "2022-11-18T14:22:38.166Z"
      },
      {
        "duration": 35,
        "start_time": "2022-11-18T14:22:55.248Z"
      },
      {
        "duration": 1103,
        "start_time": "2022-11-18T14:26:11.460Z"
      },
      {
        "duration": 38,
        "start_time": "2022-11-18T14:26:12.565Z"
      },
      {
        "duration": 16,
        "start_time": "2022-11-18T14:26:12.607Z"
      },
      {
        "duration": 3,
        "start_time": "2022-11-18T14:26:12.625Z"
      },
      {
        "duration": 8,
        "start_time": "2022-11-18T14:26:12.630Z"
      },
      {
        "duration": 32,
        "start_time": "2022-11-18T14:26:12.639Z"
      },
      {
        "duration": 553,
        "start_time": "2022-11-18T14:26:12.672Z"
      },
      {
        "duration": 256,
        "start_time": "2022-11-18T14:26:13.227Z"
      },
      {
        "duration": 1037,
        "start_time": "2022-11-18T15:06:51.688Z"
      },
      {
        "duration": 31,
        "start_time": "2022-11-18T15:06:52.726Z"
      },
      {
        "duration": 16,
        "start_time": "2022-11-18T15:06:54.304Z"
      },
      {
        "duration": 4,
        "start_time": "2022-11-18T15:06:56.842Z"
      },
      {
        "duration": 5,
        "start_time": "2022-11-18T15:06:58.103Z"
      },
      {
        "duration": 5,
        "start_time": "2022-11-18T15:06:58.632Z"
      },
      {
        "duration": 28,
        "start_time": "2022-11-18T15:06:59.583Z"
      },
      {
        "duration": 387,
        "start_time": "2022-11-18T15:06:59.799Z"
      },
      {
        "duration": 32,
        "start_time": "2022-11-18T15:07:01.137Z"
      },
      {
        "duration": 93,
        "start_time": "2022-11-18T15:08:18.743Z"
      },
      {
        "duration": 9,
        "start_time": "2022-11-18T15:09:09.103Z"
      },
      {
        "duration": 5,
        "start_time": "2022-11-18T15:09:35.563Z"
      },
      {
        "duration": 5,
        "start_time": "2022-11-18T15:09:59.951Z"
      },
      {
        "duration": 4,
        "start_time": "2022-11-18T15:10:09.855Z"
      },
      {
        "duration": 5,
        "start_time": "2022-11-18T15:10:10.366Z"
      },
      {
        "duration": 1018,
        "start_time": "2022-11-18T15:10:20.341Z"
      },
      {
        "duration": 31,
        "start_time": "2022-11-18T15:10:21.361Z"
      },
      {
        "duration": 19,
        "start_time": "2022-11-18T15:10:21.393Z"
      },
      {
        "duration": 3,
        "start_time": "2022-11-18T15:10:21.415Z"
      },
      {
        "duration": 16,
        "start_time": "2022-11-18T15:10:21.420Z"
      },
      {
        "duration": 10,
        "start_time": "2022-11-18T15:10:21.438Z"
      },
      {
        "duration": 11,
        "start_time": "2022-11-18T15:10:21.450Z"
      },
      {
        "duration": 31,
        "start_time": "2022-11-18T15:10:21.463Z"
      },
      {
        "duration": 406,
        "start_time": "2022-11-18T15:10:21.496Z"
      },
      {
        "duration": 33,
        "start_time": "2022-11-18T15:10:21.904Z"
      },
      {
        "duration": 4,
        "start_time": "2022-11-18T15:10:37.424Z"
      },
      {
        "duration": 5,
        "start_time": "2022-11-18T15:11:19.216Z"
      },
      {
        "duration": 5,
        "start_time": "2022-11-18T15:11:19.663Z"
      },
      {
        "duration": 4,
        "start_time": "2022-11-18T15:11:20.248Z"
      },
      {
        "duration": 4,
        "start_time": "2022-11-18T15:11:40.848Z"
      },
      {
        "duration": 5,
        "start_time": "2022-11-18T15:11:41.168Z"
      },
      {
        "duration": 4,
        "start_time": "2022-11-18T15:11:41.712Z"
      },
      {
        "duration": 7,
        "start_time": "2022-11-18T15:11:47.879Z"
      },
      {
        "duration": 5,
        "start_time": "2022-11-18T15:11:49.216Z"
      },
      {
        "duration": 5,
        "start_time": "2022-11-18T15:11:49.584Z"
      },
      {
        "duration": 5,
        "start_time": "2022-11-18T15:11:55.919Z"
      },
      {
        "duration": 5,
        "start_time": "2022-11-18T15:11:56.344Z"
      },
      {
        "duration": 6,
        "start_time": "2022-11-18T15:11:56.777Z"
      },
      {
        "duration": 1047,
        "start_time": "2022-11-18T15:12:32.109Z"
      },
      {
        "duration": 31,
        "start_time": "2022-11-18T15:12:33.158Z"
      },
      {
        "duration": 16,
        "start_time": "2022-11-18T15:12:33.191Z"
      },
      {
        "duration": 21,
        "start_time": "2022-11-18T15:12:33.209Z"
      },
      {
        "duration": 18,
        "start_time": "2022-11-18T15:12:33.232Z"
      },
      {
        "duration": 10,
        "start_time": "2022-11-18T15:12:33.252Z"
      },
      {
        "duration": 20,
        "start_time": "2022-11-18T15:12:33.263Z"
      },
      {
        "duration": 22,
        "start_time": "2022-11-18T15:12:33.284Z"
      },
      {
        "duration": 51,
        "start_time": "2022-11-18T15:12:33.307Z"
      },
      {
        "duration": 487,
        "start_time": "2022-11-18T15:12:33.360Z"
      },
      {
        "duration": 28,
        "start_time": "2022-11-18T15:12:33.848Z"
      },
      {
        "duration": 20892,
        "start_time": "2022-11-18T15:14:14.423Z"
      },
      {
        "duration": 1066,
        "start_time": "2022-11-18T15:23:07.090Z"
      },
      {
        "duration": 31,
        "start_time": "2022-11-18T15:23:08.158Z"
      },
      {
        "duration": 17,
        "start_time": "2022-11-18T15:23:08.191Z"
      },
      {
        "duration": 9,
        "start_time": "2022-11-18T15:23:08.210Z"
      },
      {
        "duration": 6,
        "start_time": "2022-11-18T15:23:08.221Z"
      },
      {
        "duration": 7,
        "start_time": "2022-11-18T15:23:08.228Z"
      },
      {
        "duration": 9,
        "start_time": "2022-11-18T15:23:08.237Z"
      },
      {
        "duration": 8,
        "start_time": "2022-11-18T15:23:08.247Z"
      },
      {
        "duration": 45,
        "start_time": "2022-11-18T15:23:08.257Z"
      },
      {
        "duration": 551,
        "start_time": "2022-11-18T15:23:08.304Z"
      },
      {
        "duration": 31,
        "start_time": "2022-11-18T15:23:08.856Z"
      },
      {
        "duration": 5,
        "start_time": "2022-11-18T15:39:03.403Z"
      },
      {
        "duration": 5,
        "start_time": "2022-11-18T15:39:05.859Z"
      },
      {
        "duration": 5,
        "start_time": "2022-11-18T15:39:06.291Z"
      },
      {
        "duration": 4,
        "start_time": "2022-11-18T15:41:56.114Z"
      },
      {
        "duration": 97,
        "start_time": "2022-11-18T15:42:13.546Z"
      },
      {
        "duration": 4,
        "start_time": "2022-11-18T15:42:59.965Z"
      },
      {
        "duration": 1056,
        "start_time": "2022-11-18T15:51:12.142Z"
      },
      {
        "duration": 31,
        "start_time": "2022-11-18T15:51:13.200Z"
      },
      {
        "duration": 17,
        "start_time": "2022-11-18T15:51:13.233Z"
      },
      {
        "duration": 37,
        "start_time": "2022-11-18T15:51:13.252Z"
      },
      {
        "duration": 15,
        "start_time": "2022-11-18T15:51:13.290Z"
      },
      {
        "duration": 16,
        "start_time": "2022-11-18T15:51:13.307Z"
      },
      {
        "duration": 19,
        "start_time": "2022-11-18T15:51:13.325Z"
      },
      {
        "duration": 27,
        "start_time": "2022-11-18T15:51:13.347Z"
      },
      {
        "duration": 50,
        "start_time": "2022-11-18T15:51:13.376Z"
      },
      {
        "duration": 620,
        "start_time": "2022-11-18T15:51:13.429Z"
      },
      {
        "duration": 45,
        "start_time": "2022-11-18T15:51:14.051Z"
      },
      {
        "duration": 1011,
        "start_time": "2022-11-18T16:18:40.119Z"
      },
      {
        "duration": 31,
        "start_time": "2022-11-18T16:18:41.131Z"
      },
      {
        "duration": 15,
        "start_time": "2022-11-18T16:18:41.163Z"
      },
      {
        "duration": 15,
        "start_time": "2022-11-18T16:18:41.180Z"
      },
      {
        "duration": 35,
        "start_time": "2022-11-18T16:18:41.196Z"
      },
      {
        "duration": 19,
        "start_time": "2022-11-18T16:18:41.233Z"
      },
      {
        "duration": 12,
        "start_time": "2022-11-18T16:18:41.254Z"
      },
      {
        "duration": 8,
        "start_time": "2022-11-18T16:18:41.267Z"
      },
      {
        "duration": 111,
        "start_time": "2022-11-18T16:18:41.277Z"
      },
      {
        "duration": 0,
        "start_time": "2022-11-18T16:18:41.390Z"
      },
      {
        "duration": 0,
        "start_time": "2022-11-18T16:18:41.391Z"
      },
      {
        "duration": 1071,
        "start_time": "2022-11-18T16:19:07.564Z"
      },
      {
        "duration": 35,
        "start_time": "2022-11-18T16:19:08.637Z"
      },
      {
        "duration": 15,
        "start_time": "2022-11-18T16:19:08.674Z"
      },
      {
        "duration": 3,
        "start_time": "2022-11-18T16:19:08.691Z"
      },
      {
        "duration": 7,
        "start_time": "2022-11-18T16:19:08.696Z"
      },
      {
        "duration": 7,
        "start_time": "2022-11-18T16:19:08.704Z"
      },
      {
        "duration": 8,
        "start_time": "2022-11-18T16:19:08.713Z"
      },
      {
        "duration": 7,
        "start_time": "2022-11-18T16:19:08.722Z"
      },
      {
        "duration": 49,
        "start_time": "2022-11-18T16:19:08.731Z"
      },
      {
        "duration": 422,
        "start_time": "2022-11-18T16:19:08.782Z"
      },
      {
        "duration": 24,
        "start_time": "2022-11-18T16:19:09.206Z"
      },
      {
        "duration": 6,
        "start_time": "2022-11-18T16:24:18.789Z"
      },
      {
        "duration": 93,
        "start_time": "2022-11-18T16:25:21.109Z"
      },
      {
        "duration": 7,
        "start_time": "2022-11-18T16:25:27.117Z"
      },
      {
        "duration": 9,
        "start_time": "2022-11-18T16:26:02.135Z"
      },
      {
        "duration": 14,
        "start_time": "2022-11-18T16:27:16.924Z"
      },
      {
        "duration": 14,
        "start_time": "2022-11-18T16:27:28.147Z"
      },
      {
        "duration": 15,
        "start_time": "2022-11-18T16:27:30.318Z"
      },
      {
        "duration": 9,
        "start_time": "2022-11-18T16:27:50.574Z"
      },
      {
        "duration": 40,
        "start_time": "2022-11-18T16:35:43.910Z"
      },
      {
        "duration": 1180,
        "start_time": "2022-11-18T16:35:48.152Z"
      },
      {
        "duration": 32,
        "start_time": "2022-11-18T16:35:49.334Z"
      },
      {
        "duration": 17,
        "start_time": "2022-11-18T16:35:49.367Z"
      },
      {
        "duration": 4,
        "start_time": "2022-11-18T16:35:49.386Z"
      },
      {
        "duration": 8,
        "start_time": "2022-11-18T16:35:49.391Z"
      },
      {
        "duration": 7,
        "start_time": "2022-11-18T16:35:49.400Z"
      },
      {
        "duration": 9,
        "start_time": "2022-11-18T16:35:49.408Z"
      },
      {
        "duration": 24,
        "start_time": "2022-11-18T16:35:49.418Z"
      },
      {
        "duration": 39,
        "start_time": "2022-11-18T16:35:49.444Z"
      },
      {
        "duration": 467,
        "start_time": "2022-11-18T16:35:49.485Z"
      },
      {
        "duration": 32,
        "start_time": "2022-11-18T16:35:49.953Z"
      },
      {
        "duration": 5,
        "start_time": "2022-11-18T16:35:49.986Z"
      },
      {
        "duration": 44,
        "start_time": "2022-11-18T16:35:49.993Z"
      },
      {
        "duration": 7,
        "start_time": "2022-11-18T16:35:50.038Z"
      },
      {
        "duration": 9,
        "start_time": "2022-11-18T16:36:16.564Z"
      },
      {
        "duration": 1018,
        "start_time": "2022-11-18T16:36:19.519Z"
      },
      {
        "duration": 31,
        "start_time": "2022-11-18T16:36:20.538Z"
      },
      {
        "duration": 21,
        "start_time": "2022-11-18T16:36:20.570Z"
      },
      {
        "duration": 22,
        "start_time": "2022-11-18T16:36:20.594Z"
      },
      {
        "duration": 9,
        "start_time": "2022-11-18T16:36:20.618Z"
      },
      {
        "duration": 18,
        "start_time": "2022-11-18T16:36:20.629Z"
      },
      {
        "duration": 5,
        "start_time": "2022-11-18T16:36:20.649Z"
      },
      {
        "duration": 13,
        "start_time": "2022-11-18T16:36:20.656Z"
      },
      {
        "duration": 33,
        "start_time": "2022-11-18T16:36:20.671Z"
      },
      {
        "duration": 440,
        "start_time": "2022-11-18T16:36:20.707Z"
      },
      {
        "duration": 32,
        "start_time": "2022-11-18T16:36:21.149Z"
      },
      {
        "duration": 6,
        "start_time": "2022-11-18T16:36:21.183Z"
      },
      {
        "duration": 10,
        "start_time": "2022-11-18T16:36:21.190Z"
      },
      {
        "duration": 6,
        "start_time": "2022-11-18T16:36:21.202Z"
      },
      {
        "duration": 14,
        "start_time": "2022-11-18T16:37:28.844Z"
      },
      {
        "duration": 41,
        "start_time": "2022-11-18T16:37:34.965Z"
      },
      {
        "duration": 14,
        "start_time": "2022-11-18T16:37:40.060Z"
      },
      {
        "duration": 1054,
        "start_time": "2022-11-18T16:37:43.397Z"
      },
      {
        "duration": 34,
        "start_time": "2022-11-18T16:37:44.453Z"
      },
      {
        "duration": 20,
        "start_time": "2022-11-18T16:37:44.489Z"
      },
      {
        "duration": 4,
        "start_time": "2022-11-18T16:37:44.511Z"
      },
      {
        "duration": 5,
        "start_time": "2022-11-18T16:37:44.517Z"
      },
      {
        "duration": 8,
        "start_time": "2022-11-18T16:37:44.523Z"
      },
      {
        "duration": 6,
        "start_time": "2022-11-18T16:37:44.533Z"
      },
      {
        "duration": 9,
        "start_time": "2022-11-18T16:37:44.540Z"
      },
      {
        "duration": 46,
        "start_time": "2022-11-18T16:37:44.550Z"
      },
      {
        "duration": 477,
        "start_time": "2022-11-18T16:37:44.598Z"
      },
      {
        "duration": 32,
        "start_time": "2022-11-18T16:37:45.077Z"
      },
      {
        "duration": 8,
        "start_time": "2022-11-18T16:37:45.110Z"
      },
      {
        "duration": 38,
        "start_time": "2022-11-18T16:37:45.120Z"
      },
      {
        "duration": 17,
        "start_time": "2022-11-18T16:37:45.159Z"
      },
      {
        "duration": 25,
        "start_time": "2022-11-18T16:37:50.997Z"
      },
      {
        "duration": 38,
        "start_time": "2022-11-18T16:37:54.916Z"
      },
      {
        "duration": 43,
        "start_time": "2022-11-18T16:37:59.907Z"
      },
      {
        "duration": 35,
        "start_time": "2022-11-18T16:38:06.802Z"
      },
      {
        "duration": 1064,
        "start_time": "2022-11-18T16:38:13.254Z"
      },
      {
        "duration": 42,
        "start_time": "2022-11-18T16:38:14.319Z"
      },
      {
        "duration": 16,
        "start_time": "2022-11-18T16:38:14.362Z"
      },
      {
        "duration": 5,
        "start_time": "2022-11-18T16:38:14.379Z"
      },
      {
        "duration": 6,
        "start_time": "2022-11-18T16:38:14.386Z"
      },
      {
        "duration": 7,
        "start_time": "2022-11-18T16:38:14.394Z"
      },
      {
        "duration": 8,
        "start_time": "2022-11-18T16:38:14.402Z"
      },
      {
        "duration": 7,
        "start_time": "2022-11-18T16:38:14.411Z"
      },
      {
        "duration": 28,
        "start_time": "2022-11-18T16:38:14.419Z"
      },
      {
        "duration": 495,
        "start_time": "2022-11-18T16:38:14.449Z"
      },
      {
        "duration": 21,
        "start_time": "2022-11-18T16:38:14.946Z"
      },
      {
        "duration": 6,
        "start_time": "2022-11-18T16:38:14.975Z"
      },
      {
        "duration": 32,
        "start_time": "2022-11-18T16:38:14.982Z"
      },
      {
        "duration": 6,
        "start_time": "2022-11-18T16:38:15.015Z"
      },
      {
        "duration": 11,
        "start_time": "2022-11-18T16:48:07.659Z"
      },
      {
        "duration": 31,
        "start_time": "2022-11-18T16:48:10.178Z"
      },
      {
        "duration": 1032,
        "start_time": "2022-11-18T16:48:16.430Z"
      },
      {
        "duration": 31,
        "start_time": "2022-11-18T16:48:17.464Z"
      },
      {
        "duration": 17,
        "start_time": "2022-11-18T16:48:17.496Z"
      },
      {
        "duration": 6,
        "start_time": "2022-11-18T16:48:17.515Z"
      },
      {
        "duration": 13,
        "start_time": "2022-11-18T16:48:17.523Z"
      },
      {
        "duration": 30,
        "start_time": "2022-11-18T16:48:17.537Z"
      },
      {
        "duration": 9,
        "start_time": "2022-11-18T16:48:17.568Z"
      },
      {
        "duration": 29,
        "start_time": "2022-11-18T16:48:17.578Z"
      },
      {
        "duration": 38,
        "start_time": "2022-11-18T16:48:17.609Z"
      },
      {
        "duration": 434,
        "start_time": "2022-11-18T16:48:17.649Z"
      },
      {
        "duration": 23,
        "start_time": "2022-11-18T16:48:18.085Z"
      },
      {
        "duration": 11,
        "start_time": "2022-11-18T16:48:18.110Z"
      },
      {
        "duration": 55,
        "start_time": "2022-11-18T16:48:18.122Z"
      },
      {
        "duration": 7,
        "start_time": "2022-11-18T16:48:18.179Z"
      },
      {
        "duration": 40,
        "start_time": "2022-11-18T16:48:48.164Z"
      },
      {
        "duration": 11,
        "start_time": "2022-11-18T16:48:50.898Z"
      },
      {
        "duration": 1041,
        "start_time": "2022-11-18T16:48:53.940Z"
      },
      {
        "duration": 33,
        "start_time": "2022-11-18T16:48:54.983Z"
      },
      {
        "duration": 17,
        "start_time": "2022-11-18T16:48:55.017Z"
      },
      {
        "duration": 10,
        "start_time": "2022-11-18T16:48:55.036Z"
      },
      {
        "duration": 16,
        "start_time": "2022-11-18T16:48:55.047Z"
      },
      {
        "duration": 18,
        "start_time": "2022-11-18T16:48:55.064Z"
      },
      {
        "duration": 6,
        "start_time": "2022-11-18T16:48:55.084Z"
      },
      {
        "duration": 17,
        "start_time": "2022-11-18T16:48:55.091Z"
      },
      {
        "duration": 36,
        "start_time": "2022-11-18T16:48:55.110Z"
      },
      {
        "duration": 547,
        "start_time": "2022-11-18T16:48:55.150Z"
      },
      {
        "duration": 25,
        "start_time": "2022-11-18T16:48:55.699Z"
      },
      {
        "duration": 12,
        "start_time": "2022-11-18T16:48:55.726Z"
      },
      {
        "duration": 76,
        "start_time": "2022-11-18T16:48:55.739Z"
      },
      {
        "duration": 7,
        "start_time": "2022-11-18T16:48:55.817Z"
      },
      {
        "duration": 7,
        "start_time": "2022-11-18T16:49:36.703Z"
      },
      {
        "duration": 1096,
        "start_time": "2022-11-18T16:58:14.397Z"
      },
      {
        "duration": 31,
        "start_time": "2022-11-18T16:58:15.495Z"
      },
      {
        "duration": 18,
        "start_time": "2022-11-18T16:58:15.529Z"
      },
      {
        "duration": 4,
        "start_time": "2022-11-18T16:58:15.549Z"
      },
      {
        "duration": 10,
        "start_time": "2022-11-18T16:58:15.554Z"
      },
      {
        "duration": 8,
        "start_time": "2022-11-18T16:58:15.565Z"
      },
      {
        "duration": 8,
        "start_time": "2022-11-18T16:58:15.575Z"
      },
      {
        "duration": 7,
        "start_time": "2022-11-18T16:58:15.584Z"
      },
      {
        "duration": 34,
        "start_time": "2022-11-18T16:58:15.592Z"
      },
      {
        "duration": 455,
        "start_time": "2022-11-18T16:58:15.628Z"
      },
      {
        "duration": 21,
        "start_time": "2022-11-18T16:58:16.085Z"
      },
      {
        "duration": 6,
        "start_time": "2022-11-18T16:58:16.107Z"
      },
      {
        "duration": 9,
        "start_time": "2022-11-18T16:58:16.115Z"
      },
      {
        "duration": 7,
        "start_time": "2022-11-18T16:58:16.125Z"
      },
      {
        "duration": 1062,
        "start_time": "2022-11-18T16:58:35.475Z"
      },
      {
        "duration": 30,
        "start_time": "2022-11-18T16:58:36.539Z"
      },
      {
        "duration": 16,
        "start_time": "2022-11-18T16:58:36.573Z"
      },
      {
        "duration": 17,
        "start_time": "2022-11-18T16:58:36.590Z"
      },
      {
        "duration": 21,
        "start_time": "2022-11-18T16:58:36.608Z"
      },
      {
        "duration": 14,
        "start_time": "2022-11-18T16:58:36.631Z"
      },
      {
        "duration": 10,
        "start_time": "2022-11-18T16:58:36.646Z"
      },
      {
        "duration": 6,
        "start_time": "2022-11-18T16:58:36.657Z"
      },
      {
        "duration": 39,
        "start_time": "2022-11-18T16:58:36.665Z"
      },
      {
        "duration": 457,
        "start_time": "2022-11-18T16:58:36.705Z"
      },
      {
        "duration": 33,
        "start_time": "2022-11-18T16:58:37.164Z"
      },
      {
        "duration": 11,
        "start_time": "2022-11-18T16:58:37.199Z"
      },
      {
        "duration": 39,
        "start_time": "2022-11-18T16:58:37.212Z"
      },
      {
        "duration": 28,
        "start_time": "2022-11-18T16:58:37.252Z"
      },
      {
        "duration": 100,
        "start_time": "2022-11-18T17:04:46.578Z"
      },
      {
        "duration": 10,
        "start_time": "2022-11-18T17:04:55.028Z"
      },
      {
        "duration": 465,
        "start_time": "2022-11-18T17:10:02.783Z"
      },
      {
        "duration": 24,
        "start_time": "2022-11-18T17:10:14.654Z"
      },
      {
        "duration": 34,
        "start_time": "2022-11-18T17:10:24.870Z"
      },
      {
        "duration": 24,
        "start_time": "2022-11-18T17:10:33.085Z"
      },
      {
        "duration": 30,
        "start_time": "2022-11-18T17:11:49.560Z"
      },
      {
        "duration": 32,
        "start_time": "2022-11-18T17:12:02.998Z"
      },
      {
        "duration": 1067,
        "start_time": "2022-11-18T17:12:14.882Z"
      },
      {
        "duration": 31,
        "start_time": "2022-11-18T17:12:15.950Z"
      },
      {
        "duration": 24,
        "start_time": "2022-11-18T17:12:15.982Z"
      },
      {
        "duration": 31,
        "start_time": "2022-11-18T17:12:16.009Z"
      },
      {
        "duration": 29,
        "start_time": "2022-11-18T17:12:16.042Z"
      },
      {
        "duration": 25,
        "start_time": "2022-11-18T17:12:16.073Z"
      },
      {
        "duration": 21,
        "start_time": "2022-11-18T17:12:16.100Z"
      },
      {
        "duration": 32,
        "start_time": "2022-11-18T17:12:16.123Z"
      },
      {
        "duration": 50,
        "start_time": "2022-11-18T17:12:16.157Z"
      },
      {
        "duration": 443,
        "start_time": "2022-11-18T17:12:16.209Z"
      },
      {
        "duration": 33,
        "start_time": "2022-11-18T17:12:16.653Z"
      },
      {
        "duration": 18,
        "start_time": "2022-11-18T17:12:16.688Z"
      },
      {
        "duration": 100,
        "start_time": "2022-11-18T17:31:08.886Z"
      },
      {
        "duration": 1044,
        "start_time": "2022-11-18T17:31:14.492Z"
      },
      {
        "duration": 31,
        "start_time": "2022-11-18T17:31:15.537Z"
      },
      {
        "duration": 17,
        "start_time": "2022-11-18T17:31:15.569Z"
      },
      {
        "duration": 3,
        "start_time": "2022-11-18T17:31:15.588Z"
      },
      {
        "duration": 10,
        "start_time": "2022-11-18T17:31:15.592Z"
      },
      {
        "duration": 5,
        "start_time": "2022-11-18T17:31:15.604Z"
      },
      {
        "duration": 6,
        "start_time": "2022-11-18T17:31:15.610Z"
      },
      {
        "duration": 10,
        "start_time": "2022-11-18T17:31:15.617Z"
      },
      {
        "duration": 31,
        "start_time": "2022-11-18T17:31:15.628Z"
      },
      {
        "duration": 450,
        "start_time": "2022-11-18T17:31:15.662Z"
      },
      {
        "duration": 25,
        "start_time": "2022-11-18T17:31:16.113Z"
      },
      {
        "duration": 9,
        "start_time": "2022-11-18T17:31:16.139Z"
      },
      {
        "duration": 122,
        "start_time": "2022-11-18T17:31:16.150Z"
      },
      {
        "duration": 14,
        "start_time": "2022-11-18T17:31:27.917Z"
      },
      {
        "duration": 16,
        "start_time": "2022-11-18T17:32:03.453Z"
      },
      {
        "duration": 15,
        "start_time": "2022-11-18T17:32:21.686Z"
      },
      {
        "duration": 19,
        "start_time": "2022-11-18T17:32:58.701Z"
      },
      {
        "duration": 15,
        "start_time": "2022-11-18T17:33:55.070Z"
      },
      {
        "duration": 8,
        "start_time": "2022-11-18T18:03:34.994Z"
      },
      {
        "duration": 1440,
        "start_time": "2022-11-18T18:04:17.097Z"
      },
      {
        "duration": 32,
        "start_time": "2022-11-18T18:04:18.539Z"
      },
      {
        "duration": 14,
        "start_time": "2022-11-18T18:04:18.572Z"
      },
      {
        "duration": 9,
        "start_time": "2022-11-18T18:04:18.588Z"
      },
      {
        "duration": 6,
        "start_time": "2022-11-18T18:04:18.598Z"
      },
      {
        "duration": 23,
        "start_time": "2022-11-18T18:04:18.606Z"
      },
      {
        "duration": 12,
        "start_time": "2022-11-18T18:04:18.630Z"
      },
      {
        "duration": 13,
        "start_time": "2022-11-18T18:04:18.643Z"
      },
      {
        "duration": 52,
        "start_time": "2022-11-18T18:04:18.658Z"
      },
      {
        "duration": 454,
        "start_time": "2022-11-18T18:04:18.712Z"
      },
      {
        "duration": 31,
        "start_time": "2022-11-18T18:04:19.168Z"
      },
      {
        "duration": 9,
        "start_time": "2022-11-18T18:04:19.201Z"
      },
      {
        "duration": 239,
        "start_time": "2022-11-18T18:04:19.211Z"
      },
      {
        "duration": 104,
        "start_time": "2022-11-18T18:04:59.808Z"
      },
      {
        "duration": 98,
        "start_time": "2022-11-18T18:06:04.464Z"
      },
      {
        "duration": 107,
        "start_time": "2022-11-18T18:06:15.802Z"
      },
      {
        "duration": 129,
        "start_time": "2022-11-18T18:07:10.135Z"
      },
      {
        "duration": 9,
        "start_time": "2022-11-18T18:08:45.158Z"
      },
      {
        "duration": 1272,
        "start_time": "2022-11-18T18:08:57.593Z"
      },
      {
        "duration": 32,
        "start_time": "2022-11-18T18:08:58.867Z"
      },
      {
        "duration": 15,
        "start_time": "2022-11-18T18:08:58.901Z"
      },
      {
        "duration": 18,
        "start_time": "2022-11-18T18:08:58.917Z"
      },
      {
        "duration": 15,
        "start_time": "2022-11-18T18:08:58.937Z"
      },
      {
        "duration": 21,
        "start_time": "2022-11-18T18:08:58.954Z"
      },
      {
        "duration": 12,
        "start_time": "2022-11-18T18:08:58.977Z"
      },
      {
        "duration": 14,
        "start_time": "2022-11-18T18:08:58.990Z"
      },
      {
        "duration": 31,
        "start_time": "2022-11-18T18:08:59.006Z"
      },
      {
        "duration": 407,
        "start_time": "2022-11-18T18:08:59.038Z"
      },
      {
        "duration": 29,
        "start_time": "2022-11-18T18:08:59.447Z"
      },
      {
        "duration": 9,
        "start_time": "2022-11-18T18:08:59.477Z"
      },
      {
        "duration": 110,
        "start_time": "2022-11-18T18:08:59.488Z"
      },
      {
        "duration": 0,
        "start_time": "2022-11-18T18:08:59.600Z"
      },
      {
        "duration": 1089,
        "start_time": "2022-11-18T18:09:36.368Z"
      },
      {
        "duration": 30,
        "start_time": "2022-11-18T18:09:37.459Z"
      },
      {
        "duration": 18,
        "start_time": "2022-11-18T18:09:37.491Z"
      },
      {
        "duration": 4,
        "start_time": "2022-11-18T18:09:37.512Z"
      },
      {
        "duration": 15,
        "start_time": "2022-11-18T18:09:37.517Z"
      },
      {
        "duration": 14,
        "start_time": "2022-11-18T18:09:37.533Z"
      },
      {
        "duration": 5,
        "start_time": "2022-11-18T18:09:37.549Z"
      },
      {
        "duration": 12,
        "start_time": "2022-11-18T18:09:37.556Z"
      },
      {
        "duration": 35,
        "start_time": "2022-11-18T18:09:37.570Z"
      },
      {
        "duration": 470,
        "start_time": "2022-11-18T18:09:37.607Z"
      },
      {
        "duration": 26,
        "start_time": "2022-11-18T18:09:38.079Z"
      },
      {
        "duration": 10,
        "start_time": "2022-11-18T18:09:38.106Z"
      },
      {
        "duration": 20,
        "start_time": "2022-11-18T18:09:38.118Z"
      },
      {
        "duration": 116,
        "start_time": "2022-11-18T18:09:38.140Z"
      },
      {
        "duration": 11,
        "start_time": "2022-11-18T18:11:46.007Z"
      },
      {
        "duration": 11,
        "start_time": "2022-11-18T18:12:05.903Z"
      },
      {
        "duration": 1035,
        "start_time": "2022-11-18T18:12:17.808Z"
      },
      {
        "duration": 35,
        "start_time": "2022-11-18T18:12:18.845Z"
      },
      {
        "duration": 16,
        "start_time": "2022-11-18T18:12:18.881Z"
      },
      {
        "duration": 17,
        "start_time": "2022-11-18T18:12:18.898Z"
      },
      {
        "duration": 34,
        "start_time": "2022-11-18T18:12:18.916Z"
      },
      {
        "duration": 18,
        "start_time": "2022-11-18T18:12:18.952Z"
      },
      {
        "duration": 25,
        "start_time": "2022-11-18T18:12:18.971Z"
      },
      {
        "duration": 26,
        "start_time": "2022-11-18T18:12:18.998Z"
      },
      {
        "duration": 30,
        "start_time": "2022-11-18T18:12:19.025Z"
      },
      {
        "duration": 432,
        "start_time": "2022-11-18T18:12:19.057Z"
      },
      {
        "duration": 25,
        "start_time": "2022-11-18T18:12:19.490Z"
      },
      {
        "duration": 10,
        "start_time": "2022-11-18T18:12:19.516Z"
      },
      {
        "duration": 116,
        "start_time": "2022-11-18T18:12:19.528Z"
      },
      {
        "duration": 5,
        "start_time": "2022-11-18T18:12:29.223Z"
      },
      {
        "duration": 11,
        "start_time": "2022-11-18T18:12:39.959Z"
      },
      {
        "duration": 12,
        "start_time": "2022-11-18T18:12:50.015Z"
      },
      {
        "duration": 5,
        "start_time": "2022-11-18T18:12:55.351Z"
      },
      {
        "duration": 48,
        "start_time": "2022-11-20T16:59:31.176Z"
      },
      {
        "duration": 1093,
        "start_time": "2022-11-20T16:59:37.005Z"
      },
      {
        "duration": 69,
        "start_time": "2022-11-20T16:59:38.100Z"
      },
      {
        "duration": 18,
        "start_time": "2022-11-20T16:59:38.173Z"
      },
      {
        "duration": 4,
        "start_time": "2022-11-20T16:59:38.192Z"
      },
      {
        "duration": 9,
        "start_time": "2022-11-20T16:59:38.197Z"
      },
      {
        "duration": 11,
        "start_time": "2022-11-20T16:59:38.208Z"
      },
      {
        "duration": 9,
        "start_time": "2022-11-20T16:59:38.220Z"
      },
      {
        "duration": 8,
        "start_time": "2022-11-20T16:59:38.231Z"
      },
      {
        "duration": 41,
        "start_time": "2022-11-20T16:59:38.241Z"
      },
      {
        "duration": 480,
        "start_time": "2022-11-20T16:59:38.284Z"
      },
      {
        "duration": 30,
        "start_time": "2022-11-20T16:59:38.766Z"
      },
      {
        "duration": 11,
        "start_time": "2022-11-20T16:59:38.798Z"
      },
      {
        "duration": 6,
        "start_time": "2022-11-20T16:59:38.810Z"
      },
      {
        "duration": 27,
        "start_time": "2022-11-20T16:59:58.451Z"
      },
      {
        "duration": 4,
        "start_time": "2022-11-20T17:07:35.235Z"
      },
      {
        "duration": 101,
        "start_time": "2022-11-20T17:09:35.296Z"
      },
      {
        "duration": 1078,
        "start_time": "2022-11-20T17:09:42.318Z"
      },
      {
        "duration": 30,
        "start_time": "2022-11-20T17:09:43.398Z"
      },
      {
        "duration": 19,
        "start_time": "2022-11-20T17:09:43.430Z"
      },
      {
        "duration": 4,
        "start_time": "2022-11-20T17:09:43.451Z"
      },
      {
        "duration": 6,
        "start_time": "2022-11-20T17:09:43.457Z"
      },
      {
        "duration": 6,
        "start_time": "2022-11-20T17:09:43.465Z"
      },
      {
        "duration": 6,
        "start_time": "2022-11-20T17:09:43.473Z"
      },
      {
        "duration": 7,
        "start_time": "2022-11-20T17:09:43.481Z"
      },
      {
        "duration": 34,
        "start_time": "2022-11-20T17:09:43.490Z"
      },
      {
        "duration": 530,
        "start_time": "2022-11-20T17:09:43.527Z"
      },
      {
        "duration": 37,
        "start_time": "2022-11-20T17:09:44.059Z"
      },
      {
        "duration": 13,
        "start_time": "2022-11-20T17:09:44.098Z"
      },
      {
        "duration": 11,
        "start_time": "2022-11-20T17:09:44.113Z"
      },
      {
        "duration": 124,
        "start_time": "2022-11-20T17:09:44.125Z"
      },
      {
        "duration": 9,
        "start_time": "2022-11-20T17:10:03.691Z"
      },
      {
        "duration": 4,
        "start_time": "2022-11-20T17:10:20.815Z"
      },
      {
        "duration": 4,
        "start_time": "2022-11-20T17:10:26.450Z"
      },
      {
        "duration": 4,
        "start_time": "2022-11-20T17:10:28.937Z"
      },
      {
        "duration": 4,
        "start_time": "2022-11-20T17:10:30.780Z"
      },
      {
        "duration": 3,
        "start_time": "2022-11-20T17:10:32.608Z"
      },
      {
        "duration": 3,
        "start_time": "2022-11-20T17:10:34.596Z"
      },
      {
        "duration": 284,
        "start_time": "2022-11-20T17:10:53.447Z"
      },
      {
        "duration": 47,
        "start_time": "2022-11-21T12:02:22.592Z"
      },
      {
        "duration": 1105,
        "start_time": "2022-11-21T12:02:28.778Z"
      },
      {
        "duration": 115,
        "start_time": "2022-11-21T12:02:29.884Z"
      },
      {
        "duration": 20,
        "start_time": "2022-11-21T12:02:30.001Z"
      },
      {
        "duration": 25,
        "start_time": "2022-11-21T12:02:30.024Z"
      },
      {
        "duration": 33,
        "start_time": "2022-11-21T12:02:30.051Z"
      },
      {
        "duration": 62,
        "start_time": "2022-11-21T12:02:30.086Z"
      },
      {
        "duration": 39,
        "start_time": "2022-11-21T12:02:30.150Z"
      },
      {
        "duration": 44,
        "start_time": "2022-11-21T12:02:30.190Z"
      },
      {
        "duration": 85,
        "start_time": "2022-11-21T12:02:30.236Z"
      },
      {
        "duration": 473,
        "start_time": "2022-11-21T12:02:30.324Z"
      },
      {
        "duration": 26,
        "start_time": "2022-11-21T12:02:30.798Z"
      },
      {
        "duration": 26,
        "start_time": "2022-11-21T12:02:30.825Z"
      },
      {
        "duration": 127,
        "start_time": "2022-11-21T12:02:30.853Z"
      },
      {
        "duration": 8,
        "start_time": "2022-11-21T12:02:53.641Z"
      },
      {
        "duration": 11,
        "start_time": "2022-11-21T12:03:14.503Z"
      },
      {
        "duration": 7,
        "start_time": "2022-11-21T12:04:33.855Z"
      },
      {
        "duration": 6,
        "start_time": "2022-11-21T12:04:40.846Z"
      },
      {
        "duration": 9,
        "start_time": "2022-11-21T12:04:45.328Z"
      },
      {
        "duration": 8,
        "start_time": "2022-11-21T12:04:48.318Z"
      },
      {
        "duration": 8,
        "start_time": "2022-11-21T12:04:50.327Z"
      },
      {
        "duration": 7,
        "start_time": "2022-11-21T12:04:52.342Z"
      },
      {
        "duration": 1002,
        "start_time": "2022-11-21T12:05:05.527Z"
      },
      {
        "duration": 31,
        "start_time": "2022-11-21T12:05:06.530Z"
      },
      {
        "duration": 17,
        "start_time": "2022-11-21T12:05:06.562Z"
      },
      {
        "duration": 12,
        "start_time": "2022-11-21T12:05:06.580Z"
      },
      {
        "duration": 10,
        "start_time": "2022-11-21T12:05:06.593Z"
      },
      {
        "duration": 6,
        "start_time": "2022-11-21T12:05:06.604Z"
      },
      {
        "duration": 7,
        "start_time": "2022-11-21T12:05:06.612Z"
      },
      {
        "duration": 11,
        "start_time": "2022-11-21T12:05:06.620Z"
      },
      {
        "duration": 32,
        "start_time": "2022-11-21T12:05:06.633Z"
      },
      {
        "duration": 429,
        "start_time": "2022-11-21T12:05:06.667Z"
      },
      {
        "duration": 22,
        "start_time": "2022-11-21T12:05:07.097Z"
      },
      {
        "duration": 9,
        "start_time": "2022-11-21T12:05:07.121Z"
      },
      {
        "duration": 5,
        "start_time": "2022-11-21T12:05:07.131Z"
      },
      {
        "duration": 27,
        "start_time": "2022-11-21T12:08:10.822Z"
      },
      {
        "duration": 3,
        "start_time": "2022-11-21T12:15:31.726Z"
      },
      {
        "duration": 3,
        "start_time": "2022-11-21T12:15:56.814Z"
      },
      {
        "duration": 3,
        "start_time": "2022-11-21T12:16:25.766Z"
      },
      {
        "duration": 1017,
        "start_time": "2022-11-21T12:17:52.925Z"
      },
      {
        "duration": 29,
        "start_time": "2022-11-21T12:17:53.944Z"
      },
      {
        "duration": 17,
        "start_time": "2022-11-21T12:17:53.974Z"
      },
      {
        "duration": 7,
        "start_time": "2022-11-21T12:17:53.993Z"
      },
      {
        "duration": 22,
        "start_time": "2022-11-21T12:17:54.002Z"
      },
      {
        "duration": 22,
        "start_time": "2022-11-21T12:17:54.025Z"
      },
      {
        "duration": 5,
        "start_time": "2022-11-21T12:17:54.048Z"
      },
      {
        "duration": 6,
        "start_time": "2022-11-21T12:17:54.055Z"
      },
      {
        "duration": 35,
        "start_time": "2022-11-21T12:17:54.063Z"
      },
      {
        "duration": 428,
        "start_time": "2022-11-21T12:17:54.101Z"
      },
      {
        "duration": 23,
        "start_time": "2022-11-21T12:17:54.531Z"
      },
      {
        "duration": 25,
        "start_time": "2022-11-21T12:17:54.555Z"
      },
      {
        "duration": 4,
        "start_time": "2022-11-21T12:17:54.581Z"
      },
      {
        "duration": 5,
        "start_time": "2022-11-21T12:17:54.587Z"
      },
      {
        "duration": 3,
        "start_time": "2022-11-21T12:18:12.140Z"
      },
      {
        "duration": 1675,
        "start_time": "2022-11-21T12:42:12.739Z"
      },
      {
        "duration": 34,
        "start_time": "2022-11-21T12:42:14.415Z"
      },
      {
        "duration": 26,
        "start_time": "2022-11-21T12:42:14.451Z"
      },
      {
        "duration": 5,
        "start_time": "2022-11-21T12:42:14.480Z"
      },
      {
        "duration": 22,
        "start_time": "2022-11-21T12:42:14.487Z"
      },
      {
        "duration": 9,
        "start_time": "2022-11-21T12:42:14.511Z"
      },
      {
        "duration": 5,
        "start_time": "2022-11-21T12:42:14.522Z"
      },
      {
        "duration": 10,
        "start_time": "2022-11-21T12:42:14.528Z"
      },
      {
        "duration": 47,
        "start_time": "2022-11-21T12:42:14.539Z"
      },
      {
        "duration": 469,
        "start_time": "2022-11-21T12:42:14.588Z"
      },
      {
        "duration": 26,
        "start_time": "2022-11-21T12:42:15.058Z"
      },
      {
        "duration": 11,
        "start_time": "2022-11-21T12:42:15.085Z"
      },
      {
        "duration": 5,
        "start_time": "2022-11-21T12:42:15.116Z"
      },
      {
        "duration": 9,
        "start_time": "2022-11-21T12:42:15.123Z"
      },
      {
        "duration": 5,
        "start_time": "2022-11-21T12:42:49.254Z"
      },
      {
        "duration": 8,
        "start_time": "2022-11-21T12:57:14.009Z"
      },
      {
        "duration": 9,
        "start_time": "2022-11-21T12:57:16.297Z"
      },
      {
        "duration": 5,
        "start_time": "2022-11-21T13:04:28.304Z"
      },
      {
        "duration": 4,
        "start_time": "2022-11-21T13:10:04.368Z"
      },
      {
        "duration": 101,
        "start_time": "2022-11-21T13:12:21.376Z"
      },
      {
        "duration": 11,
        "start_time": "2022-11-21T13:12:29.308Z"
      },
      {
        "duration": 10,
        "start_time": "2022-11-21T13:18:04.776Z"
      },
      {
        "duration": 113,
        "start_time": "2022-11-21T13:18:26.007Z"
      },
      {
        "duration": 1117,
        "start_time": "2022-11-21T13:18:30.642Z"
      },
      {
        "duration": 29,
        "start_time": "2022-11-21T13:18:31.760Z"
      },
      {
        "duration": 16,
        "start_time": "2022-11-21T13:18:31.790Z"
      },
      {
        "duration": 12,
        "start_time": "2022-11-21T13:18:31.809Z"
      },
      {
        "duration": 5,
        "start_time": "2022-11-21T13:18:31.822Z"
      },
      {
        "duration": 8,
        "start_time": "2022-11-21T13:18:31.828Z"
      },
      {
        "duration": 19,
        "start_time": "2022-11-21T13:18:31.838Z"
      },
      {
        "duration": 24,
        "start_time": "2022-11-21T13:18:31.859Z"
      },
      {
        "duration": 20,
        "start_time": "2022-11-21T13:18:31.884Z"
      },
      {
        "duration": 37,
        "start_time": "2022-11-21T13:18:31.906Z"
      },
      {
        "duration": 421,
        "start_time": "2022-11-21T13:18:31.944Z"
      },
      {
        "duration": 28,
        "start_time": "2022-11-21T13:18:32.366Z"
      },
      {
        "duration": 7,
        "start_time": "2022-11-21T13:18:32.396Z"
      },
      {
        "duration": 5,
        "start_time": "2022-11-21T13:18:32.405Z"
      },
      {
        "duration": 46,
        "start_time": "2022-11-21T13:18:32.412Z"
      },
      {
        "duration": 0,
        "start_time": "2022-11-21T13:18:32.460Z"
      },
      {
        "duration": 72,
        "start_time": "2022-11-21T13:18:45.694Z"
      },
      {
        "duration": 52,
        "start_time": "2022-11-21T13:19:03.271Z"
      },
      {
        "duration": 5,
        "start_time": "2022-11-21T13:19:29.990Z"
      },
      {
        "duration": 7,
        "start_time": "2022-11-21T13:19:56.528Z"
      },
      {
        "duration": 8,
        "start_time": "2022-11-21T13:20:20.469Z"
      },
      {
        "duration": 100,
        "start_time": "2022-11-21T13:22:24.206Z"
      },
      {
        "duration": 14,
        "start_time": "2022-11-21T13:22:52.299Z"
      },
      {
        "duration": 13,
        "start_time": "2022-11-21T13:23:11.870Z"
      },
      {
        "duration": 14,
        "start_time": "2022-11-21T13:23:29.846Z"
      },
      {
        "duration": 4,
        "start_time": "2022-11-21T13:23:30.801Z"
      },
      {
        "duration": 16,
        "start_time": "2022-11-21T13:24:24.719Z"
      },
      {
        "duration": 12,
        "start_time": "2022-11-21T13:24:42.479Z"
      },
      {
        "duration": 8,
        "start_time": "2022-11-21T13:25:24.262Z"
      },
      {
        "duration": 9,
        "start_time": "2022-11-21T13:31:40.348Z"
      },
      {
        "duration": 8,
        "start_time": "2022-11-21T13:32:07.925Z"
      },
      {
        "duration": 8,
        "start_time": "2022-11-21T13:32:21.189Z"
      },
      {
        "duration": 8,
        "start_time": "2022-11-21T13:32:28.012Z"
      },
      {
        "duration": 7,
        "start_time": "2022-11-21T13:32:45.165Z"
      },
      {
        "duration": 9,
        "start_time": "2022-11-21T13:35:08.507Z"
      },
      {
        "duration": 8,
        "start_time": "2022-11-21T13:35:13.980Z"
      },
      {
        "duration": 82,
        "start_time": "2022-11-21T14:09:27.632Z"
      },
      {
        "duration": 3,
        "start_time": "2022-11-21T14:09:37.567Z"
      },
      {
        "duration": 4,
        "start_time": "2022-11-21T14:09:49.600Z"
      },
      {
        "duration": 4,
        "start_time": "2022-11-21T14:10:11.695Z"
      },
      {
        "duration": 4,
        "start_time": "2022-11-21T14:10:13.494Z"
      },
      {
        "duration": 7,
        "start_time": "2022-11-21T14:10:47.984Z"
      },
      {
        "duration": 55,
        "start_time": "2022-11-21T14:13:27.216Z"
      },
      {
        "duration": 37,
        "start_time": "2022-11-21T14:13:46.960Z"
      },
      {
        "duration": 9,
        "start_time": "2022-11-21T14:14:11.399Z"
      },
      {
        "duration": 66,
        "start_time": "2022-11-21T14:14:19.838Z"
      },
      {
        "duration": 1233,
        "start_time": "2022-11-21T14:14:24.834Z"
      },
      {
        "duration": 28,
        "start_time": "2022-11-21T14:14:26.069Z"
      },
      {
        "duration": 17,
        "start_time": "2022-11-21T14:14:26.099Z"
      },
      {
        "duration": 13,
        "start_time": "2022-11-21T14:14:26.118Z"
      },
      {
        "duration": 4,
        "start_time": "2022-11-21T14:14:26.132Z"
      },
      {
        "duration": 5,
        "start_time": "2022-11-21T14:14:26.138Z"
      },
      {
        "duration": 9,
        "start_time": "2022-11-21T14:14:26.145Z"
      },
      {
        "duration": 5,
        "start_time": "2022-11-21T14:14:26.156Z"
      },
      {
        "duration": 13,
        "start_time": "2022-11-21T14:14:26.163Z"
      },
      {
        "duration": 133,
        "start_time": "2022-11-21T14:14:26.178Z"
      },
      {
        "duration": 0,
        "start_time": "2022-11-21T14:14:26.313Z"
      },
      {
        "duration": 0,
        "start_time": "2022-11-21T14:14:26.314Z"
      },
      {
        "duration": 0,
        "start_time": "2022-11-21T14:14:26.315Z"
      },
      {
        "duration": 0,
        "start_time": "2022-11-21T14:14:26.316Z"
      },
      {
        "duration": 0,
        "start_time": "2022-11-21T14:14:26.317Z"
      },
      {
        "duration": 0,
        "start_time": "2022-11-21T14:14:26.318Z"
      },
      {
        "duration": 37,
        "start_time": "2022-11-21T14:14:49.279Z"
      },
      {
        "duration": 10,
        "start_time": "2022-11-21T14:15:01.694Z"
      },
      {
        "duration": 3,
        "start_time": "2022-11-21T14:18:39.335Z"
      },
      {
        "duration": 1091,
        "start_time": "2022-11-21T14:31:17.202Z"
      },
      {
        "duration": 28,
        "start_time": "2022-11-21T14:31:18.295Z"
      },
      {
        "duration": 15,
        "start_time": "2022-11-21T14:31:18.325Z"
      },
      {
        "duration": 11,
        "start_time": "2022-11-21T14:31:18.342Z"
      },
      {
        "duration": 8,
        "start_time": "2022-11-21T14:31:18.354Z"
      },
      {
        "duration": 16,
        "start_time": "2022-11-21T14:31:18.364Z"
      },
      {
        "duration": 10,
        "start_time": "2022-11-21T14:31:18.381Z"
      },
      {
        "duration": 8,
        "start_time": "2022-11-21T14:31:18.393Z"
      },
      {
        "duration": 18,
        "start_time": "2022-11-21T14:31:18.403Z"
      },
      {
        "duration": 37,
        "start_time": "2022-11-21T14:31:18.424Z"
      },
      {
        "duration": 480,
        "start_time": "2022-11-21T14:31:18.463Z"
      },
      {
        "duration": 35,
        "start_time": "2022-11-21T14:31:18.945Z"
      },
      {
        "duration": 12,
        "start_time": "2022-11-21T14:31:18.982Z"
      },
      {
        "duration": 6,
        "start_time": "2022-11-21T14:31:18.996Z"
      },
      {
        "duration": 31,
        "start_time": "2022-11-21T14:31:19.003Z"
      },
      {
        "duration": 7,
        "start_time": "2022-11-21T14:31:19.036Z"
      },
      {
        "duration": 6,
        "start_time": "2022-11-21T14:32:47.354Z"
      },
      {
        "duration": 7,
        "start_time": "2022-11-21T14:32:55.625Z"
      },
      {
        "duration": 8,
        "start_time": "2022-11-21T14:38:20.578Z"
      },
      {
        "duration": 1103,
        "start_time": "2022-11-21T14:44:30.729Z"
      },
      {
        "duration": 30,
        "start_time": "2022-11-21T14:44:31.834Z"
      },
      {
        "duration": 17,
        "start_time": "2022-11-21T14:44:31.869Z"
      },
      {
        "duration": 12,
        "start_time": "2022-11-21T14:44:31.888Z"
      },
      {
        "duration": 4,
        "start_time": "2022-11-21T14:44:31.901Z"
      },
      {
        "duration": 6,
        "start_time": "2022-11-21T14:44:31.906Z"
      },
      {
        "duration": 12,
        "start_time": "2022-11-21T14:44:31.913Z"
      },
      {
        "duration": 7,
        "start_time": "2022-11-21T14:44:31.927Z"
      },
      {
        "duration": 7,
        "start_time": "2022-11-21T14:44:31.936Z"
      },
      {
        "duration": 56,
        "start_time": "2022-11-21T14:44:31.945Z"
      },
      {
        "duration": 442,
        "start_time": "2022-11-21T14:44:32.002Z"
      },
      {
        "duration": 34,
        "start_time": "2022-11-21T14:44:32.446Z"
      },
      {
        "duration": 9,
        "start_time": "2022-11-21T14:44:32.482Z"
      },
      {
        "duration": 9,
        "start_time": "2022-11-21T14:44:32.492Z"
      },
      {
        "duration": 125,
        "start_time": "2022-11-21T14:44:32.503Z"
      },
      {
        "duration": 7,
        "start_time": "2022-11-21T14:44:54.041Z"
      },
      {
        "duration": 8,
        "start_time": "2022-11-21T14:45:29.961Z"
      },
      {
        "duration": 6,
        "start_time": "2022-11-21T14:45:45.275Z"
      },
      {
        "duration": 6,
        "start_time": "2022-11-21T14:45:52.641Z"
      },
      {
        "duration": 7,
        "start_time": "2022-11-21T14:45:58.017Z"
      },
      {
        "duration": 7,
        "start_time": "2022-11-21T14:46:11.008Z"
      },
      {
        "duration": 7,
        "start_time": "2022-11-21T14:46:22.672Z"
      },
      {
        "duration": 6,
        "start_time": "2022-11-21T14:46:28.740Z"
      },
      {
        "duration": 7,
        "start_time": "2022-11-21T14:46:36.394Z"
      },
      {
        "duration": 6,
        "start_time": "2022-11-21T14:46:42.327Z"
      },
      {
        "duration": 6,
        "start_time": "2022-11-21T14:46:48.597Z"
      },
      {
        "duration": 6,
        "start_time": "2022-11-21T14:46:54.704Z"
      },
      {
        "duration": 6,
        "start_time": "2022-11-21T14:46:58.940Z"
      },
      {
        "duration": 8,
        "start_time": "2022-11-21T14:47:02.977Z"
      },
      {
        "duration": 5,
        "start_time": "2022-11-21T14:47:27.097Z"
      },
      {
        "duration": 1151,
        "start_time": "2022-11-21T14:47:31.663Z"
      },
      {
        "duration": 29,
        "start_time": "2022-11-21T14:47:32.816Z"
      },
      {
        "duration": 17,
        "start_time": "2022-11-21T14:47:32.846Z"
      },
      {
        "duration": 11,
        "start_time": "2022-11-21T14:47:32.865Z"
      },
      {
        "duration": 8,
        "start_time": "2022-11-21T14:47:32.877Z"
      },
      {
        "duration": 5,
        "start_time": "2022-11-21T14:47:32.886Z"
      },
      {
        "duration": 17,
        "start_time": "2022-11-21T14:47:32.893Z"
      },
      {
        "duration": 5,
        "start_time": "2022-11-21T14:47:32.911Z"
      },
      {
        "duration": 7,
        "start_time": "2022-11-21T14:47:32.917Z"
      },
      {
        "duration": 32,
        "start_time": "2022-11-21T14:47:32.926Z"
      },
      {
        "duration": 455,
        "start_time": "2022-11-21T14:47:32.960Z"
      },
      {
        "duration": 25,
        "start_time": "2022-11-21T14:47:33.416Z"
      },
      {
        "duration": 8,
        "start_time": "2022-11-21T14:47:33.442Z"
      },
      {
        "duration": 25,
        "start_time": "2022-11-21T14:47:33.451Z"
      },
      {
        "duration": 103,
        "start_time": "2022-11-21T14:47:33.478Z"
      },
      {
        "duration": 6,
        "start_time": "2022-11-21T14:48:13.233Z"
      },
      {
        "duration": 7,
        "start_time": "2022-11-21T14:49:14.305Z"
      },
      {
        "duration": 6,
        "start_time": "2022-11-21T14:57:55.495Z"
      },
      {
        "duration": 4,
        "start_time": "2022-11-21T14:58:01.795Z"
      },
      {
        "duration": 1152,
        "start_time": "2022-11-21T14:58:10.590Z"
      },
      {
        "duration": 28,
        "start_time": "2022-11-21T14:58:11.744Z"
      },
      {
        "duration": 23,
        "start_time": "2022-11-21T14:58:11.774Z"
      },
      {
        "duration": 14,
        "start_time": "2022-11-21T14:58:11.798Z"
      },
      {
        "duration": 17,
        "start_time": "2022-11-21T14:58:11.814Z"
      },
      {
        "duration": 20,
        "start_time": "2022-11-21T14:58:11.833Z"
      },
      {
        "duration": 18,
        "start_time": "2022-11-21T14:58:11.855Z"
      },
      {
        "duration": 29,
        "start_time": "2022-11-21T14:58:11.874Z"
      },
      {
        "duration": 13,
        "start_time": "2022-11-21T14:58:11.904Z"
      },
      {
        "duration": 66,
        "start_time": "2022-11-21T14:58:11.919Z"
      },
      {
        "duration": 484,
        "start_time": "2022-11-21T14:58:11.987Z"
      },
      {
        "duration": 31,
        "start_time": "2022-11-21T14:58:12.476Z"
      },
      {
        "duration": 9,
        "start_time": "2022-11-21T14:58:12.509Z"
      },
      {
        "duration": 30,
        "start_time": "2022-11-21T14:58:12.520Z"
      },
      {
        "duration": 46,
        "start_time": "2022-11-21T14:58:12.551Z"
      },
      {
        "duration": 11,
        "start_time": "2022-11-21T14:58:29.472Z"
      },
      {
        "duration": 18,
        "start_time": "2022-11-21T14:58:32.270Z"
      },
      {
        "duration": 3,
        "start_time": "2022-11-21T14:58:50.288Z"
      },
      {
        "duration": 6,
        "start_time": "2022-11-21T15:18:22.691Z"
      },
      {
        "duration": 6,
        "start_time": "2022-11-21T15:18:56.333Z"
      },
      {
        "duration": 4,
        "start_time": "2022-11-21T15:20:32.030Z"
      },
      {
        "duration": 9,
        "start_time": "2022-11-21T15:23:50.278Z"
      },
      {
        "duration": 40,
        "start_time": "2022-11-21T15:24:04.731Z"
      },
      {
        "duration": 436,
        "start_time": "2022-11-21T15:24:16.188Z"
      },
      {
        "duration": 33,
        "start_time": "2022-11-21T15:24:27.438Z"
      },
      {
        "duration": 6,
        "start_time": "2022-11-21T15:27:33.052Z"
      },
      {
        "duration": 8,
        "start_time": "2022-11-21T15:27:40.311Z"
      },
      {
        "duration": 24,
        "start_time": "2022-11-21T15:27:45.852Z"
      },
      {
        "duration": 437,
        "start_time": "2022-11-21T15:27:51.766Z"
      },
      {
        "duration": 33,
        "start_time": "2022-11-21T15:27:58.414Z"
      },
      {
        "duration": 110,
        "start_time": "2022-11-21T18:36:36.563Z"
      },
      {
        "duration": 1071,
        "start_time": "2022-11-21T18:36:48.327Z"
      },
      {
        "duration": 30,
        "start_time": "2022-11-21T18:36:49.400Z"
      },
      {
        "duration": 15,
        "start_time": "2022-11-21T18:36:49.432Z"
      },
      {
        "duration": 10,
        "start_time": "2022-11-21T18:36:49.449Z"
      },
      {
        "duration": 5,
        "start_time": "2022-11-21T18:36:49.460Z"
      },
      {
        "duration": 8,
        "start_time": "2022-11-21T18:36:49.466Z"
      },
      {
        "duration": 7,
        "start_time": "2022-11-21T18:36:49.476Z"
      },
      {
        "duration": 7,
        "start_time": "2022-11-21T18:36:49.485Z"
      },
      {
        "duration": 8,
        "start_time": "2022-11-21T18:36:49.493Z"
      },
      {
        "duration": 103,
        "start_time": "2022-11-21T18:36:49.503Z"
      },
      {
        "duration": 0,
        "start_time": "2022-11-21T18:36:49.608Z"
      },
      {
        "duration": 0,
        "start_time": "2022-11-21T18:36:49.609Z"
      },
      {
        "duration": 0,
        "start_time": "2022-11-21T18:36:49.610Z"
      },
      {
        "duration": 0,
        "start_time": "2022-11-21T18:36:49.611Z"
      },
      {
        "duration": 0,
        "start_time": "2022-11-21T18:36:49.612Z"
      },
      {
        "duration": 0,
        "start_time": "2022-11-21T18:36:49.613Z"
      },
      {
        "duration": 28,
        "start_time": "2022-11-21T18:37:57.073Z"
      },
      {
        "duration": 1155,
        "start_time": "2022-11-21T18:38:00.497Z"
      },
      {
        "duration": 29,
        "start_time": "2022-11-21T18:38:01.654Z"
      },
      {
        "duration": 52,
        "start_time": "2022-11-21T18:38:01.684Z"
      },
      {
        "duration": 31,
        "start_time": "2022-11-21T18:38:01.738Z"
      },
      {
        "duration": 25,
        "start_time": "2022-11-21T18:38:01.771Z"
      },
      {
        "duration": 32,
        "start_time": "2022-11-21T18:38:01.797Z"
      },
      {
        "duration": 17,
        "start_time": "2022-11-21T18:38:01.831Z"
      },
      {
        "duration": 24,
        "start_time": "2022-11-21T18:38:01.850Z"
      },
      {
        "duration": 19,
        "start_time": "2022-11-21T18:38:01.876Z"
      },
      {
        "duration": 40,
        "start_time": "2022-11-21T18:38:01.898Z"
      },
      {
        "duration": 427,
        "start_time": "2022-11-21T18:38:01.940Z"
      },
      {
        "duration": 29,
        "start_time": "2022-11-21T18:38:02.368Z"
      },
      {
        "duration": 9,
        "start_time": "2022-11-21T18:38:02.399Z"
      },
      {
        "duration": 7,
        "start_time": "2022-11-21T18:38:02.410Z"
      },
      {
        "duration": 11,
        "start_time": "2022-11-21T18:38:02.418Z"
      },
      {
        "duration": 123,
        "start_time": "2022-11-21T18:38:02.430Z"
      },
      {
        "duration": 1434,
        "start_time": "2022-11-21T18:39:07.012Z"
      },
      {
        "duration": 28,
        "start_time": "2022-11-21T18:39:08.448Z"
      },
      {
        "duration": 13,
        "start_time": "2022-11-21T18:39:08.478Z"
      },
      {
        "duration": 11,
        "start_time": "2022-11-21T18:39:08.493Z"
      },
      {
        "duration": 6,
        "start_time": "2022-11-21T18:39:08.505Z"
      },
      {
        "duration": 5,
        "start_time": "2022-11-21T18:39:08.512Z"
      },
      {
        "duration": 7,
        "start_time": "2022-11-21T18:39:08.519Z"
      },
      {
        "duration": 7,
        "start_time": "2022-11-21T18:39:08.527Z"
      },
      {
        "duration": 4,
        "start_time": "2022-11-21T18:39:08.536Z"
      },
      {
        "duration": 56,
        "start_time": "2022-11-21T18:39:08.542Z"
      },
      {
        "duration": 481,
        "start_time": "2022-11-21T18:39:08.600Z"
      },
      {
        "duration": 27,
        "start_time": "2022-11-21T18:39:09.082Z"
      },
      {
        "duration": 10,
        "start_time": "2022-11-21T18:39:09.111Z"
      },
      {
        "duration": 6,
        "start_time": "2022-11-21T18:39:09.123Z"
      },
      {
        "duration": 4,
        "start_time": "2022-11-21T18:39:09.131Z"
      },
      {
        "duration": 390,
        "start_time": "2022-11-21T18:39:09.136Z"
      },
      {
        "duration": 9,
        "start_time": "2022-11-21T18:39:42.067Z"
      },
      {
        "duration": 36,
        "start_time": "2022-11-21T18:43:10.218Z"
      },
      {
        "duration": 36,
        "start_time": "2022-11-21T18:44:36.199Z"
      },
      {
        "duration": 35,
        "start_time": "2022-11-21T18:44:45.938Z"
      },
      {
        "duration": 12,
        "start_time": "2022-11-21T18:49:37.368Z"
      },
      {
        "duration": 4,
        "start_time": "2022-11-21T18:50:10.126Z"
      },
      {
        "duration": 26,
        "start_time": "2022-11-21T18:50:11.241Z"
      },
      {
        "duration": 11,
        "start_time": "2022-11-21T18:50:11.820Z"
      },
      {
        "duration": 11,
        "start_time": "2022-11-21T18:50:12.218Z"
      },
      {
        "duration": 3,
        "start_time": "2022-11-21T18:50:12.853Z"
      },
      {
        "duration": 4,
        "start_time": "2022-11-21T18:50:14.481Z"
      },
      {
        "duration": 5,
        "start_time": "2022-11-21T18:50:14.828Z"
      },
      {
        "duration": 4,
        "start_time": "2022-11-21T18:50:15.213Z"
      },
      {
        "duration": 5,
        "start_time": "2022-11-21T18:50:15.593Z"
      },
      {
        "duration": 31,
        "start_time": "2022-11-21T18:50:18.040Z"
      },
      {
        "duration": 12,
        "start_time": "2022-11-21T18:50:20.571Z"
      },
      {
        "duration": 9,
        "start_time": "2022-11-21T18:50:58.012Z"
      },
      {
        "duration": 19,
        "start_time": "2022-11-21T18:51:04.737Z"
      },
      {
        "duration": 6,
        "start_time": "2022-11-21T18:51:17.475Z"
      },
      {
        "duration": 14,
        "start_time": "2022-11-21T18:51:22.899Z"
      },
      {
        "duration": 8,
        "start_time": "2022-11-21T18:53:49.331Z"
      },
      {
        "duration": 28,
        "start_time": "2022-11-21T18:57:20.374Z"
      },
      {
        "duration": 1373,
        "start_time": "2022-11-21T18:57:24.388Z"
      },
      {
        "duration": 30,
        "start_time": "2022-11-21T18:57:25.763Z"
      },
      {
        "duration": 14,
        "start_time": "2022-11-21T18:57:25.794Z"
      },
      {
        "duration": 15,
        "start_time": "2022-11-21T18:57:25.810Z"
      },
      {
        "duration": 3,
        "start_time": "2022-11-21T18:57:25.826Z"
      },
      {
        "duration": 8,
        "start_time": "2022-11-21T18:57:25.831Z"
      },
      {
        "duration": 8,
        "start_time": "2022-11-21T18:57:25.840Z"
      },
      {
        "duration": 13,
        "start_time": "2022-11-21T18:57:25.849Z"
      },
      {
        "duration": 14,
        "start_time": "2022-11-21T18:57:25.863Z"
      },
      {
        "duration": 45,
        "start_time": "2022-11-21T18:57:25.880Z"
      },
      {
        "duration": 4,
        "start_time": "2022-11-21T18:57:25.926Z"
      },
      {
        "duration": 133,
        "start_time": "2022-11-21T18:57:25.931Z"
      },
      {
        "duration": 0,
        "start_time": "2022-11-21T18:57:26.065Z"
      },
      {
        "duration": 0,
        "start_time": "2022-11-21T18:57:26.067Z"
      },
      {
        "duration": 0,
        "start_time": "2022-11-21T18:57:26.076Z"
      },
      {
        "duration": 0,
        "start_time": "2022-11-21T18:57:26.077Z"
      },
      {
        "duration": 0,
        "start_time": "2022-11-21T18:57:26.079Z"
      },
      {
        "duration": 13,
        "start_time": "2022-11-21T18:57:48.988Z"
      },
      {
        "duration": 13,
        "start_time": "2022-11-21T18:59:38.503Z"
      },
      {
        "duration": 10,
        "start_time": "2022-11-21T18:59:56.069Z"
      },
      {
        "duration": 12,
        "start_time": "2022-11-21T19:07:39.253Z"
      },
      {
        "duration": 1748,
        "start_time": "2022-11-21T19:08:03.553Z"
      },
      {
        "duration": 12,
        "start_time": "2022-11-21T19:08:42.193Z"
      },
      {
        "duration": 1627,
        "start_time": "2022-11-21T19:08:48.820Z"
      },
      {
        "duration": 1861,
        "start_time": "2022-11-21T19:08:56.400Z"
      },
      {
        "duration": 1901,
        "start_time": "2022-11-21T19:09:57.586Z"
      },
      {
        "duration": 1938,
        "start_time": "2022-11-21T19:10:13.648Z"
      },
      {
        "duration": 2000,
        "start_time": "2022-11-21T19:12:23.153Z"
      },
      {
        "duration": 29,
        "start_time": "2022-11-21T19:15:34.296Z"
      },
      {
        "duration": 32,
        "start_time": "2022-11-21T19:15:53.200Z"
      },
      {
        "duration": 571,
        "start_time": "2022-11-21T19:16:33.696Z"
      },
      {
        "duration": 566,
        "start_time": "2022-11-21T19:16:41.875Z"
      },
      {
        "duration": 33,
        "start_time": "2022-11-21T19:18:03.792Z"
      },
      {
        "duration": 109,
        "start_time": "2022-11-21T19:18:10.776Z"
      },
      {
        "duration": 37,
        "start_time": "2022-11-21T19:18:24.800Z"
      },
      {
        "duration": 65,
        "start_time": "2022-11-21T19:18:50.130Z"
      },
      {
        "duration": 33,
        "start_time": "2022-11-21T19:22:52.605Z"
      },
      {
        "duration": 648,
        "start_time": "2022-11-21T19:23:02.830Z"
      },
      {
        "duration": 31,
        "start_time": "2022-11-21T19:24:12.038Z"
      },
      {
        "duration": 29,
        "start_time": "2022-11-21T19:26:49.591Z"
      },
      {
        "duration": 31,
        "start_time": "2022-11-21T19:27:01.577Z"
      },
      {
        "duration": 68,
        "start_time": "2022-11-21T19:27:08.710Z"
      },
      {
        "duration": 602,
        "start_time": "2022-11-21T19:27:13.798Z"
      },
      {
        "duration": 106,
        "start_time": "2022-11-21T19:27:39.327Z"
      },
      {
        "duration": 656,
        "start_time": "2022-11-21T19:28:49.368Z"
      },
      {
        "duration": 469,
        "start_time": "2022-11-21T19:29:09.362Z"
      },
      {
        "duration": 59,
        "start_time": "2022-11-21T19:32:43.662Z"
      },
      {
        "duration": 660,
        "start_time": "2022-11-21T19:32:44.224Z"
      },
      {
        "duration": 62,
        "start_time": "2022-11-21T19:34:00.893Z"
      },
      {
        "duration": 95,
        "start_time": "2022-11-21T19:34:01.589Z"
      },
      {
        "duration": 57,
        "start_time": "2022-11-21T19:34:10.616Z"
      },
      {
        "duration": 614,
        "start_time": "2022-11-21T19:34:11.329Z"
      },
      {
        "duration": 5908,
        "start_time": "2022-11-21T19:55:44.341Z"
      },
      {
        "duration": 1332,
        "start_time": "2022-11-21T19:55:56.998Z"
      },
      {
        "duration": 28,
        "start_time": "2022-11-21T19:55:58.333Z"
      },
      {
        "duration": 21,
        "start_time": "2022-11-21T19:55:58.363Z"
      },
      {
        "duration": 11,
        "start_time": "2022-11-21T19:55:58.390Z"
      },
      {
        "duration": 5,
        "start_time": "2022-11-21T19:55:58.403Z"
      },
      {
        "duration": 6,
        "start_time": "2022-11-21T19:55:58.410Z"
      },
      {
        "duration": 9,
        "start_time": "2022-11-21T19:55:58.417Z"
      },
      {
        "duration": 5,
        "start_time": "2022-11-21T19:55:58.428Z"
      },
      {
        "duration": 11,
        "start_time": "2022-11-21T19:55:58.435Z"
      },
      {
        "duration": 66,
        "start_time": "2022-11-21T19:55:58.448Z"
      },
      {
        "duration": 622,
        "start_time": "2022-11-21T19:55:58.516Z"
      },
      {
        "duration": 6213,
        "start_time": "2022-11-21T19:55:59.140Z"
      },
      {
        "duration": 484,
        "start_time": "2022-11-21T19:56:05.355Z"
      },
      {
        "duration": 47,
        "start_time": "2022-11-21T19:56:05.841Z"
      },
      {
        "duration": 9,
        "start_time": "2022-11-21T19:56:05.891Z"
      },
      {
        "duration": 18,
        "start_time": "2022-11-21T19:56:05.901Z"
      },
      {
        "duration": 10,
        "start_time": "2022-11-21T19:56:05.921Z"
      },
      {
        "duration": 129,
        "start_time": "2022-11-21T19:56:30.303Z"
      },
      {
        "duration": 1350,
        "start_time": "2022-11-21T19:56:38.369Z"
      },
      {
        "duration": 28,
        "start_time": "2022-11-21T19:56:39.721Z"
      },
      {
        "duration": 15,
        "start_time": "2022-11-21T19:56:39.751Z"
      },
      {
        "duration": 19,
        "start_time": "2022-11-21T19:56:39.768Z"
      },
      {
        "duration": 6,
        "start_time": "2022-11-21T19:56:39.789Z"
      },
      {
        "duration": 7,
        "start_time": "2022-11-21T19:56:39.796Z"
      },
      {
        "duration": 8,
        "start_time": "2022-11-21T19:56:39.804Z"
      },
      {
        "duration": 15,
        "start_time": "2022-11-21T19:56:39.813Z"
      },
      {
        "duration": 7,
        "start_time": "2022-11-21T19:56:39.830Z"
      },
      {
        "duration": 71,
        "start_time": "2022-11-21T19:56:39.840Z"
      },
      {
        "duration": 634,
        "start_time": "2022-11-21T19:56:39.913Z"
      },
      {
        "duration": 117,
        "start_time": "2022-11-21T19:56:40.548Z"
      },
      {
        "duration": 0,
        "start_time": "2022-11-21T19:56:40.667Z"
      },
      {
        "duration": 0,
        "start_time": "2022-11-21T19:56:40.683Z"
      },
      {
        "duration": 0,
        "start_time": "2022-11-21T19:56:40.684Z"
      },
      {
        "duration": 0,
        "start_time": "2022-11-21T19:56:40.685Z"
      },
      {
        "duration": 0,
        "start_time": "2022-11-21T19:56:40.685Z"
      },
      {
        "duration": 29,
        "start_time": "2022-11-21T19:57:08.423Z"
      },
      {
        "duration": 662,
        "start_time": "2022-11-21T19:57:11.844Z"
      },
      {
        "duration": 14,
        "start_time": "2022-11-21T19:57:12.594Z"
      },
      {
        "duration": 12,
        "start_time": "2022-11-21T19:57:17.710Z"
      },
      {
        "duration": 1390,
        "start_time": "2022-11-21T19:57:35.576Z"
      },
      {
        "duration": 37,
        "start_time": "2022-11-21T19:57:36.968Z"
      },
      {
        "duration": 15,
        "start_time": "2022-11-21T19:57:37.007Z"
      },
      {
        "duration": 12,
        "start_time": "2022-11-21T19:57:37.024Z"
      },
      {
        "duration": 5,
        "start_time": "2022-11-21T19:57:37.038Z"
      },
      {
        "duration": 6,
        "start_time": "2022-11-21T19:57:37.045Z"
      },
      {
        "duration": 12,
        "start_time": "2022-11-21T19:57:37.053Z"
      },
      {
        "duration": 16,
        "start_time": "2022-11-21T19:57:37.067Z"
      },
      {
        "duration": 7,
        "start_time": "2022-11-21T19:57:37.089Z"
      },
      {
        "duration": 35,
        "start_time": "2022-11-21T19:57:37.099Z"
      },
      {
        "duration": 685,
        "start_time": "2022-11-21T19:57:37.135Z"
      },
      {
        "duration": 1619,
        "start_time": "2022-11-21T19:57:37.822Z"
      },
      {
        "duration": 450,
        "start_time": "2022-11-21T19:57:39.442Z"
      },
      {
        "duration": 23,
        "start_time": "2022-11-21T19:57:39.894Z"
      },
      {
        "duration": 7,
        "start_time": "2022-11-21T19:57:39.919Z"
      },
      {
        "duration": 5,
        "start_time": "2022-11-21T19:57:39.928Z"
      },
      {
        "duration": 3,
        "start_time": "2022-11-21T19:57:39.935Z"
      },
      {
        "duration": 122,
        "start_time": "2022-11-21T19:58:15.197Z"
      },
      {
        "duration": 1306,
        "start_time": "2022-11-21T19:58:26.376Z"
      },
      {
        "duration": 29,
        "start_time": "2022-11-21T19:58:27.684Z"
      },
      {
        "duration": 14,
        "start_time": "2022-11-21T19:58:27.715Z"
      },
      {
        "duration": 11,
        "start_time": "2022-11-21T19:58:27.731Z"
      },
      {
        "duration": 9,
        "start_time": "2022-11-21T19:58:27.744Z"
      },
      {
        "duration": 16,
        "start_time": "2022-11-21T19:58:27.754Z"
      },
      {
        "duration": 7,
        "start_time": "2022-11-21T19:58:27.772Z"
      },
      {
        "duration": 9,
        "start_time": "2022-11-21T19:58:27.781Z"
      },
      {
        "duration": 8,
        "start_time": "2022-11-21T19:58:27.791Z"
      },
      {
        "duration": 37,
        "start_time": "2022-11-21T19:58:27.801Z"
      },
      {
        "duration": 603,
        "start_time": "2022-11-21T19:58:27.840Z"
      },
      {
        "duration": 120,
        "start_time": "2022-11-21T19:58:28.445Z"
      },
      {
        "duration": 0,
        "start_time": "2022-11-21T19:58:28.567Z"
      },
      {
        "duration": 0,
        "start_time": "2022-11-21T19:58:28.576Z"
      },
      {
        "duration": 0,
        "start_time": "2022-11-21T19:58:28.578Z"
      },
      {
        "duration": 0,
        "start_time": "2022-11-21T19:58:28.579Z"
      },
      {
        "duration": 0,
        "start_time": "2022-11-21T19:58:28.581Z"
      },
      {
        "duration": 14,
        "start_time": "2022-11-21T19:58:41.941Z"
      },
      {
        "duration": 13,
        "start_time": "2022-11-21T19:58:54.621Z"
      },
      {
        "duration": 1283,
        "start_time": "2022-11-21T19:59:09.899Z"
      },
      {
        "duration": 29,
        "start_time": "2022-11-21T19:59:11.184Z"
      },
      {
        "duration": 14,
        "start_time": "2022-11-21T19:59:11.215Z"
      },
      {
        "duration": 14,
        "start_time": "2022-11-21T19:59:11.232Z"
      },
      {
        "duration": 4,
        "start_time": "2022-11-21T19:59:11.248Z"
      },
      {
        "duration": 6,
        "start_time": "2022-11-21T19:59:11.253Z"
      },
      {
        "duration": 15,
        "start_time": "2022-11-21T19:59:11.261Z"
      },
      {
        "duration": 11,
        "start_time": "2022-11-21T19:59:11.278Z"
      },
      {
        "duration": 8,
        "start_time": "2022-11-21T19:59:11.291Z"
      },
      {
        "duration": 35,
        "start_time": "2022-11-21T19:59:11.302Z"
      },
      {
        "duration": 668,
        "start_time": "2022-11-21T19:59:11.338Z"
      },
      {
        "duration": 112,
        "start_time": "2022-11-21T19:59:12.007Z"
      },
      {
        "duration": 0,
        "start_time": "2022-11-21T19:59:12.120Z"
      },
      {
        "duration": 0,
        "start_time": "2022-11-21T19:59:12.121Z"
      },
      {
        "duration": 0,
        "start_time": "2022-11-21T19:59:12.122Z"
      },
      {
        "duration": 0,
        "start_time": "2022-11-21T19:59:12.123Z"
      },
      {
        "duration": 0,
        "start_time": "2022-11-21T19:59:12.123Z"
      },
      {
        "duration": 1652,
        "start_time": "2022-11-21T19:59:46.581Z"
      },
      {
        "duration": 1538,
        "start_time": "2022-11-21T19:59:57.981Z"
      },
      {
        "duration": 1892,
        "start_time": "2022-11-21T20:00:04.244Z"
      },
      {
        "duration": 17,
        "start_time": "2022-11-21T20:01:20.481Z"
      },
      {
        "duration": 1389,
        "start_time": "2022-11-21T20:01:27.539Z"
      },
      {
        "duration": 29,
        "start_time": "2022-11-21T20:01:28.930Z"
      },
      {
        "duration": 13,
        "start_time": "2022-11-21T20:01:28.960Z"
      },
      {
        "duration": 11,
        "start_time": "2022-11-21T20:01:28.975Z"
      },
      {
        "duration": 4,
        "start_time": "2022-11-21T20:01:28.988Z"
      },
      {
        "duration": 7,
        "start_time": "2022-11-21T20:01:28.993Z"
      },
      {
        "duration": 6,
        "start_time": "2022-11-21T20:01:29.001Z"
      },
      {
        "duration": 14,
        "start_time": "2022-11-21T20:01:29.008Z"
      },
      {
        "duration": 8,
        "start_time": "2022-11-21T20:01:29.023Z"
      },
      {
        "duration": 38,
        "start_time": "2022-11-21T20:01:29.033Z"
      },
      {
        "duration": 680,
        "start_time": "2022-11-21T20:01:29.075Z"
      },
      {
        "duration": 127,
        "start_time": "2022-11-21T20:01:29.757Z"
      },
      {
        "duration": 0,
        "start_time": "2022-11-21T20:01:29.886Z"
      },
      {
        "duration": 0,
        "start_time": "2022-11-21T20:01:29.887Z"
      },
      {
        "duration": 0,
        "start_time": "2022-11-21T20:01:29.889Z"
      },
      {
        "duration": 1,
        "start_time": "2022-11-21T20:01:29.889Z"
      },
      {
        "duration": 0,
        "start_time": "2022-11-21T20:01:29.890Z"
      },
      {
        "duration": 19,
        "start_time": "2022-11-21T20:02:04.109Z"
      },
      {
        "duration": 19,
        "start_time": "2022-11-21T20:02:29.670Z"
      },
      {
        "duration": 1792,
        "start_time": "2022-11-21T20:02:42.037Z"
      },
      {
        "duration": 1885,
        "start_time": "2022-11-21T20:02:47.484Z"
      },
      {
        "duration": 2029,
        "start_time": "2022-11-21T20:03:02.409Z"
      },
      {
        "duration": 1859,
        "start_time": "2022-11-21T20:03:13.067Z"
      },
      {
        "duration": 2065,
        "start_time": "2022-11-21T20:03:22.219Z"
      },
      {
        "duration": 1787,
        "start_time": "2022-11-21T20:03:48.515Z"
      },
      {
        "duration": 1643,
        "start_time": "2022-11-21T20:04:04.763Z"
      },
      {
        "duration": 1980,
        "start_time": "2022-11-21T20:04:32.596Z"
      },
      {
        "duration": 1299,
        "start_time": "2022-11-21T20:22:18.966Z"
      },
      {
        "duration": 38,
        "start_time": "2022-11-21T20:22:20.267Z"
      },
      {
        "duration": 14,
        "start_time": "2022-11-21T20:22:20.306Z"
      },
      {
        "duration": 29,
        "start_time": "2022-11-21T20:22:20.321Z"
      },
      {
        "duration": 34,
        "start_time": "2022-11-21T20:22:20.353Z"
      },
      {
        "duration": 22,
        "start_time": "2022-11-21T20:22:20.389Z"
      },
      {
        "duration": 37,
        "start_time": "2022-11-21T20:22:20.412Z"
      },
      {
        "duration": 22,
        "start_time": "2022-11-21T20:22:20.451Z"
      },
      {
        "duration": 25,
        "start_time": "2022-11-21T20:22:20.475Z"
      },
      {
        "duration": 39,
        "start_time": "2022-11-21T20:22:20.502Z"
      },
      {
        "duration": 620,
        "start_time": "2022-11-21T20:22:20.543Z"
      },
      {
        "duration": 1826,
        "start_time": "2022-11-21T20:22:21.165Z"
      },
      {
        "duration": 430,
        "start_time": "2022-11-21T20:22:22.992Z"
      },
      {
        "duration": 20,
        "start_time": "2022-11-21T20:22:23.425Z"
      },
      {
        "duration": 14,
        "start_time": "2022-11-21T20:22:23.447Z"
      },
      {
        "duration": 33,
        "start_time": "2022-11-21T20:22:23.462Z"
      },
      {
        "duration": 7,
        "start_time": "2022-11-21T20:22:23.496Z"
      },
      {
        "duration": 4,
        "start_time": "2022-11-21T20:34:28.694Z"
      },
      {
        "duration": 11,
        "start_time": "2022-11-22T11:45:39.363Z"
      },
      {
        "duration": 7,
        "start_time": "2022-11-22T11:46:16.360Z"
      },
      {
        "duration": 7,
        "start_time": "2022-11-22T11:46:28.152Z"
      },
      {
        "duration": 13,
        "start_time": "2022-11-22T11:47:57.397Z"
      },
      {
        "duration": 11,
        "start_time": "2022-11-22T11:48:02.210Z"
      },
      {
        "duration": 47,
        "start_time": "2022-11-22T11:48:11.721Z"
      },
      {
        "duration": 1490,
        "start_time": "2022-11-22T11:48:29.302Z"
      },
      {
        "duration": 67,
        "start_time": "2022-11-22T11:48:30.793Z"
      },
      {
        "duration": 15,
        "start_time": "2022-11-22T11:48:30.861Z"
      },
      {
        "duration": 10,
        "start_time": "2022-11-22T11:48:30.878Z"
      },
      {
        "duration": 15,
        "start_time": "2022-11-22T11:48:30.889Z"
      },
      {
        "duration": 18,
        "start_time": "2022-11-22T11:48:30.905Z"
      },
      {
        "duration": 9,
        "start_time": "2022-11-22T11:48:30.925Z"
      },
      {
        "duration": 16,
        "start_time": "2022-11-22T11:48:30.936Z"
      },
      {
        "duration": 12,
        "start_time": "2022-11-22T11:48:30.953Z"
      },
      {
        "duration": 53,
        "start_time": "2022-11-22T11:48:30.967Z"
      },
      {
        "duration": 655,
        "start_time": "2022-11-22T11:48:31.022Z"
      },
      {
        "duration": 1930,
        "start_time": "2022-11-22T11:48:31.679Z"
      },
      {
        "duration": 1218,
        "start_time": "2022-11-22T11:48:33.611Z"
      },
      {
        "duration": 32,
        "start_time": "2022-11-22T11:48:34.830Z"
      },
      {
        "duration": 9,
        "start_time": "2022-11-22T11:48:34.864Z"
      },
      {
        "duration": 16,
        "start_time": "2022-11-22T11:48:34.874Z"
      },
      {
        "duration": 30,
        "start_time": "2022-11-22T11:48:34.893Z"
      },
      {
        "duration": 1364,
        "start_time": "2022-11-22T11:50:05.626Z"
      },
      {
        "duration": 30,
        "start_time": "2022-11-22T11:50:06.992Z"
      },
      {
        "duration": 13,
        "start_time": "2022-11-22T11:50:07.024Z"
      },
      {
        "duration": 32,
        "start_time": "2022-11-22T11:50:07.039Z"
      },
      {
        "duration": 23,
        "start_time": "2022-11-22T11:50:07.074Z"
      },
      {
        "duration": 10,
        "start_time": "2022-11-22T11:50:07.099Z"
      },
      {
        "duration": 11,
        "start_time": "2022-11-22T11:50:07.111Z"
      },
      {
        "duration": 9,
        "start_time": "2022-11-22T11:50:07.124Z"
      },
      {
        "duration": 11,
        "start_time": "2022-11-22T11:50:07.134Z"
      },
      {
        "duration": 71,
        "start_time": "2022-11-22T11:50:07.147Z"
      },
      {
        "duration": 634,
        "start_time": "2022-11-22T11:50:07.219Z"
      },
      {
        "duration": 1862,
        "start_time": "2022-11-22T11:50:07.855Z"
      },
      {
        "duration": 100915,
        "start_time": "2022-11-22T11:50:09.719Z"
      },
      {
        "duration": 26,
        "start_time": "2022-11-22T11:51:50.637Z"
      },
      {
        "duration": 8,
        "start_time": "2022-11-22T11:51:50.665Z"
      },
      {
        "duration": 10,
        "start_time": "2022-11-22T11:51:50.674Z"
      },
      {
        "duration": 12,
        "start_time": "2022-11-22T11:51:50.685Z"
      },
      {
        "duration": 12,
        "start_time": "2022-11-22T11:57:04.114Z"
      },
      {
        "duration": 8,
        "start_time": "2022-11-22T11:57:09.296Z"
      },
      {
        "duration": 9,
        "start_time": "2022-11-22T11:57:23.927Z"
      },
      {
        "duration": 8,
        "start_time": "2022-11-22T11:57:43.528Z"
      },
      {
        "duration": 9,
        "start_time": "2022-11-22T11:57:50.917Z"
      },
      {
        "duration": 12,
        "start_time": "2022-11-22T11:58:04.468Z"
      },
      {
        "duration": 8,
        "start_time": "2022-11-22T11:58:09.286Z"
      },
      {
        "duration": 11,
        "start_time": "2022-11-22T12:09:01.789Z"
      },
      {
        "duration": 102620,
        "start_time": "2022-11-22T12:09:12.509Z"
      },
      {
        "duration": 8,
        "start_time": "2022-11-22T12:12:02.835Z"
      },
      {
        "duration": 1275,
        "start_time": "2022-11-22T12:12:59.578Z"
      },
      {
        "duration": 29,
        "start_time": "2022-11-22T12:13:00.855Z"
      },
      {
        "duration": 17,
        "start_time": "2022-11-22T12:13:00.886Z"
      },
      {
        "duration": 20,
        "start_time": "2022-11-22T12:13:00.905Z"
      },
      {
        "duration": 14,
        "start_time": "2022-11-22T12:13:00.926Z"
      },
      {
        "duration": 33,
        "start_time": "2022-11-22T12:13:00.942Z"
      },
      {
        "duration": 18,
        "start_time": "2022-11-22T12:13:00.977Z"
      },
      {
        "duration": 51,
        "start_time": "2022-11-22T12:13:00.996Z"
      },
      {
        "duration": 27,
        "start_time": "2022-11-22T12:13:01.049Z"
      },
      {
        "duration": 41,
        "start_time": "2022-11-22T12:13:01.078Z"
      },
      {
        "duration": 634,
        "start_time": "2022-11-22T12:13:01.120Z"
      },
      {
        "duration": 1813,
        "start_time": "2022-11-22T12:13:01.756Z"
      },
      {
        "duration": 104104,
        "start_time": "2022-11-22T12:13:03.571Z"
      },
      {
        "duration": 23,
        "start_time": "2022-11-22T12:14:47.677Z"
      },
      {
        "duration": 30,
        "start_time": "2022-11-22T12:14:47.702Z"
      },
      {
        "duration": 22,
        "start_time": "2022-11-22T12:14:47.733Z"
      },
      {
        "duration": 25,
        "start_time": "2022-11-22T12:14:47.756Z"
      },
      {
        "duration": 6,
        "start_time": "2022-11-22T12:20:51.295Z"
      },
      {
        "duration": 3,
        "start_time": "2022-11-22T12:20:53.611Z"
      },
      {
        "duration": 1338,
        "start_time": "2022-11-22T12:21:48.817Z"
      },
      {
        "duration": 29,
        "start_time": "2022-11-22T12:21:50.157Z"
      },
      {
        "duration": 14,
        "start_time": "2022-11-22T12:21:50.187Z"
      },
      {
        "duration": 11,
        "start_time": "2022-11-22T12:21:50.203Z"
      },
      {
        "duration": 6,
        "start_time": "2022-11-22T12:21:50.215Z"
      },
      {
        "duration": 8,
        "start_time": "2022-11-22T12:21:50.222Z"
      },
      {
        "duration": 18,
        "start_time": "2022-11-22T12:21:50.233Z"
      },
      {
        "duration": 7,
        "start_time": "2022-11-22T12:21:50.253Z"
      },
      {
        "duration": 11,
        "start_time": "2022-11-22T12:21:50.262Z"
      },
      {
        "duration": 31,
        "start_time": "2022-11-22T12:21:50.275Z"
      },
      {
        "duration": 626,
        "start_time": "2022-11-22T12:21:50.308Z"
      },
      {
        "duration": 1921,
        "start_time": "2022-11-22T12:21:50.936Z"
      },
      {
        "duration": 97790,
        "start_time": "2022-11-22T12:21:52.859Z"
      },
      {
        "duration": 28,
        "start_time": "2022-11-22T12:23:30.651Z"
      },
      {
        "duration": 23,
        "start_time": "2022-11-22T12:23:30.681Z"
      },
      {
        "duration": 17,
        "start_time": "2022-11-22T12:23:30.705Z"
      },
      {
        "duration": 17,
        "start_time": "2022-11-22T12:23:30.727Z"
      },
      {
        "duration": 1218,
        "start_time": "2022-11-22T12:25:35.493Z"
      },
      {
        "duration": 31,
        "start_time": "2022-11-22T12:25:36.714Z"
      },
      {
        "duration": 14,
        "start_time": "2022-11-22T12:25:36.746Z"
      },
      {
        "duration": 10,
        "start_time": "2022-11-22T12:25:36.763Z"
      },
      {
        "duration": 7,
        "start_time": "2022-11-22T12:25:36.775Z"
      },
      {
        "duration": 10,
        "start_time": "2022-11-22T12:25:36.784Z"
      },
      {
        "duration": 12,
        "start_time": "2022-11-22T12:25:36.796Z"
      },
      {
        "duration": 8,
        "start_time": "2022-11-22T12:25:36.809Z"
      },
      {
        "duration": 8,
        "start_time": "2022-11-22T12:25:36.818Z"
      },
      {
        "duration": 37,
        "start_time": "2022-11-22T12:25:36.828Z"
      },
      {
        "duration": 553,
        "start_time": "2022-11-22T12:25:36.867Z"
      },
      {
        "duration": 1744,
        "start_time": "2022-11-22T12:25:37.425Z"
      },
      {
        "duration": 1295,
        "start_time": "2022-11-22T12:26:54.376Z"
      },
      {
        "duration": 33,
        "start_time": "2022-11-22T12:26:55.673Z"
      },
      {
        "duration": 18,
        "start_time": "2022-11-22T12:26:55.708Z"
      },
      {
        "duration": 24,
        "start_time": "2022-11-22T12:26:55.729Z"
      },
      {
        "duration": 24,
        "start_time": "2022-11-22T12:26:55.755Z"
      },
      {
        "duration": 11,
        "start_time": "2022-11-22T12:26:55.781Z"
      },
      {
        "duration": 16,
        "start_time": "2022-11-22T12:26:55.793Z"
      },
      {
        "duration": 35,
        "start_time": "2022-11-22T12:26:55.811Z"
      },
      {
        "duration": 19,
        "start_time": "2022-11-22T12:26:55.848Z"
      },
      {
        "duration": 68,
        "start_time": "2022-11-22T12:26:55.870Z"
      },
      {
        "duration": 600,
        "start_time": "2022-11-22T12:26:55.939Z"
      },
      {
        "duration": 1757,
        "start_time": "2022-11-22T12:26:56.540Z"
      },
      {
        "duration": 8,
        "start_time": "2022-11-22T12:26:58.299Z"
      },
      {
        "duration": 0,
        "start_time": "2022-11-22T12:26:58.309Z"
      },
      {
        "duration": 0,
        "start_time": "2022-11-22T12:26:58.310Z"
      },
      {
        "duration": 0,
        "start_time": "2022-11-22T12:26:58.311Z"
      },
      {
        "duration": 0,
        "start_time": "2022-11-22T12:26:58.312Z"
      },
      {
        "duration": 1252,
        "start_time": "2022-11-22T12:27:16.644Z"
      },
      {
        "duration": 30,
        "start_time": "2022-11-22T12:27:17.898Z"
      },
      {
        "duration": 13,
        "start_time": "2022-11-22T12:27:17.929Z"
      },
      {
        "duration": 9,
        "start_time": "2022-11-22T12:27:17.944Z"
      },
      {
        "duration": 3,
        "start_time": "2022-11-22T12:27:17.955Z"
      },
      {
        "duration": 6,
        "start_time": "2022-11-22T12:27:17.959Z"
      },
      {
        "duration": 7,
        "start_time": "2022-11-22T12:27:17.967Z"
      },
      {
        "duration": 5,
        "start_time": "2022-11-22T12:27:17.975Z"
      },
      {
        "duration": 5,
        "start_time": "2022-11-22T12:27:17.981Z"
      },
      {
        "duration": 52,
        "start_time": "2022-11-22T12:27:17.988Z"
      },
      {
        "duration": 602,
        "start_time": "2022-11-22T12:27:18.042Z"
      },
      {
        "duration": 1752,
        "start_time": "2022-11-22T12:27:18.645Z"
      },
      {
        "duration": 9,
        "start_time": "2022-11-22T12:27:20.399Z"
      },
      {
        "duration": 0,
        "start_time": "2022-11-22T12:27:20.409Z"
      },
      {
        "duration": 0,
        "start_time": "2022-11-22T12:27:20.410Z"
      },
      {
        "duration": 0,
        "start_time": "2022-11-22T12:27:20.411Z"
      },
      {
        "duration": 0,
        "start_time": "2022-11-22T12:27:20.412Z"
      },
      {
        "duration": 1317,
        "start_time": "2022-11-22T12:27:38.536Z"
      },
      {
        "duration": 31,
        "start_time": "2022-11-22T12:27:39.855Z"
      },
      {
        "duration": 16,
        "start_time": "2022-11-22T12:27:39.887Z"
      },
      {
        "duration": 12,
        "start_time": "2022-11-22T12:27:39.906Z"
      },
      {
        "duration": 7,
        "start_time": "2022-11-22T12:27:39.920Z"
      },
      {
        "duration": 10,
        "start_time": "2022-11-22T12:27:39.929Z"
      },
      {
        "duration": 13,
        "start_time": "2022-11-22T12:27:39.940Z"
      },
      {
        "duration": 7,
        "start_time": "2022-11-22T12:27:39.955Z"
      },
      {
        "duration": 11,
        "start_time": "2022-11-22T12:27:39.963Z"
      },
      {
        "duration": 36,
        "start_time": "2022-11-22T12:27:39.977Z"
      },
      {
        "duration": 656,
        "start_time": "2022-11-22T12:27:40.015Z"
      },
      {
        "duration": 1984,
        "start_time": "2022-11-22T12:27:40.673Z"
      },
      {
        "duration": 7,
        "start_time": "2022-11-22T12:27:42.659Z"
      },
      {
        "duration": 0,
        "start_time": "2022-11-22T12:27:42.668Z"
      },
      {
        "duration": 0,
        "start_time": "2022-11-22T12:27:42.669Z"
      },
      {
        "duration": 0,
        "start_time": "2022-11-22T12:27:42.670Z"
      },
      {
        "duration": 0,
        "start_time": "2022-11-22T12:27:42.671Z"
      },
      {
        "duration": 1358,
        "start_time": "2022-11-22T12:27:54.616Z"
      },
      {
        "duration": 34,
        "start_time": "2022-11-22T12:27:55.976Z"
      },
      {
        "duration": 18,
        "start_time": "2022-11-22T12:27:56.012Z"
      },
      {
        "duration": 17,
        "start_time": "2022-11-22T12:27:56.033Z"
      },
      {
        "duration": 11,
        "start_time": "2022-11-22T12:27:56.052Z"
      },
      {
        "duration": 8,
        "start_time": "2022-11-22T12:27:56.065Z"
      },
      {
        "duration": 19,
        "start_time": "2022-11-22T12:27:56.075Z"
      },
      {
        "duration": 9,
        "start_time": "2022-11-22T12:27:56.096Z"
      },
      {
        "duration": 17,
        "start_time": "2022-11-22T12:27:56.107Z"
      },
      {
        "duration": 36,
        "start_time": "2022-11-22T12:27:56.127Z"
      },
      {
        "duration": 672,
        "start_time": "2022-11-22T12:27:56.165Z"
      },
      {
        "duration": 1790,
        "start_time": "2022-11-22T12:27:56.839Z"
      },
      {
        "duration": 1264,
        "start_time": "2022-11-22T12:29:22.227Z"
      },
      {
        "duration": 31,
        "start_time": "2022-11-22T12:29:23.493Z"
      },
      {
        "duration": 13,
        "start_time": "2022-11-22T12:29:23.525Z"
      },
      {
        "duration": 10,
        "start_time": "2022-11-22T12:29:23.540Z"
      },
      {
        "duration": 14,
        "start_time": "2022-11-22T12:29:23.552Z"
      },
      {
        "duration": 15,
        "start_time": "2022-11-22T12:29:23.567Z"
      },
      {
        "duration": 20,
        "start_time": "2022-11-22T12:29:23.583Z"
      },
      {
        "duration": 8,
        "start_time": "2022-11-22T12:29:23.604Z"
      },
      {
        "duration": 17,
        "start_time": "2022-11-22T12:29:23.613Z"
      },
      {
        "duration": 43,
        "start_time": "2022-11-22T12:29:23.632Z"
      },
      {
        "duration": 581,
        "start_time": "2022-11-22T12:29:23.676Z"
      },
      {
        "duration": 1743,
        "start_time": "2022-11-22T12:29:24.258Z"
      },
      {
        "duration": 95150,
        "start_time": "2022-11-22T12:29:26.003Z"
      },
      {
        "duration": 24,
        "start_time": "2022-11-22T12:31:01.155Z"
      },
      {
        "duration": 35,
        "start_time": "2022-11-22T12:31:01.180Z"
      },
      {
        "duration": 34,
        "start_time": "2022-11-22T12:31:01.217Z"
      },
      {
        "duration": 64,
        "start_time": "2022-11-22T12:31:01.252Z"
      },
      {
        "duration": 4,
        "start_time": "2022-11-22T12:52:22.576Z"
      },
      {
        "duration": 1393,
        "start_time": "2022-11-22T12:52:26.320Z"
      },
      {
        "duration": 31,
        "start_time": "2022-11-22T12:52:27.715Z"
      },
      {
        "duration": 14,
        "start_time": "2022-11-22T12:52:27.748Z"
      },
      {
        "duration": 11,
        "start_time": "2022-11-22T12:52:27.764Z"
      },
      {
        "duration": 25,
        "start_time": "2022-11-22T12:52:27.777Z"
      },
      {
        "duration": 8,
        "start_time": "2022-11-22T12:52:27.804Z"
      },
      {
        "duration": 10,
        "start_time": "2022-11-22T12:52:27.814Z"
      },
      {
        "duration": 13,
        "start_time": "2022-11-22T12:52:27.826Z"
      },
      {
        "duration": 10,
        "start_time": "2022-11-22T12:52:27.841Z"
      },
      {
        "duration": 40,
        "start_time": "2022-11-22T12:52:27.853Z"
      },
      {
        "duration": 654,
        "start_time": "2022-11-22T12:52:27.894Z"
      },
      {
        "duration": 1931,
        "start_time": "2022-11-22T12:52:28.550Z"
      },
      {
        "duration": 98546,
        "start_time": "2022-11-22T12:52:30.483Z"
      },
      {
        "duration": 27,
        "start_time": "2022-11-22T12:54:09.031Z"
      },
      {
        "duration": 9,
        "start_time": "2022-11-22T12:54:09.060Z"
      },
      {
        "duration": 6,
        "start_time": "2022-11-22T12:54:09.071Z"
      },
      {
        "duration": 14,
        "start_time": "2022-11-22T12:54:09.078Z"
      },
      {
        "duration": 114,
        "start_time": "2022-11-22T12:54:36.024Z"
      },
      {
        "duration": 1343,
        "start_time": "2022-11-22T12:57:53.381Z"
      },
      {
        "duration": 31,
        "start_time": "2022-11-22T12:57:54.726Z"
      },
      {
        "duration": 15,
        "start_time": "2022-11-22T12:57:54.759Z"
      },
      {
        "duration": 11,
        "start_time": "2022-11-22T12:57:54.776Z"
      },
      {
        "duration": 4,
        "start_time": "2022-11-22T12:57:54.789Z"
      },
      {
        "duration": 7,
        "start_time": "2022-11-22T12:57:54.794Z"
      },
      {
        "duration": 9,
        "start_time": "2022-11-22T12:57:54.802Z"
      },
      {
        "duration": 7,
        "start_time": "2022-11-22T12:57:54.812Z"
      },
      {
        "duration": 5,
        "start_time": "2022-11-22T12:57:54.826Z"
      },
      {
        "duration": 38,
        "start_time": "2022-11-22T12:57:54.833Z"
      },
      {
        "duration": 698,
        "start_time": "2022-11-22T12:57:54.873Z"
      },
      {
        "duration": 1868,
        "start_time": "2022-11-22T12:57:55.573Z"
      },
      {
        "duration": 102847,
        "start_time": "2022-11-22T12:57:57.443Z"
      },
      {
        "duration": 1428,
        "start_time": "2022-11-22T13:07:45.094Z"
      },
      {
        "duration": 31,
        "start_time": "2022-11-22T13:07:46.524Z"
      },
      {
        "duration": 15,
        "start_time": "2022-11-22T13:07:46.557Z"
      },
      {
        "duration": 11,
        "start_time": "2022-11-22T13:07:46.574Z"
      },
      {
        "duration": 8,
        "start_time": "2022-11-22T13:07:46.587Z"
      },
      {
        "duration": 14,
        "start_time": "2022-11-22T13:07:46.596Z"
      },
      {
        "duration": 10,
        "start_time": "2022-11-22T13:07:46.611Z"
      },
      {
        "duration": 5,
        "start_time": "2022-11-22T13:07:46.623Z"
      },
      {
        "duration": 9,
        "start_time": "2022-11-22T13:07:46.630Z"
      },
      {
        "duration": 48,
        "start_time": "2022-11-22T13:07:46.641Z"
      },
      {
        "duration": 655,
        "start_time": "2022-11-22T13:07:46.691Z"
      },
      {
        "duration": 1922,
        "start_time": "2022-11-22T13:07:47.347Z"
      },
      {
        "duration": 102176,
        "start_time": "2022-11-22T13:07:49.271Z"
      },
      {
        "duration": 7,
        "start_time": "2022-11-22T13:09:31.449Z"
      },
      {
        "duration": 0,
        "start_time": "2022-11-22T13:09:31.457Z"
      },
      {
        "duration": 0,
        "start_time": "2022-11-22T13:09:31.458Z"
      },
      {
        "duration": 0,
        "start_time": "2022-11-22T13:09:31.459Z"
      },
      {
        "duration": 0,
        "start_time": "2022-11-22T13:09:31.461Z"
      },
      {
        "duration": 117,
        "start_time": "2022-11-22T13:11:33.824Z"
      },
      {
        "duration": 1384,
        "start_time": "2022-11-22T13:12:00.693Z"
      },
      {
        "duration": 33,
        "start_time": "2022-11-22T13:12:02.080Z"
      },
      {
        "duration": 14,
        "start_time": "2022-11-22T13:12:02.115Z"
      },
      {
        "duration": 11,
        "start_time": "2022-11-22T13:12:02.131Z"
      },
      {
        "duration": 29,
        "start_time": "2022-11-22T13:12:02.144Z"
      },
      {
        "duration": 16,
        "start_time": "2022-11-22T13:12:02.175Z"
      },
      {
        "duration": 10,
        "start_time": "2022-11-22T13:12:02.193Z"
      },
      {
        "duration": 23,
        "start_time": "2022-11-22T13:12:02.205Z"
      },
      {
        "duration": 16,
        "start_time": "2022-11-22T13:12:02.230Z"
      },
      {
        "duration": 47,
        "start_time": "2022-11-22T13:12:02.248Z"
      },
      {
        "duration": 649,
        "start_time": "2022-11-22T13:12:02.296Z"
      },
      {
        "duration": 1863,
        "start_time": "2022-11-22T13:12:02.946Z"
      },
      {
        "duration": 162,
        "start_time": "2022-11-22T13:12:04.812Z"
      },
      {
        "duration": 0,
        "start_time": "2022-11-22T13:12:04.977Z"
      },
      {
        "duration": 0,
        "start_time": "2022-11-22T13:12:04.979Z"
      },
      {
        "duration": 0,
        "start_time": "2022-11-22T13:12:04.981Z"
      },
      {
        "duration": 0,
        "start_time": "2022-11-22T13:12:04.983Z"
      },
      {
        "duration": 74,
        "start_time": "2022-11-22T13:12:46.998Z"
      },
      {
        "duration": 1323,
        "start_time": "2022-11-22T13:13:39.134Z"
      },
      {
        "duration": 30,
        "start_time": "2022-11-22T13:13:40.459Z"
      },
      {
        "duration": 13,
        "start_time": "2022-11-22T13:13:40.491Z"
      },
      {
        "duration": 11,
        "start_time": "2022-11-22T13:13:40.506Z"
      },
      {
        "duration": 15,
        "start_time": "2022-11-22T13:13:40.518Z"
      },
      {
        "duration": 24,
        "start_time": "2022-11-22T13:13:40.535Z"
      },
      {
        "duration": 12,
        "start_time": "2022-11-22T13:13:40.561Z"
      },
      {
        "duration": 17,
        "start_time": "2022-11-22T13:13:40.574Z"
      },
      {
        "duration": 15,
        "start_time": "2022-11-22T13:13:40.592Z"
      },
      {
        "duration": 36,
        "start_time": "2022-11-22T13:13:40.610Z"
      },
      {
        "duration": 628,
        "start_time": "2022-11-22T13:13:40.647Z"
      },
      {
        "duration": 1932,
        "start_time": "2022-11-22T13:13:41.277Z"
      },
      {
        "duration": 103,
        "start_time": "2022-11-22T13:13:43.211Z"
      },
      {
        "duration": 0,
        "start_time": "2022-11-22T13:13:43.316Z"
      },
      {
        "duration": 0,
        "start_time": "2022-11-22T13:13:43.317Z"
      },
      {
        "duration": 0,
        "start_time": "2022-11-22T13:13:43.319Z"
      },
      {
        "duration": 0,
        "start_time": "2022-11-22T13:13:43.326Z"
      },
      {
        "duration": 1313,
        "start_time": "2022-11-22T13:14:02.146Z"
      },
      {
        "duration": 31,
        "start_time": "2022-11-22T13:14:03.460Z"
      },
      {
        "duration": 14,
        "start_time": "2022-11-22T13:14:03.493Z"
      },
      {
        "duration": 15,
        "start_time": "2022-11-22T13:14:03.509Z"
      },
      {
        "duration": 6,
        "start_time": "2022-11-22T13:14:03.526Z"
      },
      {
        "duration": 8,
        "start_time": "2022-11-22T13:14:03.534Z"
      },
      {
        "duration": 10,
        "start_time": "2022-11-22T13:14:03.544Z"
      },
      {
        "duration": 11,
        "start_time": "2022-11-22T13:14:03.556Z"
      },
      {
        "duration": 8,
        "start_time": "2022-11-22T13:14:03.570Z"
      },
      {
        "duration": 53,
        "start_time": "2022-11-22T13:14:03.581Z"
      },
      {
        "duration": 639,
        "start_time": "2022-11-22T13:14:03.636Z"
      },
      {
        "duration": 2036,
        "start_time": "2022-11-22T13:14:04.277Z"
      },
      {
        "duration": 1334,
        "start_time": "2022-11-22T13:17:21.867Z"
      },
      {
        "duration": 31,
        "start_time": "2022-11-22T13:17:23.202Z"
      },
      {
        "duration": 15,
        "start_time": "2022-11-22T13:17:23.234Z"
      },
      {
        "duration": 20,
        "start_time": "2022-11-22T13:17:23.250Z"
      },
      {
        "duration": 7,
        "start_time": "2022-11-22T13:17:23.271Z"
      },
      {
        "duration": 9,
        "start_time": "2022-11-22T13:17:23.280Z"
      },
      {
        "duration": 11,
        "start_time": "2022-11-22T13:17:23.290Z"
      },
      {
        "duration": 7,
        "start_time": "2022-11-22T13:17:23.303Z"
      },
      {
        "duration": 6,
        "start_time": "2022-11-22T13:17:23.311Z"
      },
      {
        "duration": 30,
        "start_time": "2022-11-22T13:17:23.327Z"
      },
      {
        "duration": 622,
        "start_time": "2022-11-22T13:17:23.359Z"
      },
      {
        "duration": 1874,
        "start_time": "2022-11-22T13:17:23.982Z"
      },
      {
        "duration": 100,
        "start_time": "2022-11-22T13:17:25.859Z"
      },
      {
        "duration": 0,
        "start_time": "2022-11-22T13:17:25.961Z"
      },
      {
        "duration": 0,
        "start_time": "2022-11-22T13:17:25.962Z"
      },
      {
        "duration": 0,
        "start_time": "2022-11-22T13:17:25.964Z"
      },
      {
        "duration": 0,
        "start_time": "2022-11-22T13:17:25.965Z"
      },
      {
        "duration": 12,
        "start_time": "2022-11-22T13:17:47.766Z"
      },
      {
        "duration": 14,
        "start_time": "2022-11-22T13:18:10.181Z"
      },
      {
        "duration": 13,
        "start_time": "2022-11-22T13:18:13.086Z"
      },
      {
        "duration": 1378,
        "start_time": "2022-11-22T13:18:51.189Z"
      },
      {
        "duration": 33,
        "start_time": "2022-11-22T13:18:52.569Z"
      },
      {
        "duration": 21,
        "start_time": "2022-11-22T13:18:52.604Z"
      },
      {
        "duration": 18,
        "start_time": "2022-11-22T13:18:52.628Z"
      },
      {
        "duration": 6,
        "start_time": "2022-11-22T13:18:52.648Z"
      },
      {
        "duration": 7,
        "start_time": "2022-11-22T13:18:52.656Z"
      },
      {
        "duration": 12,
        "start_time": "2022-11-22T13:18:52.665Z"
      },
      {
        "duration": 11,
        "start_time": "2022-11-22T13:18:52.679Z"
      },
      {
        "duration": 7,
        "start_time": "2022-11-22T13:18:52.692Z"
      },
      {
        "duration": 34,
        "start_time": "2022-11-22T13:18:52.726Z"
      },
      {
        "duration": 722,
        "start_time": "2022-11-22T13:18:52.762Z"
      },
      {
        "duration": 1900,
        "start_time": "2022-11-22T13:18:53.485Z"
      },
      {
        "duration": 44,
        "start_time": "2022-11-22T13:24:33.082Z"
      },
      {
        "duration": 104,
        "start_time": "2022-11-22T13:24:33.128Z"
      },
      {
        "duration": 0,
        "start_time": "2022-11-22T13:24:33.234Z"
      },
      {
        "duration": 0,
        "start_time": "2022-11-22T13:24:33.236Z"
      },
      {
        "duration": 0,
        "start_time": "2022-11-22T13:24:33.239Z"
      },
      {
        "duration": 1325,
        "start_time": "2022-11-22T13:57:09.066Z"
      },
      {
        "duration": 32,
        "start_time": "2022-11-22T13:57:10.393Z"
      },
      {
        "duration": 20,
        "start_time": "2022-11-22T13:57:10.426Z"
      },
      {
        "duration": 14,
        "start_time": "2022-11-22T13:57:10.449Z"
      },
      {
        "duration": 11,
        "start_time": "2022-11-22T13:57:10.466Z"
      },
      {
        "duration": 8,
        "start_time": "2022-11-22T13:57:10.479Z"
      },
      {
        "duration": 16,
        "start_time": "2022-11-22T13:57:10.489Z"
      },
      {
        "duration": 23,
        "start_time": "2022-11-22T13:57:10.507Z"
      },
      {
        "duration": 16,
        "start_time": "2022-11-22T13:57:10.532Z"
      },
      {
        "duration": 61,
        "start_time": "2022-11-22T13:57:10.554Z"
      },
      {
        "duration": 688,
        "start_time": "2022-11-22T13:57:10.617Z"
      },
      {
        "duration": 1938,
        "start_time": "2022-11-22T13:57:11.307Z"
      },
      {
        "duration": 101771,
        "start_time": "2022-11-22T13:57:13.247Z"
      },
      {
        "duration": 41,
        "start_time": "2022-11-22T13:58:55.025Z"
      },
      {
        "duration": 13,
        "start_time": "2022-11-22T13:58:55.068Z"
      },
      {
        "duration": 17,
        "start_time": "2022-11-22T13:58:55.083Z"
      },
      {
        "duration": 31,
        "start_time": "2022-11-22T13:58:55.102Z"
      },
      {
        "duration": 99,
        "start_time": "2022-11-22T15:58:01.348Z"
      },
      {
        "duration": 1309,
        "start_time": "2022-11-22T15:58:05.745Z"
      },
      {
        "duration": 30,
        "start_time": "2022-11-22T15:58:07.056Z"
      },
      {
        "duration": 13,
        "start_time": "2022-11-22T15:58:07.088Z"
      },
      {
        "duration": 17,
        "start_time": "2022-11-22T15:58:07.103Z"
      },
      {
        "duration": 8,
        "start_time": "2022-11-22T15:58:07.121Z"
      },
      {
        "duration": 6,
        "start_time": "2022-11-22T15:58:07.130Z"
      },
      {
        "duration": 8,
        "start_time": "2022-11-22T15:58:07.137Z"
      },
      {
        "duration": 109,
        "start_time": "2022-11-22T15:58:07.146Z"
      },
      {
        "duration": 0,
        "start_time": "2022-11-22T15:58:07.256Z"
      },
      {
        "duration": 0,
        "start_time": "2022-11-22T15:58:07.258Z"
      },
      {
        "duration": 0,
        "start_time": "2022-11-22T15:58:07.259Z"
      },
      {
        "duration": 0,
        "start_time": "2022-11-22T15:58:07.260Z"
      },
      {
        "duration": 0,
        "start_time": "2022-11-22T15:58:07.261Z"
      },
      {
        "duration": 0,
        "start_time": "2022-11-22T15:58:07.261Z"
      },
      {
        "duration": 0,
        "start_time": "2022-11-22T15:58:07.263Z"
      },
      {
        "duration": 0,
        "start_time": "2022-11-22T15:58:07.264Z"
      },
      {
        "duration": 0,
        "start_time": "2022-11-22T15:58:07.265Z"
      },
      {
        "duration": 5,
        "start_time": "2022-11-22T15:58:22.511Z"
      },
      {
        "duration": 3,
        "start_time": "2022-11-22T15:58:25.873Z"
      },
      {
        "duration": 14,
        "start_time": "2022-11-22T15:59:20.697Z"
      },
      {
        "duration": 6,
        "start_time": "2022-11-22T15:59:21.203Z"
      },
      {
        "duration": 13,
        "start_time": "2022-11-22T15:59:40.251Z"
      },
      {
        "duration": 1323,
        "start_time": "2022-11-22T15:59:47.514Z"
      },
      {
        "duration": 30,
        "start_time": "2022-11-22T15:59:48.839Z"
      },
      {
        "duration": 14,
        "start_time": "2022-11-22T15:59:48.870Z"
      },
      {
        "duration": 11,
        "start_time": "2022-11-22T15:59:48.886Z"
      },
      {
        "duration": 11,
        "start_time": "2022-11-22T15:59:48.898Z"
      },
      {
        "duration": 6,
        "start_time": "2022-11-22T15:59:48.910Z"
      },
      {
        "duration": 102,
        "start_time": "2022-11-22T15:59:48.917Z"
      },
      {
        "duration": 0,
        "start_time": "2022-11-22T15:59:49.022Z"
      },
      {
        "duration": 0,
        "start_time": "2022-11-22T15:59:49.027Z"
      },
      {
        "duration": 0,
        "start_time": "2022-11-22T15:59:49.028Z"
      },
      {
        "duration": 0,
        "start_time": "2022-11-22T15:59:49.030Z"
      },
      {
        "duration": 0,
        "start_time": "2022-11-22T15:59:49.031Z"
      },
      {
        "duration": 0,
        "start_time": "2022-11-22T15:59:49.033Z"
      },
      {
        "duration": 1,
        "start_time": "2022-11-22T15:59:49.035Z"
      },
      {
        "duration": 0,
        "start_time": "2022-11-22T15:59:49.037Z"
      },
      {
        "duration": 0,
        "start_time": "2022-11-22T15:59:49.038Z"
      },
      {
        "duration": 0,
        "start_time": "2022-11-22T15:59:49.039Z"
      },
      {
        "duration": 9,
        "start_time": "2022-11-22T16:00:19.081Z"
      },
      {
        "duration": 9,
        "start_time": "2022-11-22T16:00:23.834Z"
      },
      {
        "duration": 9,
        "start_time": "2022-11-22T16:00:36.241Z"
      },
      {
        "duration": 32,
        "start_time": "2022-11-22T16:00:42.922Z"
      },
      {
        "duration": 6,
        "start_time": "2022-11-22T16:01:08.281Z"
      },
      {
        "duration": 20,
        "start_time": "2022-11-22T16:01:44.752Z"
      },
      {
        "duration": 13,
        "start_time": "2022-11-22T16:01:46.273Z"
      },
      {
        "duration": 1284,
        "start_time": "2022-11-22T16:01:51.966Z"
      },
      {
        "duration": 30,
        "start_time": "2022-11-22T16:01:53.252Z"
      },
      {
        "duration": 15,
        "start_time": "2022-11-22T16:01:53.286Z"
      },
      {
        "duration": 10,
        "start_time": "2022-11-22T16:01:53.302Z"
      },
      {
        "duration": 12,
        "start_time": "2022-11-22T16:01:53.314Z"
      },
      {
        "duration": 10,
        "start_time": "2022-11-22T16:01:53.327Z"
      },
      {
        "duration": 18,
        "start_time": "2022-11-22T16:01:53.338Z"
      },
      {
        "duration": 118,
        "start_time": "2022-11-22T16:01:53.358Z"
      },
      {
        "duration": 0,
        "start_time": "2022-11-22T16:01:53.478Z"
      },
      {
        "duration": 0,
        "start_time": "2022-11-22T16:01:53.479Z"
      },
      {
        "duration": 0,
        "start_time": "2022-11-22T16:01:53.480Z"
      },
      {
        "duration": 0,
        "start_time": "2022-11-22T16:01:53.481Z"
      },
      {
        "duration": 0,
        "start_time": "2022-11-22T16:01:53.482Z"
      },
      {
        "duration": 0,
        "start_time": "2022-11-22T16:01:53.483Z"
      },
      {
        "duration": 0,
        "start_time": "2022-11-22T16:01:53.484Z"
      },
      {
        "duration": 0,
        "start_time": "2022-11-22T16:01:53.485Z"
      },
      {
        "duration": 0,
        "start_time": "2022-11-22T16:01:53.486Z"
      },
      {
        "duration": 9,
        "start_time": "2022-11-22T16:02:13.666Z"
      },
      {
        "duration": 20,
        "start_time": "2022-11-22T16:02:39.351Z"
      },
      {
        "duration": 12,
        "start_time": "2022-11-22T16:02:44.908Z"
      },
      {
        "duration": 9,
        "start_time": "2022-11-22T16:02:58.435Z"
      },
      {
        "duration": 20,
        "start_time": "2022-11-22T16:03:07.572Z"
      },
      {
        "duration": 13,
        "start_time": "2022-11-22T16:03:16.139Z"
      },
      {
        "duration": 21,
        "start_time": "2022-11-22T16:06:47.243Z"
      },
      {
        "duration": 12,
        "start_time": "2022-11-22T16:06:53.242Z"
      },
      {
        "duration": 1284,
        "start_time": "2022-11-22T16:07:01.520Z"
      },
      {
        "duration": 45,
        "start_time": "2022-11-22T16:07:02.806Z"
      },
      {
        "duration": 14,
        "start_time": "2022-11-22T16:07:02.853Z"
      },
      {
        "duration": 10,
        "start_time": "2022-11-22T16:07:02.869Z"
      },
      {
        "duration": 9,
        "start_time": "2022-11-22T16:07:02.880Z"
      },
      {
        "duration": 9,
        "start_time": "2022-11-22T16:07:02.890Z"
      },
      {
        "duration": 16,
        "start_time": "2022-11-22T16:07:02.900Z"
      },
      {
        "duration": 11,
        "start_time": "2022-11-22T16:07:02.917Z"
      },
      {
        "duration": 4,
        "start_time": "2022-11-22T16:07:02.929Z"
      },
      {
        "duration": 42,
        "start_time": "2022-11-22T16:07:02.935Z"
      },
      {
        "duration": 577,
        "start_time": "2022-11-22T16:07:02.979Z"
      },
      {
        "duration": 1899,
        "start_time": "2022-11-22T16:07:03.558Z"
      },
      {
        "duration": 1269,
        "start_time": "2022-11-22T16:08:39.944Z"
      },
      {
        "duration": 30,
        "start_time": "2022-11-22T16:08:41.215Z"
      },
      {
        "duration": 13,
        "start_time": "2022-11-22T16:08:41.246Z"
      },
      {
        "duration": 9,
        "start_time": "2022-11-22T16:08:41.261Z"
      },
      {
        "duration": 2,
        "start_time": "2022-11-22T16:08:41.272Z"
      },
      {
        "duration": 5,
        "start_time": "2022-11-22T16:08:41.276Z"
      },
      {
        "duration": 14,
        "start_time": "2022-11-22T16:08:41.283Z"
      },
      {
        "duration": 121,
        "start_time": "2022-11-22T16:08:41.298Z"
      },
      {
        "duration": 0,
        "start_time": "2022-11-22T16:08:41.421Z"
      },
      {
        "duration": 0,
        "start_time": "2022-11-22T16:08:41.422Z"
      },
      {
        "duration": 0,
        "start_time": "2022-11-22T16:08:41.423Z"
      },
      {
        "duration": 0,
        "start_time": "2022-11-22T16:08:41.426Z"
      },
      {
        "duration": 0,
        "start_time": "2022-11-22T16:08:41.427Z"
      },
      {
        "duration": 0,
        "start_time": "2022-11-22T16:08:41.427Z"
      },
      {
        "duration": 0,
        "start_time": "2022-11-22T16:08:41.428Z"
      },
      {
        "duration": 0,
        "start_time": "2022-11-22T16:08:41.429Z"
      },
      {
        "duration": 0,
        "start_time": "2022-11-22T16:08:41.430Z"
      },
      {
        "duration": 14,
        "start_time": "2022-11-22T16:08:53.281Z"
      },
      {
        "duration": 1276,
        "start_time": "2022-11-22T16:09:07.041Z"
      },
      {
        "duration": 30,
        "start_time": "2022-11-22T16:09:08.319Z"
      },
      {
        "duration": 13,
        "start_time": "2022-11-22T16:09:08.350Z"
      },
      {
        "duration": 10,
        "start_time": "2022-11-22T16:09:08.365Z"
      },
      {
        "duration": 11,
        "start_time": "2022-11-22T16:09:08.376Z"
      },
      {
        "duration": 16,
        "start_time": "2022-11-22T16:09:08.388Z"
      },
      {
        "duration": 15,
        "start_time": "2022-11-22T16:09:08.405Z"
      },
      {
        "duration": 12,
        "start_time": "2022-11-22T16:09:08.422Z"
      },
      {
        "duration": 4,
        "start_time": "2022-11-22T16:09:08.436Z"
      },
      {
        "duration": 31,
        "start_time": "2022-11-22T16:09:08.443Z"
      },
      {
        "duration": 620,
        "start_time": "2022-11-22T16:09:08.475Z"
      },
      {
        "duration": 2041,
        "start_time": "2022-11-22T16:09:09.096Z"
      },
      {
        "duration": 98975,
        "start_time": "2022-11-22T16:09:11.138Z"
      },
      {
        "duration": 42,
        "start_time": "2022-11-22T16:10:50.115Z"
      },
      {
        "duration": 15,
        "start_time": "2022-11-22T16:10:50.159Z"
      },
      {
        "duration": 6,
        "start_time": "2022-11-22T16:10:50.176Z"
      },
      {
        "duration": 10,
        "start_time": "2022-11-22T16:10:50.184Z"
      },
      {
        "duration": 9,
        "start_time": "2022-11-22T16:17:33.366Z"
      },
      {
        "duration": 9,
        "start_time": "2022-11-22T16:18:06.742Z"
      },
      {
        "duration": 5,
        "start_time": "2022-11-22T16:22:01.084Z"
      },
      {
        "duration": 115,
        "start_time": "2022-11-22T16:22:09.770Z"
      },
      {
        "duration": 1544,
        "start_time": "2022-11-22T16:22:28.841Z"
      },
      {
        "duration": 31,
        "start_time": "2022-11-22T16:22:30.387Z"
      },
      {
        "duration": 16,
        "start_time": "2022-11-22T16:22:30.421Z"
      },
      {
        "duration": 58,
        "start_time": "2022-11-22T16:22:30.439Z"
      },
      {
        "duration": 75,
        "start_time": "2022-11-22T16:22:30.498Z"
      },
      {
        "duration": 27,
        "start_time": "2022-11-22T16:22:30.575Z"
      },
      {
        "duration": 32,
        "start_time": "2022-11-22T16:22:30.605Z"
      },
      {
        "duration": 144,
        "start_time": "2022-11-22T16:22:30.639Z"
      },
      {
        "duration": 0,
        "start_time": "2022-11-22T16:22:30.786Z"
      },
      {
        "duration": 0,
        "start_time": "2022-11-22T16:22:30.788Z"
      },
      {
        "duration": 0,
        "start_time": "2022-11-22T16:22:30.789Z"
      },
      {
        "duration": 0,
        "start_time": "2022-11-22T16:22:30.791Z"
      },
      {
        "duration": 0,
        "start_time": "2022-11-22T16:22:30.797Z"
      },
      {
        "duration": 0,
        "start_time": "2022-11-22T16:22:30.798Z"
      },
      {
        "duration": 0,
        "start_time": "2022-11-22T16:22:30.798Z"
      },
      {
        "duration": 0,
        "start_time": "2022-11-22T16:22:30.799Z"
      },
      {
        "duration": 0,
        "start_time": "2022-11-22T16:22:30.801Z"
      },
      {
        "duration": 7,
        "start_time": "2022-11-22T16:22:54.467Z"
      },
      {
        "duration": 7,
        "start_time": "2022-11-22T16:23:26.031Z"
      },
      {
        "duration": 1356,
        "start_time": "2022-11-22T16:23:39.602Z"
      },
      {
        "duration": 30,
        "start_time": "2022-11-22T16:23:40.960Z"
      },
      {
        "duration": 14,
        "start_time": "2022-11-22T16:23:40.992Z"
      },
      {
        "duration": 11,
        "start_time": "2022-11-22T16:23:41.008Z"
      },
      {
        "duration": 6,
        "start_time": "2022-11-22T16:23:41.021Z"
      },
      {
        "duration": 3,
        "start_time": "2022-11-22T16:23:41.029Z"
      },
      {
        "duration": 11,
        "start_time": "2022-11-22T16:23:41.034Z"
      },
      {
        "duration": 8,
        "start_time": "2022-11-22T16:23:41.046Z"
      },
      {
        "duration": 6,
        "start_time": "2022-11-22T16:23:41.055Z"
      },
      {
        "duration": 32,
        "start_time": "2022-11-22T16:23:41.063Z"
      },
      {
        "duration": 662,
        "start_time": "2022-11-22T16:23:41.097Z"
      },
      {
        "duration": 1929,
        "start_time": "2022-11-22T16:23:41.760Z"
      },
      {
        "duration": 103077,
        "start_time": "2022-11-22T16:23:43.690Z"
      },
      {
        "duration": 37,
        "start_time": "2022-11-22T16:25:26.769Z"
      },
      {
        "duration": 26,
        "start_time": "2022-11-22T16:25:26.808Z"
      },
      {
        "duration": 7,
        "start_time": "2022-11-22T16:25:26.836Z"
      },
      {
        "duration": 9,
        "start_time": "2022-11-22T16:25:26.845Z"
      },
      {
        "duration": 9,
        "start_time": "2022-11-22T16:52:29.494Z"
      },
      {
        "duration": 6,
        "start_time": "2022-11-22T16:52:54.797Z"
      },
      {
        "duration": 5,
        "start_time": "2022-11-22T16:52:58.035Z"
      },
      {
        "duration": 9,
        "start_time": "2022-11-22T16:53:06.115Z"
      },
      {
        "duration": 5,
        "start_time": "2022-11-22T16:53:23.153Z"
      },
      {
        "duration": 110,
        "start_time": "2022-11-22T16:53:50.521Z"
      },
      {
        "duration": 6,
        "start_time": "2022-11-22T16:55:52.276Z"
      },
      {
        "duration": 23,
        "start_time": "2022-11-22T16:57:44.728Z"
      },
      {
        "duration": 25,
        "start_time": "2022-11-22T16:58:08.169Z"
      },
      {
        "duration": 12,
        "start_time": "2022-11-22T16:58:24.051Z"
      },
      {
        "duration": 1327,
        "start_time": "2022-11-22T17:16:01.953Z"
      },
      {
        "duration": 31,
        "start_time": "2022-11-22T17:16:03.282Z"
      },
      {
        "duration": 14,
        "start_time": "2022-11-22T17:16:03.315Z"
      },
      {
        "duration": 23,
        "start_time": "2022-11-22T17:16:03.332Z"
      },
      {
        "duration": 28,
        "start_time": "2022-11-22T17:16:03.357Z"
      },
      {
        "duration": 17,
        "start_time": "2022-11-22T17:16:03.388Z"
      },
      {
        "duration": 25,
        "start_time": "2022-11-22T17:16:03.407Z"
      },
      {
        "duration": 14,
        "start_time": "2022-11-22T17:16:03.434Z"
      },
      {
        "duration": 38,
        "start_time": "2022-11-22T17:16:03.450Z"
      },
      {
        "duration": 60,
        "start_time": "2022-11-22T17:16:03.490Z"
      },
      {
        "duration": 669,
        "start_time": "2022-11-22T17:16:03.552Z"
      },
      {
        "duration": 2163,
        "start_time": "2022-11-22T17:16:04.223Z"
      },
      {
        "duration": 1378,
        "start_time": "2022-11-22T17:16:59.514Z"
      },
      {
        "duration": 31,
        "start_time": "2022-11-22T17:17:00.896Z"
      },
      {
        "duration": 22,
        "start_time": "2022-11-22T17:17:00.929Z"
      },
      {
        "duration": 16,
        "start_time": "2022-11-22T17:17:00.954Z"
      },
      {
        "duration": 23,
        "start_time": "2022-11-22T17:17:00.971Z"
      },
      {
        "duration": 25,
        "start_time": "2022-11-22T17:17:00.996Z"
      },
      {
        "duration": 25,
        "start_time": "2022-11-22T17:17:01.023Z"
      },
      {
        "duration": 14,
        "start_time": "2022-11-22T17:17:01.050Z"
      },
      {
        "duration": 26,
        "start_time": "2022-11-22T17:17:01.066Z"
      },
      {
        "duration": 69,
        "start_time": "2022-11-22T17:17:01.095Z"
      },
      {
        "duration": 712,
        "start_time": "2022-11-22T17:17:01.166Z"
      },
      {
        "duration": 2057,
        "start_time": "2022-11-22T17:17:01.880Z"
      },
      {
        "duration": 101104,
        "start_time": "2022-11-22T17:17:03.939Z"
      },
      {
        "duration": 39,
        "start_time": "2022-11-22T17:18:45.044Z"
      },
      {
        "duration": 201,
        "start_time": "2022-11-22T17:18:45.085Z"
      },
      {
        "duration": 18,
        "start_time": "2022-11-22T17:18:45.287Z"
      },
      {
        "duration": 19,
        "start_time": "2022-11-22T17:18:45.307Z"
      },
      {
        "duration": 4,
        "start_time": "2022-11-22T17:18:45.328Z"
      },
      {
        "duration": 188,
        "start_time": "2022-11-22T17:19:29.974Z"
      },
      {
        "duration": 237,
        "start_time": "2022-11-22T17:19:45.753Z"
      },
      {
        "duration": 221,
        "start_time": "2022-11-22T17:20:30.359Z"
      },
      {
        "duration": 224,
        "start_time": "2022-11-22T17:21:17.698Z"
      },
      {
        "duration": 222,
        "start_time": "2022-11-22T17:21:25.918Z"
      },
      {
        "duration": 18,
        "start_time": "2022-11-22T17:21:34.748Z"
      },
      {
        "duration": 8,
        "start_time": "2022-11-22T17:24:30.137Z"
      },
      {
        "duration": 6,
        "start_time": "2022-11-22T17:24:34.748Z"
      },
      {
        "duration": 1352,
        "start_time": "2022-11-22T17:24:38.736Z"
      },
      {
        "duration": 31,
        "start_time": "2022-11-22T17:24:40.089Z"
      },
      {
        "duration": 15,
        "start_time": "2022-11-22T17:24:40.121Z"
      },
      {
        "duration": 54,
        "start_time": "2022-11-22T17:24:40.138Z"
      },
      {
        "duration": 37,
        "start_time": "2022-11-22T17:24:40.194Z"
      },
      {
        "duration": 40,
        "start_time": "2022-11-22T17:24:40.232Z"
      },
      {
        "duration": 40,
        "start_time": "2022-11-22T17:24:40.274Z"
      },
      {
        "duration": 23,
        "start_time": "2022-11-22T17:24:40.315Z"
      },
      {
        "duration": 21,
        "start_time": "2022-11-22T17:24:40.340Z"
      },
      {
        "duration": 43,
        "start_time": "2022-11-22T17:24:40.364Z"
      },
      {
        "duration": 620,
        "start_time": "2022-11-22T17:24:40.408Z"
      },
      {
        "duration": 2063,
        "start_time": "2022-11-22T17:24:41.030Z"
      },
      {
        "duration": 99467,
        "start_time": "2022-11-22T17:24:43.095Z"
      },
      {
        "duration": 37,
        "start_time": "2022-11-22T17:26:22.563Z"
      },
      {
        "duration": 234,
        "start_time": "2022-11-22T17:26:22.602Z"
      },
      {
        "duration": 18,
        "start_time": "2022-11-22T17:26:22.838Z"
      },
      {
        "duration": 16,
        "start_time": "2022-11-22T17:26:22.857Z"
      },
      {
        "duration": 9,
        "start_time": "2022-11-22T17:26:22.875Z"
      },
      {
        "duration": 256,
        "start_time": "2022-11-22T17:37:42.535Z"
      },
      {
        "duration": 1335,
        "start_time": "2022-11-22T18:37:51.196Z"
      },
      {
        "duration": 30,
        "start_time": "2022-11-22T18:37:52.535Z"
      },
      {
        "duration": 13,
        "start_time": "2022-11-22T18:37:52.567Z"
      },
      {
        "duration": 11,
        "start_time": "2022-11-22T18:37:52.581Z"
      },
      {
        "duration": 9,
        "start_time": "2022-11-22T18:37:52.594Z"
      },
      {
        "duration": 9,
        "start_time": "2022-11-22T18:37:52.604Z"
      },
      {
        "duration": 14,
        "start_time": "2022-11-22T18:37:52.615Z"
      },
      {
        "duration": 7,
        "start_time": "2022-11-22T18:37:52.631Z"
      },
      {
        "duration": 9,
        "start_time": "2022-11-22T18:37:52.640Z"
      },
      {
        "duration": 35,
        "start_time": "2022-11-22T18:37:52.650Z"
      },
      {
        "duration": 631,
        "start_time": "2022-11-22T18:37:52.686Z"
      },
      {
        "duration": 1923,
        "start_time": "2022-11-22T18:37:53.318Z"
      },
      {
        "duration": 97940,
        "start_time": "2022-11-22T18:37:55.243Z"
      },
      {
        "duration": 50,
        "start_time": "2022-11-22T18:39:33.185Z"
      },
      {
        "duration": 249,
        "start_time": "2022-11-22T18:39:33.236Z"
      },
      {
        "duration": 20,
        "start_time": "2022-11-22T18:39:33.487Z"
      },
      {
        "duration": 19,
        "start_time": "2022-11-22T18:39:33.508Z"
      },
      {
        "duration": 4,
        "start_time": "2022-11-22T18:39:33.528Z"
      },
      {
        "duration": 113,
        "start_time": "2022-11-22T18:40:39.340Z"
      },
      {
        "duration": 211,
        "start_time": "2022-11-22T18:41:01.188Z"
      },
      {
        "duration": 231,
        "start_time": "2022-11-22T18:41:50.285Z"
      },
      {
        "duration": 213,
        "start_time": "2022-11-22T18:42:08.813Z"
      },
      {
        "duration": 2143,
        "start_time": "2022-11-22T20:51:14.769Z"
      },
      {
        "duration": 270,
        "start_time": "2022-11-22T20:51:16.914Z"
      },
      {
        "duration": 16,
        "start_time": "2022-11-22T20:51:17.193Z"
      },
      {
        "duration": 22,
        "start_time": "2022-11-22T20:51:17.211Z"
      },
      {
        "duration": 60,
        "start_time": "2022-11-22T20:51:17.238Z"
      },
      {
        "duration": 22,
        "start_time": "2022-11-22T20:51:17.300Z"
      },
      {
        "duration": 75,
        "start_time": "2022-11-22T20:51:17.324Z"
      },
      {
        "duration": 7,
        "start_time": "2022-11-22T20:51:17.400Z"
      },
      {
        "duration": 10,
        "start_time": "2022-11-22T20:51:17.409Z"
      },
      {
        "duration": 54,
        "start_time": "2022-11-22T20:51:17.421Z"
      },
      {
        "duration": 879,
        "start_time": "2022-11-22T20:51:17.477Z"
      },
      {
        "duration": 2795,
        "start_time": "2022-11-22T20:51:18.358Z"
      },
      {
        "duration": 10,
        "start_time": "2022-11-22T20:51:21.155Z"
      },
      {
        "duration": 0,
        "start_time": "2022-11-22T20:51:21.167Z"
      },
      {
        "duration": 0,
        "start_time": "2022-11-22T20:51:21.169Z"
      },
      {
        "duration": 0,
        "start_time": "2022-11-22T20:51:21.171Z"
      },
      {
        "duration": 0,
        "start_time": "2022-11-22T20:51:21.173Z"
      },
      {
        "duration": 0,
        "start_time": "2022-11-22T20:51:21.175Z"
      },
      {
        "duration": 8,
        "start_time": "2022-11-22T20:51:44.606Z"
      },
      {
        "duration": 132327,
        "start_time": "2022-11-22T20:52:26.728Z"
      },
      {
        "duration": 1784,
        "start_time": "2022-11-22T20:56:26.662Z"
      },
      {
        "duration": 60,
        "start_time": "2022-11-22T20:56:28.451Z"
      },
      {
        "duration": 63,
        "start_time": "2022-11-22T20:56:28.515Z"
      },
      {
        "duration": 63,
        "start_time": "2022-11-22T20:56:28.581Z"
      },
      {
        "duration": 71,
        "start_time": "2022-11-22T20:56:28.646Z"
      },
      {
        "duration": 72,
        "start_time": "2022-11-22T20:56:28.719Z"
      },
      {
        "duration": 98,
        "start_time": "2022-11-22T20:56:28.793Z"
      },
      {
        "duration": 105,
        "start_time": "2022-11-22T20:56:28.894Z"
      },
      {
        "duration": 15,
        "start_time": "2022-11-22T20:56:29.001Z"
      },
      {
        "duration": 108,
        "start_time": "2022-11-22T20:56:29.017Z"
      },
      {
        "duration": 904,
        "start_time": "2022-11-22T20:56:29.127Z"
      },
      {
        "duration": 2945,
        "start_time": "2022-11-22T20:56:30.033Z"
      },
      {
        "duration": 130439,
        "start_time": "2022-11-22T20:56:32.980Z"
      },
      {
        "duration": 74,
        "start_time": "2022-11-22T20:58:43.422Z"
      },
      {
        "duration": 284,
        "start_time": "2022-11-22T20:58:43.498Z"
      },
      {
        "duration": 20,
        "start_time": "2022-11-22T20:58:43.787Z"
      },
      {
        "duration": 5,
        "start_time": "2022-11-22T20:58:43.809Z"
      },
      {
        "duration": 22,
        "start_time": "2022-11-22T20:58:43.815Z"
      },
      {
        "duration": 52,
        "start_time": "2022-11-27T08:48:51.277Z"
      },
      {
        "duration": 1554,
        "start_time": "2022-11-27T08:48:59.383Z"
      },
      {
        "duration": 68,
        "start_time": "2022-11-27T08:49:01.704Z"
      },
      {
        "duration": 18,
        "start_time": "2022-11-27T08:49:02.625Z"
      },
      {
        "duration": 102,
        "start_time": "2022-11-27T08:49:11.001Z"
      },
      {
        "duration": 13,
        "start_time": "2022-11-27T08:49:21.904Z"
      },
      {
        "duration": 90,
        "start_time": "2022-12-07T09:56:58.489Z"
      },
      {
        "duration": 1372,
        "start_time": "2022-12-07T09:57:03.357Z"
      },
      {
        "duration": 72,
        "start_time": "2022-12-07T09:57:04.731Z"
      },
      {
        "duration": 16,
        "start_time": "2022-12-07T09:57:04.808Z"
      },
      {
        "duration": 15,
        "start_time": "2022-12-07T09:57:04.826Z"
      },
      {
        "duration": 15,
        "start_time": "2022-12-07T09:57:04.842Z"
      },
      {
        "duration": 5,
        "start_time": "2022-12-07T09:57:04.859Z"
      },
      {
        "duration": 7,
        "start_time": "2022-12-07T09:57:04.865Z"
      },
      {
        "duration": 7,
        "start_time": "2022-12-07T09:57:04.874Z"
      },
      {
        "duration": 6,
        "start_time": "2022-12-07T09:57:04.884Z"
      },
      {
        "duration": 12,
        "start_time": "2022-12-07T09:57:04.892Z"
      },
      {
        "duration": 59,
        "start_time": "2022-12-07T09:57:04.906Z"
      },
      {
        "duration": 666,
        "start_time": "2022-12-07T09:57:04.966Z"
      },
      {
        "duration": 2114,
        "start_time": "2022-12-07T09:57:05.634Z"
      },
      {
        "duration": 74,
        "start_time": "2022-12-07T09:57:07.750Z"
      },
      {
        "duration": 0,
        "start_time": "2022-12-07T09:57:07.826Z"
      },
      {
        "duration": 0,
        "start_time": "2022-12-07T09:57:07.827Z"
      },
      {
        "duration": 0,
        "start_time": "2022-12-07T09:57:07.828Z"
      },
      {
        "duration": 0,
        "start_time": "2022-12-07T09:57:07.829Z"
      },
      {
        "duration": 0,
        "start_time": "2022-12-07T09:57:07.831Z"
      },
      {
        "duration": 0,
        "start_time": "2022-12-07T09:57:07.832Z"
      },
      {
        "duration": 2366,
        "start_time": "2022-12-07T09:58:18.478Z"
      },
      {
        "duration": 112,
        "start_time": "2022-12-07T09:59:10.449Z"
      },
      {
        "duration": 11,
        "start_time": "2022-12-07T09:59:16.571Z"
      },
      {
        "duration": 11,
        "start_time": "2022-12-07T10:46:18.675Z"
      },
      {
        "duration": 1439,
        "start_time": "2023-05-03T18:37:16.968Z"
      },
      {
        "duration": 65,
        "start_time": "2023-05-03T18:37:18.408Z"
      },
      {
        "duration": 15,
        "start_time": "2023-05-03T18:37:18.475Z"
      },
      {
        "duration": 13,
        "start_time": "2023-05-03T18:37:18.493Z"
      },
      {
        "duration": 20,
        "start_time": "2023-05-03T18:37:18.508Z"
      },
      {
        "duration": 6,
        "start_time": "2023-05-03T18:37:18.529Z"
      },
      {
        "duration": 5,
        "start_time": "2023-05-03T18:37:18.536Z"
      },
      {
        "duration": 6,
        "start_time": "2023-05-03T18:37:18.543Z"
      },
      {
        "duration": 12,
        "start_time": "2023-05-03T18:37:18.550Z"
      },
      {
        "duration": 4,
        "start_time": "2023-05-03T18:37:18.564Z"
      },
      {
        "duration": 52,
        "start_time": "2023-05-03T18:37:18.570Z"
      },
      {
        "duration": 2153,
        "start_time": "2023-05-03T18:37:18.623Z"
      },
      {
        "duration": 13,
        "start_time": "2023-05-03T18:37:20.778Z"
      },
      {
        "duration": 108006,
        "start_time": "2023-05-03T18:37:20.793Z"
      },
      {
        "duration": 44,
        "start_time": "2023-05-03T18:39:08.800Z"
      },
      {
        "duration": 278,
        "start_time": "2023-05-03T18:39:08.846Z"
      },
      {
        "duration": 18,
        "start_time": "2023-05-03T18:39:09.126Z"
      },
      {
        "duration": 8,
        "start_time": "2023-05-03T18:39:09.146Z"
      },
      {
        "duration": 5,
        "start_time": "2023-05-03T18:39:09.156Z"
      },
      {
        "duration": 73,
        "start_time": "2023-05-03T18:41:06.700Z"
      },
      {
        "duration": 148,
        "start_time": "2023-05-03T18:41:14.764Z"
      },
      {
        "duration": 9,
        "start_time": "2023-05-03T18:41:50.746Z"
      },
      {
        "duration": 6,
        "start_time": "2023-05-03T18:42:04.839Z"
      },
      {
        "duration": 7,
        "start_time": "2023-05-03T18:42:31.825Z"
      },
      {
        "duration": 8,
        "start_time": "2023-05-03T18:44:28.186Z"
      },
      {
        "duration": 4,
        "start_time": "2023-05-03T18:44:29.942Z"
      },
      {
        "duration": 1426,
        "start_time": "2023-05-03T18:46:03.404Z"
      },
      {
        "duration": 26,
        "start_time": "2023-05-03T18:46:04.832Z"
      },
      {
        "duration": 14,
        "start_time": "2023-05-03T18:46:04.860Z"
      },
      {
        "duration": 12,
        "start_time": "2023-05-03T18:46:04.876Z"
      },
      {
        "duration": 13,
        "start_time": "2023-05-03T18:46:04.889Z"
      },
      {
        "duration": 13,
        "start_time": "2023-05-03T18:46:04.904Z"
      },
      {
        "duration": 7,
        "start_time": "2023-05-03T18:46:04.919Z"
      },
      {
        "duration": 24,
        "start_time": "2023-05-03T18:46:04.928Z"
      },
      {
        "duration": 10,
        "start_time": "2023-05-03T18:46:04.954Z"
      },
      {
        "duration": 6,
        "start_time": "2023-05-03T18:46:04.966Z"
      },
      {
        "duration": 37,
        "start_time": "2023-05-03T18:46:04.974Z"
      },
      {
        "duration": 2263,
        "start_time": "2023-05-03T18:46:05.013Z"
      },
      {
        "duration": 10,
        "start_time": "2023-05-03T18:46:07.278Z"
      },
      {
        "duration": 108911,
        "start_time": "2023-05-03T18:46:07.291Z"
      },
      {
        "duration": 41,
        "start_time": "2023-05-03T18:47:56.204Z"
      },
      {
        "duration": 275,
        "start_time": "2023-05-03T18:47:56.247Z"
      },
      {
        "duration": 19,
        "start_time": "2023-05-03T18:47:56.524Z"
      },
      {
        "duration": 8,
        "start_time": "2023-05-03T18:47:56.545Z"
      },
      {
        "duration": 6,
        "start_time": "2023-05-03T18:47:56.554Z"
      },
      {
        "duration": 2697,
        "start_time": "2023-05-03T18:49:27.674Z"
      },
      {
        "duration": 4054,
        "start_time": "2023-05-03T18:49:36.455Z"
      },
      {
        "duration": 4386,
        "start_time": "2023-05-03T18:49:44.384Z"
      },
      {
        "duration": 3816,
        "start_time": "2023-05-03T18:49:58.115Z"
      },
      {
        "duration": 4174,
        "start_time": "2023-05-03T18:50:40.516Z"
      },
      {
        "duration": 12685,
        "start_time": "2023-05-03T18:50:50.378Z"
      },
      {
        "duration": 4392,
        "start_time": "2023-05-03T18:51:15.031Z"
      },
      {
        "duration": 3544,
        "start_time": "2023-05-03T18:51:43.811Z"
      },
      {
        "duration": 33,
        "start_time": "2023-05-03T18:52:14.358Z"
      },
      {
        "duration": 7,
        "start_time": "2023-05-03T18:52:35.317Z"
      },
      {
        "duration": 7,
        "start_time": "2023-05-03T18:54:05.738Z"
      },
      {
        "duration": 1365,
        "start_time": "2023-05-03T18:54:28.551Z"
      },
      {
        "duration": 26,
        "start_time": "2023-05-03T18:54:29.918Z"
      },
      {
        "duration": 14,
        "start_time": "2023-05-03T18:54:29.946Z"
      },
      {
        "duration": 12,
        "start_time": "2023-05-03T18:54:29.963Z"
      },
      {
        "duration": 11,
        "start_time": "2023-05-03T18:54:29.977Z"
      },
      {
        "duration": 3,
        "start_time": "2023-05-03T18:54:29.990Z"
      },
      {
        "duration": 33,
        "start_time": "2023-05-03T18:54:29.995Z"
      },
      {
        "duration": 10,
        "start_time": "2023-05-03T18:54:30.029Z"
      },
      {
        "duration": 15,
        "start_time": "2023-05-03T18:54:30.041Z"
      },
      {
        "duration": 16,
        "start_time": "2023-05-03T18:54:30.058Z"
      },
      {
        "duration": 55,
        "start_time": "2023-05-03T18:54:30.076Z"
      },
      {
        "duration": 3200,
        "start_time": "2023-05-03T18:54:30.132Z"
      },
      {
        "duration": 10,
        "start_time": "2023-05-03T18:54:33.334Z"
      },
      {
        "duration": 108554,
        "start_time": "2023-05-03T18:54:33.345Z"
      },
      {
        "duration": 42,
        "start_time": "2023-05-03T18:56:21.901Z"
      },
      {
        "duration": 317,
        "start_time": "2023-05-03T18:56:21.945Z"
      },
      {
        "duration": 18,
        "start_time": "2023-05-03T18:56:22.264Z"
      },
      {
        "duration": 7,
        "start_time": "2023-05-03T18:56:22.284Z"
      },
      {
        "duration": 25,
        "start_time": "2023-05-03T18:56:22.293Z"
      }
    ],
    "kernelspec": {
      "display_name": "Python 3 (ipykernel)",
      "language": "python",
      "name": "python3"
    },
    "language_info": {
      "codemirror_mode": {
        "name": "ipython",
        "version": 3
      },
      "file_extension": ".py",
      "mimetype": "text/x-python",
      "name": "python",
      "nbconvert_exporter": "python",
      "pygments_lexer": "ipython3",
      "version": "3.9.5"
    },
    "toc": {
      "base_numbering": 1,
      "nav_menu": {},
      "number_sections": true,
      "sideBar": true,
      "skip_h1_title": true,
      "title_cell": "Table of Contents",
      "title_sidebar": "Contents",
      "toc_cell": false,
      "toc_position": {},
      "toc_section_display": true,
      "toc_window_display": false
    },
    "colab": {
      "provenance": []
    }
  },
  "nbformat": 4,
  "nbformat_minor": 0
}