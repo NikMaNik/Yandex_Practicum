{
  "cells": [
    {
      "cell_type": "markdown",
      "metadata": {
        "id": "Sp4WmpxnlFwT"
      },
      "source": [
        "# Выбор локации для скважины"
      ]
    },
    {
      "cell_type": "markdown",
      "metadata": {
        "id": "D5JaP_MylFwU"
      },
      "source": [
        "\n",
        "Вам предоставлены пробы нефти в трёх регионах: в каждом 10 000 месторождений, где измерили качество нефти и объём её запасов. Постройте модель машинного обучения, которая поможет определить регион, где добыча принесёт наибольшую прибыль. Проанализируйте возможную прибыль и риски техникой *Bootstrap.*\n",
        "\n",
        "Шаги для выбора локации:\n",
        "\n",
        "- В избранном регионе ищут месторождения, для каждого определяют значения признаков;\n",
        "- Строят модель и оценивают объём запасов;\n",
        "- Выбирают месторождения с самым высокими оценками значений. Количество месторождений зависит от бюджета компании и стоимости разработки одной скважины;\n",
        "- Прибыль равна суммарной прибыли отобранных месторождений."
      ]
    },
    {
      "cell_type": "markdown",
      "metadata": {
        "id": "cciJwoWYlFwV"
      },
      "source": [
        "## Загрузка и подготовка данных"
      ]
    },
    {
      "cell_type": "code",
      "execution_count": null,
      "metadata": {
        "id": "F20a3HxalFwW"
      },
      "outputs": [],
      "source": [
        "import pandas as pd\n",
        "import matplotlib.pyplot as plt\n",
        "import seaborn as sns\n",
        "\n",
        "from numpy.random import RandomState\n",
        "from sklearn.linear_model import LinearRegression\n",
        "from sklearn.model_selection import train_test_split\n",
        "from sklearn.metrics import mean_squared_error\n",
        "from sklearn.preprocessing import StandardScaler\n"
      ]
    },
    {
      "cell_type": "code",
      "execution_count": null,
      "metadata": {
        "id": "GA4GvzTJlFwZ"
      },
      "outputs": [],
      "source": [
        "df_0 = pd.read_csv('/datasets/geo_data_0.csv')\n",
        "df_1 = pd.read_csv('/datasets/geo_data_1.csv')\n",
        "df_2 = pd.read_csv('/datasets/geo_data_2.csv')"
      ]
    },
    {
      "cell_type": "code",
      "execution_count": null,
      "metadata": {
        "id": "XOj1_9malFwZ",
        "outputId": "814543f2-fa84-47d4-b311-ebbb82da09c5"
      },
      "outputs": [
        {
          "name": "stdout",
          "output_type": "stream",
          "text": [
            "<class 'pandas.core.frame.DataFrame'>\n",
            "RangeIndex: 100000 entries, 0 to 99999\n",
            "Data columns (total 5 columns):\n",
            " #   Column   Non-Null Count   Dtype  \n",
            "---  ------   --------------   -----  \n",
            " 0   id       100000 non-null  object \n",
            " 1   f0       100000 non-null  float64\n",
            " 2   f1       100000 non-null  float64\n",
            " 3   f2       100000 non-null  float64\n",
            " 4   product  100000 non-null  float64\n",
            "dtypes: float64(4), object(1)\n",
            "memory usage: 3.8+ MB\n",
            "------------------------------------------------------------------------------------------\n",
            "      id        f0        f1        f2     product\n",
            "0  txEyH  0.705745 -0.497823  1.221170  105.280062\n",
            "1  2acmU  1.334711 -0.340164  4.365080   73.037750\n",
            "2  409Wp  1.022732  0.151990  1.419926   85.265647\n",
            "3  iJLyR -0.032172  0.139033  2.978566  168.620776\n",
            "4  Xdl7t  1.988431  0.155413  4.751769  154.036647\n",
            "------------------------------------------------------------------------------------------\n",
            "                  f0             f1             f2        product\n",
            "count  100000.000000  100000.000000  100000.000000  100000.000000\n",
            "mean        0.500419       0.250143       2.502647      92.500000\n",
            "std         0.871832       0.504433       3.248248      44.288691\n",
            "min        -1.408605      -0.848218     -12.088328       0.000000\n",
            "25%        -0.072580      -0.200881       0.287748      56.497507\n",
            "50%         0.502360       0.250252       2.515969      91.849972\n",
            "75%         1.073581       0.700646       4.715088     128.564089\n",
            "max         2.362331       1.343769      16.003790     185.364347\n",
            "------------------------------------------------------------------------------------------\n",
            "bsk9y    2\n",
            "QcMuo    2\n",
            "Tdehs    2\n",
            "A5aEY    2\n",
            "fiKDv    2\n",
            "74z30    2\n",
            "bxg6G    2\n",
            "TtcGQ    2\n",
            "AGS9W    2\n",
            "HZww2    2\n",
            "Name: id, dtype: int64\n",
            "------------------------------------------------------------------------------------------\n"
          ]
        },
        {
          "data": {
            "image/png": "[encoded data removed]",
            "text/plain": [
              "<Figure size 720x720 with 4 Axes>"
            ]
          },
          "metadata": {
            "needs_background": "light"
          },
          "output_type": "display_data"
        }
      ],
      "source": [
        "df_0.info()\n",
        "print('-' * 90)\n",
        "print(df_0.head())\n",
        "print('-' * 90)\n",
        "print(df_0.describe())\n",
        "print('-' * 90)\n",
        "print(df_0['id'].value_counts().head(10))\n",
        "print('-' * 90)\n",
        "\n",
        "fig, ax = plt.subplots(2, 2 , figsize = (10,10))\n",
        "\n",
        "sns.histplot(df_0['f0'], ax = ax[0,0], bins = 30)\n",
        "ax[0,0].set(title = 'признак 1', xlabel = ' ', ylabel = ' ')\n",
        "sns.histplot(df_0['f1'], ax = ax[0,1], bins = 30)\n",
        "ax[0,1].set(title = 'признак 2', xlabel = ' ', ylabel = ' ')\n",
        "sns.histplot(df_0['f2'], ax = ax[1, 0], bins = 30)\n",
        "ax[1,0].set(title = 'признак 3', xlabel = ' ', ylabel = ' ')\n",
        "sns.histplot(df_0['product'], ax = ax[1,1],  bins = 30)\n",
        "ax[1,1].set(title = 'объем запасов в скважине', xlabel = ' ', ylabel = ' ')\n",
        "\n",
        "plt.show()"
      ]
    },
    {
      "cell_type": "code",
      "execution_count": null,
      "metadata": {
        "id": "TBX_hk7OlFwc",
        "outputId": "c6ed84b0-e6c9-49a6-c778-15c8a34f8c1e"
      },
      "outputs": [
        {
          "name": "stdout",
          "output_type": "stream",
          "text": [
            "<class 'pandas.core.frame.DataFrame'>\n",
            "RangeIndex: 100000 entries, 0 to 99999\n",
            "Data columns (total 5 columns):\n",
            " #   Column   Non-Null Count   Dtype  \n",
            "---  ------   --------------   -----  \n",
            " 0   id       100000 non-null  object \n",
            " 1   f0       100000 non-null  float64\n",
            " 2   f1       100000 non-null  float64\n",
            " 3   f2       100000 non-null  float64\n",
            " 4   product  100000 non-null  float64\n",
            "dtypes: float64(4), object(1)\n",
            "memory usage: 3.8+ MB\n",
            "------------------------------------------------------------------------------------------\n",
            "      id         f0         f1        f2     product\n",
            "0  kBEdx -15.001348  -8.276000 -0.005876    3.179103\n",
            "1  62mP7  14.272088  -3.475083  0.999183   26.953261\n",
            "2  vyE1P   6.263187  -5.948386  5.001160  134.766305\n",
            "3  KcrkZ -13.081196 -11.506057  4.999415  137.945408\n",
            "4  AHL4O  12.702195  -8.147433  5.004363  134.766305\n",
            "------------------------------------------------------------------------------------------\n",
            "                  f0             f1             f2        product\n",
            "count  100000.000000  100000.000000  100000.000000  100000.000000\n",
            "mean        1.141296      -4.796579       2.494541      68.825000\n",
            "std         8.965932       5.119872       1.703572      45.944423\n",
            "min       -31.609576     -26.358598      -0.018144       0.000000\n",
            "25%        -6.298551      -8.267985       1.000021      26.953261\n",
            "50%         1.153055      -4.813172       2.011479      57.085625\n",
            "75%         8.621015      -1.332816       3.999904     107.813044\n",
            "max        29.421755      18.734063       5.019721     137.945408\n",
            "------------------------------------------------------------------------------------------\n",
            "5ltQ6    2\n",
            "wt4Uk    2\n",
            "bfPNe    2\n",
            "LHZR0    2\n",
            "5gDfe    1\n",
            "lZTCH    1\n",
            "1E7c0    1\n",
            "ikfN6    1\n",
            "HtPNn    1\n",
            "0UzP7    1\n",
            "Name: id, dtype: int64\n",
            "------------------------------------------------------------------------------------------\n"
          ]
        },
        {
          "data": {
            "image/png": "[encoded data removed]",
            "text/plain": [
              "<Figure size 720x720 with 4 Axes>"
            ]
          },
          "metadata": {
            "needs_background": "light"
          },
          "output_type": "display_data"
        }
      ],
      "source": [
        "df_1.info()\n",
        "print('-' * 90)\n",
        "print(df_1.head())\n",
        "print('-' * 90)\n",
        "print(df_1.describe())\n",
        "print('-' * 90)\n",
        "print(df_1['id'].value_counts().head(10))\n",
        "print('-' * 90)\n",
        "\n",
        "fig, ax = plt.subplots(2, 2 , figsize = (10,10))\n",
        "\n",
        "sns.histplot(df_1['f0'], ax = ax[0,0], bins = 30)\n",
        "ax[0,0].set(title = 'признак 1', xlabel = ' ', ylabel = ' ')\n",
        "sns.histplot(df_1['f1'], ax = ax[0,1], bins = 30)\n",
        "ax[0,1].set(title = 'признак 2', xlabel = ' ', ylabel = ' ')\n",
        "sns.histplot(df_1['f2'], ax = ax[1, 0], bins = 30)\n",
        "ax[1,0].set(title = 'признак 3', xlabel = ' ', ylabel = ' ')\n",
        "sns.histplot(df_1['product'], ax = ax[1,1],  bins = 30)\n",
        "ax[1,1].set(title = 'объем запасов в скважине', xlabel = ' ', ylabel = ' ')\n",
        "\n",
        "plt.show()"
      ]
    },
    {
      "cell_type": "code",
      "execution_count": null,
      "metadata": {
        "id": "BuOsfrCWlFwd",
        "outputId": "45a4fe7d-772f-4a0f-9347-fcda48190231"
      },
      "outputs": [
        {
          "name": "stdout",
          "output_type": "stream",
          "text": [
            "<class 'pandas.core.frame.DataFrame'>\n",
            "RangeIndex: 100000 entries, 0 to 99999\n",
            "Data columns (total 5 columns):\n",
            " #   Column   Non-Null Count   Dtype  \n",
            "---  ------   --------------   -----  \n",
            " 0   id       100000 non-null  object \n",
            " 1   f0       100000 non-null  float64\n",
            " 2   f1       100000 non-null  float64\n",
            " 3   f2       100000 non-null  float64\n",
            " 4   product  100000 non-null  float64\n",
            "dtypes: float64(4), object(1)\n",
            "memory usage: 3.8+ MB\n",
            "------------------------------------------------------------------------------------------\n",
            "      id        f0        f1        f2     product\n",
            "0  fwXo0 -1.146987  0.963328 -0.828965   27.758673\n",
            "1  WJtFt  0.262778  0.269839 -2.530187   56.069697\n",
            "2  ovLUW  0.194587  0.289035 -5.586433   62.871910\n",
            "3  q6cA6  2.236060 -0.553760  0.930038  114.572842\n",
            "4  WPMUX -0.515993  1.716266  5.899011  149.600746\n",
            "------------------------------------------------------------------------------------------\n",
            "                  f0             f1             f2        product\n",
            "count  100000.000000  100000.000000  100000.000000  100000.000000\n",
            "mean        0.002023      -0.002081       2.495128      95.000000\n",
            "std         1.732045       1.730417       3.473445      44.749921\n",
            "min        -8.760004      -7.084020     -11.970335       0.000000\n",
            "25%        -1.162288      -1.174820       0.130359      59.450441\n",
            "50%         0.009424      -0.009482       2.484236      94.925613\n",
            "75%         1.158535       1.163678       4.858794     130.595027\n",
            "max         7.238262       7.844801      16.739402     190.029838\n",
            "------------------------------------------------------------------------------------------\n",
            "Vcm5J    2\n",
            "KUPhW    2\n",
            "VF7Jo    2\n",
            "xCHr8    2\n",
            "0mmIr    1\n",
            "n5TIM    1\n",
            "HyfhD    1\n",
            "I3uo3    1\n",
            "TH9qR    1\n",
            "BLVpW    1\n",
            "Name: id, dtype: int64\n",
            "------------------------------------------------------------------------------------------\n"
          ]
        },
        {
          "data": {
            "image/png": "[encoded data removed]",
            "text/plain": [
              "<Figure size 720x720 with 4 Axes>"
            ]
          },
          "metadata": {
            "needs_background": "light"
          },
          "output_type": "display_data"
        }
      ],
      "source": [
        "df_2.info()\n",
        "print('-' * 90)\n",
        "print(df_2.head())\n",
        "print('-' * 90)\n",
        "print(df_2.describe())\n",
        "print('-' * 90)\n",
        "print(df_2['id'].value_counts().head(10))\n",
        "print('-' * 90)\n",
        "\n",
        "fig, ax = plt.subplots(2, 2 , figsize = (10,10))\n",
        "\n",
        "sns.histplot(df_1['f0'], ax = ax[0,0], bins = 30)\n",
        "ax[0,0].set(title = 'признак 1', xlabel = ' ', ylabel = ' ')\n",
        "sns.histplot(df_1['f1'], ax = ax[0,1], bins = 30)\n",
        "ax[0,1].set(title = 'признак 2', xlabel = ' ', ylabel = ' ')\n",
        "sns.histplot(df_1['f2'], ax = ax[1, 0], bins = 30)\n",
        "ax[1,0].set(title = 'признак 3', xlabel = ' ', ylabel = ' ')\n",
        "sns.histplot(df_1['product'], ax = ax[1,1],  bins = 30)\n",
        "ax[1,1].set(title = 'объем запасов в скважине', xlabel = ' ', ylabel = ' ')\n",
        "\n",
        "plt.show()"
      ]
    },
    {
      "cell_type": "code",
      "execution_count": null,
      "metadata": {
        "id": "b-2usn9FlFwe"
      },
      "outputs": [],
      "source": [
        "df_0 = df_0.drop('id', axis = 1)\n",
        "\n",
        "df_1 = df_1.drop('id', axis = 1)\n",
        "\n",
        "df_2 = df_2.drop('id', axis = 1)"
      ]
    },
    {
      "cell_type": "markdown",
      "metadata": {
        "id": "-i6xCifvlFwf"
      },
      "source": [
        "# вывод:\n",
        " - мы открыли данные сохранили в переменные наши датафреймы\n",
        " - вывели первую информацию о датафреймах, с нашими даннами все в порядке, нулевых и пустых значений нет, все данные в порядке.\n",
        " - вывели графики и посмотрели что данные распределнны нормально.\n",
        " - вывели подробную информацию о наших датасетах\n",
        " - Данные полностью нормальные можно переходить к следующей задаче\n",
        " - Удалили столбец ID, что бы не мешался при обучение данных и прогнозирования модели, а так же там были повторяющиеся ID, видимо появились при человеческом факторе\n",
        " \n",
        " "
      ]
    },
    {
      "cell_type": "markdown",
      "metadata": {
        "id": "cAsAkSjLlFwg"
      },
      "source": [
        "## Обучение и проверка модели"
      ]
    },
    {
      "cell_type": "code",
      "execution_count": null,
      "metadata": {
        "id": "tE9H7vGrlFwg"
      },
      "outputs": [],
      "source": [
        "# разделили на признаки и целевой признак каждый датафрейм\n",
        "def separation(df):\n",
        "    \n",
        "    features = df.drop(['product'], axis = 1)\n",
        "    target = df['product']\n",
        "    \n",
        "    return features, target"
      ]
    },
    {
      "cell_type": "code",
      "execution_count": null,
      "metadata": {
        "id": "mIO1l_HxlFwg"
      },
      "outputs": [],
      "source": [
        "features_0, target_0 = separation(df_0)\n",
        "\n",
        "features_1, target_1 = separation(df_1)\n",
        "\n",
        "features_2, target_2 = separation(df_2)"
      ]
    },
    {
      "cell_type": "code",
      "execution_count": null,
      "metadata": {
        "id": "ap7eifHTlFwh"
      },
      "outputs": [],
      "source": [
        "#разделим выборки на тренировочную и валидационную выборку в соотношение 75 на 25\n",
        "def split(features, target):\n",
        "    \n",
        "    features_train, features_valid, target_train, target_valid= train_test_split (features,\n",
        "                                                                                  target,\n",
        "                                                                                  test_size = 0.25,\n",
        "                                                                                  random_state = 42)\n",
        "    \n",
        "    return features_train, features_valid, target_train, target_valid"
      ]
    },
    {
      "cell_type": "code",
      "execution_count": null,
      "metadata": {
        "id": "3m5HNh3WlFwh"
      },
      "outputs": [],
      "source": [
        "features_train_0, features_valid_0, target_train_0, target_valid_0 = split(features_0, target_0)\n",
        "\n",
        "features_train_1, features_valid_1, target_train_1, target_valid_1 = split(features_1, target_1)\n",
        "\n",
        "features_train_2, features_valid_2, target_train_2, target_valid_2 = split(features_2, target_2)"
      ]
    },
    {
      "cell_type": "code",
      "execution_count": null,
      "metadata": {
        "id": "uUK70Zs0lFwi",
        "outputId": "accf82ac-4646-4d96-c569-6d4414f67839"
      },
      "outputs": [
        {
          "name": "stdout",
          "output_type": "stream",
          "text": [
            "features_train_0: 75000\n",
            "target_train_0: 75000\n",
            "features_valid_0: 25000\n",
            "target_valid_0: 25000\n",
            "---------------------------------------------\n",
            "features_train_1: 75000\n",
            "target_train_1: 75000\n",
            "features_valid_1: 25000\n",
            "target_valid_1: 25000\n",
            "---------------------------------------------\n",
            "features_train_2: 75000\n",
            "target_train_2: 75000\n",
            "features_valid_2: 25000\n",
            "target_valid_2: 25000\n"
          ]
        }
      ],
      "source": [
        "print('features_train_0:',len(features_train_0))\n",
        "print('target_train_0:', len(target_train_0))\n",
        "print('features_valid_0:', len(features_valid_0))\n",
        "print('target_valid_0:',len(target_valid_0))\n",
        "print('-' * 45)\n",
        "print('features_train_1:',len(features_train_1))\n",
        "print('target_train_1:',len(target_train_1))\n",
        "print('features_valid_1:',len(features_valid_1))\n",
        "print('target_valid_1:', len(target_valid_1))\n",
        "print('-' * 45)\n",
        "print('features_train_2:',len(features_train_2))\n",
        "print('target_train_2:',len(target_train_2))\n",
        "print('features_valid_2:',len(features_valid_2))\n",
        "print('target_valid_2:', len(target_valid_2))"
      ]
    },
    {
      "cell_type": "code",
      "execution_count": null,
      "metadata": {
        "id": "3TDyD3yDlFwj"
      },
      "outputs": [],
      "source": [
        "#Провели масштабирование признаков, привели их к ближайшим значениям\n",
        "pd.options.mode.chained_assignment = None\n",
        "\n",
        "def standard_scaler (features_train, features_valid):\n",
        "    \n",
        "    num = list(features_train.select_dtypes(exclude ='object').columns)\n",
        "    \n",
        "    scaler= StandardScaler()\n",
        "    scaler.fit(features_train[num])\n",
        "    \n",
        "    features_train[num] = scaler.transform(features_train[num])\n",
        "    features_valid[num] = scaler.transform(features_valid[num])\n",
        "    \n",
        "    return features_train , features_valid\n",
        "\n",
        "data_train = [features_train_0, features_train_1, features_train_2]\n",
        "data_valid = [features_valid_0, features_valid_1, features_valid_2]\n",
        "\n",
        "for i in range (len(data_train)):\n",
        "    standard_scaler(data_train[i], data_valid[i])"
      ]
    },
    {
      "cell_type": "markdown",
      "metadata": {
        "id": "ZLUlpQOElFwk"
      },
      "source": [
        "<div class=\"alert alert-block alert-success\">\n",
        "<b>Успех:</b> Отлично, что scaler был обучен только на треине!\n",
        "</div>"
      ]
    },
    {
      "cell_type": "code",
      "execution_count": null,
      "metadata": {
        "id": "MoCiNcqTlFwk",
        "outputId": "6ababa51-c6f7-452d-ce7e-b8976e94b95f"
      },
      "outputs": [
        {
          "name": "stdout",
          "output_type": "stream",
          "text": [
            "75000\n",
            "25000\n"
          ]
        }
      ],
      "source": [
        "#выведем  количество отмасштабированных признаков\n",
        "print(len(features_train_0))\n",
        "print(len(features_valid_0))"
      ]
    },
    {
      "cell_type": "code",
      "execution_count": null,
      "metadata": {
        "id": "tDC5P14SlFwl"
      },
      "outputs": [],
      "source": [
        "#обучили и предсказали модели сохранили RMSE и средний запас сырья в переменные и выевели их\n",
        "def predictions_model (features_train, target_train, features_valid, target_valid):\n",
        "    model = LinearRegression()\n",
        "\n",
        "    model.fit(features_train, target_train)\n",
        "    predictions_valid = model.predict(features_valid)\n",
        "\n",
        "    result = mean_squared_error(target_valid, predictions_valid) ** 0.5\n",
        "    \n",
        "    return result, predictions_valid.mean(), predictions_valid\n"
      ]
    },
    {
      "cell_type": "code",
      "execution_count": null,
      "metadata": {
        "id": "BlE5uPR5lFwl",
        "outputId": "5333dab9-6f56-4bbb-8402-b5535d93741a"
      },
      "outputs": [
        {
          "name": "stdout",
          "output_type": "stream",
          "text": [
            "---------------------------------------------\n",
            "RMSE: 37.75660035026169, Средний запас сырья: 92.39879990657768\n",
            "---------------------------------------------\n",
            "RMSE: 0.8902801001028846,  Средний запас сырья: 68.7128780391376\n",
            "---------------------------------------------\n",
            "RMSE: 40.145872311342174, Средний запас сырья: 94.77102387765939\n",
            "---------------------------------------------\n"
          ]
        }
      ],
      "source": [
        "RMSE_0, result_mean_0, predictions_valid_0 = predictions_model(features_train_0,\n",
        "                                                               target_train_0,\n",
        "                                                               features_valid_0,\n",
        "                                                               target_valid_0)\n",
        "print('-' * 45)\n",
        "print(f'RMSE: {RMSE_0}, Средний запас сырья: {result_mean_0}')\n",
        "\n",
        "RMSE_1, result_mean_1, predictions_valid_1 = predictions_model(features_train_1,\n",
        "                                                               target_train_1,\n",
        "                                                               features_valid_1,\n",
        "                                                               target_valid_1)\n",
        "print('-' * 45)\n",
        "print(f'RMSE: {RMSE_1},  Средний запас сырья: {result_mean_1}')\n",
        "\n",
        "RMSE_2, result_mean_2, predictions_valid_2 =predictions_model(features_train_2,\n",
        "                                                              target_train_2,\n",
        "                                                              features_valid_2,\n",
        "                                                              target_valid_2)\n",
        "\n",
        "print('-' * 45)\n",
        "print(f'RMSE: {RMSE_2}, Средний запас сырья: {result_mean_2}')\n",
        "print('-' * 45)"
      ]
    },
    {
      "cell_type": "markdown",
      "metadata": {
        "id": "QS4etdfxlFwm"
      },
      "source": [
        " # Вывод:\n",
        " - разделили выборки на тренировочную и валидационную\n",
        " - отмасштабировали признаки\n",
        " - обучили модель и сделали предсказания на валидационной выборке, сохранили RMSE и средний запас сырья в переменные\n",
        " - исходя из RMSE можем сделать первоначальный вывод что наша модель лучше всего предсказала данные по второму региону, (Чем ниже RMSE тем модель точнее предсказывает), так же мы видим что средний запас сырья в этом регионе меньше, чем в остальных двух регионах. "
      ]
    },
    {
      "cell_type": "markdown",
      "metadata": {
        "id": "-FdFrWAslFwn"
      },
      "source": [
        "## Подготовка к расчёту прибыли"
      ]
    },
    {
      "cell_type": "code",
      "execution_count": null,
      "metadata": {
        "id": "hnWqS5HZlFwo"
      },
      "outputs": [],
      "source": [
        "BUDGET = 10_000_000_000 # бюджет на разработку скважин\n",
        "REVENUE_UNIT_PROD = 450_000 # доход с каждой единице продукта\n",
        "NUMBER_POINTS = 500 # исследуем 500 точек\n",
        "BEST_POINTS = 200 # по условию выбираем 200 лучших точек"
      ]
    },
    {
      "cell_type": "code",
      "execution_count": null,
      "metadata": {
        "id": "1lXRPnv_lFwo",
        "outputId": "3800d5f8-8e3d-4a68-a96a-1f3270ab31d2"
      },
      "outputs": [
        {
          "name": "stdout",
          "output_type": "stream",
          "text": [
            "---------------------------------------------\n",
            "Для безубыточной разработки новой скважины: 111.11111111111111\n",
            "---------------------------------------------\n",
            "Регион 1: 92.39879990657768, отклонения: -18.712311204533435 \n",
            "---------------------------------------------\n",
            "Регион 2: 68.7128780391376, отклонения: -42.39823307197351\n",
            "---------------------------------------------\n",
            "Регион 3: 94.77102387765939, отклонения: -16.340087233451726\n",
            "---------------------------------------------\n"
          ]
        }
      ],
      "source": [
        "#Рассчитаем достаточный объём сырья для безубыточной разработки новой скважины\n",
        "breakeven = BUDGET/ BEST_POINTS/ REVENUE_UNIT_PROD\n",
        "\n",
        "print('-' * 45)\n",
        "print(f'Для безубыточной разработки новой скважины: {breakeven}')\n",
        "print('-' * 45)\n",
        "print(f'Регион 1: {result_mean_0}, отклонения: {result_mean_0 - breakeven} ')\n",
        "print('-' * 45)\n",
        "print(f'Регион 2: {result_mean_1}, отклонения: {result_mean_1 - breakeven}')\n",
        "print('-' * 45)\n",
        "print(f'Регион 3: {result_mean_2}, отклонения: {result_mean_2 - breakeven}')\n",
        "print('-' * 45)"
      ]
    },
    {
      "cell_type": "markdown",
      "metadata": {
        "id": "QoCVNHKelFwp"
      },
      "source": [
        "# вывод:\n",
        "- исходя из анных можем увидеть что для каждого из трех регионов разработка 200 скважин будет убыточная. \n",
        "- самый убыточны регион 2, минимально убыточный регион 3"
      ]
    },
    {
      "cell_type": "markdown",
      "metadata": {
        "id": "6di1vkPtlFwq"
      },
      "source": [
        "## Расчёт прибыли и рисков "
      ]
    },
    {
      "cell_type": "code",
      "execution_count": null,
      "metadata": {
        "id": "sIPY5kfnlFwq",
        "outputId": "6b20e8cb-58e1-47ac-f898-b11581b66184"
      },
      "outputs": [
        {
          "name": "stdout",
          "output_type": "stream",
          "text": [
            "Прибыль для полученного объема сырья, 1 региона: 3.359141114462179 млрд.руб.\n",
            "---------------------------------------------\n",
            "Прибыль для полученного объема сырья, 2 региона: 2.4150866966815108 млрд.руб.\n",
            "---------------------------------------------\n",
            "Прибыль для полученного объема сырья, 3 региона: 2.5985717593741113 млрд.руб.\n"
          ]
        }
      ],
      "source": [
        "def income(target_valid, predictions_valid, BEST_POINTS):\n",
        "    \n",
        "    target = target_valid.reset_index(drop = True)\n",
        "    predictions = pd.Series(predictions_valid, index = target.index)\n",
        "    best_points_target = target[predictions.sort_values(ascending = False).index][:BEST_POINTS]\n",
        "    \n",
        "    return (best_points_target.sum() * REVENUE_UNIT_PROD - BUDGET) / 1_000_000_000\n",
        "\n",
        "income_0 = income(target_valid_0, predictions_valid_0, BEST_POINTS)\n",
        "income_1 = income(target_valid_1, predictions_valid_1, BEST_POINTS)\n",
        "income_2 = income(target_valid_2, predictions_valid_2, BEST_POINTS)\n",
        "\n",
        "print(f'Прибыль для полученного объема сырья, 1 региона: {income_0} млрд.руб.')\n",
        "print('-' * 45)\n",
        "print(f'Прибыль для полученного объема сырья, 2 региона: {income_1} млрд.руб.')\n",
        "print('-' * 45)\n",
        "print(f'Прибыль для полученного объема сырья, 3 региона: {income_2} млрд.руб.')"
      ]
    },
    {
      "cell_type": "markdown",
      "metadata": {
        "id": "uHQm1t_DlFwr"
      },
      "source": [
        "# вывод:\n",
        "- минимальная прибыль у 2 региона, самая большая прибыль у 1 региона "
      ]
    },
    {
      "cell_type": "code",
      "execution_count": null,
      "metadata": {
        "scrolled": true,
        "id": "iDzvtvaQlFwr"
      },
      "outputs": [],
      "source": [
        "def region_pred(target_valid, predictions_valid, BEST_POINTS):\n",
        "    state = RandomState(12345) \n",
        "    values = []\n",
        "    for i in range (1000):\n",
        "    \n",
        "        target_subsample = target_valid.reset_index(drop= True).sample(n=NUMBER_POINTS, replace=True, random_state=state)\n",
        "        probs_subsample = predictions_valid[target_subsample.index]\n",
        "        \n",
        "        values.append(income(target_subsample, probs_subsample, BEST_POINTS))\n",
        "    \n",
        "    values = pd.Series(values)\n",
        "    lower = values.quantile(0.025)\n",
        "    up = values.quantile(0.975)\n",
        "    interval = values.quantile(0), values.quantile(1)\n",
        "    mean = values.mean()\n",
        "    loss_point = (values < 0).sum()\n",
        "    loss = values[values< 0]\n",
        "    risk = (values < 0).mean()\n",
        "    \n",
        "    print(f'Доверительный интервал: {interval} млрд.руб.')\n",
        "    print('-' * 90)\n",
        "    print(f'95,7%-Квантиль: {up} млрд.руб.')\n",
        "    print('-' * 90)\n",
        "    print(f'2,5%-Квантиль: {lower} млрд.руб.')\n",
        "    print('-' * 90)\n",
        "    print(f'Количество убыточных точек: {loss_point} шт.')\n",
        "    print('-' * 90)\n",
        "    print(f'Максимальная прибыль: {values.max()} млрд. руб.')\n",
        "    print('-' * 90)\n",
        "    print(f'Средняя прибыль: {mean} млрд.руб.')\n",
        "    print('-' * 90)\n",
        "    print(f'Максимальный убыток: {loss.min()} млрд. руб.')\n",
        "    print('-' * 90)\n",
        "    print(f'риск убытков: {risk : .2%}')"
      ]
    },
    {
      "cell_type": "code",
      "execution_count": null,
      "metadata": {
        "id": "ql_sf81ClFwt",
        "outputId": "94e85796-be04-495b-bf91-3fed343710f0"
      },
      "outputs": [
        {
          "name": "stdout",
          "output_type": "stream",
          "text": [
            "Регион 1\n",
            "Доверительный интервал: (-0.4039910181234665, 1.207244183314993) млрд.руб.\n",
            "------------------------------------------------------------------------------------------\n",
            "95,7%-Квантиль: 0.9117370507514055 млрд.руб.\n",
            "------------------------------------------------------------------------------------------\n",
            "2,5%-Квантиль: -0.11774213649486832 млрд.руб.\n",
            "------------------------------------------------------------------------------------------\n",
            "Количество убыточных точек: 67 шт.\n",
            "------------------------------------------------------------------------------------------\n",
            "Максимальная прибыль: 1.207244183314993 млрд. руб.\n",
            "------------------------------------------------------------------------------------------\n",
            "Средняя прибыль: 0.406278783424419 млрд.руб.\n",
            "------------------------------------------------------------------------------------------\n",
            "Максимальный убыток: -0.4039910181234665 млрд. руб.\n",
            "------------------------------------------------------------------------------------------\n",
            "риск убытков:  6.70%\n"
          ]
        }
      ],
      "source": [
        "print(f'Регион 1')\n",
        "\n",
        "region_pred(target_valid_0, predictions_valid_0, BEST_POINTS)"
      ]
    },
    {
      "cell_type": "code",
      "execution_count": null,
      "metadata": {
        "id": "oOcvANDWlFwt",
        "outputId": "c8677941-2281-4869-8565-3f7487cdc45f"
      },
      "outputs": [
        {
          "name": "stdout",
          "output_type": "stream",
          "text": [
            "Регион 2\n",
            "Доверительный интервал: (-0.22150203070141983, 1.1654920487038993) млрд.руб.\n",
            "------------------------------------------------------------------------------------------\n",
            "95,7%-Квантиль: 0.8159725262857513 млрд.руб.\n",
            "------------------------------------------------------------------------------------------\n",
            "2,5%-Квантиль: 0.016846174932430125 млрд.руб.\n",
            "------------------------------------------------------------------------------------------\n",
            "Количество убыточных точек: 19 шт.\n",
            "------------------------------------------------------------------------------------------\n",
            "Максимальная прибыль: 1.1654920487038993 млрд. руб.\n",
            "------------------------------------------------------------------------------------------\n",
            "Средняя прибыль: 0.4326241318131374 млрд.руб.\n",
            "------------------------------------------------------------------------------------------\n",
            "Максимальный убыток: -0.22150203070141983 млрд. руб.\n",
            "------------------------------------------------------------------------------------------\n",
            "риск убытков:  1.90%\n"
          ]
        }
      ],
      "source": [
        "print(f'Регион 2')\n",
        "\n",
        "region_pred(target_valid_1, predictions_valid_1, BEST_POINTS)"
      ]
    },
    {
      "cell_type": "code",
      "execution_count": null,
      "metadata": {
        "id": "ViRWxgmClFwu",
        "outputId": "5b8288bc-a957-4e63-fe8a-227e7f2df193"
      },
      "outputs": [
        {
          "name": "stdout",
          "output_type": "stream",
          "text": [
            "Регион 3\n",
            "Доверительный интервал: (-0.4714454707608528, 1.1761209047422905) млрд.руб.\n",
            "------------------------------------------------------------------------------------------\n",
            "95,7%-Квантиль: 0.9017721313864455 млрд.руб.\n",
            "------------------------------------------------------------------------------------------\n",
            "2,5%-Квантиль: -0.1707804177057271 млрд.руб.\n",
            "------------------------------------------------------------------------------------------\n",
            "Количество убыточных точек: 74 шт.\n",
            "------------------------------------------------------------------------------------------\n",
            "Максимальная прибыль: 1.1761209047422905 млрд. руб.\n",
            "------------------------------------------------------------------------------------------\n",
            "Средняя прибыль: 0.37736219242291646 млрд.руб.\n",
            "------------------------------------------------------------------------------------------\n",
            "Максимальный убыток: -0.4714454707608528 млрд. руб.\n",
            "------------------------------------------------------------------------------------------\n",
            "риск убытков:  7.40%\n"
          ]
        }
      ],
      "source": [
        "print(f'Регион 3')\n",
        "\n",
        "region_pred(target_valid_2, predictions_valid_2, BEST_POINTS)"
      ]
    },
    {
      "cell_type": "markdown",
      "metadata": {
        "id": "xQyyvNCMlFwv"
      },
      "source": [
        "## Вывод:\n",
        "- первым нашим шагом было проанализировать датасет и посмотреть на первичные данные и как они распределены:\n",
        "  - сначала мы проверили все 3 региона на данные\n",
        "  - удалили столбец 'id' потому, что он нам только мешался и в ходе анализа было установленно что в нем имеют двойные значения, было решено его удалить и сбросить индексы\n",
        "- вторым нашим шагом было то, что мы обучили линейную регрессию и сделали предсказание по региону краткие выводы по нашей модели:\n",
        "  - исходя из RMSE можем сделать первоначальный вывод что наша модель лучше всего предсказала данные по второму региону, (Чем ниже RMSE тем модель точнее предсказывает), так же мы видим что средний запас сырья в этом регионе меньше, чем в остальных двух регионах.\n",
        "- третим шагом мы подготовили данные для расчета:\n",
        "  - внесли ключевые данные необходимые для расчётов\n",
        "  - Рассчитали достаточный объём сырья для безубыточной разработки новой скважины, и он равен: 111.11111111111111\n",
        "- четвертым шагом мы расчитали прибыль для полученного объёма сырья.\n",
        "  - Прибыль для полученного объема сырья, 1 региона: 3.359141114462179 млрд.руб.\n",
        "  - Прибыль для полученного объема сырья, 2 региона: 2.4150866966815108 млрд.руб.\n",
        "  - Прибыль для полученного объема сырья, 3 региона: 2.5985717593741113 млрд.руб.\n",
        "- пятым нашим шагом посчитали риски и прибыль для каждого региона:\n",
        "  - Регион 1\n",
        "    - риск убытков:  6.70%\n",
        "  - Регион 2\n",
        "    - риск убытков:  1.90%\n",
        "  - Регион 3\n",
        "    - риск убытков:  7.40%\n",
        "# Рекомендации для бизнеса:\n",
        "  - Самый оптимальный регион для добычи нефти нашей компании является \"Регион 2\":\n",
        "    - 2 регион получил минимальную оценку RMSE =  0.8902801001028846 это говорит о том что наша моделька предсказала много правильных ответов, и шанс ошибиться в скважине уменьшается\n",
        "    - У 2 региона самый минимальный риск убытков = 1.90%\n",
        "    - средняя прибыль Региона 2 выше чем у других регионов и равняется: 0.37736219242291646 млрд.руб.\n",
        "    - Доверительный интервал (-0.4714454707608528, 1.1761209047422905) млрд.руб. 2 региона, а значит что мы выйдем быстрее в безубыточность, чем в других регионах."
      ]
    }
  ],
  "metadata": {
    "ExecuteTimeLog": [
      {
        "duration": 61,
        "start_time": "2022-12-15T10:06:37.525Z"
      },
      {
        "duration": 425,
        "start_time": "2022-12-15T10:07:06.863Z"
      },
      {
        "duration": 670,
        "start_time": "2022-12-15T10:07:07.726Z"
      },
      {
        "duration": 14,
        "start_time": "2022-12-15T10:07:08.854Z"
      },
      {
        "duration": 15,
        "start_time": "2022-12-15T10:09:15.789Z"
      },
      {
        "duration": 10,
        "start_time": "2022-12-15T10:09:23.119Z"
      },
      {
        "duration": 12,
        "start_time": "2022-12-15T10:09:26.873Z"
      },
      {
        "duration": 840,
        "start_time": "2022-12-15T10:09:51.998Z"
      },
      {
        "duration": 353,
        "start_time": "2022-12-15T10:09:58.951Z"
      },
      {
        "duration": 77,
        "start_time": "2022-12-15T10:11:54.991Z"
      },
      {
        "duration": 6,
        "start_time": "2022-12-15T10:12:03.856Z"
      },
      {
        "duration": 223,
        "start_time": "2022-12-15T10:13:30.702Z"
      },
      {
        "duration": 1005,
        "start_time": "2022-12-15T10:14:29.103Z"
      },
      {
        "duration": 17,
        "start_time": "2022-12-15T10:14:46.996Z"
      },
      {
        "duration": 8,
        "start_time": "2022-12-15T10:15:02.470Z"
      },
      {
        "duration": 5,
        "start_time": "2022-12-15T10:15:13.833Z"
      },
      {
        "duration": 49,
        "start_time": "2022-12-15T10:17:34.166Z"
      },
      {
        "duration": 367,
        "start_time": "2022-12-15T10:19:08.493Z"
      },
      {
        "duration": 416,
        "start_time": "2022-12-15T10:19:12.620Z"
      },
      {
        "duration": 892,
        "start_time": "2022-12-15T10:19:30.141Z"
      },
      {
        "duration": 561,
        "start_time": "2022-12-15T10:20:01.555Z"
      },
      {
        "duration": 531,
        "start_time": "2022-12-15T10:20:11.813Z"
      },
      {
        "duration": 429,
        "start_time": "2022-12-15T10:20:18.765Z"
      },
      {
        "duration": 1197,
        "start_time": "2022-12-15T10:20:58.440Z"
      },
      {
        "duration": 62,
        "start_time": "2022-12-15T10:21:17.012Z"
      },
      {
        "duration": 1289,
        "start_time": "2022-12-15T10:21:29.708Z"
      },
      {
        "duration": 1148,
        "start_time": "2022-12-15T10:21:40.284Z"
      },
      {
        "duration": 1337,
        "start_time": "2022-12-15T10:21:50.740Z"
      },
      {
        "duration": 1271,
        "start_time": "2022-12-15T10:22:03.990Z"
      },
      {
        "duration": 5,
        "start_time": "2022-12-15T10:46:17.521Z"
      },
      {
        "duration": 7,
        "start_time": "2022-12-15T10:46:20.224Z"
      },
      {
        "duration": 7,
        "start_time": "2022-12-15T10:46:24.832Z"
      },
      {
        "duration": 1070,
        "start_time": "2022-12-15T10:47:35.051Z"
      },
      {
        "duration": 238,
        "start_time": "2022-12-15T10:53:36.768Z"
      },
      {
        "duration": 452,
        "start_time": "2022-12-21T11:10:23.442Z"
      },
      {
        "duration": 1644,
        "start_time": "2022-12-21T11:10:23.896Z"
      },
      {
        "duration": 20,
        "start_time": "2022-12-21T11:10:25.543Z"
      },
      {
        "duration": 76,
        "start_time": "2022-12-21T11:10:25.565Z"
      },
      {
        "duration": 1513,
        "start_time": "2022-12-21T11:10:25.643Z"
      },
      {
        "duration": 107,
        "start_time": "2022-12-21T11:10:27.157Z"
      },
      {
        "duration": 1097,
        "start_time": "2022-12-21T11:17:18.177Z"
      },
      {
        "duration": 350,
        "start_time": "2022-12-21T11:17:19.277Z"
      },
      {
        "duration": 17,
        "start_time": "2022-12-21T11:17:19.629Z"
      },
      {
        "duration": 40,
        "start_time": "2022-12-21T11:17:19.653Z"
      },
      {
        "duration": 1314,
        "start_time": "2022-12-21T11:17:19.695Z"
      },
      {
        "duration": 191,
        "start_time": "2022-12-21T11:17:21.012Z"
      },
      {
        "duration": 1166,
        "start_time": "2022-12-21T11:19:54.993Z"
      },
      {
        "duration": 353,
        "start_time": "2022-12-21T11:19:56.161Z"
      },
      {
        "duration": 14,
        "start_time": "2022-12-21T11:19:56.515Z"
      },
      {
        "duration": 58,
        "start_time": "2022-12-21T11:19:56.531Z"
      },
      {
        "duration": 1347,
        "start_time": "2022-12-21T11:19:56.591Z"
      },
      {
        "duration": 188,
        "start_time": "2022-12-21T11:19:57.941Z"
      },
      {
        "duration": 3,
        "start_time": "2022-12-21T11:19:58.131Z"
      },
      {
        "duration": 14,
        "start_time": "2022-12-21T11:22:17.207Z"
      },
      {
        "duration": 67,
        "start_time": "2022-12-21T11:29:12.965Z"
      },
      {
        "duration": 32,
        "start_time": "2022-12-21T11:29:21.578Z"
      },
      {
        "duration": 21,
        "start_time": "2022-12-21T11:29:43.802Z"
      },
      {
        "duration": 13,
        "start_time": "2022-12-21T11:30:07.441Z"
      },
      {
        "duration": 12,
        "start_time": "2022-12-21T11:30:59.340Z"
      },
      {
        "duration": 76,
        "start_time": "2022-12-21T11:37:00.686Z"
      },
      {
        "duration": 69,
        "start_time": "2022-12-21T11:37:33.962Z"
      },
      {
        "duration": 94,
        "start_time": "2022-12-21T11:37:53.729Z"
      },
      {
        "duration": 31,
        "start_time": "2022-12-21T11:38:15.002Z"
      },
      {
        "duration": 1120,
        "start_time": "2022-12-21T11:38:28.721Z"
      },
      {
        "duration": 358,
        "start_time": "2022-12-21T11:38:29.843Z"
      },
      {
        "duration": 13,
        "start_time": "2022-12-21T11:38:30.203Z"
      },
      {
        "duration": 47,
        "start_time": "2022-12-21T11:38:30.218Z"
      },
      {
        "duration": 1341,
        "start_time": "2022-12-21T11:38:30.267Z"
      },
      {
        "duration": 194,
        "start_time": "2022-12-21T11:38:31.609Z"
      },
      {
        "duration": 13,
        "start_time": "2022-12-21T11:38:31.805Z"
      },
      {
        "duration": 147,
        "start_time": "2022-12-21T11:38:31.820Z"
      },
      {
        "duration": 1097,
        "start_time": "2022-12-21T11:45:18.915Z"
      },
      {
        "duration": 350,
        "start_time": "2022-12-21T11:45:20.014Z"
      },
      {
        "duration": 12,
        "start_time": "2022-12-21T11:45:20.366Z"
      },
      {
        "duration": 45,
        "start_time": "2022-12-21T11:45:20.381Z"
      },
      {
        "duration": 1204,
        "start_time": "2022-12-21T11:45:20.428Z"
      },
      {
        "duration": 186,
        "start_time": "2022-12-21T11:45:21.634Z"
      },
      {
        "duration": 13,
        "start_time": "2022-12-21T11:45:21.822Z"
      },
      {
        "duration": 72,
        "start_time": "2022-12-21T11:55:56.362Z"
      },
      {
        "duration": 114,
        "start_time": "2022-12-21T11:56:02.092Z"
      },
      {
        "duration": 1095,
        "start_time": "2022-12-21T11:56:27.652Z"
      },
      {
        "duration": 357,
        "start_time": "2022-12-21T11:56:28.749Z"
      },
      {
        "duration": 13,
        "start_time": "2022-12-21T11:56:29.110Z"
      },
      {
        "duration": 48,
        "start_time": "2022-12-21T11:56:29.125Z"
      },
      {
        "duration": 1227,
        "start_time": "2022-12-21T11:56:29.175Z"
      },
      {
        "duration": 190,
        "start_time": "2022-12-21T11:56:30.404Z"
      },
      {
        "duration": 14,
        "start_time": "2022-12-21T11:56:30.595Z"
      },
      {
        "duration": 125,
        "start_time": "2022-12-21T11:56:30.610Z"
      },
      {
        "duration": 25,
        "start_time": "2022-12-21T11:56:39.972Z"
      },
      {
        "duration": 1065,
        "start_time": "2022-12-21T11:58:52.758Z"
      },
      {
        "duration": 357,
        "start_time": "2022-12-21T11:58:53.825Z"
      },
      {
        "duration": 13,
        "start_time": "2022-12-21T11:58:54.184Z"
      },
      {
        "duration": 53,
        "start_time": "2022-12-21T11:58:54.199Z"
      },
      {
        "duration": 1266,
        "start_time": "2022-12-21T11:58:54.254Z"
      },
      {
        "duration": 184,
        "start_time": "2022-12-21T11:58:55.522Z"
      },
      {
        "duration": 12,
        "start_time": "2022-12-21T11:58:55.708Z"
      },
      {
        "duration": 129,
        "start_time": "2022-12-21T11:58:55.722Z"
      },
      {
        "duration": 26,
        "start_time": "2022-12-21T12:01:16.685Z"
      },
      {
        "duration": 24,
        "start_time": "2022-12-21T12:01:32.605Z"
      },
      {
        "duration": 25,
        "start_time": "2022-12-21T12:01:44.102Z"
      },
      {
        "duration": 18,
        "start_time": "2022-12-21T12:01:54.490Z"
      },
      {
        "duration": 10,
        "start_time": "2022-12-21T12:02:13.862Z"
      },
      {
        "duration": 23,
        "start_time": "2022-12-21T12:02:19.978Z"
      },
      {
        "duration": 21,
        "start_time": "2022-12-21T12:02:44.691Z"
      },
      {
        "duration": 17,
        "start_time": "2022-12-21T12:03:33.966Z"
      },
      {
        "duration": 18,
        "start_time": "2022-12-21T12:04:13.811Z"
      },
      {
        "duration": 83,
        "start_time": "2022-12-21T12:11:49.726Z"
      },
      {
        "duration": 46,
        "start_time": "2022-12-21T12:12:01.369Z"
      },
      {
        "duration": 57,
        "start_time": "2022-12-21T12:12:19.751Z"
      },
      {
        "duration": 47,
        "start_time": "2022-12-21T12:12:28.666Z"
      },
      {
        "duration": 75,
        "start_time": "2022-12-21T12:14:45.374Z"
      },
      {
        "duration": 46,
        "start_time": "2022-12-21T12:14:52.653Z"
      },
      {
        "duration": 52,
        "start_time": "2022-12-21T12:15:12.917Z"
      },
      {
        "duration": 50,
        "start_time": "2022-12-21T12:16:43.287Z"
      },
      {
        "duration": 47,
        "start_time": "2022-12-21T12:18:50.775Z"
      },
      {
        "duration": 97,
        "start_time": "2022-12-21T12:20:27.811Z"
      },
      {
        "duration": 60,
        "start_time": "2022-12-21T12:20:33.660Z"
      },
      {
        "duration": 67,
        "start_time": "2022-12-21T12:20:43.505Z"
      },
      {
        "duration": 55,
        "start_time": "2022-12-21T12:20:48.082Z"
      },
      {
        "duration": 48,
        "start_time": "2022-12-21T12:20:59.686Z"
      },
      {
        "duration": 48,
        "start_time": "2022-12-21T12:21:12.078Z"
      },
      {
        "duration": 47,
        "start_time": "2022-12-21T12:21:20.278Z"
      },
      {
        "duration": 5,
        "start_time": "2022-12-21T12:22:03.952Z"
      },
      {
        "duration": 9,
        "start_time": "2022-12-21T12:32:21.471Z"
      },
      {
        "duration": 2,
        "start_time": "2022-12-21T12:32:39.771Z"
      },
      {
        "duration": 29,
        "start_time": "2022-12-21T12:33:45.485Z"
      },
      {
        "duration": 1088,
        "start_time": "2022-12-21T12:34:34.154Z"
      },
      {
        "duration": 358,
        "start_time": "2022-12-21T12:34:35.244Z"
      },
      {
        "duration": 13,
        "start_time": "2022-12-21T12:34:35.604Z"
      },
      {
        "duration": 43,
        "start_time": "2022-12-21T12:34:35.619Z"
      },
      {
        "duration": 1217,
        "start_time": "2022-12-21T12:34:35.664Z"
      },
      {
        "duration": 192,
        "start_time": "2022-12-21T12:34:36.883Z"
      },
      {
        "duration": 13,
        "start_time": "2022-12-21T12:34:37.077Z"
      },
      {
        "duration": 71,
        "start_time": "2022-12-21T12:34:37.092Z"
      },
      {
        "duration": 127,
        "start_time": "2022-12-21T12:34:37.165Z"
      },
      {
        "duration": 982,
        "start_time": "2022-12-21T12:36:04.718Z"
      },
      {
        "duration": 354,
        "start_time": "2022-12-21T12:36:05.702Z"
      },
      {
        "duration": 13,
        "start_time": "2022-12-21T12:36:06.057Z"
      },
      {
        "duration": 33,
        "start_time": "2022-12-21T12:36:06.072Z"
      },
      {
        "duration": 1234,
        "start_time": "2022-12-21T12:36:06.106Z"
      },
      {
        "duration": 186,
        "start_time": "2022-12-21T12:36:07.341Z"
      },
      {
        "duration": 102,
        "start_time": "2022-12-21T12:36:07.528Z"
      },
      {
        "duration": 0,
        "start_time": "2022-12-21T12:36:07.632Z"
      },
      {
        "duration": 0,
        "start_time": "2022-12-21T12:36:07.633Z"
      },
      {
        "duration": 13,
        "start_time": "2022-12-21T12:36:24.455Z"
      },
      {
        "duration": 1060,
        "start_time": "2022-12-21T12:36:28.556Z"
      },
      {
        "duration": 354,
        "start_time": "2022-12-21T12:36:29.618Z"
      },
      {
        "duration": 14,
        "start_time": "2022-12-21T12:36:29.974Z"
      },
      {
        "duration": 32,
        "start_time": "2022-12-21T12:36:29.990Z"
      },
      {
        "duration": 1267,
        "start_time": "2022-12-21T12:36:30.024Z"
      },
      {
        "duration": 184,
        "start_time": "2022-12-21T12:36:31.293Z"
      },
      {
        "duration": 12,
        "start_time": "2022-12-21T12:36:31.478Z"
      },
      {
        "duration": 66,
        "start_time": "2022-12-21T12:36:31.492Z"
      },
      {
        "duration": 126,
        "start_time": "2022-12-21T12:36:31.560Z"
      },
      {
        "duration": 11,
        "start_time": "2022-12-21T12:56:18.069Z"
      },
      {
        "duration": 18,
        "start_time": "2022-12-21T13:02:46.399Z"
      },
      {
        "duration": 1109,
        "start_time": "2022-12-21T13:03:08.217Z"
      },
      {
        "duration": 339,
        "start_time": "2022-12-21T13:03:09.327Z"
      },
      {
        "duration": 14,
        "start_time": "2022-12-21T13:03:09.668Z"
      },
      {
        "duration": 37,
        "start_time": "2022-12-21T13:03:09.684Z"
      },
      {
        "duration": 1196,
        "start_time": "2022-12-21T13:03:09.723Z"
      },
      {
        "duration": 185,
        "start_time": "2022-12-21T13:03:10.920Z"
      },
      {
        "duration": 12,
        "start_time": "2022-12-21T13:03:11.107Z"
      },
      {
        "duration": 70,
        "start_time": "2022-12-21T13:03:11.120Z"
      },
      {
        "duration": 377,
        "start_time": "2022-12-21T13:03:11.192Z"
      },
      {
        "duration": 653,
        "start_time": "2022-12-21T13:03:56.957Z"
      },
      {
        "duration": 652,
        "start_time": "2022-12-21T13:04:44.631Z"
      },
      {
        "duration": 649,
        "start_time": "2022-12-21T13:05:37.391Z"
      },
      {
        "duration": 1141,
        "start_time": "2022-12-21T13:06:54.778Z"
      },
      {
        "duration": 1584,
        "start_time": "2022-12-21T13:06:55.921Z"
      },
      {
        "duration": 14,
        "start_time": "2022-12-21T13:06:57.507Z"
      },
      {
        "duration": 33,
        "start_time": "2022-12-21T13:06:57.522Z"
      },
      {
        "duration": 1239,
        "start_time": "2022-12-21T13:06:57.556Z"
      },
      {
        "duration": 190,
        "start_time": "2022-12-21T13:06:58.797Z"
      },
      {
        "duration": 12,
        "start_time": "2022-12-21T13:06:58.989Z"
      },
      {
        "duration": 67,
        "start_time": "2022-12-21T13:06:59.003Z"
      },
      {
        "duration": 61,
        "start_time": "2022-12-21T13:08:45.656Z"
      },
      {
        "duration": 1172,
        "start_time": "2022-12-21T13:08:51.558Z"
      },
      {
        "duration": 1721,
        "start_time": "2022-12-21T13:08:52.732Z"
      },
      {
        "duration": 14,
        "start_time": "2022-12-21T13:08:54.454Z"
      },
      {
        "duration": 51,
        "start_time": "2022-12-21T13:08:54.471Z"
      },
      {
        "duration": 1428,
        "start_time": "2022-12-21T13:08:54.524Z"
      },
      {
        "duration": 214,
        "start_time": "2022-12-21T13:08:55.954Z"
      },
      {
        "duration": 15,
        "start_time": "2022-12-21T13:08:56.171Z"
      },
      {
        "duration": 78,
        "start_time": "2022-12-21T13:08:56.188Z"
      },
      {
        "duration": 756,
        "start_time": "2022-12-21T13:08:56.268Z"
      },
      {
        "duration": 44,
        "start_time": "2022-12-21T13:51:08.998Z"
      },
      {
        "duration": 1056,
        "start_time": "2022-12-21T13:51:27.855Z"
      },
      {
        "duration": 1601,
        "start_time": "2022-12-21T13:51:28.913Z"
      },
      {
        "duration": 13,
        "start_time": "2022-12-21T13:51:30.516Z"
      },
      {
        "duration": 37,
        "start_time": "2022-12-21T13:51:30.532Z"
      },
      {
        "duration": 1229,
        "start_time": "2022-12-21T13:51:30.571Z"
      },
      {
        "duration": 181,
        "start_time": "2022-12-21T13:51:31.802Z"
      },
      {
        "duration": 106,
        "start_time": "2022-12-21T13:51:31.984Z"
      },
      {
        "duration": 0,
        "start_time": "2022-12-21T13:51:32.091Z"
      },
      {
        "duration": 0,
        "start_time": "2022-12-21T13:51:32.092Z"
      },
      {
        "duration": 0,
        "start_time": "2022-12-21T13:51:32.093Z"
      },
      {
        "duration": 19,
        "start_time": "2022-12-21T13:53:03.462Z"
      },
      {
        "duration": 21,
        "start_time": "2022-12-21T13:53:15.966Z"
      },
      {
        "duration": 821,
        "start_time": "2022-12-21T13:53:25.654Z"
      },
      {
        "duration": 22,
        "start_time": "2022-12-21T13:53:45.013Z"
      },
      {
        "duration": 21,
        "start_time": "2022-12-21T13:54:26.086Z"
      },
      {
        "duration": 19,
        "start_time": "2022-12-21T13:59:26.014Z"
      },
      {
        "duration": 35,
        "start_time": "2022-12-21T13:59:52.684Z"
      },
      {
        "duration": 54,
        "start_time": "2022-12-21T14:00:05.501Z"
      },
      {
        "duration": 25,
        "start_time": "2022-12-21T14:02:15.462Z"
      },
      {
        "duration": 57,
        "start_time": "2022-12-21T14:02:40.021Z"
      },
      {
        "duration": 58,
        "start_time": "2022-12-21T14:02:53.463Z"
      },
      {
        "duration": 57,
        "start_time": "2022-12-21T14:03:17.926Z"
      },
      {
        "duration": 61,
        "start_time": "2022-12-21T14:03:29.918Z"
      },
      {
        "duration": 52,
        "start_time": "2022-12-21T14:03:39.344Z"
      },
      {
        "duration": 1046,
        "start_time": "2022-12-21T14:04:28.764Z"
      },
      {
        "duration": 335,
        "start_time": "2022-12-21T14:04:29.812Z"
      },
      {
        "duration": 12,
        "start_time": "2022-12-21T14:04:30.149Z"
      },
      {
        "duration": 63,
        "start_time": "2022-12-21T14:04:30.163Z"
      },
      {
        "duration": 1245,
        "start_time": "2022-12-21T14:04:30.228Z"
      },
      {
        "duration": 181,
        "start_time": "2022-12-21T14:04:31.475Z"
      },
      {
        "duration": 11,
        "start_time": "2022-12-21T14:04:31.658Z"
      },
      {
        "duration": 65,
        "start_time": "2022-12-21T14:04:31.671Z"
      },
      {
        "duration": 17,
        "start_time": "2022-12-21T14:04:31.737Z"
      },
      {
        "duration": 13,
        "start_time": "2022-12-21T14:06:49.946Z"
      },
      {
        "duration": 101,
        "start_time": "2022-12-21T14:07:12.190Z"
      },
      {
        "duration": 9,
        "start_time": "2022-12-21T14:07:37.892Z"
      },
      {
        "duration": 1065,
        "start_time": "2022-12-21T14:07:42.964Z"
      },
      {
        "duration": 351,
        "start_time": "2022-12-21T14:07:44.031Z"
      },
      {
        "duration": 14,
        "start_time": "2022-12-21T14:07:44.384Z"
      },
      {
        "duration": 34,
        "start_time": "2022-12-21T14:07:44.400Z"
      },
      {
        "duration": 1203,
        "start_time": "2022-12-21T14:07:44.436Z"
      },
      {
        "duration": 178,
        "start_time": "2022-12-21T14:07:45.641Z"
      },
      {
        "duration": 13,
        "start_time": "2022-12-21T14:07:45.821Z"
      },
      {
        "duration": 69,
        "start_time": "2022-12-21T14:07:45.836Z"
      },
      {
        "duration": 10,
        "start_time": "2022-12-21T14:07:45.907Z"
      },
      {
        "duration": 37,
        "start_time": "2022-12-21T14:07:45.919Z"
      },
      {
        "duration": 126,
        "start_time": "2022-12-21T14:08:02.406Z"
      },
      {
        "duration": 1086,
        "start_time": "2022-12-21T14:08:07.623Z"
      },
      {
        "duration": 353,
        "start_time": "2022-12-21T14:08:08.710Z"
      },
      {
        "duration": 13,
        "start_time": "2022-12-21T14:08:09.065Z"
      },
      {
        "duration": 35,
        "start_time": "2022-12-21T14:08:09.080Z"
      },
      {
        "duration": 1222,
        "start_time": "2022-12-21T14:08:09.117Z"
      },
      {
        "duration": 182,
        "start_time": "2022-12-21T14:08:10.340Z"
      },
      {
        "duration": 29,
        "start_time": "2022-12-21T14:08:10.523Z"
      },
      {
        "duration": 10,
        "start_time": "2022-12-21T14:08:10.554Z"
      },
      {
        "duration": 133,
        "start_time": "2022-12-21T14:08:10.565Z"
      },
      {
        "duration": 6,
        "start_time": "2022-12-21T14:08:10.700Z"
      },
      {
        "duration": 106,
        "start_time": "2022-12-21T14:08:40.884Z"
      },
      {
        "duration": 1040,
        "start_time": "2022-12-21T14:08:46.281Z"
      },
      {
        "duration": 350,
        "start_time": "2022-12-21T14:08:47.323Z"
      },
      {
        "duration": 12,
        "start_time": "2022-12-21T14:08:47.675Z"
      },
      {
        "duration": 52,
        "start_time": "2022-12-21T14:08:47.689Z"
      },
      {
        "duration": 1254,
        "start_time": "2022-12-21T14:08:47.742Z"
      },
      {
        "duration": 195,
        "start_time": "2022-12-21T14:08:48.997Z"
      },
      {
        "duration": 29,
        "start_time": "2022-12-21T14:08:49.194Z"
      },
      {
        "duration": 29,
        "start_time": "2022-12-21T14:08:49.225Z"
      },
      {
        "duration": 134,
        "start_time": "2022-12-21T14:08:49.256Z"
      },
      {
        "duration": 6,
        "start_time": "2022-12-21T14:08:49.392Z"
      },
      {
        "duration": 6,
        "start_time": "2022-12-21T14:09:38.709Z"
      },
      {
        "duration": 4,
        "start_time": "2022-12-21T14:09:52.898Z"
      },
      {
        "duration": 8,
        "start_time": "2022-12-21T14:15:28.501Z"
      },
      {
        "duration": 110,
        "start_time": "2022-12-21T14:19:35.620Z"
      },
      {
        "duration": 1028,
        "start_time": "2022-12-21T14:19:41.401Z"
      },
      {
        "duration": 395,
        "start_time": "2022-12-21T14:19:42.432Z"
      },
      {
        "duration": 13,
        "start_time": "2022-12-21T14:19:42.828Z"
      },
      {
        "duration": 59,
        "start_time": "2022-12-21T14:19:42.844Z"
      },
      {
        "duration": 1229,
        "start_time": "2022-12-21T14:19:42.904Z"
      },
      {
        "duration": 195,
        "start_time": "2022-12-21T14:19:44.135Z"
      },
      {
        "duration": 36,
        "start_time": "2022-12-21T14:19:44.332Z"
      },
      {
        "duration": 37,
        "start_time": "2022-12-21T14:19:44.369Z"
      },
      {
        "duration": 145,
        "start_time": "2022-12-21T14:19:44.408Z"
      },
      {
        "duration": 165,
        "start_time": "2022-12-21T14:19:44.556Z"
      },
      {
        "duration": 19,
        "start_time": "2022-12-21T14:19:56.417Z"
      },
      {
        "duration": 8,
        "start_time": "2022-12-21T14:21:03.957Z"
      },
      {
        "duration": 1110,
        "start_time": "2022-12-21T14:21:13.624Z"
      },
      {
        "duration": 368,
        "start_time": "2022-12-21T14:21:14.736Z"
      },
      {
        "duration": 13,
        "start_time": "2022-12-21T14:21:15.106Z"
      },
      {
        "duration": 44,
        "start_time": "2022-12-21T14:21:15.121Z"
      },
      {
        "duration": 1255,
        "start_time": "2022-12-21T14:21:15.167Z"
      },
      {
        "duration": 190,
        "start_time": "2022-12-21T14:21:16.424Z"
      },
      {
        "duration": 21,
        "start_time": "2022-12-21T14:21:16.615Z"
      },
      {
        "duration": 24,
        "start_time": "2022-12-21T14:21:16.638Z"
      },
      {
        "duration": 158,
        "start_time": "2022-12-21T14:21:16.663Z"
      },
      {
        "duration": 9,
        "start_time": "2022-12-21T14:21:16.823Z"
      },
      {
        "duration": 37,
        "start_time": "2022-12-21T14:21:16.834Z"
      },
      {
        "duration": 163,
        "start_time": "2022-12-21T14:23:54.775Z"
      },
      {
        "duration": 24,
        "start_time": "2022-12-21T14:24:03.740Z"
      },
      {
        "duration": 28,
        "start_time": "2022-12-21T14:24:09.775Z"
      },
      {
        "duration": 19,
        "start_time": "2022-12-21T14:24:26.710Z"
      },
      {
        "duration": 1090,
        "start_time": "2022-12-21T14:24:32.299Z"
      },
      {
        "duration": 354,
        "start_time": "2022-12-21T14:24:33.391Z"
      },
      {
        "duration": 13,
        "start_time": "2022-12-21T14:24:33.747Z"
      },
      {
        "duration": 40,
        "start_time": "2022-12-21T14:24:33.762Z"
      },
      {
        "duration": 1257,
        "start_time": "2022-12-21T14:24:33.805Z"
      },
      {
        "duration": 186,
        "start_time": "2022-12-21T14:24:35.063Z"
      },
      {
        "duration": 20,
        "start_time": "2022-12-21T14:24:35.252Z"
      },
      {
        "duration": 9,
        "start_time": "2022-12-21T14:24:35.274Z"
      },
      {
        "duration": 143,
        "start_time": "2022-12-21T14:24:35.285Z"
      },
      {
        "duration": 31,
        "start_time": "2022-12-21T14:24:35.430Z"
      },
      {
        "duration": 19,
        "start_time": "2022-12-21T14:25:11.062Z"
      },
      {
        "duration": 362,
        "start_time": "2022-12-21T14:40:04.728Z"
      },
      {
        "duration": 77,
        "start_time": "2022-12-21T14:40:22.279Z"
      },
      {
        "duration": 56,
        "start_time": "2022-12-21T14:40:32.127Z"
      },
      {
        "duration": 64,
        "start_time": "2022-12-21T14:40:43.423Z"
      },
      {
        "duration": 5,
        "start_time": "2022-12-21T14:41:12.023Z"
      },
      {
        "duration": 164,
        "start_time": "2022-12-21T14:41:14.823Z"
      },
      {
        "duration": 1112,
        "start_time": "2022-12-21T14:41:30.076Z"
      },
      {
        "duration": 376,
        "start_time": "2022-12-21T14:41:31.191Z"
      },
      {
        "duration": 17,
        "start_time": "2022-12-21T14:41:31.570Z"
      },
      {
        "duration": 65,
        "start_time": "2022-12-21T14:41:31.591Z"
      },
      {
        "duration": 1454,
        "start_time": "2022-12-21T14:41:31.658Z"
      },
      {
        "duration": 190,
        "start_time": "2022-12-21T14:41:33.114Z"
      },
      {
        "duration": 19,
        "start_time": "2022-12-21T14:41:33.306Z"
      },
      {
        "duration": 26,
        "start_time": "2022-12-21T14:41:33.327Z"
      },
      {
        "duration": 140,
        "start_time": "2022-12-21T14:41:33.355Z"
      },
      {
        "duration": 4,
        "start_time": "2022-12-21T14:41:33.498Z"
      },
      {
        "duration": 68,
        "start_time": "2022-12-21T14:41:33.504Z"
      },
      {
        "duration": 154,
        "start_time": "2022-12-21T14:42:35.928Z"
      },
      {
        "duration": 72,
        "start_time": "2022-12-21T14:42:46.402Z"
      },
      {
        "duration": 55,
        "start_time": "2022-12-21T14:43:02.046Z"
      },
      {
        "duration": 80,
        "start_time": "2022-12-21T14:43:39.605Z"
      },
      {
        "duration": 59,
        "start_time": "2022-12-21T14:43:46.668Z"
      },
      {
        "duration": 52,
        "start_time": "2022-12-21T14:44:09.482Z"
      },
      {
        "duration": 25,
        "start_time": "2022-12-21T14:44:53.127Z"
      },
      {
        "duration": 4,
        "start_time": "2022-12-21T14:45:24.919Z"
      },
      {
        "duration": 1176,
        "start_time": "2022-12-21T14:45:32.148Z"
      },
      {
        "duration": 398,
        "start_time": "2022-12-21T14:45:33.327Z"
      },
      {
        "duration": 14,
        "start_time": "2022-12-21T14:45:33.727Z"
      },
      {
        "duration": 40,
        "start_time": "2022-12-21T14:45:33.744Z"
      },
      {
        "duration": 1409,
        "start_time": "2022-12-21T14:45:33.785Z"
      },
      {
        "duration": 236,
        "start_time": "2022-12-21T14:45:35.196Z"
      },
      {
        "duration": 36,
        "start_time": "2022-12-21T14:45:35.434Z"
      },
      {
        "duration": 12,
        "start_time": "2022-12-21T14:45:35.472Z"
      },
      {
        "duration": 219,
        "start_time": "2022-12-21T14:45:35.486Z"
      },
      {
        "duration": 25,
        "start_time": "2022-12-21T14:45:35.707Z"
      },
      {
        "duration": 25,
        "start_time": "2022-12-21T14:45:35.735Z"
      },
      {
        "duration": 6,
        "start_time": "2022-12-21T14:45:35.763Z"
      },
      {
        "duration": 5,
        "start_time": "2022-12-21T14:46:28.353Z"
      },
      {
        "duration": 4,
        "start_time": "2022-12-21T14:46:42.515Z"
      },
      {
        "duration": 1404,
        "start_time": "2022-12-21T14:46:54.410Z"
      },
      {
        "duration": 429,
        "start_time": "2022-12-21T14:46:55.817Z"
      },
      {
        "duration": 18,
        "start_time": "2022-12-21T14:46:56.248Z"
      },
      {
        "duration": 56,
        "start_time": "2022-12-21T14:46:56.268Z"
      },
      {
        "duration": 1465,
        "start_time": "2022-12-21T14:46:56.326Z"
      },
      {
        "duration": 210,
        "start_time": "2022-12-21T14:46:57.795Z"
      },
      {
        "duration": 20,
        "start_time": "2022-12-21T14:46:58.007Z"
      },
      {
        "duration": 33,
        "start_time": "2022-12-21T14:46:58.030Z"
      },
      {
        "duration": 220,
        "start_time": "2022-12-21T14:46:58.066Z"
      },
      {
        "duration": 5,
        "start_time": "2022-12-21T14:46:58.289Z"
      },
      {
        "duration": 12,
        "start_time": "2022-12-21T14:46:58.295Z"
      },
      {
        "duration": 77,
        "start_time": "2022-12-21T14:46:58.308Z"
      },
      {
        "duration": 6,
        "start_time": "2022-12-21T14:46:58.389Z"
      },
      {
        "duration": 68,
        "start_time": "2022-12-21T14:47:56.054Z"
      },
      {
        "duration": 1472,
        "start_time": "2022-12-21T14:48:01.279Z"
      },
      {
        "duration": 556,
        "start_time": "2022-12-21T14:48:02.754Z"
      },
      {
        "duration": 19,
        "start_time": "2022-12-21T14:48:03.312Z"
      },
      {
        "duration": 58,
        "start_time": "2022-12-21T14:48:03.334Z"
      },
      {
        "duration": 1778,
        "start_time": "2022-12-21T14:48:03.395Z"
      },
      {
        "duration": 211,
        "start_time": "2022-12-21T14:48:05.175Z"
      },
      {
        "duration": 22,
        "start_time": "2022-12-21T14:48:05.388Z"
      },
      {
        "duration": 13,
        "start_time": "2022-12-21T14:48:05.413Z"
      },
      {
        "duration": 179,
        "start_time": "2022-12-21T14:48:05.428Z"
      },
      {
        "duration": 6,
        "start_time": "2022-12-21T14:48:05.610Z"
      },
      {
        "duration": 9,
        "start_time": "2022-12-21T14:48:05.617Z"
      },
      {
        "duration": 85,
        "start_time": "2022-12-21T14:48:05.628Z"
      },
      {
        "duration": 6,
        "start_time": "2022-12-21T14:48:05.714Z"
      },
      {
        "duration": 1092,
        "start_time": "2022-12-21T14:48:56.850Z"
      },
      {
        "duration": 359,
        "start_time": "2022-12-21T14:48:57.945Z"
      },
      {
        "duration": 13,
        "start_time": "2022-12-21T14:48:58.306Z"
      },
      {
        "duration": 46,
        "start_time": "2022-12-21T14:48:58.321Z"
      },
      {
        "duration": 1328,
        "start_time": "2022-12-21T14:48:58.369Z"
      },
      {
        "duration": 187,
        "start_time": "2022-12-21T14:48:59.698Z"
      },
      {
        "duration": 20,
        "start_time": "2022-12-21T14:48:59.887Z"
      },
      {
        "duration": 9,
        "start_time": "2022-12-21T14:48:59.909Z"
      },
      {
        "duration": 161,
        "start_time": "2022-12-21T14:48:59.920Z"
      },
      {
        "duration": 26,
        "start_time": "2022-12-21T14:49:00.085Z"
      },
      {
        "duration": 19,
        "start_time": "2022-12-21T14:49:00.113Z"
      },
      {
        "duration": 43,
        "start_time": "2022-12-21T14:49:00.133Z"
      },
      {
        "duration": 5,
        "start_time": "2022-12-21T14:50:30.877Z"
      },
      {
        "duration": 1137,
        "start_time": "2022-12-21T14:50:59.016Z"
      },
      {
        "duration": 401,
        "start_time": "2022-12-21T14:51:00.159Z"
      },
      {
        "duration": 14,
        "start_time": "2022-12-21T14:51:00.562Z"
      },
      {
        "duration": 70,
        "start_time": "2022-12-21T14:51:00.580Z"
      },
      {
        "duration": 1413,
        "start_time": "2022-12-21T14:51:00.652Z"
      },
      {
        "duration": 210,
        "start_time": "2022-12-21T14:51:02.068Z"
      },
      {
        "duration": 27,
        "start_time": "2022-12-21T14:51:02.281Z"
      },
      {
        "duration": 15,
        "start_time": "2022-12-21T14:51:02.311Z"
      },
      {
        "duration": 256,
        "start_time": "2022-12-21T14:51:02.328Z"
      },
      {
        "duration": 6,
        "start_time": "2022-12-21T14:51:02.588Z"
      },
      {
        "duration": 26,
        "start_time": "2022-12-21T14:51:02.596Z"
      },
      {
        "duration": 120,
        "start_time": "2022-12-21T14:51:02.624Z"
      },
      {
        "duration": 51,
        "start_time": "2022-12-21T14:53:55.118Z"
      },
      {
        "duration": 1183,
        "start_time": "2022-12-21T14:54:21.992Z"
      },
      {
        "duration": 450,
        "start_time": "2022-12-21T14:54:23.178Z"
      },
      {
        "duration": 18,
        "start_time": "2022-12-21T14:54:23.629Z"
      },
      {
        "duration": 54,
        "start_time": "2022-12-21T14:54:23.653Z"
      },
      {
        "duration": 1410,
        "start_time": "2022-12-21T14:54:23.710Z"
      },
      {
        "duration": 197,
        "start_time": "2022-12-21T14:54:25.122Z"
      },
      {
        "duration": 31,
        "start_time": "2022-12-21T14:54:25.321Z"
      },
      {
        "duration": 11,
        "start_time": "2022-12-21T14:54:25.354Z"
      },
      {
        "duration": 168,
        "start_time": "2022-12-21T14:54:25.368Z"
      },
      {
        "duration": 34,
        "start_time": "2022-12-21T14:54:25.539Z"
      },
      {
        "duration": 5,
        "start_time": "2022-12-21T14:54:25.575Z"
      },
      {
        "duration": 23,
        "start_time": "2022-12-21T14:54:25.582Z"
      },
      {
        "duration": 1241,
        "start_time": "2022-12-21T14:55:27.214Z"
      },
      {
        "duration": 491,
        "start_time": "2022-12-21T14:55:28.458Z"
      },
      {
        "duration": 18,
        "start_time": "2022-12-21T14:55:28.951Z"
      },
      {
        "duration": 60,
        "start_time": "2022-12-21T14:55:28.972Z"
      },
      {
        "duration": 1351,
        "start_time": "2022-12-21T14:55:29.034Z"
      },
      {
        "duration": 199,
        "start_time": "2022-12-21T14:55:30.387Z"
      },
      {
        "duration": 26,
        "start_time": "2022-12-21T14:55:30.588Z"
      },
      {
        "duration": 14,
        "start_time": "2022-12-21T14:55:30.616Z"
      },
      {
        "duration": 261,
        "start_time": "2022-12-21T14:55:30.653Z"
      },
      {
        "duration": 6,
        "start_time": "2022-12-21T14:55:30.918Z"
      },
      {
        "duration": 27,
        "start_time": "2022-12-21T14:55:30.926Z"
      },
      {
        "duration": 106,
        "start_time": "2022-12-21T14:55:30.955Z"
      },
      {
        "duration": 6,
        "start_time": "2022-12-21T14:55:31.066Z"
      },
      {
        "duration": 145,
        "start_time": "2022-12-21T15:08:10.250Z"
      },
      {
        "duration": 66,
        "start_time": "2022-12-21T15:08:19.164Z"
      },
      {
        "duration": 51,
        "start_time": "2022-12-21T15:09:22.045Z"
      },
      {
        "duration": 45,
        "start_time": "2022-12-21T15:09:31.080Z"
      },
      {
        "duration": 8,
        "start_time": "2022-12-21T15:10:47.407Z"
      },
      {
        "duration": 1206,
        "start_time": "2022-12-21T15:11:04.684Z"
      },
      {
        "duration": 389,
        "start_time": "2022-12-21T15:11:05.892Z"
      },
      {
        "duration": 16,
        "start_time": "2022-12-21T15:11:06.283Z"
      },
      {
        "duration": 64,
        "start_time": "2022-12-21T15:11:06.301Z"
      },
      {
        "duration": 1515,
        "start_time": "2022-12-21T15:11:06.367Z"
      },
      {
        "duration": 224,
        "start_time": "2022-12-21T15:11:07.884Z"
      },
      {
        "duration": 26,
        "start_time": "2022-12-21T15:11:08.110Z"
      },
      {
        "duration": 24,
        "start_time": "2022-12-21T15:11:08.138Z"
      },
      {
        "duration": 224,
        "start_time": "2022-12-21T15:11:08.165Z"
      },
      {
        "duration": 70,
        "start_time": "2022-12-21T15:11:08.391Z"
      },
      {
        "duration": 10,
        "start_time": "2022-12-21T15:11:08.463Z"
      },
      {
        "duration": 6,
        "start_time": "2022-12-21T15:14:49.298Z"
      },
      {
        "duration": 1096,
        "start_time": "2022-12-21T15:14:54.259Z"
      },
      {
        "duration": 362,
        "start_time": "2022-12-21T15:14:55.357Z"
      },
      {
        "duration": 29,
        "start_time": "2022-12-21T15:14:55.724Z"
      },
      {
        "duration": 45,
        "start_time": "2022-12-21T15:14:55.755Z"
      },
      {
        "duration": 1347,
        "start_time": "2022-12-21T15:14:55.802Z"
      },
      {
        "duration": 202,
        "start_time": "2022-12-21T15:14:57.151Z"
      },
      {
        "duration": 25,
        "start_time": "2022-12-21T15:14:57.355Z"
      },
      {
        "duration": 12,
        "start_time": "2022-12-21T15:14:57.383Z"
      },
      {
        "duration": 156,
        "start_time": "2022-12-21T15:14:57.397Z"
      },
      {
        "duration": 112,
        "start_time": "2022-12-21T15:14:57.555Z"
      },
      {
        "duration": 0,
        "start_time": "2022-12-21T15:14:57.669Z"
      },
      {
        "duration": 0,
        "start_time": "2022-12-21T15:14:57.670Z"
      },
      {
        "duration": 0,
        "start_time": "2022-12-21T15:14:57.670Z"
      },
      {
        "duration": 26,
        "start_time": "2022-12-21T15:15:25.522Z"
      },
      {
        "duration": 6,
        "start_time": "2022-12-21T15:15:27.810Z"
      },
      {
        "duration": 10,
        "start_time": "2022-12-21T15:15:27.977Z"
      },
      {
        "duration": 1136,
        "start_time": "2022-12-21T15:15:39.752Z"
      },
      {
        "duration": 409,
        "start_time": "2022-12-21T15:15:40.891Z"
      },
      {
        "duration": 13,
        "start_time": "2022-12-21T15:15:41.302Z"
      },
      {
        "duration": 57,
        "start_time": "2022-12-21T15:15:41.318Z"
      },
      {
        "duration": 1552,
        "start_time": "2022-12-21T15:15:41.377Z"
      },
      {
        "duration": 223,
        "start_time": "2022-12-21T15:15:42.931Z"
      },
      {
        "duration": 24,
        "start_time": "2022-12-21T15:15:43.156Z"
      },
      {
        "duration": 11,
        "start_time": "2022-12-21T15:15:43.182Z"
      },
      {
        "duration": 162,
        "start_time": "2022-12-21T15:15:43.195Z"
      },
      {
        "duration": 27,
        "start_time": "2022-12-21T15:15:43.360Z"
      },
      {
        "duration": 6,
        "start_time": "2022-12-21T15:15:43.389Z"
      },
      {
        "duration": 16,
        "start_time": "2022-12-21T15:15:43.397Z"
      },
      {
        "duration": 7,
        "start_time": "2022-12-21T15:15:43.414Z"
      },
      {
        "duration": 1041,
        "start_time": "2022-12-21T15:16:05.197Z"
      },
      {
        "duration": 419,
        "start_time": "2022-12-21T15:16:06.241Z"
      },
      {
        "duration": 13,
        "start_time": "2022-12-21T15:16:06.662Z"
      },
      {
        "duration": 34,
        "start_time": "2022-12-21T15:16:06.678Z"
      },
      {
        "duration": 1362,
        "start_time": "2022-12-21T15:16:06.714Z"
      },
      {
        "duration": 200,
        "start_time": "2022-12-21T15:16:08.079Z"
      },
      {
        "duration": 21,
        "start_time": "2022-12-21T15:16:08.281Z"
      },
      {
        "duration": 11,
        "start_time": "2022-12-21T15:16:08.304Z"
      },
      {
        "duration": 170,
        "start_time": "2022-12-21T15:16:08.317Z"
      },
      {
        "duration": 47,
        "start_time": "2022-12-21T15:16:08.490Z"
      },
      {
        "duration": 11,
        "start_time": "2022-12-21T15:16:08.553Z"
      },
      {
        "duration": 4,
        "start_time": "2022-12-21T15:16:29.554Z"
      },
      {
        "duration": 1282,
        "start_time": "2022-12-21T15:28:38.384Z"
      },
      {
        "duration": 1081,
        "start_time": "2022-12-21T15:28:46.178Z"
      },
      {
        "duration": 366,
        "start_time": "2022-12-21T15:28:47.261Z"
      },
      {
        "duration": 13,
        "start_time": "2022-12-21T15:28:47.629Z"
      },
      {
        "duration": 33,
        "start_time": "2022-12-21T15:28:47.653Z"
      },
      {
        "duration": 81,
        "start_time": "2022-12-21T15:28:47.688Z"
      },
      {
        "duration": 1200,
        "start_time": "2022-12-21T15:28:47.770Z"
      },
      {
        "duration": 202,
        "start_time": "2022-12-21T15:28:48.972Z"
      },
      {
        "duration": 20,
        "start_time": "2022-12-21T15:28:49.175Z"
      },
      {
        "duration": 10,
        "start_time": "2022-12-21T15:28:49.196Z"
      },
      {
        "duration": 145,
        "start_time": "2022-12-21T15:28:49.208Z"
      },
      {
        "duration": 42,
        "start_time": "2022-12-21T15:28:49.355Z"
      },
      {
        "duration": 4,
        "start_time": "2022-12-21T15:28:49.399Z"
      },
      {
        "duration": 115,
        "start_time": "2022-12-21T15:28:49.404Z"
      },
      {
        "duration": 1181,
        "start_time": "2022-12-21T15:30:13.880Z"
      },
      {
        "duration": 1082,
        "start_time": "2022-12-21T15:30:20.433Z"
      },
      {
        "duration": 353,
        "start_time": "2022-12-21T15:30:21.517Z"
      },
      {
        "duration": 14,
        "start_time": "2022-12-21T15:30:21.872Z"
      },
      {
        "duration": 36,
        "start_time": "2022-12-21T15:30:21.887Z"
      },
      {
        "duration": 71,
        "start_time": "2022-12-21T15:30:21.926Z"
      },
      {
        "duration": 1274,
        "start_time": "2022-12-21T15:30:21.999Z"
      },
      {
        "duration": 182,
        "start_time": "2022-12-21T15:30:23.275Z"
      },
      {
        "duration": 21,
        "start_time": "2022-12-21T15:30:23.459Z"
      },
      {
        "duration": 9,
        "start_time": "2022-12-21T15:30:23.482Z"
      },
      {
        "duration": 139,
        "start_time": "2022-12-21T15:30:23.493Z"
      },
      {
        "duration": 49,
        "start_time": "2022-12-21T15:30:23.634Z"
      },
      {
        "duration": 3,
        "start_time": "2022-12-21T15:30:23.684Z"
      },
      {
        "duration": 111,
        "start_time": "2022-12-21T15:30:23.689Z"
      },
      {
        "duration": 1091,
        "start_time": "2022-12-21T15:30:33.219Z"
      },
      {
        "duration": 364,
        "start_time": "2022-12-21T15:30:34.312Z"
      },
      {
        "duration": 15,
        "start_time": "2022-12-21T15:30:34.677Z"
      },
      {
        "duration": 33,
        "start_time": "2022-12-21T15:30:34.695Z"
      },
      {
        "duration": 89,
        "start_time": "2022-12-21T15:30:34.730Z"
      },
      {
        "duration": 1260,
        "start_time": "2022-12-21T15:30:34.821Z"
      },
      {
        "duration": 184,
        "start_time": "2022-12-21T15:30:36.083Z"
      },
      {
        "duration": 20,
        "start_time": "2022-12-21T15:30:36.269Z"
      },
      {
        "duration": 10,
        "start_time": "2022-12-21T15:30:36.291Z"
      },
      {
        "duration": 149,
        "start_time": "2022-12-21T15:30:36.304Z"
      },
      {
        "duration": 43,
        "start_time": "2022-12-21T15:30:36.454Z"
      },
      {
        "duration": 3,
        "start_time": "2022-12-21T15:30:36.498Z"
      },
      {
        "duration": 107,
        "start_time": "2022-12-21T15:30:36.503Z"
      },
      {
        "duration": 8,
        "start_time": "2022-12-21T15:35:32.944Z"
      },
      {
        "duration": 44,
        "start_time": "2022-12-21T15:38:58.735Z"
      },
      {
        "duration": 1169,
        "start_time": "2022-12-21T15:39:34.654Z"
      },
      {
        "duration": 1315,
        "start_time": "2022-12-21T15:40:40.130Z"
      },
      {
        "duration": 1052,
        "start_time": "2022-12-21T15:40:45.906Z"
      },
      {
        "duration": 404,
        "start_time": "2022-12-21T15:40:46.960Z"
      },
      {
        "duration": 14,
        "start_time": "2022-12-21T15:40:47.366Z"
      },
      {
        "duration": 51,
        "start_time": "2022-12-21T15:40:47.383Z"
      },
      {
        "duration": 224,
        "start_time": "2022-12-21T15:40:47.451Z"
      },
      {
        "duration": 1280,
        "start_time": "2022-12-21T15:40:47.677Z"
      },
      {
        "duration": 204,
        "start_time": "2022-12-21T15:40:48.959Z"
      },
      {
        "duration": 21,
        "start_time": "2022-12-21T15:40:49.166Z"
      },
      {
        "duration": 10,
        "start_time": "2022-12-21T15:40:49.189Z"
      },
      {
        "duration": 137,
        "start_time": "2022-12-21T15:40:49.202Z"
      },
      {
        "duration": 50,
        "start_time": "2022-12-21T15:40:49.340Z"
      },
      {
        "duration": 4,
        "start_time": "2022-12-21T15:40:49.391Z"
      },
      {
        "duration": 115,
        "start_time": "2022-12-21T15:40:49.396Z"
      },
      {
        "duration": 1138,
        "start_time": "2022-12-21T15:41:16.597Z"
      },
      {
        "duration": 1159,
        "start_time": "2022-12-21T15:41:22.047Z"
      },
      {
        "duration": 339,
        "start_time": "2022-12-21T15:41:23.208Z"
      },
      {
        "duration": 12,
        "start_time": "2022-12-21T15:41:23.549Z"
      },
      {
        "duration": 47,
        "start_time": "2022-12-21T15:41:23.563Z"
      },
      {
        "duration": 164,
        "start_time": "2022-12-21T15:41:23.612Z"
      },
      {
        "duration": 1280,
        "start_time": "2022-12-21T15:41:23.778Z"
      },
      {
        "duration": 188,
        "start_time": "2022-12-21T15:41:25.060Z"
      },
      {
        "duration": 18,
        "start_time": "2022-12-21T15:41:25.250Z"
      },
      {
        "duration": 23,
        "start_time": "2022-12-21T15:41:25.270Z"
      },
      {
        "duration": 147,
        "start_time": "2022-12-21T15:41:25.295Z"
      },
      {
        "duration": 44,
        "start_time": "2022-12-21T15:41:25.443Z"
      },
      {
        "duration": 13,
        "start_time": "2022-12-21T15:41:25.489Z"
      },
      {
        "duration": 126,
        "start_time": "2022-12-21T15:41:25.504Z"
      },
      {
        "duration": 101,
        "start_time": "2022-12-21T15:42:55.476Z"
      },
      {
        "duration": 1094,
        "start_time": "2022-12-21T15:43:09.926Z"
      },
      {
        "duration": 352,
        "start_time": "2022-12-21T15:43:11.022Z"
      },
      {
        "duration": 12,
        "start_time": "2022-12-21T15:43:11.376Z"
      },
      {
        "duration": 31,
        "start_time": "2022-12-21T15:43:11.391Z"
      },
      {
        "duration": 180,
        "start_time": "2022-12-21T15:43:11.424Z"
      },
      {
        "duration": 160,
        "start_time": "2022-12-21T15:43:11.606Z"
      },
      {
        "duration": 169,
        "start_time": "2022-12-21T15:43:11.767Z"
      },
      {
        "duration": 1318,
        "start_time": "2022-12-21T15:43:11.938Z"
      },
      {
        "duration": 185,
        "start_time": "2022-12-21T15:43:13.258Z"
      },
      {
        "duration": 23,
        "start_time": "2022-12-21T15:43:13.446Z"
      },
      {
        "duration": 12,
        "start_time": "2022-12-21T15:43:13.471Z"
      },
      {
        "duration": 125,
        "start_time": "2022-12-21T15:43:13.485Z"
      },
      {
        "duration": 52,
        "start_time": "2022-12-21T15:43:13.612Z"
      },
      {
        "duration": 3,
        "start_time": "2022-12-21T15:43:13.666Z"
      },
      {
        "duration": 114,
        "start_time": "2022-12-21T15:43:13.671Z"
      },
      {
        "duration": 11,
        "start_time": "2022-12-21T15:43:33.982Z"
      },
      {
        "duration": 1047,
        "start_time": "2022-12-21T15:44:58.406Z"
      },
      {
        "duration": 353,
        "start_time": "2022-12-21T15:44:59.455Z"
      },
      {
        "duration": 13,
        "start_time": "2022-12-21T15:44:59.810Z"
      },
      {
        "duration": 42,
        "start_time": "2022-12-21T15:44:59.825Z"
      },
      {
        "duration": 184,
        "start_time": "2022-12-21T15:44:59.868Z"
      },
      {
        "duration": 47,
        "start_time": "2022-12-21T15:45:00.054Z"
      },
      {
        "duration": 189,
        "start_time": "2022-12-21T15:45:00.102Z"
      },
      {
        "duration": 1276,
        "start_time": "2022-12-21T15:45:00.293Z"
      },
      {
        "duration": 197,
        "start_time": "2022-12-21T15:45:01.571Z"
      },
      {
        "duration": 21,
        "start_time": "2022-12-21T15:45:01.772Z"
      },
      {
        "duration": 33,
        "start_time": "2022-12-21T15:45:01.795Z"
      },
      {
        "duration": 133,
        "start_time": "2022-12-21T15:45:01.830Z"
      },
      {
        "duration": 47,
        "start_time": "2022-12-21T15:45:01.965Z"
      },
      {
        "duration": 4,
        "start_time": "2022-12-21T15:45:02.014Z"
      },
      {
        "duration": 141,
        "start_time": "2022-12-21T15:45:02.020Z"
      },
      {
        "duration": 1049,
        "start_time": "2022-12-21T15:46:13.608Z"
      },
      {
        "duration": 358,
        "start_time": "2022-12-21T15:46:14.659Z"
      },
      {
        "duration": 13,
        "start_time": "2022-12-21T15:46:15.019Z"
      },
      {
        "duration": 40,
        "start_time": "2022-12-21T15:46:15.034Z"
      },
      {
        "duration": 177,
        "start_time": "2022-12-21T15:46:15.075Z"
      },
      {
        "duration": 51,
        "start_time": "2022-12-21T15:46:15.254Z"
      },
      {
        "duration": 186,
        "start_time": "2022-12-21T15:46:15.307Z"
      },
      {
        "duration": 1197,
        "start_time": "2022-12-21T15:46:15.495Z"
      },
      {
        "duration": 193,
        "start_time": "2022-12-21T15:46:16.694Z"
      },
      {
        "duration": 21,
        "start_time": "2022-12-21T15:46:16.889Z"
      },
      {
        "duration": 10,
        "start_time": "2022-12-21T15:46:16.912Z"
      },
      {
        "duration": 170,
        "start_time": "2022-12-21T15:46:16.924Z"
      },
      {
        "duration": 57,
        "start_time": "2022-12-21T15:46:17.097Z"
      },
      {
        "duration": 4,
        "start_time": "2022-12-21T15:46:17.156Z"
      },
      {
        "duration": 114,
        "start_time": "2022-12-21T15:46:17.161Z"
      },
      {
        "duration": 1039,
        "start_time": "2022-12-21T15:46:44.978Z"
      },
      {
        "duration": 357,
        "start_time": "2022-12-21T15:46:46.019Z"
      },
      {
        "duration": 14,
        "start_time": "2022-12-21T15:46:46.377Z"
      },
      {
        "duration": 33,
        "start_time": "2022-12-21T15:46:46.392Z"
      },
      {
        "duration": 187,
        "start_time": "2022-12-21T15:46:46.427Z"
      },
      {
        "duration": 102,
        "start_time": "2022-12-21T15:46:46.616Z"
      },
      {
        "duration": 0,
        "start_time": "2022-12-21T15:46:46.719Z"
      },
      {
        "duration": 0,
        "start_time": "2022-12-21T15:46:46.720Z"
      },
      {
        "duration": 0,
        "start_time": "2022-12-21T15:46:46.722Z"
      },
      {
        "duration": 0,
        "start_time": "2022-12-21T15:46:46.722Z"
      },
      {
        "duration": 0,
        "start_time": "2022-12-21T15:46:46.724Z"
      },
      {
        "duration": 0,
        "start_time": "2022-12-21T15:46:46.724Z"
      },
      {
        "duration": 0,
        "start_time": "2022-12-21T15:46:46.725Z"
      },
      {
        "duration": 0,
        "start_time": "2022-12-21T15:46:46.726Z"
      },
      {
        "duration": 0,
        "start_time": "2022-12-21T15:46:46.727Z"
      },
      {
        "duration": 131,
        "start_time": "2022-12-21T15:46:59.908Z"
      },
      {
        "duration": 184,
        "start_time": "2022-12-21T15:47:04.219Z"
      },
      {
        "duration": 1110,
        "start_time": "2022-12-21T15:53:46.128Z"
      },
      {
        "duration": 366,
        "start_time": "2022-12-21T15:53:47.240Z"
      },
      {
        "duration": 14,
        "start_time": "2022-12-21T15:53:47.608Z"
      },
      {
        "duration": 46,
        "start_time": "2022-12-21T15:53:47.624Z"
      },
      {
        "duration": 191,
        "start_time": "2022-12-21T15:53:47.672Z"
      },
      {
        "duration": 1213,
        "start_time": "2022-12-21T15:53:47.865Z"
      },
      {
        "duration": 204,
        "start_time": "2022-12-21T15:53:49.080Z"
      },
      {
        "duration": 20,
        "start_time": "2022-12-21T15:53:49.286Z"
      },
      {
        "duration": 10,
        "start_time": "2022-12-21T15:53:49.308Z"
      },
      {
        "duration": 133,
        "start_time": "2022-12-21T15:53:49.320Z"
      },
      {
        "duration": 44,
        "start_time": "2022-12-21T15:53:49.454Z"
      },
      {
        "duration": 3,
        "start_time": "2022-12-21T15:53:49.500Z"
      },
      {
        "duration": 113,
        "start_time": "2022-12-21T15:53:49.504Z"
      },
      {
        "duration": 37,
        "start_time": "2022-12-21T15:57:11.624Z"
      },
      {
        "duration": 22,
        "start_time": "2022-12-21T15:57:55.139Z"
      },
      {
        "duration": 16,
        "start_time": "2022-12-21T15:58:43.096Z"
      },
      {
        "duration": 13,
        "start_time": "2022-12-21T16:01:35.644Z"
      },
      {
        "duration": 13,
        "start_time": "2022-12-21T16:01:49.816Z"
      },
      {
        "duration": 13,
        "start_time": "2022-12-21T16:01:51.496Z"
      },
      {
        "duration": 14,
        "start_time": "2022-12-21T16:01:52.864Z"
      },
      {
        "duration": 14,
        "start_time": "2022-12-21T16:01:54.080Z"
      },
      {
        "duration": 12,
        "start_time": "2022-12-21T16:01:55.417Z"
      },
      {
        "duration": 1150,
        "start_time": "2022-12-21T16:02:52.166Z"
      },
      {
        "duration": 361,
        "start_time": "2022-12-21T16:02:53.318Z"
      },
      {
        "duration": 13,
        "start_time": "2022-12-21T16:02:53.680Z"
      },
      {
        "duration": 36,
        "start_time": "2022-12-21T16:02:53.695Z"
      },
      {
        "duration": 172,
        "start_time": "2022-12-21T16:02:53.733Z"
      },
      {
        "duration": 1265,
        "start_time": "2022-12-21T16:02:53.907Z"
      },
      {
        "duration": 190,
        "start_time": "2022-12-21T16:02:55.174Z"
      },
      {
        "duration": 19,
        "start_time": "2022-12-21T16:02:55.366Z"
      },
      {
        "duration": 9,
        "start_time": "2022-12-21T16:02:55.387Z"
      },
      {
        "duration": 145,
        "start_time": "2022-12-21T16:02:55.399Z"
      },
      {
        "duration": 44,
        "start_time": "2022-12-21T16:02:55.546Z"
      },
      {
        "duration": 3,
        "start_time": "2022-12-21T16:02:55.592Z"
      },
      {
        "duration": 117,
        "start_time": "2022-12-21T16:02:55.596Z"
      },
      {
        "duration": 19,
        "start_time": "2022-12-21T16:03:06.081Z"
      },
      {
        "duration": 1121,
        "start_time": "2022-12-21T16:11:10.105Z"
      },
      {
        "duration": 407,
        "start_time": "2022-12-21T16:11:11.229Z"
      },
      {
        "duration": 20,
        "start_time": "2022-12-21T16:11:11.638Z"
      },
      {
        "duration": 34,
        "start_time": "2022-12-21T16:11:11.660Z"
      },
      {
        "duration": 199,
        "start_time": "2022-12-21T16:11:11.697Z"
      },
      {
        "duration": 1377,
        "start_time": "2022-12-21T16:11:11.899Z"
      },
      {
        "duration": 213,
        "start_time": "2022-12-21T16:11:13.279Z"
      },
      {
        "duration": 21,
        "start_time": "2022-12-21T16:11:13.494Z"
      },
      {
        "duration": 19,
        "start_time": "2022-12-21T16:11:13.517Z"
      },
      {
        "duration": 48,
        "start_time": "2022-12-21T16:11:13.538Z"
      },
      {
        "duration": 65,
        "start_time": "2022-12-21T16:11:13.588Z"
      },
      {
        "duration": 5,
        "start_time": "2022-12-21T16:11:13.654Z"
      },
      {
        "duration": 193,
        "start_time": "2022-12-21T16:11:13.660Z"
      },
      {
        "duration": 1249,
        "start_time": "2022-12-21T16:11:45.221Z"
      },
      {
        "duration": 496,
        "start_time": "2022-12-21T16:11:46.472Z"
      },
      {
        "duration": 17,
        "start_time": "2022-12-21T16:11:46.970Z"
      },
      {
        "duration": 43,
        "start_time": "2022-12-21T16:11:46.990Z"
      },
      {
        "duration": 1387,
        "start_time": "2022-12-21T16:11:47.035Z"
      },
      {
        "duration": 192,
        "start_time": "2022-12-21T16:11:48.424Z"
      },
      {
        "duration": 175,
        "start_time": "2022-12-21T16:11:48.618Z"
      },
      {
        "duration": 19,
        "start_time": "2022-12-21T16:11:48.795Z"
      },
      {
        "duration": 16,
        "start_time": "2022-12-21T16:11:48.816Z"
      },
      {
        "duration": 38,
        "start_time": "2022-12-21T16:11:48.851Z"
      },
      {
        "duration": 61,
        "start_time": "2022-12-21T16:11:48.891Z"
      },
      {
        "duration": 3,
        "start_time": "2022-12-21T16:11:48.955Z"
      },
      {
        "duration": 39,
        "start_time": "2022-12-21T16:11:48.960Z"
      },
      {
        "duration": 294,
        "start_time": "2022-12-21T19:22:09.959Z"
      },
      {
        "duration": 330,
        "start_time": "2022-12-21T19:22:22.338Z"
      },
      {
        "duration": 1067,
        "start_time": "2022-12-21T19:22:27.504Z"
      },
      {
        "duration": 359,
        "start_time": "2022-12-21T19:22:28.573Z"
      },
      {
        "duration": 23,
        "start_time": "2022-12-21T19:22:28.933Z"
      },
      {
        "duration": 46,
        "start_time": "2022-12-21T19:22:28.959Z"
      },
      {
        "duration": 1257,
        "start_time": "2022-12-21T19:22:29.006Z"
      },
      {
        "duration": 201,
        "start_time": "2022-12-21T19:22:30.265Z"
      },
      {
        "duration": 199,
        "start_time": "2022-12-21T19:22:30.468Z"
      },
      {
        "duration": 19,
        "start_time": "2022-12-21T19:22:30.668Z"
      },
      {
        "duration": 18,
        "start_time": "2022-12-21T19:22:30.689Z"
      },
      {
        "duration": 57,
        "start_time": "2022-12-21T19:22:30.710Z"
      },
      {
        "duration": 46,
        "start_time": "2022-12-21T19:22:30.769Z"
      },
      {
        "duration": 4,
        "start_time": "2022-12-21T19:22:30.817Z"
      },
      {
        "duration": 40,
        "start_time": "2022-12-21T19:22:30.823Z"
      },
      {
        "duration": 563,
        "start_time": "2022-12-21T19:22:30.864Z"
      },
      {
        "duration": 165,
        "start_time": "2022-12-21T19:22:39.895Z"
      },
      {
        "duration": 174,
        "start_time": "2022-12-21T19:22:50.879Z"
      },
      {
        "duration": 407,
        "start_time": "2022-12-21T19:22:56.056Z"
      },
      {
        "duration": 44,
        "start_time": "2022-12-21T19:23:22.815Z"
      },
      {
        "duration": 38,
        "start_time": "2022-12-21T19:24:10.997Z"
      },
      {
        "duration": 385,
        "start_time": "2022-12-21T19:35:30.170Z"
      },
      {
        "duration": 196,
        "start_time": "2022-12-21T19:35:53.558Z"
      },
      {
        "duration": 1302,
        "start_time": "2022-12-21T19:36:04.101Z"
      },
      {
        "duration": 502,
        "start_time": "2022-12-21T19:36:05.406Z"
      },
      {
        "duration": 17,
        "start_time": "2022-12-21T19:36:05.911Z"
      },
      {
        "duration": 71,
        "start_time": "2022-12-21T19:36:05.931Z"
      },
      {
        "duration": 1711,
        "start_time": "2022-12-21T19:36:06.005Z"
      },
      {
        "duration": 240,
        "start_time": "2022-12-21T19:36:07.718Z"
      },
      {
        "duration": 320,
        "start_time": "2022-12-21T19:36:07.960Z"
      },
      {
        "duration": 24,
        "start_time": "2022-12-21T19:36:08.282Z"
      },
      {
        "duration": 15,
        "start_time": "2022-12-21T19:36:08.308Z"
      },
      {
        "duration": 71,
        "start_time": "2022-12-21T19:36:08.325Z"
      },
      {
        "duration": 86,
        "start_time": "2022-12-21T19:36:08.398Z"
      },
      {
        "duration": 5,
        "start_time": "2022-12-21T19:36:08.487Z"
      },
      {
        "duration": 89,
        "start_time": "2022-12-21T19:36:08.495Z"
      },
      {
        "duration": 446,
        "start_time": "2022-12-21T19:36:08.595Z"
      },
      {
        "duration": 42,
        "start_time": "2022-12-21T19:36:15.587Z"
      },
      {
        "duration": 34,
        "start_time": "2022-12-21T19:37:04.889Z"
      },
      {
        "duration": 176,
        "start_time": "2022-12-21T19:37:30.580Z"
      },
      {
        "duration": 1220,
        "start_time": "2022-12-21T19:37:36.456Z"
      },
      {
        "duration": 462,
        "start_time": "2022-12-21T19:37:37.678Z"
      },
      {
        "duration": 16,
        "start_time": "2022-12-21T19:37:38.142Z"
      },
      {
        "duration": 64,
        "start_time": "2022-12-21T19:37:38.161Z"
      },
      {
        "duration": 1468,
        "start_time": "2022-12-21T19:37:38.227Z"
      },
      {
        "duration": 237,
        "start_time": "2022-12-21T19:37:39.697Z"
      },
      {
        "duration": 278,
        "start_time": "2022-12-21T19:37:39.938Z"
      },
      {
        "duration": 25,
        "start_time": "2022-12-21T19:37:40.218Z"
      },
      {
        "duration": 30,
        "start_time": "2022-12-21T19:37:40.247Z"
      },
      {
        "duration": 68,
        "start_time": "2022-12-21T19:37:40.283Z"
      },
      {
        "duration": 61,
        "start_time": "2022-12-21T19:37:40.354Z"
      },
      {
        "duration": 5,
        "start_time": "2022-12-21T19:37:40.417Z"
      },
      {
        "duration": 158,
        "start_time": "2022-12-21T19:37:40.424Z"
      },
      {
        "duration": 397,
        "start_time": "2022-12-21T19:37:40.584Z"
      },
      {
        "duration": 194,
        "start_time": "2022-12-21T19:37:47.161Z"
      },
      {
        "duration": 69,
        "start_time": "2022-12-21T19:37:51.413Z"
      },
      {
        "duration": 16,
        "start_time": "2022-12-21T20:11:14.567Z"
      },
      {
        "duration": 1054,
        "start_time": "2022-12-21T20:11:29.022Z"
      },
      {
        "duration": 357,
        "start_time": "2022-12-21T20:11:30.077Z"
      },
      {
        "duration": 20,
        "start_time": "2022-12-21T20:11:30.436Z"
      },
      {
        "duration": 54,
        "start_time": "2022-12-21T20:11:30.458Z"
      },
      {
        "duration": 1240,
        "start_time": "2022-12-21T20:11:30.514Z"
      },
      {
        "duration": 181,
        "start_time": "2022-12-21T20:11:31.755Z"
      },
      {
        "duration": 177,
        "start_time": "2022-12-21T20:11:31.938Z"
      },
      {
        "duration": 17,
        "start_time": "2022-12-21T20:11:32.117Z"
      },
      {
        "duration": 26,
        "start_time": "2022-12-21T20:11:32.136Z"
      },
      {
        "duration": 38,
        "start_time": "2022-12-21T20:11:32.165Z"
      },
      {
        "duration": 68,
        "start_time": "2022-12-21T20:11:32.205Z"
      },
      {
        "duration": 3,
        "start_time": "2022-12-21T20:11:32.275Z"
      },
      {
        "duration": 73,
        "start_time": "2022-12-21T20:11:32.280Z"
      },
      {
        "duration": 211,
        "start_time": "2022-12-21T20:11:32.354Z"
      },
      {
        "duration": 14,
        "start_time": "2022-12-21T20:11:39.160Z"
      },
      {
        "duration": 1122,
        "start_time": "2022-12-21T20:11:43.324Z"
      },
      {
        "duration": 368,
        "start_time": "2022-12-21T20:11:44.448Z"
      },
      {
        "duration": 16,
        "start_time": "2022-12-21T20:11:44.818Z"
      },
      {
        "duration": 44,
        "start_time": "2022-12-21T20:11:44.837Z"
      },
      {
        "duration": 1245,
        "start_time": "2022-12-21T20:11:44.882Z"
      },
      {
        "duration": 203,
        "start_time": "2022-12-21T20:11:46.128Z"
      },
      {
        "duration": 156,
        "start_time": "2022-12-21T20:11:46.333Z"
      },
      {
        "duration": 16,
        "start_time": "2022-12-21T20:11:46.491Z"
      },
      {
        "duration": 14,
        "start_time": "2022-12-21T20:11:46.509Z"
      },
      {
        "duration": 59,
        "start_time": "2022-12-21T20:11:46.526Z"
      },
      {
        "duration": 58,
        "start_time": "2022-12-21T20:11:46.587Z"
      },
      {
        "duration": 5,
        "start_time": "2022-12-21T20:11:46.647Z"
      },
      {
        "duration": 21,
        "start_time": "2022-12-21T20:11:46.654Z"
      },
      {
        "duration": 274,
        "start_time": "2022-12-21T20:11:46.678Z"
      },
      {
        "duration": 112,
        "start_time": "2022-12-21T20:12:13.744Z"
      },
      {
        "duration": 1035,
        "start_time": "2022-12-21T20:12:25.297Z"
      },
      {
        "duration": 373,
        "start_time": "2022-12-21T20:12:26.334Z"
      },
      {
        "duration": 17,
        "start_time": "2022-12-21T20:12:26.709Z"
      },
      {
        "duration": 59,
        "start_time": "2022-12-21T20:12:26.728Z"
      },
      {
        "duration": 1229,
        "start_time": "2022-12-21T20:12:26.789Z"
      },
      {
        "duration": 183,
        "start_time": "2022-12-21T20:12:28.020Z"
      },
      {
        "duration": 169,
        "start_time": "2022-12-21T20:12:28.205Z"
      },
      {
        "duration": 16,
        "start_time": "2022-12-21T20:12:28.375Z"
      },
      {
        "duration": 20,
        "start_time": "2022-12-21T20:12:28.393Z"
      },
      {
        "duration": 65,
        "start_time": "2022-12-21T20:12:28.415Z"
      },
      {
        "duration": 72,
        "start_time": "2022-12-21T20:12:28.482Z"
      },
      {
        "duration": 4,
        "start_time": "2022-12-21T20:12:28.556Z"
      },
      {
        "duration": 25,
        "start_time": "2022-12-21T20:12:28.562Z"
      },
      {
        "duration": 370,
        "start_time": "2022-12-21T20:12:28.589Z"
      },
      {
        "duration": 176,
        "start_time": "2022-12-21T20:12:35.982Z"
      },
      {
        "duration": 203,
        "start_time": "2022-12-21T20:12:44.770Z"
      },
      {
        "duration": 1147,
        "start_time": "2022-12-21T20:12:49.868Z"
      },
      {
        "duration": 392,
        "start_time": "2022-12-21T20:12:51.019Z"
      },
      {
        "duration": 15,
        "start_time": "2022-12-21T20:12:51.412Z"
      },
      {
        "duration": 72,
        "start_time": "2022-12-21T20:12:51.430Z"
      },
      {
        "duration": 1407,
        "start_time": "2022-12-21T20:12:51.504Z"
      },
      {
        "duration": 196,
        "start_time": "2022-12-21T20:12:52.913Z"
      },
      {
        "duration": 219,
        "start_time": "2022-12-21T20:12:53.111Z"
      },
      {
        "duration": 26,
        "start_time": "2022-12-21T20:12:53.331Z"
      },
      {
        "duration": 14,
        "start_time": "2022-12-21T20:12:53.358Z"
      },
      {
        "duration": 36,
        "start_time": "2022-12-21T20:12:53.376Z"
      },
      {
        "duration": 81,
        "start_time": "2022-12-21T20:12:53.415Z"
      },
      {
        "duration": 5,
        "start_time": "2022-12-21T20:12:53.498Z"
      },
      {
        "duration": 150,
        "start_time": "2022-12-21T20:12:53.504Z"
      },
      {
        "duration": 209,
        "start_time": "2022-12-21T20:12:53.656Z"
      },
      {
        "duration": 107,
        "start_time": "2022-12-21T20:13:38.760Z"
      },
      {
        "duration": 356,
        "start_time": "2022-12-21T20:13:51.703Z"
      },
      {
        "duration": 309,
        "start_time": "2022-12-21T20:14:16.047Z"
      },
      {
        "duration": 93,
        "start_time": "2022-12-21T20:14:53.954Z"
      },
      {
        "duration": 275,
        "start_time": "2022-12-21T20:15:09.287Z"
      },
      {
        "duration": 1040,
        "start_time": "2022-12-21T20:15:15.370Z"
      },
      {
        "duration": 375,
        "start_time": "2022-12-21T20:15:16.412Z"
      },
      {
        "duration": 14,
        "start_time": "2022-12-21T20:15:16.789Z"
      },
      {
        "duration": 51,
        "start_time": "2022-12-21T20:15:16.806Z"
      },
      {
        "duration": 1457,
        "start_time": "2022-12-21T20:15:16.859Z"
      },
      {
        "duration": 256,
        "start_time": "2022-12-21T20:15:18.318Z"
      },
      {
        "duration": 272,
        "start_time": "2022-12-21T20:15:18.577Z"
      },
      {
        "duration": 20,
        "start_time": "2022-12-21T20:15:18.852Z"
      },
      {
        "duration": 33,
        "start_time": "2022-12-21T20:15:18.875Z"
      },
      {
        "duration": 48,
        "start_time": "2022-12-21T20:15:18.911Z"
      },
      {
        "duration": 73,
        "start_time": "2022-12-21T20:15:18.960Z"
      },
      {
        "duration": 4,
        "start_time": "2022-12-21T20:15:19.036Z"
      },
      {
        "duration": 54,
        "start_time": "2022-12-21T20:15:19.041Z"
      },
      {
        "duration": 270,
        "start_time": "2022-12-21T20:15:19.097Z"
      },
      {
        "duration": 15,
        "start_time": "2022-12-21T20:16:33.199Z"
      },
      {
        "duration": 70,
        "start_time": "2022-12-21T20:23:11.587Z"
      },
      {
        "duration": 22,
        "start_time": "2022-12-21T20:24:24.293Z"
      },
      {
        "duration": 60,
        "start_time": "2022-12-21T20:30:45.199Z"
      },
      {
        "duration": 22,
        "start_time": "2022-12-21T20:31:27.781Z"
      },
      {
        "duration": 87,
        "start_time": "2022-12-21T20:31:43.974Z"
      },
      {
        "duration": 73,
        "start_time": "2022-12-21T20:35:26.188Z"
      },
      {
        "duration": 43,
        "start_time": "2022-12-21T20:35:45.819Z"
      },
      {
        "duration": 72,
        "start_time": "2022-12-21T20:43:21.616Z"
      },
      {
        "duration": 88,
        "start_time": "2022-12-21T20:43:33.276Z"
      },
      {
        "duration": 21,
        "start_time": "2022-12-21T20:43:49.077Z"
      },
      {
        "duration": 75,
        "start_time": "2022-12-21T20:48:25.794Z"
      },
      {
        "duration": 14,
        "start_time": "2022-12-21T20:48:34.009Z"
      },
      {
        "duration": 272,
        "start_time": "2022-12-21T20:51:46.081Z"
      },
      {
        "duration": 165,
        "start_time": "2022-12-21T20:53:20.395Z"
      },
      {
        "duration": 50,
        "start_time": "2022-12-21T20:53:32.208Z"
      },
      {
        "duration": 1101,
        "start_time": "2022-12-21T21:01:35.824Z"
      },
      {
        "duration": 414,
        "start_time": "2022-12-21T21:01:36.927Z"
      },
      {
        "duration": 23,
        "start_time": "2022-12-21T21:01:37.343Z"
      },
      {
        "duration": 54,
        "start_time": "2022-12-21T21:01:37.368Z"
      },
      {
        "duration": 1351,
        "start_time": "2022-12-21T21:01:37.424Z"
      },
      {
        "duration": 200,
        "start_time": "2022-12-21T21:01:38.779Z"
      },
      {
        "duration": 233,
        "start_time": "2022-12-21T21:01:38.982Z"
      },
      {
        "duration": 16,
        "start_time": "2022-12-21T21:01:39.217Z"
      },
      {
        "duration": 26,
        "start_time": "2022-12-21T21:01:39.234Z"
      },
      {
        "duration": 44,
        "start_time": "2022-12-21T21:01:39.265Z"
      },
      {
        "duration": 49,
        "start_time": "2022-12-21T21:01:39.310Z"
      },
      {
        "duration": 11,
        "start_time": "2022-12-21T21:01:39.362Z"
      },
      {
        "duration": 369,
        "start_time": "2022-12-21T21:01:39.374Z"
      },
      {
        "duration": 0,
        "start_time": "2022-12-21T21:01:39.745Z"
      },
      {
        "duration": 222,
        "start_time": "2022-12-21T21:03:51.443Z"
      },
      {
        "duration": 80,
        "start_time": "2022-12-21T21:03:55.296Z"
      },
      {
        "duration": 1030,
        "start_time": "2022-12-21T21:10:59.201Z"
      },
      {
        "duration": 359,
        "start_time": "2022-12-21T21:11:00.233Z"
      },
      {
        "duration": 14,
        "start_time": "2022-12-21T21:11:00.594Z"
      },
      {
        "duration": 48,
        "start_time": "2022-12-21T21:11:00.611Z"
      },
      {
        "duration": 1249,
        "start_time": "2022-12-21T21:11:00.661Z"
      },
      {
        "duration": 199,
        "start_time": "2022-12-21T21:11:01.912Z"
      },
      {
        "duration": 188,
        "start_time": "2022-12-21T21:11:02.113Z"
      },
      {
        "duration": 18,
        "start_time": "2022-12-21T21:11:02.303Z"
      },
      {
        "duration": 37,
        "start_time": "2022-12-21T21:11:02.323Z"
      },
      {
        "duration": 39,
        "start_time": "2022-12-21T21:11:02.363Z"
      },
      {
        "duration": 75,
        "start_time": "2022-12-21T21:11:02.405Z"
      },
      {
        "duration": 5,
        "start_time": "2022-12-21T21:11:02.483Z"
      },
      {
        "duration": 168,
        "start_time": "2022-12-21T21:11:02.490Z"
      },
      {
        "duration": 39,
        "start_time": "2022-12-21T21:25:49.726Z"
      },
      {
        "duration": 1081,
        "start_time": "2022-12-21T21:31:30.351Z"
      },
      {
        "duration": 353,
        "start_time": "2022-12-21T21:31:31.434Z"
      },
      {
        "duration": 13,
        "start_time": "2022-12-21T21:31:31.791Z"
      },
      {
        "duration": 61,
        "start_time": "2022-12-21T21:31:31.805Z"
      },
      {
        "duration": 1251,
        "start_time": "2022-12-21T21:31:31.867Z"
      },
      {
        "duration": 182,
        "start_time": "2022-12-21T21:31:33.120Z"
      },
      {
        "duration": 174,
        "start_time": "2022-12-21T21:31:33.304Z"
      },
      {
        "duration": 17,
        "start_time": "2022-12-21T21:31:33.479Z"
      },
      {
        "duration": 48,
        "start_time": "2022-12-21T21:31:33.498Z"
      },
      {
        "duration": 44,
        "start_time": "2022-12-21T21:31:33.548Z"
      },
      {
        "duration": 44,
        "start_time": "2022-12-21T21:31:33.594Z"
      },
      {
        "duration": 3,
        "start_time": "2022-12-21T21:31:33.640Z"
      },
      {
        "duration": 409,
        "start_time": "2022-12-21T21:31:33.644Z"
      },
      {
        "duration": 1023,
        "start_time": "2022-12-21T21:43:56.083Z"
      },
      {
        "duration": 353,
        "start_time": "2022-12-21T21:43:57.108Z"
      },
      {
        "duration": 13,
        "start_time": "2022-12-21T21:43:57.462Z"
      },
      {
        "duration": 32,
        "start_time": "2022-12-21T21:43:57.477Z"
      },
      {
        "duration": 1179,
        "start_time": "2022-12-21T21:43:57.510Z"
      },
      {
        "duration": 180,
        "start_time": "2022-12-21T21:43:58.690Z"
      },
      {
        "duration": 171,
        "start_time": "2022-12-21T21:43:58.871Z"
      },
      {
        "duration": 23,
        "start_time": "2022-12-21T21:43:59.044Z"
      },
      {
        "duration": 17,
        "start_time": "2022-12-21T21:43:59.068Z"
      },
      {
        "duration": 35,
        "start_time": "2022-12-21T21:43:59.087Z"
      },
      {
        "duration": 61,
        "start_time": "2022-12-21T21:43:59.124Z"
      },
      {
        "duration": 3,
        "start_time": "2022-12-21T21:43:59.187Z"
      },
      {
        "duration": 162,
        "start_time": "2022-12-21T21:43:59.192Z"
      },
      {
        "duration": 94,
        "start_time": "2022-12-21T21:44:29.796Z"
      },
      {
        "duration": 4,
        "start_time": "2022-12-21T21:44:50.588Z"
      },
      {
        "duration": 5,
        "start_time": "2022-12-21T21:45:09.201Z"
      },
      {
        "duration": 1199,
        "start_time": "2022-12-21T21:45:22.137Z"
      },
      {
        "duration": 355,
        "start_time": "2022-12-21T21:45:23.339Z"
      },
      {
        "duration": 13,
        "start_time": "2022-12-21T21:45:23.695Z"
      },
      {
        "duration": 54,
        "start_time": "2022-12-21T21:45:23.711Z"
      },
      {
        "duration": 1328,
        "start_time": "2022-12-21T21:45:23.767Z"
      },
      {
        "duration": 184,
        "start_time": "2022-12-21T21:45:25.097Z"
      },
      {
        "duration": 169,
        "start_time": "2022-12-21T21:45:25.283Z"
      },
      {
        "duration": 17,
        "start_time": "2022-12-21T21:45:25.453Z"
      },
      {
        "duration": 26,
        "start_time": "2022-12-21T21:45:25.471Z"
      },
      {
        "duration": 42,
        "start_time": "2022-12-21T21:45:25.500Z"
      },
      {
        "duration": 43,
        "start_time": "2022-12-21T21:45:25.544Z"
      },
      {
        "duration": 3,
        "start_time": "2022-12-21T21:45:25.588Z"
      },
      {
        "duration": 162,
        "start_time": "2022-12-21T21:45:25.593Z"
      },
      {
        "duration": 1038,
        "start_time": "2022-12-21T21:45:35.954Z"
      },
      {
        "duration": 362,
        "start_time": "2022-12-21T21:45:36.994Z"
      },
      {
        "duration": 11,
        "start_time": "2022-12-21T21:45:37.358Z"
      },
      {
        "duration": 33,
        "start_time": "2022-12-21T21:45:37.371Z"
      },
      {
        "duration": 1172,
        "start_time": "2022-12-21T21:45:37.405Z"
      },
      {
        "duration": 183,
        "start_time": "2022-12-21T21:45:38.579Z"
      },
      {
        "duration": 169,
        "start_time": "2022-12-21T21:45:38.764Z"
      },
      {
        "duration": 28,
        "start_time": "2022-12-21T21:45:38.935Z"
      },
      {
        "duration": 15,
        "start_time": "2022-12-21T21:45:38.965Z"
      },
      {
        "duration": 33,
        "start_time": "2022-12-21T21:45:38.982Z"
      },
      {
        "duration": 66,
        "start_time": "2022-12-21T21:45:39.017Z"
      },
      {
        "duration": 4,
        "start_time": "2022-12-21T21:45:39.084Z"
      },
      {
        "duration": 264,
        "start_time": "2022-12-21T21:45:39.089Z"
      },
      {
        "duration": 973,
        "start_time": "2022-12-21T21:45:55.199Z"
      },
      {
        "duration": 351,
        "start_time": "2022-12-21T21:45:56.174Z"
      },
      {
        "duration": 13,
        "start_time": "2022-12-21T21:45:56.527Z"
      },
      {
        "duration": 36,
        "start_time": "2022-12-21T21:45:56.542Z"
      },
      {
        "duration": 1227,
        "start_time": "2022-12-21T21:45:56.580Z"
      },
      {
        "duration": 179,
        "start_time": "2022-12-21T21:45:57.808Z"
      },
      {
        "duration": 157,
        "start_time": "2022-12-21T21:45:57.988Z"
      },
      {
        "duration": 16,
        "start_time": "2022-12-21T21:45:58.152Z"
      },
      {
        "duration": 26,
        "start_time": "2022-12-21T21:45:58.169Z"
      },
      {
        "duration": 32,
        "start_time": "2022-12-21T21:45:58.198Z"
      },
      {
        "duration": 51,
        "start_time": "2022-12-21T21:45:58.232Z"
      },
      {
        "duration": 3,
        "start_time": "2022-12-21T21:45:58.284Z"
      },
      {
        "duration": 166,
        "start_time": "2022-12-21T21:45:58.289Z"
      },
      {
        "duration": 4,
        "start_time": "2022-12-21T21:45:58.457Z"
      },
      {
        "duration": 6,
        "start_time": "2022-12-22T14:24:55.311Z"
      },
      {
        "duration": 1095,
        "start_time": "2022-12-22T14:25:00.496Z"
      },
      {
        "duration": 1659,
        "start_time": "2022-12-22T14:25:01.594Z"
      },
      {
        "duration": 13,
        "start_time": "2022-12-22T14:25:03.255Z"
      },
      {
        "duration": 30,
        "start_time": "2022-12-22T14:25:03.271Z"
      },
      {
        "duration": 1359,
        "start_time": "2022-12-22T14:25:03.303Z"
      },
      {
        "duration": 173,
        "start_time": "2022-12-22T14:25:04.664Z"
      },
      {
        "duration": 153,
        "start_time": "2022-12-22T14:25:04.841Z"
      },
      {
        "duration": 17,
        "start_time": "2022-12-22T14:25:04.995Z"
      },
      {
        "duration": 22,
        "start_time": "2022-12-22T14:25:05.013Z"
      },
      {
        "duration": 38,
        "start_time": "2022-12-22T14:25:05.038Z"
      },
      {
        "duration": 55,
        "start_time": "2022-12-22T14:25:05.077Z"
      },
      {
        "duration": 3,
        "start_time": "2022-12-22T14:25:05.133Z"
      },
      {
        "duration": 197,
        "start_time": "2022-12-22T14:25:05.137Z"
      },
      {
        "duration": 3,
        "start_time": "2022-12-22T14:25:05.336Z"
      },
      {
        "duration": 3,
        "start_time": "2022-12-22T14:26:52.330Z"
      },
      {
        "duration": 3,
        "start_time": "2022-12-22T14:28:41.816Z"
      },
      {
        "duration": 4,
        "start_time": "2022-12-22T14:28:42.505Z"
      },
      {
        "duration": 4,
        "start_time": "2022-12-22T14:30:34.088Z"
      },
      {
        "duration": 3,
        "start_time": "2022-12-22T14:30:42.979Z"
      },
      {
        "duration": 4,
        "start_time": "2022-12-22T14:36:56.088Z"
      },
      {
        "duration": 4,
        "start_time": "2022-12-22T14:37:01.193Z"
      },
      {
        "duration": 1004,
        "start_time": "2022-12-22T14:37:04.557Z"
      },
      {
        "duration": 393,
        "start_time": "2022-12-22T14:37:05.563Z"
      },
      {
        "duration": 12,
        "start_time": "2022-12-22T14:37:05.958Z"
      },
      {
        "duration": 40,
        "start_time": "2022-12-22T14:37:05.973Z"
      },
      {
        "duration": 1194,
        "start_time": "2022-12-22T14:37:06.014Z"
      },
      {
        "duration": 174,
        "start_time": "2022-12-22T14:37:07.210Z"
      },
      {
        "duration": 129,
        "start_time": "2022-12-22T14:37:07.386Z"
      },
      {
        "duration": 22,
        "start_time": "2022-12-22T14:37:07.516Z"
      },
      {
        "duration": 12,
        "start_time": "2022-12-22T14:37:07.540Z"
      },
      {
        "duration": 37,
        "start_time": "2022-12-22T14:37:07.554Z"
      },
      {
        "duration": 55,
        "start_time": "2022-12-22T14:37:07.592Z"
      },
      {
        "duration": 3,
        "start_time": "2022-12-22T14:37:07.649Z"
      },
      {
        "duration": 180,
        "start_time": "2022-12-22T14:37:07.653Z"
      },
      {
        "duration": 3,
        "start_time": "2022-12-22T14:37:07.835Z"
      },
      {
        "duration": 185,
        "start_time": "2022-12-22T14:37:07.840Z"
      },
      {
        "duration": 4,
        "start_time": "2022-12-22T14:51:49.387Z"
      },
      {
        "duration": 5,
        "start_time": "2022-12-22T14:52:10.765Z"
      },
      {
        "duration": 4,
        "start_time": "2022-12-22T14:52:14.420Z"
      },
      {
        "duration": 1120,
        "start_time": "2022-12-22T14:52:18.773Z"
      },
      {
        "duration": 379,
        "start_time": "2022-12-22T14:52:19.895Z"
      },
      {
        "duration": 14,
        "start_time": "2022-12-22T14:52:20.276Z"
      },
      {
        "duration": 41,
        "start_time": "2022-12-22T14:52:20.293Z"
      },
      {
        "duration": 1358,
        "start_time": "2022-12-22T14:52:20.336Z"
      },
      {
        "duration": 198,
        "start_time": "2022-12-22T14:52:21.696Z"
      },
      {
        "duration": 184,
        "start_time": "2022-12-22T14:52:21.895Z"
      },
      {
        "duration": 17,
        "start_time": "2022-12-22T14:52:22.081Z"
      },
      {
        "duration": 29,
        "start_time": "2022-12-22T14:52:22.100Z"
      },
      {
        "duration": 59,
        "start_time": "2022-12-22T14:52:22.131Z"
      },
      {
        "duration": 44,
        "start_time": "2022-12-22T14:52:22.191Z"
      },
      {
        "duration": 19,
        "start_time": "2022-12-22T14:52:22.237Z"
      },
      {
        "duration": 172,
        "start_time": "2022-12-22T14:52:22.257Z"
      },
      {
        "duration": 97,
        "start_time": "2022-12-22T14:52:22.431Z"
      },
      {
        "duration": 13,
        "start_time": "2022-12-22T14:52:22.530Z"
      },
      {
        "duration": 4,
        "start_time": "2022-12-22T14:52:31.918Z"
      },
      {
        "duration": 4,
        "start_time": "2022-12-22T14:52:34.621Z"
      },
      {
        "duration": 4,
        "start_time": "2022-12-22T14:52:44.752Z"
      },
      {
        "duration": 4,
        "start_time": "2022-12-22T14:52:51.737Z"
      },
      {
        "duration": 4,
        "start_time": "2022-12-22T14:53:03.502Z"
      },
      {
        "duration": 4,
        "start_time": "2022-12-22T14:53:18.709Z"
      },
      {
        "duration": 4,
        "start_time": "2022-12-22T14:53:39.391Z"
      },
      {
        "duration": 4,
        "start_time": "2022-12-22T14:56:35.034Z"
      },
      {
        "duration": 5,
        "start_time": "2022-12-22T14:56:43.151Z"
      },
      {
        "duration": 5,
        "start_time": "2022-12-22T14:58:30.866Z"
      },
      {
        "duration": 4,
        "start_time": "2022-12-22T14:59:13.507Z"
      },
      {
        "duration": 5,
        "start_time": "2022-12-22T15:12:42.477Z"
      },
      {
        "duration": 4,
        "start_time": "2022-12-22T15:12:52.897Z"
      },
      {
        "duration": 6,
        "start_time": "2022-12-22T15:56:10.708Z"
      },
      {
        "duration": 96,
        "start_time": "2022-12-22T15:56:31.990Z"
      },
      {
        "duration": 9,
        "start_time": "2022-12-22T15:57:17.669Z"
      },
      {
        "duration": 10,
        "start_time": "2022-12-22T15:57:24.584Z"
      },
      {
        "duration": 1000,
        "start_time": "2022-12-22T15:57:30.077Z"
      },
      {
        "duration": 357,
        "start_time": "2022-12-22T15:57:31.079Z"
      },
      {
        "duration": 12,
        "start_time": "2022-12-22T15:57:31.438Z"
      },
      {
        "duration": 48,
        "start_time": "2022-12-22T15:57:31.452Z"
      },
      {
        "duration": 1250,
        "start_time": "2022-12-22T15:57:31.502Z"
      },
      {
        "duration": 182,
        "start_time": "2022-12-22T15:57:32.753Z"
      },
      {
        "duration": 148,
        "start_time": "2022-12-22T15:57:32.937Z"
      },
      {
        "duration": 16,
        "start_time": "2022-12-22T15:57:33.086Z"
      },
      {
        "duration": 23,
        "start_time": "2022-12-22T15:57:33.103Z"
      },
      {
        "duration": 30,
        "start_time": "2022-12-22T15:57:33.128Z"
      },
      {
        "duration": 41,
        "start_time": "2022-12-22T15:57:33.160Z"
      },
      {
        "duration": 3,
        "start_time": "2022-12-22T15:57:33.203Z"
      },
      {
        "duration": 202,
        "start_time": "2022-12-22T15:57:33.227Z"
      },
      {
        "duration": 97,
        "start_time": "2022-12-22T15:57:33.431Z"
      },
      {
        "duration": 6,
        "start_time": "2022-12-22T15:57:33.530Z"
      },
      {
        "duration": 162,
        "start_time": "2022-12-22T15:57:33.537Z"
      },
      {
        "duration": 15,
        "start_time": "2022-12-22T15:58:30.934Z"
      },
      {
        "duration": 8,
        "start_time": "2022-12-22T15:58:54.029Z"
      },
      {
        "duration": 7,
        "start_time": "2022-12-22T15:59:05.124Z"
      },
      {
        "duration": 7,
        "start_time": "2022-12-22T15:59:12.372Z"
      },
      {
        "duration": 10,
        "start_time": "2022-12-22T15:59:40.387Z"
      },
      {
        "duration": 11,
        "start_time": "2022-12-22T15:59:52.381Z"
      },
      {
        "duration": 11,
        "start_time": "2022-12-22T16:00:10.668Z"
      },
      {
        "duration": 11,
        "start_time": "2022-12-22T16:01:23.436Z"
      },
      {
        "duration": 72,
        "start_time": "2022-12-22T16:01:50.420Z"
      },
      {
        "duration": 11,
        "start_time": "2022-12-22T16:01:55.677Z"
      },
      {
        "duration": 4,
        "start_time": "2022-12-22T16:02:04.556Z"
      },
      {
        "duration": 8,
        "start_time": "2022-12-22T16:02:45.947Z"
      },
      {
        "duration": 8,
        "start_time": "2022-12-22T16:02:52.074Z"
      },
      {
        "duration": 11,
        "start_time": "2022-12-22T16:07:06.298Z"
      },
      {
        "duration": 10,
        "start_time": "2022-12-22T16:07:19.281Z"
      },
      {
        "duration": 12,
        "start_time": "2022-12-22T16:07:36.907Z"
      },
      {
        "duration": 14,
        "start_time": "2022-12-22T16:07:51.555Z"
      },
      {
        "duration": 10,
        "start_time": "2022-12-22T16:08:34.236Z"
      },
      {
        "duration": 10,
        "start_time": "2022-12-22T16:09:22.401Z"
      },
      {
        "duration": 11,
        "start_time": "2022-12-22T16:09:27.178Z"
      },
      {
        "duration": 13,
        "start_time": "2022-12-22T16:09:46.422Z"
      },
      {
        "duration": 18,
        "start_time": "2022-12-22T16:19:20.473Z"
      },
      {
        "duration": 20,
        "start_time": "2022-12-22T16:19:32.689Z"
      },
      {
        "duration": 17,
        "start_time": "2022-12-22T16:19:53.615Z"
      },
      {
        "duration": 17,
        "start_time": "2022-12-22T16:21:39.070Z"
      },
      {
        "duration": 18,
        "start_time": "2022-12-22T16:22:54.505Z"
      },
      {
        "duration": 10,
        "start_time": "2022-12-22T16:29:34.550Z"
      },
      {
        "duration": 12,
        "start_time": "2022-12-22T16:30:01.253Z"
      },
      {
        "duration": 15,
        "start_time": "2022-12-22T16:30:24.292Z"
      },
      {
        "duration": 15,
        "start_time": "2022-12-22T16:30:30.213Z"
      },
      {
        "duration": 13,
        "start_time": "2022-12-22T16:39:04.683Z"
      },
      {
        "duration": 13,
        "start_time": "2022-12-22T16:39:34.571Z"
      },
      {
        "duration": 17,
        "start_time": "2022-12-22T16:40:13.828Z"
      },
      {
        "duration": 14,
        "start_time": "2022-12-22T16:40:58.373Z"
      },
      {
        "duration": 14,
        "start_time": "2022-12-22T16:42:52.643Z"
      },
      {
        "duration": 12,
        "start_time": "2022-12-22T16:42:53.267Z"
      },
      {
        "duration": 1050,
        "start_time": "2022-12-22T16:43:17.539Z"
      },
      {
        "duration": 345,
        "start_time": "2022-12-22T16:43:18.591Z"
      },
      {
        "duration": 12,
        "start_time": "2022-12-22T16:43:18.938Z"
      },
      {
        "duration": 37,
        "start_time": "2022-12-22T16:43:18.952Z"
      },
      {
        "duration": 1230,
        "start_time": "2022-12-22T16:43:18.991Z"
      },
      {
        "duration": 169,
        "start_time": "2022-12-22T16:43:20.226Z"
      },
      {
        "duration": 146,
        "start_time": "2022-12-22T16:43:20.397Z"
      },
      {
        "duration": 17,
        "start_time": "2022-12-22T16:43:20.545Z"
      },
      {
        "duration": 17,
        "start_time": "2022-12-22T16:43:20.564Z"
      },
      {
        "duration": 49,
        "start_time": "2022-12-22T16:43:20.584Z"
      },
      {
        "duration": 40,
        "start_time": "2022-12-22T16:43:20.634Z"
      },
      {
        "duration": 3,
        "start_time": "2022-12-22T16:43:20.676Z"
      },
      {
        "duration": 148,
        "start_time": "2022-12-22T16:43:20.680Z"
      },
      {
        "duration": 4,
        "start_time": "2022-12-22T16:43:20.830Z"
      },
      {
        "duration": 93,
        "start_time": "2022-12-22T16:43:20.835Z"
      },
      {
        "duration": 128,
        "start_time": "2022-12-22T16:43:20.930Z"
      },
      {
        "duration": 0,
        "start_time": "2022-12-22T16:43:21.060Z"
      },
      {
        "duration": 14,
        "start_time": "2022-12-22T16:43:38.906Z"
      },
      {
        "duration": 13,
        "start_time": "2022-12-22T16:43:40.820Z"
      },
      {
        "duration": 22,
        "start_time": "2022-12-22T16:44:16.277Z"
      },
      {
        "duration": 14,
        "start_time": "2022-12-22T16:44:39.858Z"
      },
      {
        "duration": 13,
        "start_time": "2022-12-22T16:44:55.234Z"
      },
      {
        "duration": 13,
        "start_time": "2022-12-22T16:45:09.261Z"
      },
      {
        "duration": 9,
        "start_time": "2022-12-22T16:58:03.553Z"
      },
      {
        "duration": 10,
        "start_time": "2022-12-22T16:58:14.967Z"
      },
      {
        "duration": 1009,
        "start_time": "2022-12-22T16:58:23.554Z"
      },
      {
        "duration": 346,
        "start_time": "2022-12-22T16:58:24.565Z"
      },
      {
        "duration": 13,
        "start_time": "2022-12-22T16:58:24.913Z"
      },
      {
        "duration": 31,
        "start_time": "2022-12-22T16:58:24.928Z"
      },
      {
        "duration": 1195,
        "start_time": "2022-12-22T16:58:24.960Z"
      },
      {
        "duration": 173,
        "start_time": "2022-12-22T16:58:26.157Z"
      },
      {
        "duration": 136,
        "start_time": "2022-12-22T16:58:26.332Z"
      },
      {
        "duration": 16,
        "start_time": "2022-12-22T16:58:26.470Z"
      },
      {
        "duration": 13,
        "start_time": "2022-12-22T16:58:26.488Z"
      },
      {
        "duration": 44,
        "start_time": "2022-12-22T16:58:26.503Z"
      },
      {
        "duration": 42,
        "start_time": "2022-12-22T16:58:26.549Z"
      },
      {
        "duration": 4,
        "start_time": "2022-12-22T16:58:26.592Z"
      },
      {
        "duration": 132,
        "start_time": "2022-12-22T16:58:26.597Z"
      },
      {
        "duration": 3,
        "start_time": "2022-12-22T16:58:26.730Z"
      },
      {
        "duration": 100,
        "start_time": "2022-12-22T16:58:26.735Z"
      },
      {
        "duration": 107,
        "start_time": "2022-12-22T16:58:26.837Z"
      },
      {
        "duration": 10,
        "start_time": "2022-12-22T16:58:26.945Z"
      },
      {
        "duration": 12,
        "start_time": "2022-12-22T16:58:26.956Z"
      },
      {
        "duration": 19,
        "start_time": "2022-12-22T17:03:20.998Z"
      },
      {
        "duration": 17,
        "start_time": "2022-12-22T17:04:19.391Z"
      },
      {
        "duration": 15,
        "start_time": "2022-12-22T17:04:19.814Z"
      },
      {
        "duration": 18,
        "start_time": "2022-12-22T17:04:44.582Z"
      },
      {
        "duration": 1071,
        "start_time": "2022-12-22T17:05:40.964Z"
      },
      {
        "duration": 360,
        "start_time": "2022-12-22T17:05:42.038Z"
      },
      {
        "duration": 12,
        "start_time": "2022-12-22T17:05:42.400Z"
      },
      {
        "duration": 41,
        "start_time": "2022-12-22T17:05:42.414Z"
      },
      {
        "duration": 1214,
        "start_time": "2022-12-22T17:05:42.456Z"
      },
      {
        "duration": 190,
        "start_time": "2022-12-22T17:05:43.671Z"
      },
      {
        "duration": 149,
        "start_time": "2022-12-22T17:05:43.862Z"
      },
      {
        "duration": 30,
        "start_time": "2022-12-22T17:05:44.012Z"
      },
      {
        "duration": 13,
        "start_time": "2022-12-22T17:05:44.044Z"
      },
      {
        "duration": 34,
        "start_time": "2022-12-22T17:05:44.059Z"
      },
      {
        "duration": 61,
        "start_time": "2022-12-22T17:05:44.095Z"
      },
      {
        "duration": 4,
        "start_time": "2022-12-22T17:05:44.157Z"
      },
      {
        "duration": 184,
        "start_time": "2022-12-22T17:05:44.162Z"
      },
      {
        "duration": 81,
        "start_time": "2022-12-22T17:05:44.350Z"
      },
      {
        "duration": 19,
        "start_time": "2022-12-22T17:05:44.433Z"
      },
      {
        "duration": 23,
        "start_time": "2022-12-22T17:05:44.454Z"
      },
      {
        "duration": 20,
        "start_time": "2022-12-22T17:05:44.479Z"
      },
      {
        "duration": 75,
        "start_time": "2022-12-22T17:06:46.725Z"
      },
      {
        "duration": 20,
        "start_time": "2022-12-22T17:06:54.746Z"
      },
      {
        "duration": 18,
        "start_time": "2022-12-22T17:07:09.002Z"
      },
      {
        "duration": 19,
        "start_time": "2022-12-22T17:08:51.973Z"
      },
      {
        "duration": 19,
        "start_time": "2022-12-22T17:09:08.605Z"
      },
      {
        "duration": 21,
        "start_time": "2022-12-22T17:09:26.309Z"
      },
      {
        "duration": 1039,
        "start_time": "2022-12-22T17:09:31.724Z"
      },
      {
        "duration": 372,
        "start_time": "2022-12-22T17:09:32.765Z"
      },
      {
        "duration": 12,
        "start_time": "2022-12-22T17:09:33.140Z"
      },
      {
        "duration": 31,
        "start_time": "2022-12-22T17:09:33.154Z"
      },
      {
        "duration": 1184,
        "start_time": "2022-12-22T17:09:33.186Z"
      },
      {
        "duration": 179,
        "start_time": "2022-12-22T17:09:34.372Z"
      },
      {
        "duration": 158,
        "start_time": "2022-12-22T17:09:34.552Z"
      },
      {
        "duration": 21,
        "start_time": "2022-12-22T17:09:34.712Z"
      },
      {
        "duration": 25,
        "start_time": "2022-12-22T17:09:34.735Z"
      },
      {
        "duration": 42,
        "start_time": "2022-12-22T17:09:34.761Z"
      },
      {
        "duration": 45,
        "start_time": "2022-12-22T17:09:34.805Z"
      },
      {
        "duration": 3,
        "start_time": "2022-12-22T17:09:34.852Z"
      },
      {
        "duration": 94,
        "start_time": "2022-12-22T17:09:34.856Z"
      },
      {
        "duration": 82,
        "start_time": "2022-12-22T17:09:34.951Z"
      },
      {
        "duration": 123,
        "start_time": "2022-12-22T17:09:35.036Z"
      },
      {
        "duration": 23,
        "start_time": "2022-12-22T17:09:35.161Z"
      },
      {
        "duration": 20,
        "start_time": "2022-12-22T17:09:35.185Z"
      },
      {
        "duration": 1090,
        "start_time": "2022-12-22T17:24:40.016Z"
      },
      {
        "duration": 355,
        "start_time": "2022-12-22T17:24:41.108Z"
      },
      {
        "duration": 13,
        "start_time": "2022-12-22T17:24:41.464Z"
      },
      {
        "duration": 30,
        "start_time": "2022-12-22T17:24:41.479Z"
      },
      {
        "duration": 1234,
        "start_time": "2022-12-22T17:24:41.526Z"
      },
      {
        "duration": 185,
        "start_time": "2022-12-22T17:24:42.762Z"
      },
      {
        "duration": 161,
        "start_time": "2022-12-22T17:24:42.948Z"
      },
      {
        "duration": 27,
        "start_time": "2022-12-22T17:24:43.110Z"
      },
      {
        "duration": 13,
        "start_time": "2022-12-22T17:24:43.143Z"
      },
      {
        "duration": 38,
        "start_time": "2022-12-22T17:24:43.159Z"
      },
      {
        "duration": 51,
        "start_time": "2022-12-22T17:24:43.198Z"
      },
      {
        "duration": 4,
        "start_time": "2022-12-22T17:24:43.250Z"
      },
      {
        "duration": 99,
        "start_time": "2022-12-22T17:24:43.255Z"
      },
      {
        "duration": 5,
        "start_time": "2022-12-22T17:24:43.427Z"
      },
      {
        "duration": 110,
        "start_time": "2022-12-22T17:24:43.434Z"
      },
      {
        "duration": 23,
        "start_time": "2022-12-22T17:24:43.545Z"
      },
      {
        "duration": 17,
        "start_time": "2022-12-22T17:24:43.570Z"
      },
      {
        "duration": 103,
        "start_time": "2022-12-22T17:24:43.588Z"
      },
      {
        "duration": 9,
        "start_time": "2022-12-22T17:25:40.514Z"
      },
      {
        "duration": 1068,
        "start_time": "2022-12-22T17:25:44.650Z"
      },
      {
        "duration": 368,
        "start_time": "2022-12-22T17:25:45.720Z"
      },
      {
        "duration": 13,
        "start_time": "2022-12-22T17:25:46.089Z"
      },
      {
        "duration": 55,
        "start_time": "2022-12-22T17:25:46.103Z"
      },
      {
        "duration": 1218,
        "start_time": "2022-12-22T17:25:46.160Z"
      },
      {
        "duration": 177,
        "start_time": "2022-12-22T17:25:47.380Z"
      },
      {
        "duration": 141,
        "start_time": "2022-12-22T17:25:47.558Z"
      },
      {
        "duration": 28,
        "start_time": "2022-12-22T17:25:47.701Z"
      },
      {
        "duration": 30,
        "start_time": "2022-12-22T17:25:47.733Z"
      },
      {
        "duration": 31,
        "start_time": "2022-12-22T17:25:47.765Z"
      },
      {
        "duration": 47,
        "start_time": "2022-12-22T17:25:47.798Z"
      },
      {
        "duration": 14,
        "start_time": "2022-12-22T17:25:47.846Z"
      },
      {
        "duration": 80,
        "start_time": "2022-12-22T17:25:47.861Z"
      },
      {
        "duration": 83,
        "start_time": "2022-12-22T17:25:47.945Z"
      },
      {
        "duration": 4,
        "start_time": "2022-12-22T17:25:48.030Z"
      },
      {
        "duration": 106,
        "start_time": "2022-12-22T17:25:48.035Z"
      },
      {
        "duration": 28,
        "start_time": "2022-12-22T17:25:48.143Z"
      },
      {
        "duration": 115,
        "start_time": "2022-12-22T17:25:48.172Z"
      },
      {
        "duration": 3,
        "start_time": "2022-12-22T17:25:57.578Z"
      },
      {
        "duration": 1042,
        "start_time": "2022-12-22T17:26:01.340Z"
      },
      {
        "duration": 368,
        "start_time": "2022-12-22T17:26:02.384Z"
      },
      {
        "duration": 12,
        "start_time": "2022-12-22T17:26:02.754Z"
      },
      {
        "duration": 36,
        "start_time": "2022-12-22T17:26:02.768Z"
      },
      {
        "duration": 1267,
        "start_time": "2022-12-22T17:26:02.807Z"
      },
      {
        "duration": 194,
        "start_time": "2022-12-22T17:26:04.075Z"
      },
      {
        "duration": 189,
        "start_time": "2022-12-22T17:26:04.270Z"
      },
      {
        "duration": 16,
        "start_time": "2022-12-22T17:26:04.461Z"
      },
      {
        "duration": 13,
        "start_time": "2022-12-22T17:26:04.479Z"
      },
      {
        "duration": 58,
        "start_time": "2022-12-22T17:26:04.494Z"
      },
      {
        "duration": 42,
        "start_time": "2022-12-22T17:26:04.554Z"
      },
      {
        "duration": 3,
        "start_time": "2022-12-22T17:26:04.598Z"
      },
      {
        "duration": 142,
        "start_time": "2022-12-22T17:26:04.602Z"
      },
      {
        "duration": 83,
        "start_time": "2022-12-22T17:26:04.749Z"
      },
      {
        "duration": 117,
        "start_time": "2022-12-22T17:26:04.834Z"
      },
      {
        "duration": 28,
        "start_time": "2022-12-22T17:26:04.953Z"
      },
      {
        "duration": 20,
        "start_time": "2022-12-22T17:26:04.983Z"
      },
      {
        "duration": 4,
        "start_time": "2022-12-22T17:26:05.005Z"
      },
      {
        "duration": 96,
        "start_time": "2022-12-22T17:30:26.801Z"
      },
      {
        "duration": 10,
        "start_time": "2022-12-22T17:30:57.282Z"
      },
      {
        "duration": 11,
        "start_time": "2022-12-22T17:31:14.985Z"
      },
      {
        "duration": 11,
        "start_time": "2022-12-22T17:33:25.695Z"
      },
      {
        "duration": 10,
        "start_time": "2022-12-22T17:34:42.375Z"
      },
      {
        "duration": 11,
        "start_time": "2022-12-22T17:35:42.119Z"
      },
      {
        "duration": 1012,
        "start_time": "2022-12-22T17:35:47.854Z"
      },
      {
        "duration": 343,
        "start_time": "2022-12-22T17:35:48.868Z"
      },
      {
        "duration": 17,
        "start_time": "2022-12-22T17:35:49.212Z"
      },
      {
        "duration": 36,
        "start_time": "2022-12-22T17:35:49.231Z"
      },
      {
        "duration": 1188,
        "start_time": "2022-12-22T17:35:49.269Z"
      },
      {
        "duration": 186,
        "start_time": "2022-12-22T17:35:50.459Z"
      },
      {
        "duration": 145,
        "start_time": "2022-12-22T17:35:50.647Z"
      },
      {
        "duration": 17,
        "start_time": "2022-12-22T17:35:50.794Z"
      },
      {
        "duration": 11,
        "start_time": "2022-12-22T17:35:50.826Z"
      },
      {
        "duration": 44,
        "start_time": "2022-12-22T17:35:50.840Z"
      },
      {
        "duration": 52,
        "start_time": "2022-12-22T17:35:50.886Z"
      },
      {
        "duration": 3,
        "start_time": "2022-12-22T17:35:50.940Z"
      },
      {
        "duration": 186,
        "start_time": "2022-12-22T17:35:50.944Z"
      },
      {
        "duration": 4,
        "start_time": "2022-12-22T17:35:51.132Z"
      },
      {
        "duration": 101,
        "start_time": "2022-12-22T17:35:51.227Z"
      },
      {
        "duration": 27,
        "start_time": "2022-12-22T17:35:51.330Z"
      },
      {
        "duration": 19,
        "start_time": "2022-12-22T17:35:51.359Z"
      },
      {
        "duration": 107,
        "start_time": "2022-12-22T17:35:51.380Z"
      },
      {
        "duration": 941,
        "start_time": "2022-12-22T17:37:11.595Z"
      },
      {
        "duration": 890,
        "start_time": "2022-12-22T17:37:49.927Z"
      },
      {
        "duration": 884,
        "start_time": "2022-12-22T17:38:00.318Z"
      },
      {
        "duration": 888,
        "start_time": "2022-12-22T17:38:26.479Z"
      },
      {
        "duration": 906,
        "start_time": "2022-12-22T17:39:42.285Z"
      },
      {
        "duration": 901,
        "start_time": "2022-12-22T17:39:47.401Z"
      },
      {
        "duration": 923,
        "start_time": "2022-12-22T17:40:10.478Z"
      },
      {
        "duration": 907,
        "start_time": "2022-12-22T17:40:24.137Z"
      },
      {
        "duration": 884,
        "start_time": "2022-12-22T17:40:32.735Z"
      },
      {
        "duration": 909,
        "start_time": "2022-12-22T17:41:09.680Z"
      },
      {
        "duration": 918,
        "start_time": "2022-12-22T17:41:18.390Z"
      },
      {
        "duration": 930,
        "start_time": "2022-12-22T17:42:17.847Z"
      },
      {
        "duration": 906,
        "start_time": "2022-12-22T17:43:23.678Z"
      },
      {
        "duration": 1015,
        "start_time": "2022-12-22T17:43:30.488Z"
      },
      {
        "duration": 377,
        "start_time": "2022-12-22T17:43:31.505Z"
      },
      {
        "duration": 12,
        "start_time": "2022-12-22T17:43:31.884Z"
      },
      {
        "duration": 42,
        "start_time": "2022-12-22T17:43:31.898Z"
      },
      {
        "duration": 1148,
        "start_time": "2022-12-22T17:43:31.941Z"
      },
      {
        "duration": 171,
        "start_time": "2022-12-22T17:43:33.090Z"
      },
      {
        "duration": 140,
        "start_time": "2022-12-22T17:43:33.262Z"
      },
      {
        "duration": 16,
        "start_time": "2022-12-22T17:43:33.403Z"
      },
      {
        "duration": 11,
        "start_time": "2022-12-22T17:43:33.425Z"
      },
      {
        "duration": 33,
        "start_time": "2022-12-22T17:43:33.438Z"
      },
      {
        "duration": 63,
        "start_time": "2022-12-22T17:43:33.473Z"
      },
      {
        "duration": 3,
        "start_time": "2022-12-22T17:43:33.537Z"
      },
      {
        "duration": 186,
        "start_time": "2022-12-22T17:43:33.541Z"
      },
      {
        "duration": 6,
        "start_time": "2022-12-22T17:43:33.728Z"
      },
      {
        "duration": 101,
        "start_time": "2022-12-22T17:43:33.735Z"
      },
      {
        "duration": 18,
        "start_time": "2022-12-22T17:43:33.838Z"
      },
      {
        "duration": 18,
        "start_time": "2022-12-22T17:43:33.858Z"
      },
      {
        "duration": 936,
        "start_time": "2022-12-22T17:43:33.877Z"
      },
      {
        "duration": 953,
        "start_time": "2022-12-22T17:44:01.197Z"
      },
      {
        "duration": 72,
        "start_time": "2022-12-22T17:45:54.558Z"
      },
      {
        "duration": 916,
        "start_time": "2022-12-22T17:51:33.904Z"
      },
      {
        "duration": 930,
        "start_time": "2022-12-22T17:53:29.781Z"
      },
      {
        "duration": 919,
        "start_time": "2022-12-22T17:53:48.256Z"
      },
      {
        "duration": 82,
        "start_time": "2022-12-22T17:54:04.107Z"
      },
      {
        "duration": 929,
        "start_time": "2022-12-22T17:54:18.004Z"
      },
      {
        "duration": 903,
        "start_time": "2022-12-22T17:54:33.515Z"
      },
      {
        "duration": 922,
        "start_time": "2022-12-22T17:54:39.915Z"
      },
      {
        "duration": 909,
        "start_time": "2022-12-22T17:54:53.500Z"
      },
      {
        "duration": 966,
        "start_time": "2022-12-22T17:55:25.523Z"
      },
      {
        "duration": 921,
        "start_time": "2022-12-22T17:56:09.979Z"
      },
      {
        "duration": 899,
        "start_time": "2022-12-22T17:56:42.515Z"
      },
      {
        "duration": 914,
        "start_time": "2022-12-22T18:00:33.157Z"
      },
      {
        "duration": 1001,
        "start_time": "2022-12-22T18:01:05.097Z"
      },
      {
        "duration": 935,
        "start_time": "2022-12-22T18:01:23.543Z"
      },
      {
        "duration": 975,
        "start_time": "2022-12-22T18:02:09.640Z"
      },
      {
        "duration": 102,
        "start_time": "2022-12-22T18:05:53.466Z"
      },
      {
        "duration": 16,
        "start_time": "2022-12-22T18:06:14.243Z"
      },
      {
        "duration": 923,
        "start_time": "2022-12-22T18:06:30.171Z"
      },
      {
        "duration": 1037,
        "start_time": "2022-12-22T18:06:36.725Z"
      },
      {
        "duration": 348,
        "start_time": "2022-12-22T18:06:37.764Z"
      },
      {
        "duration": 18,
        "start_time": "2022-12-22T18:06:38.114Z"
      },
      {
        "duration": 39,
        "start_time": "2022-12-22T18:06:38.134Z"
      },
      {
        "duration": 1131,
        "start_time": "2022-12-22T18:06:38.175Z"
      },
      {
        "duration": 170,
        "start_time": "2022-12-22T18:06:39.307Z"
      },
      {
        "duration": 142,
        "start_time": "2022-12-22T18:06:39.478Z"
      },
      {
        "duration": 18,
        "start_time": "2022-12-22T18:06:39.621Z"
      },
      {
        "duration": 13,
        "start_time": "2022-12-22T18:06:39.640Z"
      },
      {
        "duration": 40,
        "start_time": "2022-12-22T18:06:39.656Z"
      },
      {
        "duration": 55,
        "start_time": "2022-12-22T18:06:39.698Z"
      },
      {
        "duration": 3,
        "start_time": "2022-12-22T18:06:39.754Z"
      },
      {
        "duration": 172,
        "start_time": "2022-12-22T18:06:39.759Z"
      },
      {
        "duration": 3,
        "start_time": "2022-12-22T18:06:39.933Z"
      },
      {
        "duration": 191,
        "start_time": "2022-12-22T18:06:39.938Z"
      },
      {
        "duration": 22,
        "start_time": "2022-12-22T18:06:40.130Z"
      },
      {
        "duration": 18,
        "start_time": "2022-12-22T18:06:40.154Z"
      },
      {
        "duration": 916,
        "start_time": "2022-12-22T18:06:40.173Z"
      },
      {
        "duration": 918,
        "start_time": "2022-12-22T18:07:11.369Z"
      },
      {
        "duration": 902,
        "start_time": "2022-12-22T18:07:26.208Z"
      },
      {
        "duration": 1011,
        "start_time": "2022-12-22T18:07:39.368Z"
      },
      {
        "duration": 1021,
        "start_time": "2022-12-22T18:08:08.059Z"
      },
      {
        "duration": 352,
        "start_time": "2022-12-22T18:08:09.082Z"
      },
      {
        "duration": 12,
        "start_time": "2022-12-22T18:08:09.436Z"
      },
      {
        "duration": 32,
        "start_time": "2022-12-22T18:08:09.450Z"
      },
      {
        "duration": 1231,
        "start_time": "2022-12-22T18:08:09.484Z"
      },
      {
        "duration": 182,
        "start_time": "2022-12-22T18:08:10.717Z"
      },
      {
        "duration": 145,
        "start_time": "2022-12-22T18:08:10.900Z"
      },
      {
        "duration": 17,
        "start_time": "2022-12-22T18:08:11.046Z"
      },
      {
        "duration": 15,
        "start_time": "2022-12-22T18:08:11.065Z"
      },
      {
        "duration": 47,
        "start_time": "2022-12-22T18:08:11.082Z"
      },
      {
        "duration": 43,
        "start_time": "2022-12-22T18:08:11.130Z"
      },
      {
        "duration": 3,
        "start_time": "2022-12-22T18:08:11.175Z"
      },
      {
        "duration": 147,
        "start_time": "2022-12-22T18:08:11.180Z"
      },
      {
        "duration": 3,
        "start_time": "2022-12-22T18:08:11.329Z"
      },
      {
        "duration": 100,
        "start_time": "2022-12-22T18:08:11.333Z"
      },
      {
        "duration": 22,
        "start_time": "2022-12-22T18:08:11.434Z"
      },
      {
        "duration": 18,
        "start_time": "2022-12-22T18:08:11.457Z"
      },
      {
        "duration": 942,
        "start_time": "2022-12-22T18:08:11.476Z"
      },
      {
        "duration": 1039,
        "start_time": "2022-12-22T18:08:54.327Z"
      },
      {
        "duration": 372,
        "start_time": "2022-12-22T18:08:55.368Z"
      },
      {
        "duration": 14,
        "start_time": "2022-12-22T18:08:55.742Z"
      },
      {
        "duration": 34,
        "start_time": "2022-12-22T18:08:55.757Z"
      },
      {
        "duration": 1181,
        "start_time": "2022-12-22T18:08:55.793Z"
      },
      {
        "duration": 175,
        "start_time": "2022-12-22T18:08:56.976Z"
      },
      {
        "duration": 137,
        "start_time": "2022-12-22T18:08:57.152Z"
      },
      {
        "duration": 15,
        "start_time": "2022-12-22T18:08:57.291Z"
      },
      {
        "duration": 22,
        "start_time": "2022-12-22T18:08:57.308Z"
      },
      {
        "duration": 42,
        "start_time": "2022-12-22T18:08:57.332Z"
      },
      {
        "duration": 40,
        "start_time": "2022-12-22T18:08:57.376Z"
      },
      {
        "duration": 8,
        "start_time": "2022-12-22T18:08:57.418Z"
      },
      {
        "duration": 202,
        "start_time": "2022-12-22T18:08:57.427Z"
      },
      {
        "duration": 95,
        "start_time": "2022-12-22T18:08:57.633Z"
      },
      {
        "duration": 21,
        "start_time": "2022-12-22T18:08:57.730Z"
      },
      {
        "duration": 26,
        "start_time": "2022-12-22T18:08:57.825Z"
      },
      {
        "duration": 927,
        "start_time": "2022-12-22T18:08:57.853Z"
      },
      {
        "duration": 87,
        "start_time": "2022-12-22T18:15:16.679Z"
      },
      {
        "duration": 1037,
        "start_time": "2022-12-22T18:15:24.963Z"
      },
      {
        "duration": 356,
        "start_time": "2022-12-22T18:15:26.002Z"
      },
      {
        "duration": 12,
        "start_time": "2022-12-22T18:15:26.360Z"
      },
      {
        "duration": 30,
        "start_time": "2022-12-22T18:15:26.374Z"
      },
      {
        "duration": 1196,
        "start_time": "2022-12-22T18:15:26.406Z"
      },
      {
        "duration": 172,
        "start_time": "2022-12-22T18:15:27.604Z"
      },
      {
        "duration": 151,
        "start_time": "2022-12-22T18:15:27.777Z"
      },
      {
        "duration": 16,
        "start_time": "2022-12-22T18:15:27.930Z"
      },
      {
        "duration": 13,
        "start_time": "2022-12-22T18:15:27.948Z"
      },
      {
        "duration": 36,
        "start_time": "2022-12-22T18:15:27.963Z"
      },
      {
        "duration": 65,
        "start_time": "2022-12-22T18:15:28.001Z"
      },
      {
        "duration": 3,
        "start_time": "2022-12-22T18:15:28.068Z"
      },
      {
        "duration": 159,
        "start_time": "2022-12-22T18:15:28.073Z"
      },
      {
        "duration": 94,
        "start_time": "2022-12-22T18:15:28.234Z"
      },
      {
        "duration": 99,
        "start_time": "2022-12-22T18:15:28.330Z"
      },
      {
        "duration": 24,
        "start_time": "2022-12-22T18:15:28.430Z"
      },
      {
        "duration": 5,
        "start_time": "2022-12-22T18:15:28.455Z"
      },
      {
        "duration": 71,
        "start_time": "2022-12-22T18:15:28.461Z"
      },
      {
        "duration": 938,
        "start_time": "2022-12-22T18:15:39.416Z"
      },
      {
        "duration": 1078,
        "start_time": "2022-12-22T18:16:04.202Z"
      },
      {
        "duration": 377,
        "start_time": "2022-12-22T18:16:05.282Z"
      },
      {
        "duration": 13,
        "start_time": "2022-12-22T18:16:05.661Z"
      },
      {
        "duration": 44,
        "start_time": "2022-12-22T18:16:05.676Z"
      },
      {
        "duration": 1214,
        "start_time": "2022-12-22T18:16:05.722Z"
      },
      {
        "duration": 189,
        "start_time": "2022-12-22T18:16:06.938Z"
      },
      {
        "duration": 155,
        "start_time": "2022-12-22T18:16:07.129Z"
      },
      {
        "duration": 16,
        "start_time": "2022-12-22T18:16:07.285Z"
      },
      {
        "duration": 27,
        "start_time": "2022-12-22T18:16:07.303Z"
      },
      {
        "duration": 47,
        "start_time": "2022-12-22T18:16:07.332Z"
      },
      {
        "duration": 42,
        "start_time": "2022-12-22T18:16:07.381Z"
      },
      {
        "duration": 4,
        "start_time": "2022-12-22T18:16:07.424Z"
      },
      {
        "duration": 200,
        "start_time": "2022-12-22T18:16:07.429Z"
      },
      {
        "duration": 94,
        "start_time": "2022-12-22T18:16:07.632Z"
      },
      {
        "duration": 4,
        "start_time": "2022-12-22T18:16:07.728Z"
      },
      {
        "duration": 113,
        "start_time": "2022-12-22T18:16:07.734Z"
      },
      {
        "duration": 5,
        "start_time": "2022-12-22T18:16:07.849Z"
      },
      {
        "duration": 981,
        "start_time": "2022-12-22T18:16:07.856Z"
      },
      {
        "duration": 1076,
        "start_time": "2022-12-22T18:16:22.923Z"
      },
      {
        "duration": 361,
        "start_time": "2022-12-22T18:16:24.001Z"
      },
      {
        "duration": 13,
        "start_time": "2022-12-22T18:16:24.364Z"
      },
      {
        "duration": 48,
        "start_time": "2022-12-22T18:16:24.379Z"
      },
      {
        "duration": 1300,
        "start_time": "2022-12-22T18:16:24.429Z"
      },
      {
        "duration": 197,
        "start_time": "2022-12-22T18:16:25.732Z"
      },
      {
        "duration": 183,
        "start_time": "2022-12-22T18:16:25.931Z"
      },
      {
        "duration": 23,
        "start_time": "2022-12-22T18:16:26.116Z"
      },
      {
        "duration": 20,
        "start_time": "2022-12-22T18:16:26.141Z"
      },
      {
        "duration": 43,
        "start_time": "2022-12-22T18:16:26.164Z"
      },
      {
        "duration": 54,
        "start_time": "2022-12-22T18:16:26.209Z"
      },
      {
        "duration": 3,
        "start_time": "2022-12-22T18:16:26.265Z"
      },
      {
        "duration": 159,
        "start_time": "2022-12-22T18:16:26.270Z"
      },
      {
        "duration": 5,
        "start_time": "2022-12-22T18:16:26.431Z"
      },
      {
        "duration": 6,
        "start_time": "2022-12-22T18:16:26.527Z"
      },
      {
        "duration": 22,
        "start_time": "2022-12-22T18:16:26.535Z"
      },
      {
        "duration": 5,
        "start_time": "2022-12-22T18:16:26.559Z"
      },
      {
        "duration": 1034,
        "start_time": "2022-12-22T18:16:26.566Z"
      },
      {
        "duration": 1082,
        "start_time": "2022-12-22T18:16:43.902Z"
      },
      {
        "duration": 361,
        "start_time": "2022-12-22T18:16:44.986Z"
      },
      {
        "duration": 15,
        "start_time": "2022-12-22T18:16:45.349Z"
      },
      {
        "duration": 37,
        "start_time": "2022-12-22T18:16:45.369Z"
      },
      {
        "duration": 1203,
        "start_time": "2022-12-22T18:16:45.408Z"
      },
      {
        "duration": 174,
        "start_time": "2022-12-22T18:16:46.613Z"
      },
      {
        "duration": 141,
        "start_time": "2022-12-22T18:16:46.789Z"
      },
      {
        "duration": 16,
        "start_time": "2022-12-22T18:16:46.932Z"
      },
      {
        "duration": 19,
        "start_time": "2022-12-22T18:16:46.949Z"
      },
      {
        "duration": 34,
        "start_time": "2022-12-22T18:16:46.969Z"
      },
      {
        "duration": 56,
        "start_time": "2022-12-22T18:16:47.005Z"
      },
      {
        "duration": 3,
        "start_time": "2022-12-22T18:16:47.063Z"
      },
      {
        "duration": 162,
        "start_time": "2022-12-22T18:16:47.068Z"
      },
      {
        "duration": 3,
        "start_time": "2022-12-22T18:16:47.232Z"
      },
      {
        "duration": 6,
        "start_time": "2022-12-22T18:16:47.329Z"
      },
      {
        "duration": 32,
        "start_time": "2022-12-22T18:16:47.427Z"
      },
      {
        "duration": 5,
        "start_time": "2022-12-22T18:16:47.461Z"
      },
      {
        "duration": 956,
        "start_time": "2022-12-22T18:16:47.467Z"
      },
      {
        "duration": 4,
        "start_time": "2022-12-22T18:17:09.256Z"
      },
      {
        "duration": 988,
        "start_time": "2022-12-22T18:17:10.794Z"
      },
      {
        "duration": 1058,
        "start_time": "2022-12-22T18:17:53.269Z"
      },
      {
        "duration": 407,
        "start_time": "2022-12-22T18:17:54.329Z"
      },
      {
        "duration": 16,
        "start_time": "2022-12-22T18:17:54.738Z"
      },
      {
        "duration": 34,
        "start_time": "2022-12-22T18:17:54.757Z"
      },
      {
        "duration": 1396,
        "start_time": "2022-12-22T18:17:54.793Z"
      },
      {
        "duration": 190,
        "start_time": "2022-12-22T18:17:56.190Z"
      },
      {
        "duration": 183,
        "start_time": "2022-12-22T18:17:56.381Z"
      },
      {
        "duration": 16,
        "start_time": "2022-12-22T18:17:56.566Z"
      },
      {
        "duration": 16,
        "start_time": "2022-12-22T18:17:56.584Z"
      },
      {
        "duration": 57,
        "start_time": "2022-12-22T18:17:56.602Z"
      },
      {
        "duration": 47,
        "start_time": "2022-12-22T18:17:56.661Z"
      },
      {
        "duration": 18,
        "start_time": "2022-12-22T18:17:56.710Z"
      },
      {
        "duration": 301,
        "start_time": "2022-12-22T18:17:56.729Z"
      },
      {
        "duration": 96,
        "start_time": "2022-12-22T18:17:57.032Z"
      },
      {
        "duration": 20,
        "start_time": "2022-12-22T18:17:57.130Z"
      },
      {
        "duration": 29,
        "start_time": "2022-12-22T18:17:57.153Z"
      },
      {
        "duration": 5,
        "start_time": "2022-12-22T18:17:57.184Z"
      },
      {
        "duration": 1017,
        "start_time": "2022-12-22T18:17:57.191Z"
      },
      {
        "duration": 1021,
        "start_time": "2022-12-22T18:19:27.179Z"
      },
      {
        "duration": 353,
        "start_time": "2022-12-22T18:19:28.202Z"
      },
      {
        "duration": 13,
        "start_time": "2022-12-22T18:19:28.557Z"
      },
      {
        "duration": 32,
        "start_time": "2022-12-22T18:19:28.573Z"
      },
      {
        "duration": 1221,
        "start_time": "2022-12-22T18:19:28.607Z"
      },
      {
        "duration": 186,
        "start_time": "2022-12-22T18:19:29.830Z"
      },
      {
        "duration": 153,
        "start_time": "2022-12-22T18:19:30.018Z"
      },
      {
        "duration": 17,
        "start_time": "2022-12-22T18:19:30.173Z"
      },
      {
        "duration": 15,
        "start_time": "2022-12-22T18:19:30.192Z"
      },
      {
        "duration": 51,
        "start_time": "2022-12-22T18:19:30.209Z"
      },
      {
        "duration": 43,
        "start_time": "2022-12-22T18:19:30.261Z"
      },
      {
        "duration": 3,
        "start_time": "2022-12-22T18:19:30.306Z"
      },
      {
        "duration": 414,
        "start_time": "2022-12-22T18:19:30.311Z"
      },
      {
        "duration": 3,
        "start_time": "2022-12-22T18:19:30.728Z"
      },
      {
        "duration": 119,
        "start_time": "2022-12-22T18:19:30.733Z"
      },
      {
        "duration": 74,
        "start_time": "2022-12-22T18:19:30.854Z"
      },
      {
        "duration": 30,
        "start_time": "2022-12-22T18:19:30.930Z"
      },
      {
        "duration": 1051,
        "start_time": "2022-12-22T18:19:30.962Z"
      },
      {
        "duration": 1074,
        "start_time": "2022-12-22T18:20:00.635Z"
      },
      {
        "duration": 374,
        "start_time": "2022-12-22T18:20:01.711Z"
      },
      {
        "duration": 13,
        "start_time": "2022-12-22T18:20:02.087Z"
      },
      {
        "duration": 63,
        "start_time": "2022-12-22T18:20:02.103Z"
      },
      {
        "duration": 1228,
        "start_time": "2022-12-22T18:20:02.168Z"
      },
      {
        "duration": 186,
        "start_time": "2022-12-22T18:20:03.397Z"
      },
      {
        "duration": 160,
        "start_time": "2022-12-22T18:20:03.584Z"
      },
      {
        "duration": 17,
        "start_time": "2022-12-22T18:20:03.745Z"
      },
      {
        "duration": 23,
        "start_time": "2022-12-22T18:20:03.764Z"
      },
      {
        "duration": 47,
        "start_time": "2022-12-22T18:20:03.790Z"
      },
      {
        "duration": 46,
        "start_time": "2022-12-22T18:20:03.839Z"
      },
      {
        "duration": 4,
        "start_time": "2022-12-22T18:20:03.886Z"
      },
      {
        "duration": 234,
        "start_time": "2022-12-22T18:20:03.892Z"
      },
      {
        "duration": 3,
        "start_time": "2022-12-22T18:20:04.128Z"
      },
      {
        "duration": 101,
        "start_time": "2022-12-22T18:20:04.133Z"
      },
      {
        "duration": 21,
        "start_time": "2022-12-22T18:20:04.235Z"
      },
      {
        "duration": 75,
        "start_time": "2022-12-22T18:20:04.258Z"
      },
      {
        "duration": 0,
        "start_time": "2022-12-22T18:20:04.335Z"
      },
      {
        "duration": 1059,
        "start_time": "2022-12-22T18:20:12.640Z"
      },
      {
        "duration": 358,
        "start_time": "2022-12-22T18:20:13.700Z"
      },
      {
        "duration": 13,
        "start_time": "2022-12-22T18:20:14.060Z"
      },
      {
        "duration": 32,
        "start_time": "2022-12-22T18:20:14.075Z"
      },
      {
        "duration": 1246,
        "start_time": "2022-12-22T18:20:14.109Z"
      },
      {
        "duration": 205,
        "start_time": "2022-12-22T18:20:15.357Z"
      },
      {
        "duration": 192,
        "start_time": "2022-12-22T18:20:15.563Z"
      },
      {
        "duration": 16,
        "start_time": "2022-12-22T18:20:15.757Z"
      },
      {
        "duration": 13,
        "start_time": "2022-12-22T18:20:15.775Z"
      },
      {
        "duration": 54,
        "start_time": "2022-12-22T18:20:15.791Z"
      },
      {
        "duration": 45,
        "start_time": "2022-12-22T18:20:15.847Z"
      },
      {
        "duration": 4,
        "start_time": "2022-12-22T18:20:15.893Z"
      },
      {
        "duration": 139,
        "start_time": "2022-12-22T18:20:15.898Z"
      },
      {
        "duration": 3,
        "start_time": "2022-12-22T18:20:16.128Z"
      },
      {
        "duration": 101,
        "start_time": "2022-12-22T18:20:16.133Z"
      },
      {
        "duration": 23,
        "start_time": "2022-12-22T18:20:16.236Z"
      },
      {
        "duration": 71,
        "start_time": "2022-12-22T18:20:16.261Z"
      },
      {
        "duration": 0,
        "start_time": "2022-12-22T18:20:16.333Z"
      },
      {
        "duration": 76,
        "start_time": "2022-12-22T18:20:24.167Z"
      },
      {
        "duration": 1072,
        "start_time": "2022-12-22T18:20:28.415Z"
      },
      {
        "duration": 344,
        "start_time": "2022-12-22T18:20:29.490Z"
      },
      {
        "duration": 17,
        "start_time": "2022-12-22T18:20:29.837Z"
      },
      {
        "duration": 33,
        "start_time": "2022-12-22T18:20:29.856Z"
      },
      {
        "duration": 1190,
        "start_time": "2022-12-22T18:20:29.890Z"
      },
      {
        "duration": 179,
        "start_time": "2022-12-22T18:20:31.081Z"
      },
      {
        "duration": 139,
        "start_time": "2022-12-22T18:20:31.262Z"
      },
      {
        "duration": 16,
        "start_time": "2022-12-22T18:20:31.402Z"
      },
      {
        "duration": 23,
        "start_time": "2022-12-22T18:20:31.425Z"
      },
      {
        "duration": 44,
        "start_time": "2022-12-22T18:20:31.450Z"
      },
      {
        "duration": 47,
        "start_time": "2022-12-22T18:20:31.496Z"
      },
      {
        "duration": 7,
        "start_time": "2022-12-22T18:20:31.545Z"
      },
      {
        "duration": 184,
        "start_time": "2022-12-22T18:20:31.554Z"
      },
      {
        "duration": 98,
        "start_time": "2022-12-22T18:20:31.741Z"
      },
      {
        "duration": 25,
        "start_time": "2022-12-22T18:20:31.840Z"
      },
      {
        "duration": 20,
        "start_time": "2022-12-22T18:20:31.867Z"
      },
      {
        "duration": 102,
        "start_time": "2022-12-22T18:20:31.888Z"
      },
      {
        "duration": 0,
        "start_time": "2022-12-22T18:20:31.991Z"
      },
      {
        "duration": 1074,
        "start_time": "2022-12-22T18:20:54.002Z"
      },
      {
        "duration": 373,
        "start_time": "2022-12-22T18:20:55.078Z"
      },
      {
        "duration": 15,
        "start_time": "2022-12-22T18:20:55.453Z"
      },
      {
        "duration": 36,
        "start_time": "2022-12-22T18:20:55.470Z"
      },
      {
        "duration": 1262,
        "start_time": "2022-12-22T18:20:55.525Z"
      },
      {
        "duration": 178,
        "start_time": "2022-12-22T18:20:56.789Z"
      },
      {
        "duration": 144,
        "start_time": "2022-12-22T18:20:56.969Z"
      },
      {
        "duration": 22,
        "start_time": "2022-12-22T18:20:57.115Z"
      },
      {
        "duration": 14,
        "start_time": "2022-12-22T18:20:57.139Z"
      },
      {
        "duration": 36,
        "start_time": "2022-12-22T18:20:57.155Z"
      },
      {
        "duration": 56,
        "start_time": "2022-12-22T18:20:57.193Z"
      },
      {
        "duration": 3,
        "start_time": "2022-12-22T18:20:57.251Z"
      },
      {
        "duration": 174,
        "start_time": "2022-12-22T18:20:57.255Z"
      },
      {
        "duration": 3,
        "start_time": "2022-12-22T18:20:57.431Z"
      },
      {
        "duration": 97,
        "start_time": "2022-12-22T18:20:57.436Z"
      },
      {
        "duration": 25,
        "start_time": "2022-12-22T18:20:57.535Z"
      },
      {
        "duration": 5,
        "start_time": "2022-12-22T18:20:57.561Z"
      },
      {
        "duration": 1034,
        "start_time": "2022-12-22T18:20:57.568Z"
      },
      {
        "duration": 957,
        "start_time": "2022-12-22T18:27:27.560Z"
      },
      {
        "duration": 1076,
        "start_time": "2022-12-22T18:27:32.412Z"
      },
      {
        "duration": 342,
        "start_time": "2022-12-22T18:27:33.490Z"
      },
      {
        "duration": 24,
        "start_time": "2022-12-22T18:27:33.834Z"
      },
      {
        "duration": 35,
        "start_time": "2022-12-22T18:27:33.860Z"
      },
      {
        "duration": 1194,
        "start_time": "2022-12-22T18:27:33.897Z"
      },
      {
        "duration": 180,
        "start_time": "2022-12-22T18:27:35.093Z"
      },
      {
        "duration": 154,
        "start_time": "2022-12-22T18:27:35.274Z"
      },
      {
        "duration": 17,
        "start_time": "2022-12-22T18:27:35.429Z"
      },
      {
        "duration": 16,
        "start_time": "2022-12-22T18:27:35.447Z"
      },
      {
        "duration": 40,
        "start_time": "2022-12-22T18:27:35.466Z"
      },
      {
        "duration": 71,
        "start_time": "2022-12-22T18:27:35.508Z"
      },
      {
        "duration": 4,
        "start_time": "2022-12-22T18:27:35.581Z"
      },
      {
        "duration": 340,
        "start_time": "2022-12-22T18:27:35.588Z"
      },
      {
        "duration": 98,
        "start_time": "2022-12-22T18:27:35.930Z"
      },
      {
        "duration": 13,
        "start_time": "2022-12-22T18:27:36.030Z"
      },
      {
        "duration": 24,
        "start_time": "2022-12-22T18:27:36.045Z"
      },
      {
        "duration": 5,
        "start_time": "2022-12-22T18:27:36.070Z"
      },
      {
        "duration": 980,
        "start_time": "2022-12-22T18:27:36.077Z"
      },
      {
        "duration": 5,
        "start_time": "2022-12-22T18:29:39.127Z"
      },
      {
        "duration": 958,
        "start_time": "2022-12-22T18:29:40.445Z"
      },
      {
        "duration": 94,
        "start_time": "2022-12-22T18:31:20.231Z"
      },
      {
        "duration": 928,
        "start_time": "2022-12-22T18:31:31.605Z"
      },
      {
        "duration": 931,
        "start_time": "2022-12-22T18:31:52.069Z"
      },
      {
        "duration": 5,
        "start_time": "2022-12-22T18:41:46.910Z"
      },
      {
        "duration": 886,
        "start_time": "2022-12-22T18:41:48.108Z"
      },
      {
        "duration": 986,
        "start_time": "2022-12-22T18:42:01.020Z"
      },
      {
        "duration": 929,
        "start_time": "2022-12-22T18:42:02.008Z"
      },
      {
        "duration": 1017,
        "start_time": "2022-12-22T18:46:01.748Z"
      },
      {
        "duration": 346,
        "start_time": "2022-12-22T18:46:02.767Z"
      },
      {
        "duration": 13,
        "start_time": "2022-12-22T18:46:03.114Z"
      },
      {
        "duration": 49,
        "start_time": "2022-12-22T18:46:03.129Z"
      },
      {
        "duration": 1175,
        "start_time": "2022-12-22T18:46:03.180Z"
      },
      {
        "duration": 178,
        "start_time": "2022-12-22T18:46:04.357Z"
      },
      {
        "duration": 158,
        "start_time": "2022-12-22T18:46:04.536Z"
      },
      {
        "duration": 16,
        "start_time": "2022-12-22T18:46:04.696Z"
      },
      {
        "duration": 36,
        "start_time": "2022-12-22T18:46:04.713Z"
      },
      {
        "duration": 61,
        "start_time": "2022-12-22T18:46:04.751Z"
      },
      {
        "duration": 46,
        "start_time": "2022-12-22T18:46:04.814Z"
      },
      {
        "duration": 12,
        "start_time": "2022-12-22T18:46:04.862Z"
      },
      {
        "duration": 154,
        "start_time": "2022-12-22T18:46:04.876Z"
      },
      {
        "duration": 103,
        "start_time": "2022-12-22T18:46:05.034Z"
      },
      {
        "duration": 90,
        "start_time": "2022-12-22T18:46:05.138Z"
      },
      {
        "duration": 60,
        "start_time": "2022-12-22T18:46:05.230Z"
      },
      {
        "duration": 20,
        "start_time": "2022-12-22T18:46:05.292Z"
      },
      {
        "duration": 1094,
        "start_time": "2022-12-22T18:46:05.313Z"
      },
      {
        "duration": 0,
        "start_time": "2022-12-22T18:46:06.409Z"
      },
      {
        "duration": 0,
        "start_time": "2022-12-22T18:46:06.411Z"
      },
      {
        "duration": 1052,
        "start_time": "2022-12-22T18:46:18.009Z"
      },
      {
        "duration": 370,
        "start_time": "2022-12-22T18:46:19.064Z"
      },
      {
        "duration": 13,
        "start_time": "2022-12-22T18:46:19.435Z"
      },
      {
        "duration": 31,
        "start_time": "2022-12-22T18:46:19.449Z"
      },
      {
        "duration": 1189,
        "start_time": "2022-12-22T18:46:19.482Z"
      },
      {
        "duration": 179,
        "start_time": "2022-12-22T18:46:20.673Z"
      },
      {
        "duration": 137,
        "start_time": "2022-12-22T18:46:20.853Z"
      },
      {
        "duration": 17,
        "start_time": "2022-12-22T18:46:20.991Z"
      },
      {
        "duration": 20,
        "start_time": "2022-12-22T18:46:21.009Z"
      },
      {
        "duration": 37,
        "start_time": "2022-12-22T18:46:21.030Z"
      },
      {
        "duration": 41,
        "start_time": "2022-12-22T18:46:21.069Z"
      },
      {
        "duration": 16,
        "start_time": "2022-12-22T18:46:21.111Z"
      },
      {
        "duration": 197,
        "start_time": "2022-12-22T18:46:21.129Z"
      },
      {
        "duration": 3,
        "start_time": "2022-12-22T18:46:21.333Z"
      },
      {
        "duration": 92,
        "start_time": "2022-12-22T18:46:21.341Z"
      },
      {
        "duration": 21,
        "start_time": "2022-12-22T18:46:21.434Z"
      },
      {
        "duration": 5,
        "start_time": "2022-12-22T18:46:21.456Z"
      },
      {
        "duration": 993,
        "start_time": "2022-12-22T18:46:21.462Z"
      },
      {
        "duration": 912,
        "start_time": "2022-12-22T18:46:22.457Z"
      },
      {
        "duration": 915,
        "start_time": "2022-12-22T18:46:23.370Z"
      },
      {
        "duration": 1049,
        "start_time": "2022-12-22T18:46:48.408Z"
      },
      {
        "duration": 348,
        "start_time": "2022-12-22T18:46:49.459Z"
      },
      {
        "duration": 20,
        "start_time": "2022-12-22T18:46:49.809Z"
      },
      {
        "duration": 32,
        "start_time": "2022-12-22T18:46:49.831Z"
      },
      {
        "duration": 1154,
        "start_time": "2022-12-22T18:46:49.865Z"
      },
      {
        "duration": 172,
        "start_time": "2022-12-22T18:46:51.021Z"
      },
      {
        "duration": 139,
        "start_time": "2022-12-22T18:46:51.194Z"
      },
      {
        "duration": 16,
        "start_time": "2022-12-22T18:46:51.334Z"
      },
      {
        "duration": 13,
        "start_time": "2022-12-22T18:46:51.351Z"
      },
      {
        "duration": 37,
        "start_time": "2022-12-22T18:46:51.365Z"
      },
      {
        "duration": 50,
        "start_time": "2022-12-22T18:46:51.404Z"
      },
      {
        "duration": 3,
        "start_time": "2022-12-22T18:46:51.456Z"
      },
      {
        "duration": 169,
        "start_time": "2022-12-22T18:46:51.460Z"
      },
      {
        "duration": 6,
        "start_time": "2022-12-22T18:46:51.633Z"
      },
      {
        "duration": 92,
        "start_time": "2022-12-22T18:46:51.641Z"
      },
      {
        "duration": 22,
        "start_time": "2022-12-22T18:46:51.735Z"
      },
      {
        "duration": 5,
        "start_time": "2022-12-22T18:46:51.758Z"
      },
      {
        "duration": 944,
        "start_time": "2022-12-22T18:46:51.765Z"
      },
      {
        "duration": 902,
        "start_time": "2022-12-22T18:46:52.711Z"
      },
      {
        "duration": 921,
        "start_time": "2022-12-22T18:46:53.615Z"
      },
      {
        "duration": 1072,
        "start_time": "2022-12-22T18:53:19.798Z"
      },
      {
        "duration": 344,
        "start_time": "2022-12-22T18:53:20.872Z"
      },
      {
        "duration": 15,
        "start_time": "2022-12-22T18:53:21.218Z"
      },
      {
        "duration": 53,
        "start_time": "2022-12-22T18:53:21.236Z"
      },
      {
        "duration": 1229,
        "start_time": "2022-12-22T18:53:21.290Z"
      },
      {
        "duration": 174,
        "start_time": "2022-12-22T18:53:22.521Z"
      },
      {
        "duration": 170,
        "start_time": "2022-12-22T18:53:22.696Z"
      },
      {
        "duration": 17,
        "start_time": "2022-12-22T18:53:22.867Z"
      },
      {
        "duration": 60,
        "start_time": "2022-12-22T18:53:22.886Z"
      },
      {
        "duration": 44,
        "start_time": "2022-12-22T18:53:22.948Z"
      },
      {
        "duration": 48,
        "start_time": "2022-12-22T18:53:22.993Z"
      },
      {
        "duration": 3,
        "start_time": "2022-12-22T18:53:23.042Z"
      },
      {
        "duration": 185,
        "start_time": "2022-12-22T18:53:23.047Z"
      },
      {
        "duration": 4,
        "start_time": "2022-12-22T18:53:23.233Z"
      },
      {
        "duration": 91,
        "start_time": "2022-12-22T18:53:23.238Z"
      },
      {
        "duration": 22,
        "start_time": "2022-12-22T18:53:23.331Z"
      },
      {
        "duration": 4,
        "start_time": "2022-12-22T18:53:23.355Z"
      },
      {
        "duration": 933,
        "start_time": "2022-12-22T18:53:23.361Z"
      },
      {
        "duration": 911,
        "start_time": "2022-12-22T18:53:24.295Z"
      },
      {
        "duration": 964,
        "start_time": "2022-12-22T18:53:25.208Z"
      },
      {
        "duration": 5,
        "start_time": "2022-12-22T18:55:49.403Z"
      },
      {
        "duration": 910,
        "start_time": "2022-12-22T18:55:49.808Z"
      },
      {
        "duration": 6,
        "start_time": "2022-12-22T18:59:16.218Z"
      },
      {
        "duration": 918,
        "start_time": "2022-12-22T18:59:17.576Z"
      },
      {
        "duration": 7,
        "start_time": "2022-12-22T19:00:05.812Z"
      },
      {
        "duration": 930,
        "start_time": "2022-12-22T19:00:07.648Z"
      },
      {
        "duration": 6,
        "start_time": "2022-12-22T19:00:39.971Z"
      },
      {
        "duration": 986,
        "start_time": "2022-12-22T19:00:41.516Z"
      },
      {
        "duration": 6,
        "start_time": "2022-12-22T19:01:18.344Z"
      },
      {
        "duration": 913,
        "start_time": "2022-12-22T19:01:18.919Z"
      },
      {
        "duration": 905,
        "start_time": "2022-12-22T19:01:23.015Z"
      },
      {
        "duration": 961,
        "start_time": "2022-12-22T19:01:25.032Z"
      },
      {
        "duration": 6,
        "start_time": "2022-12-22T19:01:56.407Z"
      },
      {
        "duration": 913,
        "start_time": "2022-12-22T19:01:56.648Z"
      },
      {
        "duration": 894,
        "start_time": "2022-12-22T19:01:57.632Z"
      },
      {
        "duration": 6,
        "start_time": "2022-12-22T19:02:47.614Z"
      },
      {
        "duration": 1013,
        "start_time": "2022-12-22T19:02:47.976Z"
      },
      {
        "duration": 6,
        "start_time": "2022-12-22T19:03:09.710Z"
      },
      {
        "duration": 912,
        "start_time": "2022-12-22T19:03:10.013Z"
      },
      {
        "duration": 5,
        "start_time": "2022-12-22T19:03:24.519Z"
      },
      {
        "duration": 957,
        "start_time": "2022-12-22T19:03:24.849Z"
      },
      {
        "duration": 6,
        "start_time": "2022-12-22T19:03:39.721Z"
      },
      {
        "duration": 929,
        "start_time": "2022-12-22T19:03:39.975Z"
      },
      {
        "duration": 6,
        "start_time": "2022-12-22T19:04:16.079Z"
      },
      {
        "duration": 910,
        "start_time": "2022-12-22T19:04:16.313Z"
      },
      {
        "duration": 935,
        "start_time": "2022-12-22T19:04:19.158Z"
      },
      {
        "duration": 7,
        "start_time": "2022-12-22T19:04:40.343Z"
      },
      {
        "duration": 944,
        "start_time": "2022-12-22T19:04:40.631Z"
      },
      {
        "duration": 6,
        "start_time": "2022-12-22T19:04:49.127Z"
      },
      {
        "duration": 953,
        "start_time": "2022-12-22T19:04:49.430Z"
      },
      {
        "duration": 929,
        "start_time": "2022-12-22T19:04:50.385Z"
      },
      {
        "duration": 917,
        "start_time": "2022-12-22T19:04:53.215Z"
      },
      {
        "duration": 5,
        "start_time": "2022-12-22T19:05:17.508Z"
      },
      {
        "duration": 971,
        "start_time": "2022-12-22T19:05:17.802Z"
      },
      {
        "duration": 6,
        "start_time": "2022-12-22T19:05:26.203Z"
      },
      {
        "duration": 941,
        "start_time": "2022-12-22T19:05:26.511Z"
      },
      {
        "duration": 7,
        "start_time": "2022-12-22T19:05:35.106Z"
      },
      {
        "duration": 975,
        "start_time": "2022-12-22T19:05:35.406Z"
      },
      {
        "duration": 6,
        "start_time": "2022-12-22T19:06:12.704Z"
      },
      {
        "duration": 890,
        "start_time": "2022-12-22T19:06:13.911Z"
      },
      {
        "duration": 930,
        "start_time": "2022-12-22T19:06:16.786Z"
      },
      {
        "duration": 935,
        "start_time": "2022-12-22T19:06:18.456Z"
      },
      {
        "duration": 6,
        "start_time": "2022-12-22T19:28:50.195Z"
      },
      {
        "duration": 869,
        "start_time": "2022-12-22T19:28:50.561Z"
      },
      {
        "duration": 938,
        "start_time": "2022-12-22T19:28:51.432Z"
      },
      {
        "duration": 892,
        "start_time": "2022-12-22T19:28:53.969Z"
      },
      {
        "duration": 999,
        "start_time": "2022-12-22T19:42:55.970Z"
      },
      {
        "duration": 329,
        "start_time": "2022-12-22T19:42:56.971Z"
      },
      {
        "duration": 13,
        "start_time": "2022-12-22T19:42:57.301Z"
      },
      {
        "duration": 37,
        "start_time": "2022-12-22T19:42:57.317Z"
      },
      {
        "duration": 1146,
        "start_time": "2022-12-22T19:42:57.356Z"
      },
      {
        "duration": 166,
        "start_time": "2022-12-22T19:42:58.504Z"
      },
      {
        "duration": 128,
        "start_time": "2022-12-22T19:42:58.672Z"
      },
      {
        "duration": 16,
        "start_time": "2022-12-22T19:42:58.802Z"
      },
      {
        "duration": 11,
        "start_time": "2022-12-22T19:42:58.825Z"
      },
      {
        "duration": 36,
        "start_time": "2022-12-22T19:42:58.838Z"
      },
      {
        "duration": 58,
        "start_time": "2022-12-22T19:42:58.875Z"
      },
      {
        "duration": 3,
        "start_time": "2022-12-22T19:42:58.935Z"
      },
      {
        "duration": 187,
        "start_time": "2022-12-22T19:42:58.940Z"
      },
      {
        "duration": 3,
        "start_time": "2022-12-22T19:42:59.129Z"
      },
      {
        "duration": 107,
        "start_time": "2022-12-22T19:42:59.133Z"
      },
      {
        "duration": 26,
        "start_time": "2022-12-22T19:42:59.241Z"
      },
      {
        "duration": 5,
        "start_time": "2022-12-22T19:42:59.269Z"
      },
      {
        "duration": 900,
        "start_time": "2022-12-22T19:42:59.276Z"
      },
      {
        "duration": 889,
        "start_time": "2022-12-22T19:43:00.178Z"
      },
      {
        "duration": 924,
        "start_time": "2022-12-22T19:43:01.069Z"
      },
      {
        "duration": 1030,
        "start_time": "2022-12-25T07:24:00.777Z"
      },
      {
        "duration": 970,
        "start_time": "2022-12-25T07:24:01.808Z"
      },
      {
        "duration": 15,
        "start_time": "2022-12-25T07:24:02.780Z"
      },
      {
        "duration": 45,
        "start_time": "2022-12-25T07:24:02.797Z"
      },
      {
        "duration": 1583,
        "start_time": "2022-12-25T07:24:02.843Z"
      },
      {
        "duration": 120,
        "start_time": "2022-12-25T07:24:04.429Z"
      },
      {
        "duration": 177,
        "start_time": "2022-12-25T07:24:04.550Z"
      },
      {
        "duration": 23,
        "start_time": "2022-12-25T07:24:04.729Z"
      },
      {
        "duration": 41,
        "start_time": "2022-12-25T07:24:04.754Z"
      },
      {
        "duration": 46,
        "start_time": "2022-12-25T07:24:04.798Z"
      },
      {
        "duration": 48,
        "start_time": "2022-12-25T07:24:04.847Z"
      },
      {
        "duration": 4,
        "start_time": "2022-12-25T07:24:04.897Z"
      },
      {
        "duration": 335,
        "start_time": "2022-12-25T07:24:04.903Z"
      },
      {
        "duration": 4,
        "start_time": "2022-12-25T07:24:05.241Z"
      },
      {
        "duration": 100,
        "start_time": "2022-12-25T07:24:05.337Z"
      },
      {
        "duration": 27,
        "start_time": "2022-12-25T07:24:05.439Z"
      },
      {
        "duration": 5,
        "start_time": "2022-12-25T07:24:05.468Z"
      },
      {
        "duration": 1177,
        "start_time": "2022-12-25T07:24:05.475Z"
      },
      {
        "duration": 0,
        "start_time": "2022-12-25T07:24:06.655Z"
      },
      {
        "duration": 0,
        "start_time": "2022-12-25T07:24:06.657Z"
      },
      {
        "duration": 1057,
        "start_time": "2022-12-25T07:26:00.250Z"
      },
      {
        "duration": 357,
        "start_time": "2022-12-25T07:26:01.310Z"
      },
      {
        "duration": 14,
        "start_time": "2022-12-25T07:26:01.669Z"
      },
      {
        "duration": 41,
        "start_time": "2022-12-25T07:26:01.685Z"
      },
      {
        "duration": 1297,
        "start_time": "2022-12-25T07:26:01.735Z"
      },
      {
        "duration": 187,
        "start_time": "2022-12-25T07:26:03.035Z"
      },
      {
        "duration": 162,
        "start_time": "2022-12-25T07:26:03.223Z"
      },
      {
        "duration": 14,
        "start_time": "2022-12-25T07:26:03.387Z"
      },
      {
        "duration": 55,
        "start_time": "2022-12-25T07:26:03.403Z"
      },
      {
        "duration": 62,
        "start_time": "2022-12-25T07:26:03.461Z"
      },
      {
        "duration": 45,
        "start_time": "2022-12-25T07:26:03.525Z"
      },
      {
        "duration": 3,
        "start_time": "2022-12-25T07:26:03.572Z"
      },
      {
        "duration": 265,
        "start_time": "2022-12-25T07:26:03.576Z"
      },
      {
        "duration": 92,
        "start_time": "2022-12-25T07:26:03.844Z"
      },
      {
        "duration": 97,
        "start_time": "2022-12-25T07:26:03.939Z"
      },
      {
        "duration": 24,
        "start_time": "2022-12-25T07:26:04.038Z"
      },
      {
        "duration": 5,
        "start_time": "2022-12-25T07:26:04.064Z"
      },
      {
        "duration": 1068,
        "start_time": "2022-12-25T07:26:04.071Z"
      },
      {
        "duration": 1005,
        "start_time": "2022-12-25T07:26:05.141Z"
      },
      {
        "duration": 1049,
        "start_time": "2022-12-25T07:26:06.148Z"
      },
      {
        "duration": 1115,
        "start_time": "2022-12-25T08:25:18.522Z"
      },
      {
        "duration": 397,
        "start_time": "2022-12-25T08:25:19.639Z"
      },
      {
        "duration": 47,
        "start_time": "2022-12-25T08:25:20.037Z"
      },
      {
        "duration": 0,
        "start_time": "2022-12-25T08:25:20.086Z"
      },
      {
        "duration": 0,
        "start_time": "2022-12-25T08:25:20.087Z"
      },
      {
        "duration": 0,
        "start_time": "2022-12-25T08:25:20.088Z"
      },
      {
        "duration": 0,
        "start_time": "2022-12-25T08:25:20.089Z"
      },
      {
        "duration": 0,
        "start_time": "2022-12-25T08:25:20.090Z"
      },
      {
        "duration": 0,
        "start_time": "2022-12-25T08:25:20.091Z"
      },
      {
        "duration": 0,
        "start_time": "2022-12-25T08:25:20.092Z"
      },
      {
        "duration": 0,
        "start_time": "2022-12-25T08:25:20.093Z"
      },
      {
        "duration": 0,
        "start_time": "2022-12-25T08:25:20.094Z"
      },
      {
        "duration": 0,
        "start_time": "2022-12-25T08:25:20.095Z"
      },
      {
        "duration": 0,
        "start_time": "2022-12-25T08:25:20.096Z"
      },
      {
        "duration": 0,
        "start_time": "2022-12-25T08:25:20.098Z"
      },
      {
        "duration": 0,
        "start_time": "2022-12-25T08:25:20.099Z"
      },
      {
        "duration": 0,
        "start_time": "2022-12-25T08:25:20.100Z"
      },
      {
        "duration": 0,
        "start_time": "2022-12-25T08:25:20.101Z"
      },
      {
        "duration": 3,
        "start_time": "2022-12-25T08:25:52.678Z"
      },
      {
        "duration": 641,
        "start_time": "2022-12-25T08:25:53.668Z"
      },
      {
        "duration": 418,
        "start_time": "2022-12-25T08:25:57.955Z"
      },
      {
        "duration": 516,
        "start_time": "2022-12-25T08:26:01.458Z"
      },
      {
        "duration": 3,
        "start_time": "2022-12-25T08:26:21.835Z"
      },
      {
        "duration": 454,
        "start_time": "2022-12-25T08:26:22.541Z"
      },
      {
        "duration": 495,
        "start_time": "2022-12-25T08:26:26.444Z"
      },
      {
        "duration": 425,
        "start_time": "2022-12-25T08:26:31.548Z"
      },
      {
        "duration": 3,
        "start_time": "2022-12-25T08:26:49.346Z"
      },
      {
        "duration": 400,
        "start_time": "2022-12-25T08:26:51.698Z"
      },
      {
        "duration": 43,
        "start_time": "2022-12-25T08:27:03.770Z"
      },
      {
        "duration": 44,
        "start_time": "2022-12-25T08:27:10.488Z"
      },
      {
        "duration": 4,
        "start_time": "2022-12-25T08:27:20.345Z"
      },
      {
        "duration": 419,
        "start_time": "2022-12-25T08:27:23.522Z"
      },
      {
        "duration": 4,
        "start_time": "2022-12-25T08:27:31.866Z"
      },
      {
        "duration": 515,
        "start_time": "2022-12-25T08:27:32.674Z"
      },
      {
        "duration": 4,
        "start_time": "2022-12-25T08:27:47.554Z"
      },
      {
        "duration": 442,
        "start_time": "2022-12-25T08:27:48.939Z"
      },
      {
        "duration": 3,
        "start_time": "2022-12-25T08:27:55.748Z"
      },
      {
        "duration": 429,
        "start_time": "2022-12-25T08:27:56.121Z"
      },
      {
        "duration": 4,
        "start_time": "2022-12-25T08:29:04.010Z"
      },
      {
        "duration": 416,
        "start_time": "2022-12-25T08:29:04.593Z"
      },
      {
        "duration": 6,
        "start_time": "2022-12-25T08:29:49.442Z"
      },
      {
        "duration": 423,
        "start_time": "2022-12-25T08:29:53.883Z"
      },
      {
        "duration": 4,
        "start_time": "2022-12-25T08:30:36.409Z"
      },
      {
        "duration": 4,
        "start_time": "2022-12-25T08:31:08.233Z"
      },
      {
        "duration": 521,
        "start_time": "2022-12-25T08:31:08.634Z"
      },
      {
        "duration": 1115,
        "start_time": "2022-12-25T08:31:24.237Z"
      },
      {
        "duration": 374,
        "start_time": "2022-12-25T08:31:25.354Z"
      },
      {
        "duration": 4,
        "start_time": "2022-12-25T08:31:25.729Z"
      },
      {
        "duration": 736,
        "start_time": "2022-12-25T08:31:25.735Z"
      },
      {
        "duration": 480,
        "start_time": "2022-12-25T08:31:26.473Z"
      },
      {
        "duration": 511,
        "start_time": "2022-12-25T08:31:26.954Z"
      },
      {
        "duration": 14,
        "start_time": "2022-12-25T08:31:27.466Z"
      },
      {
        "duration": 69,
        "start_time": "2022-12-25T08:31:27.481Z"
      },
      {
        "duration": 168,
        "start_time": "2022-12-25T08:31:27.552Z"
      },
      {
        "duration": 3,
        "start_time": "2022-12-25T08:31:27.723Z"
      },
      {
        "duration": 155,
        "start_time": "2022-12-25T08:31:27.727Z"
      },
      {
        "duration": 0,
        "start_time": "2022-12-25T08:31:27.883Z"
      },
      {
        "duration": 0,
        "start_time": "2022-12-25T08:31:27.885Z"
      },
      {
        "duration": 0,
        "start_time": "2022-12-25T08:31:27.886Z"
      },
      {
        "duration": 0,
        "start_time": "2022-12-25T08:31:27.887Z"
      },
      {
        "duration": 0,
        "start_time": "2022-12-25T08:31:27.887Z"
      },
      {
        "duration": 0,
        "start_time": "2022-12-25T08:31:27.888Z"
      },
      {
        "duration": 0,
        "start_time": "2022-12-25T08:31:27.889Z"
      },
      {
        "duration": 1051,
        "start_time": "2022-12-25T08:35:14.168Z"
      },
      {
        "duration": 390,
        "start_time": "2022-12-25T08:35:15.220Z"
      },
      {
        "duration": 4,
        "start_time": "2022-12-25T08:35:15.611Z"
      },
      {
        "duration": 692,
        "start_time": "2022-12-25T08:35:15.618Z"
      },
      {
        "duration": 484,
        "start_time": "2022-12-25T08:35:16.313Z"
      },
      {
        "duration": 526,
        "start_time": "2022-12-25T08:35:16.799Z"
      },
      {
        "duration": 8,
        "start_time": "2022-12-25T08:35:17.327Z"
      },
      {
        "duration": 113,
        "start_time": "2022-12-25T08:35:17.337Z"
      },
      {
        "duration": 0,
        "start_time": "2022-12-25T08:35:17.452Z"
      },
      {
        "duration": 0,
        "start_time": "2022-12-25T08:35:17.453Z"
      },
      {
        "duration": 0,
        "start_time": "2022-12-25T08:35:17.454Z"
      },
      {
        "duration": 0,
        "start_time": "2022-12-25T08:35:17.456Z"
      },
      {
        "duration": 0,
        "start_time": "2022-12-25T08:35:17.457Z"
      },
      {
        "duration": 0,
        "start_time": "2022-12-25T08:35:17.458Z"
      },
      {
        "duration": 0,
        "start_time": "2022-12-25T08:35:17.459Z"
      },
      {
        "duration": 0,
        "start_time": "2022-12-25T08:35:17.460Z"
      },
      {
        "duration": 0,
        "start_time": "2022-12-25T08:35:17.461Z"
      },
      {
        "duration": 0,
        "start_time": "2022-12-25T08:35:17.462Z"
      },
      {
        "duration": 0,
        "start_time": "2022-12-25T08:35:17.464Z"
      },
      {
        "duration": 0,
        "start_time": "2022-12-25T08:35:17.465Z"
      },
      {
        "duration": 11,
        "start_time": "2022-12-25T08:35:26.424Z"
      },
      {
        "duration": 8,
        "start_time": "2022-12-25T08:35:33.209Z"
      },
      {
        "duration": 3,
        "start_time": "2022-12-25T08:36:06.961Z"
      },
      {
        "duration": 8,
        "start_time": "2022-12-25T08:36:07.288Z"
      },
      {
        "duration": 1032,
        "start_time": "2022-12-25T08:36:40.558Z"
      },
      {
        "duration": 365,
        "start_time": "2022-12-25T08:36:41.592Z"
      },
      {
        "duration": 4,
        "start_time": "2022-12-25T08:36:41.958Z"
      },
      {
        "duration": 749,
        "start_time": "2022-12-25T08:36:41.964Z"
      },
      {
        "duration": 457,
        "start_time": "2022-12-25T08:36:42.714Z"
      },
      {
        "duration": 512,
        "start_time": "2022-12-25T08:36:43.173Z"
      },
      {
        "duration": 4,
        "start_time": "2022-12-25T08:36:43.687Z"
      },
      {
        "duration": 24,
        "start_time": "2022-12-25T08:36:43.693Z"
      },
      {
        "duration": 24,
        "start_time": "2022-12-25T08:36:43.718Z"
      },
      {
        "duration": 53,
        "start_time": "2022-12-25T08:36:43.745Z"
      },
      {
        "duration": 177,
        "start_time": "2022-12-25T08:36:43.800Z"
      },
      {
        "duration": 3,
        "start_time": "2022-12-25T08:36:43.979Z"
      },
      {
        "duration": 151,
        "start_time": "2022-12-25T08:36:43.984Z"
      },
      {
        "duration": 0,
        "start_time": "2022-12-25T08:36:44.137Z"
      },
      {
        "duration": 0,
        "start_time": "2022-12-25T08:36:44.139Z"
      },
      {
        "duration": 0,
        "start_time": "2022-12-25T08:36:44.140Z"
      },
      {
        "duration": 0,
        "start_time": "2022-12-25T08:36:44.141Z"
      },
      {
        "duration": 0,
        "start_time": "2022-12-25T08:36:44.142Z"
      },
      {
        "duration": 0,
        "start_time": "2022-12-25T08:36:44.143Z"
      },
      {
        "duration": 0,
        "start_time": "2022-12-25T08:36:44.144Z"
      },
      {
        "duration": 1175,
        "start_time": "2022-12-25T08:39:21.694Z"
      },
      {
        "duration": 404,
        "start_time": "2022-12-25T08:39:22.871Z"
      },
      {
        "duration": 5,
        "start_time": "2022-12-25T08:39:23.277Z"
      },
      {
        "duration": 691,
        "start_time": "2022-12-25T08:39:23.284Z"
      },
      {
        "duration": 458,
        "start_time": "2022-12-25T08:39:23.977Z"
      },
      {
        "duration": 502,
        "start_time": "2022-12-25T08:39:24.436Z"
      },
      {
        "duration": 5,
        "start_time": "2022-12-25T08:39:24.940Z"
      },
      {
        "duration": 28,
        "start_time": "2022-12-25T08:39:24.947Z"
      },
      {
        "duration": 13,
        "start_time": "2022-12-25T08:39:24.977Z"
      },
      {
        "duration": 71,
        "start_time": "2022-12-25T08:39:24.992Z"
      },
      {
        "duration": 173,
        "start_time": "2022-12-25T08:39:25.064Z"
      },
      {
        "duration": 4,
        "start_time": "2022-12-25T08:39:25.238Z"
      },
      {
        "duration": 152,
        "start_time": "2022-12-25T08:39:25.243Z"
      },
      {
        "duration": 0,
        "start_time": "2022-12-25T08:39:25.396Z"
      },
      {
        "duration": 0,
        "start_time": "2022-12-25T08:39:25.398Z"
      },
      {
        "duration": 0,
        "start_time": "2022-12-25T08:39:25.399Z"
      },
      {
        "duration": 0,
        "start_time": "2022-12-25T08:39:25.400Z"
      },
      {
        "duration": 0,
        "start_time": "2022-12-25T08:39:25.401Z"
      },
      {
        "duration": 0,
        "start_time": "2022-12-25T08:39:25.403Z"
      },
      {
        "duration": 0,
        "start_time": "2022-12-25T08:39:25.404Z"
      },
      {
        "duration": 13,
        "start_time": "2022-12-25T08:39:47.305Z"
      },
      {
        "duration": 1113,
        "start_time": "2022-12-25T08:40:26.819Z"
      },
      {
        "duration": 417,
        "start_time": "2022-12-25T08:40:27.934Z"
      },
      {
        "duration": 5,
        "start_time": "2022-12-25T08:40:28.353Z"
      },
      {
        "duration": 720,
        "start_time": "2022-12-25T08:40:28.360Z"
      },
      {
        "duration": 482,
        "start_time": "2022-12-25T08:40:29.082Z"
      },
      {
        "duration": 561,
        "start_time": "2022-12-25T08:40:29.566Z"
      },
      {
        "duration": 3,
        "start_time": "2022-12-25T08:40:30.135Z"
      },
      {
        "duration": 57,
        "start_time": "2022-12-25T08:40:30.140Z"
      },
      {
        "duration": 49,
        "start_time": "2022-12-25T08:40:30.198Z"
      },
      {
        "duration": 85,
        "start_time": "2022-12-25T08:40:30.250Z"
      },
      {
        "duration": 176,
        "start_time": "2022-12-25T08:40:30.337Z"
      },
      {
        "duration": 3,
        "start_time": "2022-12-25T08:40:30.514Z"
      },
      {
        "duration": 182,
        "start_time": "2022-12-25T08:40:30.519Z"
      },
      {
        "duration": 0,
        "start_time": "2022-12-25T08:40:30.702Z"
      },
      {
        "duration": 0,
        "start_time": "2022-12-25T08:40:30.704Z"
      },
      {
        "duration": 0,
        "start_time": "2022-12-25T08:40:30.705Z"
      },
      {
        "duration": 0,
        "start_time": "2022-12-25T08:40:30.706Z"
      },
      {
        "duration": 0,
        "start_time": "2022-12-25T08:40:30.707Z"
      },
      {
        "duration": 0,
        "start_time": "2022-12-25T08:40:30.708Z"
      },
      {
        "duration": 0,
        "start_time": "2022-12-25T08:40:30.710Z"
      },
      {
        "duration": 1038,
        "start_time": "2022-12-25T08:41:17.071Z"
      },
      {
        "duration": 380,
        "start_time": "2022-12-25T08:41:18.111Z"
      },
      {
        "duration": 5,
        "start_time": "2022-12-25T08:41:18.493Z"
      },
      {
        "duration": 744,
        "start_time": "2022-12-25T08:41:18.500Z"
      },
      {
        "duration": 489,
        "start_time": "2022-12-25T08:41:19.246Z"
      },
      {
        "duration": 582,
        "start_time": "2022-12-25T08:41:19.738Z"
      },
      {
        "duration": 3,
        "start_time": "2022-12-25T08:41:20.322Z"
      },
      {
        "duration": 37,
        "start_time": "2022-12-25T08:41:20.336Z"
      },
      {
        "duration": 34,
        "start_time": "2022-12-25T08:41:20.376Z"
      },
      {
        "duration": 47,
        "start_time": "2022-12-25T08:41:20.413Z"
      },
      {
        "duration": 77,
        "start_time": "2022-12-25T08:41:20.462Z"
      },
      {
        "duration": 183,
        "start_time": "2022-12-25T08:41:20.541Z"
      },
      {
        "duration": 3,
        "start_time": "2022-12-25T08:41:20.726Z"
      },
      {
        "duration": 156,
        "start_time": "2022-12-25T08:41:20.736Z"
      },
      {
        "duration": 0,
        "start_time": "2022-12-25T08:41:20.894Z"
      },
      {
        "duration": 0,
        "start_time": "2022-12-25T08:41:20.895Z"
      },
      {
        "duration": 0,
        "start_time": "2022-12-25T08:41:20.897Z"
      },
      {
        "duration": 0,
        "start_time": "2022-12-25T08:41:20.898Z"
      },
      {
        "duration": 0,
        "start_time": "2022-12-25T08:41:20.900Z"
      },
      {
        "duration": 0,
        "start_time": "2022-12-25T08:41:20.901Z"
      },
      {
        "duration": 0,
        "start_time": "2022-12-25T08:41:20.903Z"
      },
      {
        "duration": 1204,
        "start_time": "2022-12-25T08:43:21.326Z"
      },
      {
        "duration": 409,
        "start_time": "2022-12-25T08:43:22.533Z"
      },
      {
        "duration": 4,
        "start_time": "2022-12-25T08:43:22.943Z"
      },
      {
        "duration": 697,
        "start_time": "2022-12-25T08:43:22.949Z"
      },
      {
        "duration": 462,
        "start_time": "2022-12-25T08:43:23.648Z"
      },
      {
        "duration": 501,
        "start_time": "2022-12-25T08:43:24.112Z"
      },
      {
        "duration": 3,
        "start_time": "2022-12-25T08:43:24.614Z"
      },
      {
        "duration": 41,
        "start_time": "2022-12-25T08:43:24.619Z"
      },
      {
        "duration": 23,
        "start_time": "2022-12-25T08:43:24.662Z"
      },
      {
        "duration": 21,
        "start_time": "2022-12-25T08:43:24.687Z"
      },
      {
        "duration": 55,
        "start_time": "2022-12-25T08:43:24.709Z"
      },
      {
        "duration": 174,
        "start_time": "2022-12-25T08:43:24.765Z"
      },
      {
        "duration": 6,
        "start_time": "2022-12-25T08:43:24.942Z"
      },
      {
        "duration": 146,
        "start_time": "2022-12-25T08:43:24.953Z"
      },
      {
        "duration": 0,
        "start_time": "2022-12-25T08:43:25.100Z"
      },
      {
        "duration": 0,
        "start_time": "2022-12-25T08:43:25.101Z"
      },
      {
        "duration": 0,
        "start_time": "2022-12-25T08:43:25.103Z"
      },
      {
        "duration": 0,
        "start_time": "2022-12-25T08:43:25.104Z"
      },
      {
        "duration": 0,
        "start_time": "2022-12-25T08:43:25.105Z"
      },
      {
        "duration": 0,
        "start_time": "2022-12-25T08:43:25.106Z"
      },
      {
        "duration": 0,
        "start_time": "2022-12-25T08:43:25.107Z"
      },
      {
        "duration": 3,
        "start_time": "2022-12-25T08:44:43.585Z"
      },
      {
        "duration": 15,
        "start_time": "2022-12-25T08:44:44.074Z"
      },
      {
        "duration": 13,
        "start_time": "2022-12-25T08:44:48.410Z"
      },
      {
        "duration": 3,
        "start_time": "2022-12-25T08:45:29.481Z"
      },
      {
        "duration": 17,
        "start_time": "2022-12-25T08:45:29.857Z"
      },
      {
        "duration": 12,
        "start_time": "2022-12-25T08:45:32.193Z"
      },
      {
        "duration": 3,
        "start_time": "2022-12-25T08:45:58.280Z"
      },
      {
        "duration": 17,
        "start_time": "2022-12-25T08:45:59.177Z"
      },
      {
        "duration": 13,
        "start_time": "2022-12-25T08:46:00.992Z"
      },
      {
        "duration": 9,
        "start_time": "2022-12-25T08:47:41.587Z"
      },
      {
        "duration": 14,
        "start_time": "2022-12-25T08:47:54.052Z"
      },
      {
        "duration": 12,
        "start_time": "2022-12-25T08:48:01.400Z"
      },
      {
        "duration": 1054,
        "start_time": "2022-12-25T08:48:17.275Z"
      },
      {
        "duration": 388,
        "start_time": "2022-12-25T08:48:18.332Z"
      },
      {
        "duration": 4,
        "start_time": "2022-12-25T08:48:18.722Z"
      },
      {
        "duration": 758,
        "start_time": "2022-12-25T08:48:18.728Z"
      },
      {
        "duration": 470,
        "start_time": "2022-12-25T08:48:19.487Z"
      },
      {
        "duration": 569,
        "start_time": "2022-12-25T08:48:19.958Z"
      },
      {
        "duration": 21,
        "start_time": "2022-12-25T08:48:20.529Z"
      },
      {
        "duration": 33,
        "start_time": "2022-12-25T08:48:20.552Z"
      },
      {
        "duration": 47,
        "start_time": "2022-12-25T08:48:20.586Z"
      },
      {
        "duration": 62,
        "start_time": "2022-12-25T08:48:20.636Z"
      },
      {
        "duration": 49,
        "start_time": "2022-12-25T08:48:20.700Z"
      },
      {
        "duration": 4,
        "start_time": "2022-12-25T08:48:20.751Z"
      },
      {
        "duration": 182,
        "start_time": "2022-12-25T08:48:20.757Z"
      },
      {
        "duration": 4,
        "start_time": "2022-12-25T08:48:20.941Z"
      },
      {
        "duration": 101,
        "start_time": "2022-12-25T08:48:21.037Z"
      },
      {
        "duration": 31,
        "start_time": "2022-12-25T08:48:21.139Z"
      },
      {
        "duration": 6,
        "start_time": "2022-12-25T08:48:21.172Z"
      },
      {
        "duration": 1076,
        "start_time": "2022-12-25T08:48:21.179Z"
      },
      {
        "duration": 1084,
        "start_time": "2022-12-25T08:48:22.256Z"
      },
      {
        "duration": 1009,
        "start_time": "2022-12-25T08:48:23.342Z"
      },
      {
        "duration": 113,
        "start_time": "2022-12-25T09:53:31.519Z"
      },
      {
        "duration": 4,
        "start_time": "2022-12-25T09:53:33.613Z"
      },
      {
        "duration": 10,
        "start_time": "2022-12-25T09:53:34.069Z"
      },
      {
        "duration": 5,
        "start_time": "2022-12-25T09:53:41.837Z"
      },
      {
        "duration": 1055,
        "start_time": "2022-12-25T09:54:35.459Z"
      },
      {
        "duration": 421,
        "start_time": "2022-12-25T09:54:36.516Z"
      },
      {
        "duration": 3,
        "start_time": "2022-12-25T09:54:36.942Z"
      },
      {
        "duration": 742,
        "start_time": "2022-12-25T09:54:36.947Z"
      },
      {
        "duration": 447,
        "start_time": "2022-12-25T09:54:37.690Z"
      },
      {
        "duration": 510,
        "start_time": "2022-12-25T09:54:38.139Z"
      },
      {
        "duration": 18,
        "start_time": "2022-12-25T09:54:38.651Z"
      },
      {
        "duration": 12,
        "start_time": "2022-12-25T09:54:38.670Z"
      },
      {
        "duration": 26,
        "start_time": "2022-12-25T09:54:38.685Z"
      },
      {
        "duration": 48,
        "start_time": "2022-12-25T09:54:38.713Z"
      },
      {
        "duration": 45,
        "start_time": "2022-12-25T09:54:38.763Z"
      },
      {
        "duration": 4,
        "start_time": "2022-12-25T09:54:38.810Z"
      },
      {
        "duration": 230,
        "start_time": "2022-12-25T09:54:38.815Z"
      },
      {
        "duration": 5,
        "start_time": "2022-12-25T09:54:39.137Z"
      },
      {
        "duration": 103,
        "start_time": "2022-12-25T09:54:39.144Z"
      },
      {
        "duration": 43,
        "start_time": "2022-12-25T09:54:39.249Z"
      },
      {
        "duration": 8,
        "start_time": "2022-12-25T09:54:39.294Z"
      },
      {
        "duration": 1104,
        "start_time": "2022-12-25T09:54:39.303Z"
      },
      {
        "duration": 1012,
        "start_time": "2022-12-25T09:54:40.409Z"
      },
      {
        "duration": 1063,
        "start_time": "2022-12-25T09:54:41.423Z"
      },
      {
        "duration": 10,
        "start_time": "2022-12-25T09:55:17.982Z"
      },
      {
        "duration": 1034,
        "start_time": "2022-12-25T10:01:32.999Z"
      },
      {
        "duration": 404,
        "start_time": "2022-12-25T10:01:34.035Z"
      },
      {
        "duration": 6,
        "start_time": "2022-12-25T10:01:34.441Z"
      },
      {
        "duration": 729,
        "start_time": "2022-12-25T10:01:34.450Z"
      },
      {
        "duration": 467,
        "start_time": "2022-12-25T10:01:35.180Z"
      },
      {
        "duration": 545,
        "start_time": "2022-12-25T10:01:35.649Z"
      },
      {
        "duration": 18,
        "start_time": "2022-12-25T10:01:36.196Z"
      },
      {
        "duration": 136,
        "start_time": "2022-12-25T10:01:36.215Z"
      },
      {
        "duration": 0,
        "start_time": "2022-12-25T10:01:36.353Z"
      },
      {
        "duration": 0,
        "start_time": "2022-12-25T10:01:36.354Z"
      },
      {
        "duration": 0,
        "start_time": "2022-12-25T10:01:36.355Z"
      },
      {
        "duration": 0,
        "start_time": "2022-12-25T10:01:36.356Z"
      },
      {
        "duration": 0,
        "start_time": "2022-12-25T10:01:36.357Z"
      },
      {
        "duration": 0,
        "start_time": "2022-12-25T10:01:36.358Z"
      },
      {
        "duration": 0,
        "start_time": "2022-12-25T10:01:36.359Z"
      },
      {
        "duration": 0,
        "start_time": "2022-12-25T10:01:36.360Z"
      },
      {
        "duration": 0,
        "start_time": "2022-12-25T10:01:36.362Z"
      },
      {
        "duration": 0,
        "start_time": "2022-12-25T10:01:36.363Z"
      },
      {
        "duration": 0,
        "start_time": "2022-12-25T10:01:36.364Z"
      },
      {
        "duration": 0,
        "start_time": "2022-12-25T10:01:36.365Z"
      },
      {
        "duration": 1146,
        "start_time": "2022-12-25T10:01:46.595Z"
      },
      {
        "duration": 414,
        "start_time": "2022-12-25T10:01:47.749Z"
      },
      {
        "duration": 4,
        "start_time": "2022-12-25T10:01:48.165Z"
      },
      {
        "duration": 796,
        "start_time": "2022-12-25T10:01:48.171Z"
      },
      {
        "duration": 529,
        "start_time": "2022-12-25T10:01:48.968Z"
      },
      {
        "duration": 539,
        "start_time": "2022-12-25T10:01:49.498Z"
      },
      {
        "duration": 28,
        "start_time": "2022-12-25T10:01:50.038Z"
      },
      {
        "duration": 24,
        "start_time": "2022-12-25T10:01:50.068Z"
      },
      {
        "duration": 45,
        "start_time": "2022-12-25T10:01:50.093Z"
      },
      {
        "duration": 49,
        "start_time": "2022-12-25T10:01:50.144Z"
      },
      {
        "duration": 4,
        "start_time": "2022-12-25T10:01:50.195Z"
      },
      {
        "duration": 154,
        "start_time": "2022-12-25T10:01:50.201Z"
      },
      {
        "duration": 89,
        "start_time": "2022-12-25T10:01:50.357Z"
      },
      {
        "duration": 115,
        "start_time": "2022-12-25T10:01:50.448Z"
      },
      {
        "duration": 35,
        "start_time": "2022-12-25T10:01:50.565Z"
      },
      {
        "duration": 6,
        "start_time": "2022-12-25T10:01:50.601Z"
      },
      {
        "duration": 1141,
        "start_time": "2022-12-25T10:01:50.609Z"
      },
      {
        "duration": 1156,
        "start_time": "2022-12-25T10:01:51.752Z"
      },
      {
        "duration": 1018,
        "start_time": "2022-12-25T10:01:52.909Z"
      },
      {
        "duration": 1051,
        "start_time": "2022-12-25T10:03:30.256Z"
      },
      {
        "duration": 392,
        "start_time": "2022-12-25T10:03:31.309Z"
      },
      {
        "duration": 4,
        "start_time": "2022-12-25T10:03:31.703Z"
      },
      {
        "duration": 724,
        "start_time": "2022-12-25T10:03:31.708Z"
      },
      {
        "duration": 546,
        "start_time": "2022-12-25T10:03:32.435Z"
      },
      {
        "duration": 525,
        "start_time": "2022-12-25T10:03:32.983Z"
      },
      {
        "duration": 16,
        "start_time": "2022-12-25T10:03:33.510Z"
      },
      {
        "duration": 30,
        "start_time": "2022-12-25T10:03:33.540Z"
      },
      {
        "duration": 53,
        "start_time": "2022-12-25T10:03:33.571Z"
      },
      {
        "duration": 48,
        "start_time": "2022-12-25T10:03:33.626Z"
      },
      {
        "duration": 19,
        "start_time": "2022-12-25T10:03:33.676Z"
      },
      {
        "duration": 155,
        "start_time": "2022-12-25T10:03:33.696Z"
      },
      {
        "duration": 105,
        "start_time": "2022-12-25T10:03:33.853Z"
      },
      {
        "duration": 27,
        "start_time": "2022-12-25T10:03:34.036Z"
      },
      {
        "duration": 30,
        "start_time": "2022-12-25T10:03:34.065Z"
      },
      {
        "duration": 6,
        "start_time": "2022-12-25T10:03:34.097Z"
      },
      {
        "duration": 1075,
        "start_time": "2022-12-25T10:03:34.105Z"
      },
      {
        "duration": 1043,
        "start_time": "2022-12-25T10:03:35.181Z"
      },
      {
        "duration": 1097,
        "start_time": "2022-12-25T10:03:36.226Z"
      },
      {
        "duration": 1067,
        "start_time": "2022-12-25T10:03:52.979Z"
      },
      {
        "duration": 406,
        "start_time": "2022-12-25T10:03:54.048Z"
      },
      {
        "duration": 4,
        "start_time": "2022-12-25T10:03:54.456Z"
      },
      {
        "duration": 759,
        "start_time": "2022-12-25T10:03:54.462Z"
      },
      {
        "duration": 449,
        "start_time": "2022-12-25T10:03:55.223Z"
      },
      {
        "duration": 550,
        "start_time": "2022-12-25T10:03:55.674Z"
      },
      {
        "duration": 27,
        "start_time": "2022-12-25T10:03:56.226Z"
      },
      {
        "duration": 13,
        "start_time": "2022-12-25T10:03:56.255Z"
      },
      {
        "duration": 13,
        "start_time": "2022-12-25T10:03:56.270Z"
      },
      {
        "duration": 36,
        "start_time": "2022-12-25T10:03:56.286Z"
      },
      {
        "duration": 54,
        "start_time": "2022-12-25T10:03:56.335Z"
      },
      {
        "duration": 3,
        "start_time": "2022-12-25T10:03:56.391Z"
      },
      {
        "duration": 151,
        "start_time": "2022-12-25T10:03:56.396Z"
      },
      {
        "duration": 192,
        "start_time": "2022-12-25T10:03:56.549Z"
      },
      {
        "duration": 20,
        "start_time": "2022-12-25T10:03:56.742Z"
      },
      {
        "duration": 50,
        "start_time": "2022-12-25T10:03:56.765Z"
      },
      {
        "duration": 5,
        "start_time": "2022-12-25T10:03:56.817Z"
      },
      {
        "duration": 1066,
        "start_time": "2022-12-25T10:03:56.824Z"
      },
      {
        "duration": 1009,
        "start_time": "2022-12-25T10:03:57.891Z"
      },
      {
        "duration": 983,
        "start_time": "2022-12-25T10:03:58.901Z"
      },
      {
        "duration": 3,
        "start_time": "2022-12-25T10:12:25.490Z"
      },
      {
        "duration": 39,
        "start_time": "2022-12-25T10:15:46.428Z"
      },
      {
        "duration": 8,
        "start_time": "2022-12-25T10:15:47.761Z"
      },
      {
        "duration": 1124,
        "start_time": "2022-12-25T10:15:53.309Z"
      },
      {
        "duration": 391,
        "start_time": "2022-12-25T10:15:54.436Z"
      },
      {
        "duration": 4,
        "start_time": "2022-12-25T10:15:54.829Z"
      },
      {
        "duration": 750,
        "start_time": "2022-12-25T10:15:54.836Z"
      },
      {
        "duration": 492,
        "start_time": "2022-12-25T10:15:55.588Z"
      },
      {
        "duration": 564,
        "start_time": "2022-12-25T10:15:56.082Z"
      },
      {
        "duration": 21,
        "start_time": "2022-12-25T10:15:56.648Z"
      },
      {
        "duration": 22,
        "start_time": "2022-12-25T10:15:56.671Z"
      },
      {
        "duration": 17,
        "start_time": "2022-12-25T10:15:56.695Z"
      },
      {
        "duration": 14,
        "start_time": "2022-12-25T10:15:56.715Z"
      },
      {
        "duration": 57,
        "start_time": "2022-12-25T10:15:56.731Z"
      },
      {
        "duration": 110,
        "start_time": "2022-12-25T10:15:56.790Z"
      },
      {
        "duration": 0,
        "start_time": "2022-12-25T10:15:56.902Z"
      },
      {
        "duration": 0,
        "start_time": "2022-12-25T10:15:56.903Z"
      },
      {
        "duration": 0,
        "start_time": "2022-12-25T10:15:56.904Z"
      },
      {
        "duration": 0,
        "start_time": "2022-12-25T10:15:56.905Z"
      },
      {
        "duration": 0,
        "start_time": "2022-12-25T10:15:56.907Z"
      },
      {
        "duration": 0,
        "start_time": "2022-12-25T10:15:56.908Z"
      },
      {
        "duration": 0,
        "start_time": "2022-12-25T10:15:56.908Z"
      },
      {
        "duration": 0,
        "start_time": "2022-12-25T10:15:56.909Z"
      },
      {
        "duration": 1,
        "start_time": "2022-12-25T10:15:56.910Z"
      },
      {
        "duration": 0,
        "start_time": "2022-12-25T10:15:56.912Z"
      },
      {
        "duration": 1111,
        "start_time": "2022-12-25T10:16:18.322Z"
      },
      {
        "duration": 394,
        "start_time": "2022-12-25T10:16:19.435Z"
      },
      {
        "duration": 3,
        "start_time": "2022-12-25T10:16:19.831Z"
      },
      {
        "duration": 740,
        "start_time": "2022-12-25T10:16:19.837Z"
      },
      {
        "duration": 466,
        "start_time": "2022-12-25T10:16:20.578Z"
      },
      {
        "duration": 533,
        "start_time": "2022-12-25T10:16:21.046Z"
      },
      {
        "duration": 19,
        "start_time": "2022-12-25T10:16:21.581Z"
      },
      {
        "duration": 11,
        "start_time": "2022-12-25T10:16:21.602Z"
      },
      {
        "duration": 22,
        "start_time": "2022-12-25T10:16:21.615Z"
      },
      {
        "duration": 6,
        "start_time": "2022-12-25T10:16:21.640Z"
      },
      {
        "duration": 35,
        "start_time": "2022-12-25T10:16:21.647Z"
      },
      {
        "duration": 8,
        "start_time": "2022-12-25T10:16:21.684Z"
      },
      {
        "duration": 67,
        "start_time": "2022-12-25T10:16:21.693Z"
      },
      {
        "duration": 5,
        "start_time": "2022-12-25T10:16:21.761Z"
      },
      {
        "duration": 269,
        "start_time": "2022-12-25T10:16:21.768Z"
      },
      {
        "duration": 3,
        "start_time": "2022-12-25T10:16:22.040Z"
      },
      {
        "duration": 94,
        "start_time": "2022-12-25T10:16:22.045Z"
      },
      {
        "duration": 35,
        "start_time": "2022-12-25T10:16:22.141Z"
      },
      {
        "duration": 6,
        "start_time": "2022-12-25T10:16:22.178Z"
      },
      {
        "duration": 1082,
        "start_time": "2022-12-25T10:16:22.185Z"
      },
      {
        "duration": 963,
        "start_time": "2022-12-25T10:16:23.269Z"
      },
      {
        "duration": 982,
        "start_time": "2022-12-25T10:16:24.235Z"
      },
      {
        "duration": 289,
        "start_time": "2022-12-25T10:19:37.950Z"
      },
      {
        "duration": 1034,
        "start_time": "2022-12-25T10:19:47.175Z"
      },
      {
        "duration": 378,
        "start_time": "2022-12-25T10:19:48.211Z"
      },
      {
        "duration": 4,
        "start_time": "2022-12-25T10:19:48.590Z"
      },
      {
        "duration": 723,
        "start_time": "2022-12-25T10:19:48.596Z"
      },
      {
        "duration": 489,
        "start_time": "2022-12-25T10:19:49.321Z"
      },
      {
        "duration": 553,
        "start_time": "2022-12-25T10:19:49.812Z"
      },
      {
        "duration": 17,
        "start_time": "2022-12-25T10:19:50.367Z"
      },
      {
        "duration": 11,
        "start_time": "2022-12-25T10:19:50.386Z"
      },
      {
        "duration": 20,
        "start_time": "2022-12-25T10:19:50.398Z"
      },
      {
        "duration": 14,
        "start_time": "2022-12-25T10:19:50.421Z"
      },
      {
        "duration": 32,
        "start_time": "2022-12-25T10:19:50.437Z"
      },
      {
        "duration": 8,
        "start_time": "2022-12-25T10:19:50.471Z"
      },
      {
        "duration": 56,
        "start_time": "2022-12-25T10:19:50.481Z"
      },
      {
        "duration": 3,
        "start_time": "2022-12-25T10:19:50.539Z"
      },
      {
        "duration": 195,
        "start_time": "2022-12-25T10:19:50.544Z"
      },
      {
        "duration": 105,
        "start_time": "2022-12-25T10:19:50.741Z"
      },
      {
        "duration": 88,
        "start_time": "2022-12-25T10:19:50.848Z"
      },
      {
        "duration": 37,
        "start_time": "2022-12-25T10:19:50.938Z"
      },
      {
        "duration": 45,
        "start_time": "2022-12-25T10:19:50.976Z"
      },
      {
        "duration": 1080,
        "start_time": "2022-12-25T10:19:51.022Z"
      },
      {
        "duration": 1095,
        "start_time": "2022-12-25T10:19:52.104Z"
      },
      {
        "duration": 1037,
        "start_time": "2022-12-25T10:19:53.201Z"
      },
      {
        "duration": 1080,
        "start_time": "2022-12-25T10:22:20.943Z"
      },
      {
        "duration": 429,
        "start_time": "2022-12-25T10:22:22.025Z"
      },
      {
        "duration": 6,
        "start_time": "2022-12-25T10:22:22.456Z"
      },
      {
        "duration": 737,
        "start_time": "2022-12-25T10:22:22.465Z"
      },
      {
        "duration": 441,
        "start_time": "2022-12-25T10:22:23.203Z"
      },
      {
        "duration": 514,
        "start_time": "2022-12-25T10:22:23.646Z"
      },
      {
        "duration": 17,
        "start_time": "2022-12-25T10:22:24.161Z"
      },
      {
        "duration": 16,
        "start_time": "2022-12-25T10:22:24.180Z"
      },
      {
        "duration": 23,
        "start_time": "2022-12-25T10:22:24.197Z"
      },
      {
        "duration": 8,
        "start_time": "2022-12-25T10:22:24.223Z"
      },
      {
        "duration": 41,
        "start_time": "2022-12-25T10:22:24.233Z"
      },
      {
        "duration": 8,
        "start_time": "2022-12-25T10:22:24.275Z"
      },
      {
        "duration": 50,
        "start_time": "2022-12-25T10:22:24.285Z"
      },
      {
        "duration": 4,
        "start_time": "2022-12-25T10:22:24.337Z"
      },
      {
        "duration": 301,
        "start_time": "2022-12-25T10:22:24.342Z"
      },
      {
        "duration": 91,
        "start_time": "2022-12-25T10:22:24.646Z"
      },
      {
        "duration": 108,
        "start_time": "2022-12-25T10:22:24.740Z"
      },
      {
        "duration": 36,
        "start_time": "2022-12-25T10:22:24.849Z"
      },
      {
        "duration": 6,
        "start_time": "2022-12-25T10:22:24.886Z"
      },
      {
        "duration": 1020,
        "start_time": "2022-12-25T10:22:24.893Z"
      },
      {
        "duration": 1026,
        "start_time": "2022-12-25T10:22:25.915Z"
      },
      {
        "duration": 1015,
        "start_time": "2022-12-25T10:22:26.943Z"
      },
      {
        "duration": 1073,
        "start_time": "2022-12-25T10:23:14.225Z"
      },
      {
        "duration": 388,
        "start_time": "2022-12-25T10:23:15.301Z"
      },
      {
        "duration": 4,
        "start_time": "2022-12-25T10:23:15.691Z"
      },
      {
        "duration": 731,
        "start_time": "2022-12-25T10:23:15.697Z"
      },
      {
        "duration": 504,
        "start_time": "2022-12-25T10:23:16.435Z"
      },
      {
        "duration": 517,
        "start_time": "2022-12-25T10:23:16.941Z"
      },
      {
        "duration": 17,
        "start_time": "2022-12-25T10:23:17.460Z"
      },
      {
        "duration": 32,
        "start_time": "2022-12-25T10:23:17.479Z"
      },
      {
        "duration": 26,
        "start_time": "2022-12-25T10:23:17.513Z"
      },
      {
        "duration": 18,
        "start_time": "2022-12-25T10:23:17.542Z"
      },
      {
        "duration": 54,
        "start_time": "2022-12-25T10:23:17.562Z"
      },
      {
        "duration": 7,
        "start_time": "2022-12-25T10:23:17.618Z"
      },
      {
        "duration": 55,
        "start_time": "2022-12-25T10:23:17.627Z"
      },
      {
        "duration": 3,
        "start_time": "2022-12-25T10:23:17.684Z"
      },
      {
        "duration": 151,
        "start_time": "2022-12-25T10:23:17.689Z"
      },
      {
        "duration": 94,
        "start_time": "2022-12-25T10:23:17.842Z"
      },
      {
        "duration": 6,
        "start_time": "2022-12-25T10:23:17.938Z"
      },
      {
        "duration": 109,
        "start_time": "2022-12-25T10:23:17.946Z"
      },
      {
        "duration": 5,
        "start_time": "2022-12-25T10:23:18.057Z"
      },
      {
        "duration": 1090,
        "start_time": "2022-12-25T10:23:18.064Z"
      },
      {
        "duration": 1074,
        "start_time": "2022-12-25T10:23:19.156Z"
      },
      {
        "duration": 1035,
        "start_time": "2022-12-25T10:23:20.234Z"
      },
      {
        "duration": 1025,
        "start_time": "2022-12-25T10:25:03.373Z"
      },
      {
        "duration": 372,
        "start_time": "2022-12-25T10:25:04.400Z"
      },
      {
        "duration": 3,
        "start_time": "2022-12-25T10:25:04.774Z"
      },
      {
        "duration": 684,
        "start_time": "2022-12-25T10:25:04.779Z"
      },
      {
        "duration": 445,
        "start_time": "2022-12-25T10:25:05.465Z"
      },
      {
        "duration": 495,
        "start_time": "2022-12-25T10:25:05.912Z"
      },
      {
        "duration": 27,
        "start_time": "2022-12-25T10:25:06.409Z"
      },
      {
        "duration": 16,
        "start_time": "2022-12-25T10:25:06.438Z"
      },
      {
        "duration": 42,
        "start_time": "2022-12-25T10:25:06.455Z"
      },
      {
        "duration": 9,
        "start_time": "2022-12-25T10:25:06.500Z"
      },
      {
        "duration": 42,
        "start_time": "2022-12-25T10:25:06.510Z"
      },
      {
        "duration": 9,
        "start_time": "2022-12-25T10:25:06.554Z"
      },
      {
        "duration": 55,
        "start_time": "2022-12-25T10:25:06.565Z"
      },
      {
        "duration": 4,
        "start_time": "2022-12-25T10:25:06.621Z"
      },
      {
        "duration": 208,
        "start_time": "2022-12-25T10:25:06.634Z"
      },
      {
        "duration": 94,
        "start_time": "2022-12-25T10:25:06.845Z"
      },
      {
        "duration": 102,
        "start_time": "2022-12-25T10:25:06.942Z"
      },
      {
        "duration": 113,
        "start_time": "2022-12-25T10:25:07.046Z"
      },
      {
        "duration": 0,
        "start_time": "2022-12-25T10:25:07.161Z"
      },
      {
        "duration": 0,
        "start_time": "2022-12-25T10:25:07.163Z"
      },
      {
        "duration": 0,
        "start_time": "2022-12-25T10:25:07.164Z"
      },
      {
        "duration": 0,
        "start_time": "2022-12-25T10:25:07.166Z"
      },
      {
        "duration": 1109,
        "start_time": "2022-12-25T10:25:29.516Z"
      },
      {
        "duration": 391,
        "start_time": "2022-12-25T10:25:30.626Z"
      },
      {
        "duration": 3,
        "start_time": "2022-12-25T10:25:31.019Z"
      },
      {
        "duration": 689,
        "start_time": "2022-12-25T10:25:31.025Z"
      },
      {
        "duration": 471,
        "start_time": "2022-12-25T10:25:31.715Z"
      },
      {
        "duration": 637,
        "start_time": "2022-12-25T10:25:32.188Z"
      },
      {
        "duration": 23,
        "start_time": "2022-12-25T10:25:32.827Z"
      },
      {
        "duration": 28,
        "start_time": "2022-12-25T10:25:32.852Z"
      },
      {
        "duration": 23,
        "start_time": "2022-12-25T10:25:32.882Z"
      },
      {
        "duration": 16,
        "start_time": "2022-12-25T10:25:32.909Z"
      },
      {
        "duration": 48,
        "start_time": "2022-12-25T10:25:32.928Z"
      },
      {
        "duration": 8,
        "start_time": "2022-12-25T10:25:32.977Z"
      },
      {
        "duration": 57,
        "start_time": "2022-12-25T10:25:32.987Z"
      },
      {
        "duration": 4,
        "start_time": "2022-12-25T10:25:33.046Z"
      },
      {
        "duration": 191,
        "start_time": "2022-12-25T10:25:33.052Z"
      },
      {
        "duration": 101,
        "start_time": "2022-12-25T10:25:33.337Z"
      },
      {
        "duration": 26,
        "start_time": "2022-12-25T10:25:33.442Z"
      },
      {
        "duration": 35,
        "start_time": "2022-12-25T10:25:33.469Z"
      },
      {
        "duration": 6,
        "start_time": "2022-12-25T10:25:33.505Z"
      },
      {
        "duration": 1093,
        "start_time": "2022-12-25T10:25:33.513Z"
      },
      {
        "duration": 1066,
        "start_time": "2022-12-25T10:25:34.608Z"
      },
      {
        "duration": 1028,
        "start_time": "2022-12-25T10:25:35.676Z"
      },
      {
        "duration": 4,
        "start_time": "2022-12-25T10:27:50.915Z"
      },
      {
        "duration": 20,
        "start_time": "2022-12-25T10:28:17.862Z"
      },
      {
        "duration": 7,
        "start_time": "2022-12-25T10:28:20.692Z"
      },
      {
        "duration": 1056,
        "start_time": "2022-12-25T10:28:24.870Z"
      },
      {
        "duration": 413,
        "start_time": "2022-12-25T10:28:25.928Z"
      },
      {
        "duration": 4,
        "start_time": "2022-12-25T10:28:26.343Z"
      },
      {
        "duration": 750,
        "start_time": "2022-12-25T10:28:26.349Z"
      },
      {
        "duration": 484,
        "start_time": "2022-12-25T10:28:27.102Z"
      },
      {
        "duration": 527,
        "start_time": "2022-12-25T10:28:27.588Z"
      },
      {
        "duration": 25,
        "start_time": "2022-12-25T10:28:28.117Z"
      },
      {
        "duration": 18,
        "start_time": "2022-12-25T10:28:28.144Z"
      },
      {
        "duration": 37,
        "start_time": "2022-12-25T10:28:28.164Z"
      },
      {
        "duration": 8,
        "start_time": "2022-12-25T10:28:28.205Z"
      },
      {
        "duration": 44,
        "start_time": "2022-12-25T10:28:28.215Z"
      },
      {
        "duration": 10,
        "start_time": "2022-12-25T10:28:28.261Z"
      },
      {
        "duration": 49,
        "start_time": "2022-12-25T10:28:28.273Z"
      },
      {
        "duration": 14,
        "start_time": "2022-12-25T10:28:28.324Z"
      },
      {
        "duration": 199,
        "start_time": "2022-12-25T10:28:28.340Z"
      },
      {
        "duration": 196,
        "start_time": "2022-12-25T10:28:28.541Z"
      },
      {
        "duration": 9,
        "start_time": "2022-12-25T10:28:28.738Z"
      },
      {
        "duration": 34,
        "start_time": "2022-12-25T10:28:28.748Z"
      },
      {
        "duration": 6,
        "start_time": "2022-12-25T10:28:28.784Z"
      },
      {
        "duration": 1022,
        "start_time": "2022-12-25T10:28:28.792Z"
      },
      {
        "duration": 976,
        "start_time": "2022-12-25T10:28:29.815Z"
      },
      {
        "duration": 990,
        "start_time": "2022-12-25T10:28:30.793Z"
      },
      {
        "duration": 7,
        "start_time": "2022-12-25T10:30:18.056Z"
      },
      {
        "duration": 954,
        "start_time": "2022-12-25T10:30:23.234Z"
      },
      {
        "duration": 1002,
        "start_time": "2022-12-25T10:30:26.887Z"
      },
      {
        "duration": 991,
        "start_time": "2022-12-25T10:30:29.872Z"
      },
      {
        "duration": 9,
        "start_time": "2022-12-25T10:31:12.552Z"
      },
      {
        "duration": 1003,
        "start_time": "2022-12-25T10:31:14.103Z"
      },
      {
        "duration": 1050,
        "start_time": "2022-12-25T10:31:15.108Z"
      },
      {
        "duration": 1058,
        "start_time": "2022-12-25T10:31:16.160Z"
      },
      {
        "duration": 6,
        "start_time": "2022-12-25T10:50:29.859Z"
      },
      {
        "duration": 1006,
        "start_time": "2022-12-25T10:50:31.001Z"
      },
      {
        "duration": 1035,
        "start_time": "2022-12-25T10:50:35.538Z"
      },
      {
        "duration": 1028,
        "start_time": "2022-12-25T10:50:38.074Z"
      },
      {
        "duration": 1152,
        "start_time": "2022-12-25T10:51:14.846Z"
      },
      {
        "duration": 446,
        "start_time": "2022-12-25T10:51:16.000Z"
      },
      {
        "duration": 4,
        "start_time": "2022-12-25T10:51:16.447Z"
      },
      {
        "duration": 781,
        "start_time": "2022-12-25T10:51:16.455Z"
      },
      {
        "duration": 467,
        "start_time": "2022-12-25T10:51:17.238Z"
      },
      {
        "duration": 540,
        "start_time": "2022-12-25T10:51:17.707Z"
      },
      {
        "duration": 17,
        "start_time": "2022-12-25T10:51:18.249Z"
      },
      {
        "duration": 5,
        "start_time": "2022-12-25T10:51:18.268Z"
      },
      {
        "duration": 16,
        "start_time": "2022-12-25T10:51:18.274Z"
      },
      {
        "duration": 9,
        "start_time": "2022-12-25T10:51:18.293Z"
      },
      {
        "duration": 38,
        "start_time": "2022-12-25T10:51:18.304Z"
      },
      {
        "duration": 7,
        "start_time": "2022-12-25T10:51:18.344Z"
      },
      {
        "duration": 52,
        "start_time": "2022-12-25T10:51:18.353Z"
      },
      {
        "duration": 3,
        "start_time": "2022-12-25T10:51:18.407Z"
      },
      {
        "duration": 231,
        "start_time": "2022-12-25T10:51:18.412Z"
      },
      {
        "duration": 89,
        "start_time": "2022-12-25T10:51:18.648Z"
      },
      {
        "duration": 126,
        "start_time": "2022-12-25T10:51:18.741Z"
      },
      {
        "duration": 34,
        "start_time": "2022-12-25T10:51:18.869Z"
      },
      {
        "duration": 9,
        "start_time": "2022-12-25T10:51:18.905Z"
      },
      {
        "duration": 1150,
        "start_time": "2022-12-25T10:51:18.916Z"
      },
      {
        "duration": 1116,
        "start_time": "2022-12-25T10:51:20.068Z"
      },
      {
        "duration": 1046,
        "start_time": "2022-12-25T10:51:21.187Z"
      },
      {
        "duration": 1134,
        "start_time": "2022-12-25T10:53:03.096Z"
      },
      {
        "duration": 396,
        "start_time": "2022-12-25T10:53:04.232Z"
      },
      {
        "duration": 5,
        "start_time": "2022-12-25T10:53:04.630Z"
      },
      {
        "duration": 723,
        "start_time": "2022-12-25T10:53:04.637Z"
      },
      {
        "duration": 490,
        "start_time": "2022-12-25T10:53:05.361Z"
      },
      {
        "duration": 523,
        "start_time": "2022-12-25T10:53:05.853Z"
      },
      {
        "duration": 17,
        "start_time": "2022-12-25T10:53:06.378Z"
      },
      {
        "duration": 18,
        "start_time": "2022-12-25T10:53:06.397Z"
      },
      {
        "duration": 17,
        "start_time": "2022-12-25T10:53:06.417Z"
      },
      {
        "duration": 38,
        "start_time": "2022-12-25T10:53:06.437Z"
      },
      {
        "duration": 8,
        "start_time": "2022-12-25T10:53:06.477Z"
      },
      {
        "duration": 61,
        "start_time": "2022-12-25T10:53:06.487Z"
      },
      {
        "duration": 4,
        "start_time": "2022-12-25T10:53:06.550Z"
      },
      {
        "duration": 281,
        "start_time": "2022-12-25T10:53:06.557Z"
      },
      {
        "duration": 4,
        "start_time": "2022-12-25T10:53:06.841Z"
      },
      {
        "duration": 34,
        "start_time": "2022-12-25T10:53:06.936Z"
      },
      {
        "duration": 74,
        "start_time": "2022-12-25T10:53:06.972Z"
      },
      {
        "duration": 7,
        "start_time": "2022-12-25T10:53:07.048Z"
      },
      {
        "duration": 1059,
        "start_time": "2022-12-25T10:53:07.056Z"
      },
      {
        "duration": 1035,
        "start_time": "2022-12-25T10:53:08.117Z"
      },
      {
        "duration": 1028,
        "start_time": "2022-12-25T10:53:09.154Z"
      },
      {
        "duration": 1231,
        "start_time": "2022-12-25T10:55:01.503Z"
      },
      {
        "duration": 391,
        "start_time": "2022-12-25T10:55:02.736Z"
      },
      {
        "duration": 5,
        "start_time": "2022-12-25T10:55:03.128Z"
      },
      {
        "duration": 719,
        "start_time": "2022-12-25T10:55:03.135Z"
      },
      {
        "duration": 505,
        "start_time": "2022-12-25T10:55:03.856Z"
      },
      {
        "duration": 551,
        "start_time": "2022-12-25T10:55:04.363Z"
      },
      {
        "duration": 26,
        "start_time": "2022-12-25T10:55:04.915Z"
      },
      {
        "duration": 22,
        "start_time": "2022-12-25T10:55:04.942Z"
      },
      {
        "duration": 14,
        "start_time": "2022-12-25T10:55:04.965Z"
      },
      {
        "duration": 7,
        "start_time": "2022-12-25T10:55:04.982Z"
      },
      {
        "duration": 37,
        "start_time": "2022-12-25T10:55:04.990Z"
      },
      {
        "duration": 8,
        "start_time": "2022-12-25T10:55:05.028Z"
      },
      {
        "duration": 63,
        "start_time": "2022-12-25T10:55:05.037Z"
      },
      {
        "duration": 3,
        "start_time": "2022-12-25T10:55:05.102Z"
      },
      {
        "duration": 227,
        "start_time": "2022-12-25T10:55:05.107Z"
      },
      {
        "duration": 97,
        "start_time": "2022-12-25T10:55:05.340Z"
      },
      {
        "duration": 20,
        "start_time": "2022-12-25T10:55:05.438Z"
      },
      {
        "duration": 38,
        "start_time": "2022-12-25T10:55:05.460Z"
      },
      {
        "duration": 8,
        "start_time": "2022-12-25T10:55:05.500Z"
      },
      {
        "duration": 1063,
        "start_time": "2022-12-25T10:55:05.510Z"
      },
      {
        "duration": 1092,
        "start_time": "2022-12-25T10:55:06.575Z"
      },
      {
        "duration": 1120,
        "start_time": "2022-12-25T10:55:07.669Z"
      },
      {
        "duration": 46,
        "start_time": "2022-12-25T10:59:12.294Z"
      },
      {
        "duration": 3,
        "start_time": "2022-12-25T10:59:33.549Z"
      },
      {
        "duration": 117,
        "start_time": "2022-12-25T10:59:33.852Z"
      },
      {
        "duration": 1143,
        "start_time": "2022-12-25T10:59:40.363Z"
      },
      {
        "duration": 393,
        "start_time": "2022-12-25T10:59:41.508Z"
      },
      {
        "duration": 4,
        "start_time": "2022-12-25T10:59:41.903Z"
      },
      {
        "duration": 796,
        "start_time": "2022-12-25T10:59:41.908Z"
      },
      {
        "duration": 470,
        "start_time": "2022-12-25T10:59:42.706Z"
      },
      {
        "duration": 527,
        "start_time": "2022-12-25T10:59:43.178Z"
      },
      {
        "duration": 3,
        "start_time": "2022-12-25T10:59:43.706Z"
      },
      {
        "duration": 30,
        "start_time": "2022-12-25T10:59:43.711Z"
      },
      {
        "duration": 4,
        "start_time": "2022-12-25T10:59:43.743Z"
      },
      {
        "duration": 19,
        "start_time": "2022-12-25T10:59:43.749Z"
      },
      {
        "duration": 23,
        "start_time": "2022-12-25T10:59:43.769Z"
      },
      {
        "duration": 49,
        "start_time": "2022-12-25T10:59:43.793Z"
      },
      {
        "duration": 9,
        "start_time": "2022-12-25T10:59:43.844Z"
      },
      {
        "duration": 78,
        "start_time": "2022-12-25T10:59:43.855Z"
      },
      {
        "duration": 3,
        "start_time": "2022-12-25T10:59:43.935Z"
      },
      {
        "duration": 205,
        "start_time": "2022-12-25T10:59:43.940Z"
      },
      {
        "duration": 112,
        "start_time": "2022-12-25T10:59:44.237Z"
      },
      {
        "duration": 14,
        "start_time": "2022-12-25T10:59:44.351Z"
      },
      {
        "duration": 35,
        "start_time": "2022-12-25T10:59:44.367Z"
      },
      {
        "duration": 6,
        "start_time": "2022-12-25T10:59:44.404Z"
      },
      {
        "duration": 1046,
        "start_time": "2022-12-25T10:59:44.411Z"
      },
      {
        "duration": 1085,
        "start_time": "2022-12-25T10:59:45.459Z"
      },
      {
        "duration": 1103,
        "start_time": "2022-12-25T10:59:46.547Z"
      },
      {
        "duration": 11,
        "start_time": "2022-12-25T11:00:05.234Z"
      },
      {
        "duration": 1078,
        "start_time": "2022-12-25T11:00:53.183Z"
      },
      {
        "duration": 411,
        "start_time": "2022-12-25T11:00:54.263Z"
      },
      {
        "duration": 3,
        "start_time": "2022-12-25T11:00:54.676Z"
      },
      {
        "duration": 775,
        "start_time": "2022-12-25T11:00:54.681Z"
      },
      {
        "duration": 508,
        "start_time": "2022-12-25T11:00:55.458Z"
      },
      {
        "duration": 556,
        "start_time": "2022-12-25T11:00:55.967Z"
      },
      {
        "duration": 29,
        "start_time": "2022-12-25T11:00:56.525Z"
      },
      {
        "duration": 14,
        "start_time": "2022-12-25T11:00:56.556Z"
      },
      {
        "duration": 8,
        "start_time": "2022-12-25T11:00:56.572Z"
      },
      {
        "duration": 24,
        "start_time": "2022-12-25T11:00:56.583Z"
      },
      {
        "duration": 17,
        "start_time": "2022-12-25T11:00:56.609Z"
      },
      {
        "duration": 51,
        "start_time": "2022-12-25T11:00:56.628Z"
      },
      {
        "duration": 10,
        "start_time": "2022-12-25T11:00:56.682Z"
      },
      {
        "duration": 66,
        "start_time": "2022-12-25T11:00:56.694Z"
      },
      {
        "duration": 5,
        "start_time": "2022-12-25T11:00:56.762Z"
      },
      {
        "duration": 274,
        "start_time": "2022-12-25T11:00:56.769Z"
      },
      {
        "duration": 99,
        "start_time": "2022-12-25T11:00:57.044Z"
      },
      {
        "duration": 13,
        "start_time": "2022-12-25T11:00:57.146Z"
      },
      {
        "duration": 32,
        "start_time": "2022-12-25T11:00:57.161Z"
      },
      {
        "duration": 6,
        "start_time": "2022-12-25T11:00:57.195Z"
      },
      {
        "duration": 1095,
        "start_time": "2022-12-25T11:00:57.203Z"
      },
      {
        "duration": 1060,
        "start_time": "2022-12-25T11:00:58.300Z"
      },
      {
        "duration": 1066,
        "start_time": "2022-12-25T11:00:59.361Z"
      },
      {
        "duration": 1101,
        "start_time": "2022-12-25T11:01:39.050Z"
      },
      {
        "duration": 410,
        "start_time": "2022-12-25T11:01:40.154Z"
      },
      {
        "duration": 4,
        "start_time": "2022-12-25T11:01:40.565Z"
      },
      {
        "duration": 715,
        "start_time": "2022-12-25T11:01:40.571Z"
      },
      {
        "duration": 478,
        "start_time": "2022-12-25T11:01:41.288Z"
      },
      {
        "duration": 580,
        "start_time": "2022-12-25T11:01:41.768Z"
      },
      {
        "duration": 3,
        "start_time": "2022-12-25T11:01:42.350Z"
      },
      {
        "duration": 21,
        "start_time": "2022-12-25T11:01:42.354Z"
      },
      {
        "duration": 25,
        "start_time": "2022-12-25T11:01:42.377Z"
      },
      {
        "duration": 16,
        "start_time": "2022-12-25T11:01:42.404Z"
      },
      {
        "duration": 36,
        "start_time": "2022-12-25T11:01:42.422Z"
      },
      {
        "duration": 25,
        "start_time": "2022-12-25T11:01:42.460Z"
      },
      {
        "duration": 57,
        "start_time": "2022-12-25T11:01:42.487Z"
      },
      {
        "duration": 11,
        "start_time": "2022-12-25T11:01:42.547Z"
      },
      {
        "duration": 79,
        "start_time": "2022-12-25T11:01:42.560Z"
      },
      {
        "duration": 5,
        "start_time": "2022-12-25T11:01:42.641Z"
      },
      {
        "duration": 193,
        "start_time": "2022-12-25T11:01:42.649Z"
      },
      {
        "duration": 3,
        "start_time": "2022-12-25T11:01:42.844Z"
      },
      {
        "duration": 89,
        "start_time": "2022-12-25T11:01:42.849Z"
      },
      {
        "duration": 137,
        "start_time": "2022-12-25T11:01:42.940Z"
      },
      {
        "duration": 6,
        "start_time": "2022-12-25T11:01:43.079Z"
      },
      {
        "duration": 1078,
        "start_time": "2022-12-25T11:01:43.087Z"
      },
      {
        "duration": 1027,
        "start_time": "2022-12-25T11:01:44.167Z"
      },
      {
        "duration": 1051,
        "start_time": "2022-12-25T11:01:45.196Z"
      },
      {
        "duration": 1102,
        "start_time": "2022-12-25T11:02:58.146Z"
      },
      {
        "duration": 414,
        "start_time": "2022-12-25T11:02:59.250Z"
      },
      {
        "duration": 4,
        "start_time": "2022-12-25T11:02:59.665Z"
      },
      {
        "duration": 779,
        "start_time": "2022-12-25T11:02:59.671Z"
      },
      {
        "duration": 485,
        "start_time": "2022-12-25T11:03:00.452Z"
      },
      {
        "duration": 556,
        "start_time": "2022-12-25T11:03:00.938Z"
      },
      {
        "duration": 2,
        "start_time": "2022-12-25T11:03:01.496Z"
      },
      {
        "duration": 29,
        "start_time": "2022-12-25T11:03:01.500Z"
      },
      {
        "duration": 36,
        "start_time": "2022-12-25T11:03:01.534Z"
      },
      {
        "duration": 37,
        "start_time": "2022-12-25T11:03:01.572Z"
      },
      {
        "duration": 35,
        "start_time": "2022-12-25T11:03:01.611Z"
      },
      {
        "duration": 57,
        "start_time": "2022-12-25T11:03:01.649Z"
      },
      {
        "duration": 37,
        "start_time": "2022-12-25T11:03:01.708Z"
      },
      {
        "duration": 110,
        "start_time": "2022-12-25T11:03:01.748Z"
      },
      {
        "duration": 4,
        "start_time": "2022-12-25T11:03:01.860Z"
      },
      {
        "duration": 182,
        "start_time": "2022-12-25T11:03:01.865Z"
      },
      {
        "duration": 4,
        "start_time": "2022-12-25T11:03:02.051Z"
      },
      {
        "duration": 107,
        "start_time": "2022-12-25T11:03:02.136Z"
      },
      {
        "duration": 73,
        "start_time": "2022-12-25T11:03:02.245Z"
      },
      {
        "duration": 6,
        "start_time": "2022-12-25T11:03:02.320Z"
      },
      {
        "duration": 1185,
        "start_time": "2022-12-25T11:03:02.327Z"
      },
      {
        "duration": 1128,
        "start_time": "2022-12-25T11:03:03.514Z"
      },
      {
        "duration": 1086,
        "start_time": "2022-12-25T11:03:04.649Z"
      },
      {
        "duration": 1041,
        "start_time": "2022-12-25T11:44:23.373Z"
      },
      {
        "duration": 382,
        "start_time": "2022-12-25T11:44:24.416Z"
      },
      {
        "duration": 5,
        "start_time": "2022-12-25T11:44:24.799Z"
      },
      {
        "duration": 681,
        "start_time": "2022-12-25T11:44:24.806Z"
      },
      {
        "duration": 446,
        "start_time": "2022-12-25T11:44:25.489Z"
      },
      {
        "duration": 502,
        "start_time": "2022-12-25T11:44:25.937Z"
      },
      {
        "duration": 3,
        "start_time": "2022-12-25T11:44:26.441Z"
      },
      {
        "duration": 38,
        "start_time": "2022-12-25T11:44:26.445Z"
      },
      {
        "duration": 23,
        "start_time": "2022-12-25T11:44:26.485Z"
      },
      {
        "duration": 20,
        "start_time": "2022-12-25T11:44:26.511Z"
      },
      {
        "duration": 10,
        "start_time": "2022-12-25T11:44:26.533Z"
      },
      {
        "duration": 47,
        "start_time": "2022-12-25T11:44:26.545Z"
      },
      {
        "duration": 10,
        "start_time": "2022-12-25T11:44:26.594Z"
      },
      {
        "duration": 64,
        "start_time": "2022-12-25T11:44:26.605Z"
      },
      {
        "duration": 4,
        "start_time": "2022-12-25T11:44:26.671Z"
      },
      {
        "duration": 262,
        "start_time": "2022-12-25T11:44:26.677Z"
      },
      {
        "duration": 95,
        "start_time": "2022-12-25T11:44:26.941Z"
      },
      {
        "duration": 13,
        "start_time": "2022-12-25T11:44:27.038Z"
      },
      {
        "duration": 102,
        "start_time": "2022-12-25T11:44:27.053Z"
      },
      {
        "duration": 6,
        "start_time": "2022-12-25T11:44:27.157Z"
      },
      {
        "duration": 1047,
        "start_time": "2022-12-25T11:44:27.164Z"
      },
      {
        "duration": 972,
        "start_time": "2022-12-25T11:44:28.213Z"
      },
      {
        "duration": 982,
        "start_time": "2022-12-25T11:44:29.187Z"
      },
      {
        "duration": 1051,
        "start_time": "2022-12-25T11:44:42.760Z"
      },
      {
        "duration": 394,
        "start_time": "2022-12-25T11:44:43.813Z"
      },
      {
        "duration": 4,
        "start_time": "2022-12-25T11:44:44.209Z"
      },
      {
        "duration": 681,
        "start_time": "2022-12-25T11:44:44.215Z"
      },
      {
        "duration": 462,
        "start_time": "2022-12-25T11:44:44.898Z"
      },
      {
        "duration": 520,
        "start_time": "2022-12-25T11:44:45.362Z"
      },
      {
        "duration": 3,
        "start_time": "2022-12-25T11:44:45.883Z"
      },
      {
        "duration": 31,
        "start_time": "2022-12-25T11:44:45.888Z"
      },
      {
        "duration": 10,
        "start_time": "2022-12-25T11:44:45.921Z"
      },
      {
        "duration": 28,
        "start_time": "2022-12-25T11:44:45.934Z"
      },
      {
        "duration": 13,
        "start_time": "2022-12-25T11:44:45.964Z"
      },
      {
        "duration": 43,
        "start_time": "2022-12-25T11:44:45.979Z"
      },
      {
        "duration": 8,
        "start_time": "2022-12-25T11:44:46.024Z"
      },
      {
        "duration": 59,
        "start_time": "2022-12-25T11:44:46.035Z"
      },
      {
        "duration": 4,
        "start_time": "2022-12-25T11:44:46.096Z"
      },
      {
        "duration": 137,
        "start_time": "2022-12-25T11:44:46.102Z"
      },
      {
        "duration": 95,
        "start_time": "2022-12-25T11:44:46.243Z"
      },
      {
        "duration": 100,
        "start_time": "2022-12-25T11:44:46.341Z"
      },
      {
        "duration": 32,
        "start_time": "2022-12-25T11:44:46.442Z"
      },
      {
        "duration": 8,
        "start_time": "2022-12-25T11:44:46.476Z"
      },
      {
        "duration": 1054,
        "start_time": "2022-12-25T11:44:46.486Z"
      },
      {
        "duration": 1039,
        "start_time": "2022-12-25T11:44:47.541Z"
      },
      {
        "duration": 1064,
        "start_time": "2022-12-25T11:44:48.582Z"
      },
      {
        "duration": 6,
        "start_time": "2022-12-25T11:46:44.780Z"
      },
      {
        "duration": 1037,
        "start_time": "2022-12-25T11:46:45.581Z"
      },
      {
        "duration": 1009,
        "start_time": "2022-12-25T11:46:46.620Z"
      },
      {
        "duration": 1013,
        "start_time": "2022-12-25T11:46:50.454Z"
      },
      {
        "duration": 8,
        "start_time": "2022-12-25T11:47:02.598Z"
      },
      {
        "duration": 1012,
        "start_time": "2022-12-25T11:47:03.422Z"
      },
      {
        "duration": 1039,
        "start_time": "2022-12-25T11:47:04.436Z"
      },
      {
        "duration": 1046,
        "start_time": "2022-12-25T11:47:05.477Z"
      },
      {
        "duration": 1091,
        "start_time": "2022-12-25T11:47:22.423Z"
      },
      {
        "duration": 386,
        "start_time": "2022-12-25T11:47:23.516Z"
      },
      {
        "duration": 3,
        "start_time": "2022-12-25T11:47:23.904Z"
      },
      {
        "duration": 706,
        "start_time": "2022-12-25T11:47:23.909Z"
      },
      {
        "duration": 464,
        "start_time": "2022-12-25T11:47:24.617Z"
      },
      {
        "duration": 539,
        "start_time": "2022-12-25T11:47:25.083Z"
      },
      {
        "duration": 2,
        "start_time": "2022-12-25T11:47:25.624Z"
      },
      {
        "duration": 18,
        "start_time": "2022-12-25T11:47:25.634Z"
      },
      {
        "duration": 14,
        "start_time": "2022-12-25T11:47:25.655Z"
      },
      {
        "duration": 28,
        "start_time": "2022-12-25T11:47:25.673Z"
      },
      {
        "duration": 8,
        "start_time": "2022-12-25T11:47:25.703Z"
      },
      {
        "duration": 36,
        "start_time": "2022-12-25T11:47:25.712Z"
      },
      {
        "duration": 8,
        "start_time": "2022-12-25T11:47:25.750Z"
      },
      {
        "duration": 56,
        "start_time": "2022-12-25T11:47:25.760Z"
      },
      {
        "duration": 4,
        "start_time": "2022-12-25T11:47:25.817Z"
      },
      {
        "duration": 221,
        "start_time": "2022-12-25T11:47:25.823Z"
      },
      {
        "duration": 100,
        "start_time": "2022-12-25T11:47:26.137Z"
      },
      {
        "duration": 11,
        "start_time": "2022-12-25T11:47:26.238Z"
      },
      {
        "duration": 31,
        "start_time": "2022-12-25T11:47:26.250Z"
      },
      {
        "duration": 6,
        "start_time": "2022-12-25T11:47:26.283Z"
      },
      {
        "duration": 1168,
        "start_time": "2022-12-25T11:47:26.291Z"
      },
      {
        "duration": 1042,
        "start_time": "2022-12-25T11:47:27.462Z"
      },
      {
        "duration": 1012,
        "start_time": "2022-12-25T11:47:28.506Z"
      },
      {
        "duration": 1117,
        "start_time": "2022-12-25T11:50:08.837Z"
      },
      {
        "duration": 407,
        "start_time": "2022-12-25T11:50:09.957Z"
      },
      {
        "duration": 4,
        "start_time": "2022-12-25T11:50:10.366Z"
      },
      {
        "duration": 693,
        "start_time": "2022-12-25T11:50:10.372Z"
      },
      {
        "duration": 453,
        "start_time": "2022-12-25T11:50:11.067Z"
      },
      {
        "duration": 517,
        "start_time": "2022-12-25T11:50:11.521Z"
      },
      {
        "duration": 3,
        "start_time": "2022-12-25T11:50:12.040Z"
      },
      {
        "duration": 43,
        "start_time": "2022-12-25T11:50:12.045Z"
      },
      {
        "duration": 18,
        "start_time": "2022-12-25T11:50:12.090Z"
      },
      {
        "duration": 32,
        "start_time": "2022-12-25T11:50:12.109Z"
      },
      {
        "duration": 11,
        "start_time": "2022-12-25T11:50:12.143Z"
      },
      {
        "duration": 154,
        "start_time": "2022-12-25T11:50:12.156Z"
      },
      {
        "duration": 0,
        "start_time": "2022-12-25T11:50:12.312Z"
      },
      {
        "duration": 0,
        "start_time": "2022-12-25T11:50:12.314Z"
      },
      {
        "duration": 0,
        "start_time": "2022-12-25T11:50:12.315Z"
      },
      {
        "duration": 0,
        "start_time": "2022-12-25T11:50:12.316Z"
      },
      {
        "duration": 0,
        "start_time": "2022-12-25T11:50:12.317Z"
      },
      {
        "duration": 0,
        "start_time": "2022-12-25T11:50:12.318Z"
      },
      {
        "duration": 0,
        "start_time": "2022-12-25T11:50:12.319Z"
      },
      {
        "duration": 0,
        "start_time": "2022-12-25T11:50:12.337Z"
      },
      {
        "duration": 0,
        "start_time": "2022-12-25T11:50:12.338Z"
      },
      {
        "duration": 0,
        "start_time": "2022-12-25T11:50:12.339Z"
      },
      {
        "duration": 0,
        "start_time": "2022-12-25T11:50:12.340Z"
      },
      {
        "duration": 1211,
        "start_time": "2022-12-25T11:53:21.348Z"
      },
      {
        "duration": 416,
        "start_time": "2022-12-25T11:53:22.563Z"
      },
      {
        "duration": 4,
        "start_time": "2022-12-25T11:53:22.981Z"
      },
      {
        "duration": 718,
        "start_time": "2022-12-25T11:53:22.987Z"
      },
      {
        "duration": 491,
        "start_time": "2022-12-25T11:53:23.707Z"
      },
      {
        "duration": 537,
        "start_time": "2022-12-25T11:53:24.200Z"
      },
      {
        "duration": 3,
        "start_time": "2022-12-25T11:53:24.739Z"
      },
      {
        "duration": 33,
        "start_time": "2022-12-25T11:53:24.744Z"
      },
      {
        "duration": 24,
        "start_time": "2022-12-25T11:53:24.779Z"
      },
      {
        "duration": 26,
        "start_time": "2022-12-25T11:53:24.806Z"
      },
      {
        "duration": 18,
        "start_time": "2022-12-25T11:53:24.834Z"
      },
      {
        "duration": 146,
        "start_time": "2022-12-25T11:53:24.854Z"
      },
      {
        "duration": 0,
        "start_time": "2022-12-25T11:53:25.002Z"
      },
      {
        "duration": 0,
        "start_time": "2022-12-25T11:53:25.003Z"
      },
      {
        "duration": 0,
        "start_time": "2022-12-25T11:53:25.004Z"
      },
      {
        "duration": 0,
        "start_time": "2022-12-25T11:53:25.005Z"
      },
      {
        "duration": 0,
        "start_time": "2022-12-25T11:53:25.006Z"
      },
      {
        "duration": 0,
        "start_time": "2022-12-25T11:53:25.007Z"
      },
      {
        "duration": 0,
        "start_time": "2022-12-25T11:53:25.008Z"
      },
      {
        "duration": 0,
        "start_time": "2022-12-25T11:53:25.009Z"
      },
      {
        "duration": 0,
        "start_time": "2022-12-25T11:53:25.010Z"
      },
      {
        "duration": 0,
        "start_time": "2022-12-25T11:53:25.012Z"
      },
      {
        "duration": 0,
        "start_time": "2022-12-25T11:53:25.035Z"
      },
      {
        "duration": 1069,
        "start_time": "2022-12-25T11:54:01.182Z"
      },
      {
        "duration": 430,
        "start_time": "2022-12-25T11:54:02.253Z"
      },
      {
        "duration": 3,
        "start_time": "2022-12-25T11:54:02.685Z"
      },
      {
        "duration": 718,
        "start_time": "2022-12-25T11:54:02.691Z"
      },
      {
        "duration": 486,
        "start_time": "2022-12-25T11:54:03.411Z"
      },
      {
        "duration": 539,
        "start_time": "2022-12-25T11:54:03.899Z"
      },
      {
        "duration": 3,
        "start_time": "2022-12-25T11:54:04.440Z"
      },
      {
        "duration": 40,
        "start_time": "2022-12-25T11:54:04.444Z"
      },
      {
        "duration": 35,
        "start_time": "2022-12-25T11:54:04.486Z"
      },
      {
        "duration": 22,
        "start_time": "2022-12-25T11:54:04.524Z"
      },
      {
        "duration": 17,
        "start_time": "2022-12-25T11:54:04.548Z"
      },
      {
        "duration": 44,
        "start_time": "2022-12-25T11:54:04.567Z"
      },
      {
        "duration": 7,
        "start_time": "2022-12-25T11:54:04.613Z"
      },
      {
        "duration": 64,
        "start_time": "2022-12-25T11:54:04.622Z"
      },
      {
        "duration": 4,
        "start_time": "2022-12-25T11:54:04.688Z"
      },
      {
        "duration": 250,
        "start_time": "2022-12-25T11:54:04.693Z"
      },
      {
        "duration": 199,
        "start_time": "2022-12-25T11:54:04.945Z"
      },
      {
        "duration": 21,
        "start_time": "2022-12-25T11:54:05.146Z"
      },
      {
        "duration": 51,
        "start_time": "2022-12-25T11:54:05.168Z"
      },
      {
        "duration": 10,
        "start_time": "2022-12-25T11:54:05.221Z"
      },
      {
        "duration": 1066,
        "start_time": "2022-12-25T11:54:05.233Z"
      },
      {
        "duration": 1073,
        "start_time": "2022-12-25T11:54:06.300Z"
      },
      {
        "duration": 1012,
        "start_time": "2022-12-25T11:54:07.375Z"
      },
      {
        "duration": 1058,
        "start_time": "2022-12-25T11:56:36.461Z"
      },
      {
        "duration": 378,
        "start_time": "2022-12-25T11:56:37.521Z"
      },
      {
        "duration": 4,
        "start_time": "2022-12-25T11:56:37.900Z"
      },
      {
        "duration": 713,
        "start_time": "2022-12-25T11:56:37.906Z"
      },
      {
        "duration": 462,
        "start_time": "2022-12-25T11:56:38.621Z"
      },
      {
        "duration": 526,
        "start_time": "2022-12-25T11:56:39.085Z"
      },
      {
        "duration": 3,
        "start_time": "2022-12-25T11:56:39.613Z"
      },
      {
        "duration": 28,
        "start_time": "2022-12-25T11:56:39.618Z"
      },
      {
        "duration": 9,
        "start_time": "2022-12-25T11:56:39.648Z"
      },
      {
        "duration": 19,
        "start_time": "2022-12-25T11:56:39.659Z"
      },
      {
        "duration": 18,
        "start_time": "2022-12-25T11:56:39.680Z"
      },
      {
        "duration": 43,
        "start_time": "2022-12-25T11:56:39.699Z"
      },
      {
        "duration": 9,
        "start_time": "2022-12-25T11:56:39.744Z"
      },
      {
        "duration": 51,
        "start_time": "2022-12-25T11:56:39.756Z"
      },
      {
        "duration": 3,
        "start_time": "2022-12-25T11:56:39.809Z"
      },
      {
        "duration": 227,
        "start_time": "2022-12-25T11:56:39.813Z"
      },
      {
        "duration": 93,
        "start_time": "2022-12-25T11:56:40.043Z"
      },
      {
        "duration": 104,
        "start_time": "2022-12-25T11:56:40.139Z"
      },
      {
        "duration": 25,
        "start_time": "2022-12-25T11:56:40.245Z"
      },
      {
        "duration": 6,
        "start_time": "2022-12-25T11:56:40.271Z"
      },
      {
        "duration": 1022,
        "start_time": "2022-12-25T11:56:40.279Z"
      },
      {
        "duration": 1026,
        "start_time": "2022-12-25T11:56:41.302Z"
      },
      {
        "duration": 1095,
        "start_time": "2022-12-25T11:56:42.330Z"
      },
      {
        "duration": 6,
        "start_time": "2022-12-25T12:09:35.394Z"
      },
      {
        "duration": 7,
        "start_time": "2022-12-25T12:09:57.053Z"
      },
      {
        "duration": 1068,
        "start_time": "2022-12-25T12:09:58.372Z"
      },
      {
        "duration": 7,
        "start_time": "2022-12-25T12:12:03.606Z"
      },
      {
        "duration": 1037,
        "start_time": "2022-12-25T12:12:04.126Z"
      },
      {
        "duration": 1061,
        "start_time": "2022-12-25T12:12:05.165Z"
      },
      {
        "duration": 1090,
        "start_time": "2022-12-25T12:12:06.228Z"
      },
      {
        "duration": 6,
        "start_time": "2022-12-25T12:12:23.604Z"
      },
      {
        "duration": 1022,
        "start_time": "2022-12-25T12:12:24.261Z"
      },
      {
        "duration": 1039,
        "start_time": "2022-12-25T12:12:25.286Z"
      },
      {
        "duration": 1086,
        "start_time": "2022-12-25T12:12:26.327Z"
      },
      {
        "duration": 7,
        "start_time": "2022-12-25T12:14:09.005Z"
      },
      {
        "duration": 1062,
        "start_time": "2022-12-25T12:14:09.716Z"
      },
      {
        "duration": 1048,
        "start_time": "2022-12-25T12:14:10.780Z"
      },
      {
        "duration": 1076,
        "start_time": "2022-12-25T12:14:11.835Z"
      },
      {
        "duration": 7,
        "start_time": "2022-12-25T12:17:20.662Z"
      },
      {
        "duration": 1014,
        "start_time": "2022-12-25T12:17:23.195Z"
      },
      {
        "duration": 1009,
        "start_time": "2022-12-25T12:17:24.211Z"
      },
      {
        "duration": 1032,
        "start_time": "2022-12-25T12:17:25.222Z"
      },
      {
        "duration": 1117,
        "start_time": "2022-12-25T12:20:05.214Z"
      },
      {
        "duration": 406,
        "start_time": "2022-12-25T12:20:06.333Z"
      },
      {
        "duration": 5,
        "start_time": "2022-12-25T12:20:06.742Z"
      },
      {
        "duration": 710,
        "start_time": "2022-12-25T12:20:06.749Z"
      },
      {
        "duration": 473,
        "start_time": "2022-12-25T12:20:07.462Z"
      },
      {
        "duration": 532,
        "start_time": "2022-12-25T12:20:07.937Z"
      },
      {
        "duration": 3,
        "start_time": "2022-12-25T12:20:08.471Z"
      },
      {
        "duration": 54,
        "start_time": "2022-12-25T12:20:08.476Z"
      },
      {
        "duration": 11,
        "start_time": "2022-12-25T12:20:08.532Z"
      },
      {
        "duration": 39,
        "start_time": "2022-12-25T12:20:08.545Z"
      },
      {
        "duration": 34,
        "start_time": "2022-12-25T12:20:08.586Z"
      },
      {
        "duration": 54,
        "start_time": "2022-12-25T12:20:08.622Z"
      },
      {
        "duration": 12,
        "start_time": "2022-12-25T12:20:08.678Z"
      },
      {
        "duration": 87,
        "start_time": "2022-12-25T12:20:08.692Z"
      },
      {
        "duration": 4,
        "start_time": "2022-12-25T12:20:08.781Z"
      },
      {
        "duration": 258,
        "start_time": "2022-12-25T12:20:08.786Z"
      },
      {
        "duration": 91,
        "start_time": "2022-12-25T12:20:09.046Z"
      },
      {
        "duration": 109,
        "start_time": "2022-12-25T12:20:09.139Z"
      },
      {
        "duration": 56,
        "start_time": "2022-12-25T12:20:09.250Z"
      },
      {
        "duration": 8,
        "start_time": "2022-12-25T12:20:09.307Z"
      },
      {
        "duration": 1107,
        "start_time": "2022-12-25T12:20:09.317Z"
      },
      {
        "duration": 1047,
        "start_time": "2022-12-25T12:20:10.425Z"
      },
      {
        "duration": 1101,
        "start_time": "2022-12-25T12:20:11.474Z"
      },
      {
        "duration": 1013,
        "start_time": "2022-12-25T12:22:28.397Z"
      },
      {
        "duration": 392,
        "start_time": "2022-12-25T12:22:29.412Z"
      },
      {
        "duration": 4,
        "start_time": "2022-12-25T12:22:29.809Z"
      },
      {
        "duration": 703,
        "start_time": "2022-12-25T12:22:29.816Z"
      },
      {
        "duration": 440,
        "start_time": "2022-12-25T12:22:30.521Z"
      },
      {
        "duration": 503,
        "start_time": "2022-12-25T12:22:30.963Z"
      },
      {
        "duration": 3,
        "start_time": "2022-12-25T12:22:31.468Z"
      },
      {
        "duration": 36,
        "start_time": "2022-12-25T12:22:31.472Z"
      },
      {
        "duration": 25,
        "start_time": "2022-12-25T12:22:31.512Z"
      },
      {
        "duration": 40,
        "start_time": "2022-12-25T12:22:31.538Z"
      },
      {
        "duration": 25,
        "start_time": "2022-12-25T12:22:31.579Z"
      },
      {
        "duration": 39,
        "start_time": "2022-12-25T12:22:31.606Z"
      },
      {
        "duration": 7,
        "start_time": "2022-12-25T12:22:31.647Z"
      },
      {
        "duration": 85,
        "start_time": "2022-12-25T12:22:31.655Z"
      },
      {
        "duration": 4,
        "start_time": "2022-12-25T12:22:31.741Z"
      },
      {
        "duration": 289,
        "start_time": "2022-12-25T12:22:31.746Z"
      },
      {
        "duration": 99,
        "start_time": "2022-12-25T12:22:32.038Z"
      },
      {
        "duration": 19,
        "start_time": "2022-12-25T12:22:32.139Z"
      },
      {
        "duration": 79,
        "start_time": "2022-12-25T12:22:32.159Z"
      },
      {
        "duration": 6,
        "start_time": "2022-12-25T12:22:32.240Z"
      },
      {
        "duration": 1115,
        "start_time": "2022-12-25T12:22:32.248Z"
      },
      {
        "duration": 1022,
        "start_time": "2022-12-25T12:22:33.364Z"
      },
      {
        "duration": 1021,
        "start_time": "2022-12-25T12:22:34.388Z"
      },
      {
        "duration": 1075,
        "start_time": "2022-12-25T12:24:02.965Z"
      },
      {
        "duration": 403,
        "start_time": "2022-12-25T12:24:04.042Z"
      },
      {
        "duration": 3,
        "start_time": "2022-12-25T12:24:04.447Z"
      },
      {
        "duration": 722,
        "start_time": "2022-12-25T12:24:04.452Z"
      },
      {
        "duration": 445,
        "start_time": "2022-12-25T12:24:05.175Z"
      },
      {
        "duration": 547,
        "start_time": "2022-12-25T12:24:05.622Z"
      },
      {
        "duration": 3,
        "start_time": "2022-12-25T12:24:06.170Z"
      },
      {
        "duration": 25,
        "start_time": "2022-12-25T12:24:06.175Z"
      },
      {
        "duration": 14,
        "start_time": "2022-12-25T12:24:06.202Z"
      },
      {
        "duration": 28,
        "start_time": "2022-12-25T12:24:06.219Z"
      },
      {
        "duration": 14,
        "start_time": "2022-12-25T12:24:06.248Z"
      },
      {
        "duration": 41,
        "start_time": "2022-12-25T12:24:06.263Z"
      },
      {
        "duration": 8,
        "start_time": "2022-12-25T12:24:06.306Z"
      },
      {
        "duration": 59,
        "start_time": "2022-12-25T12:24:06.316Z"
      },
      {
        "duration": 4,
        "start_time": "2022-12-25T12:24:06.376Z"
      },
      {
        "duration": 256,
        "start_time": "2022-12-25T12:24:06.381Z"
      },
      {
        "duration": 5,
        "start_time": "2022-12-25T12:24:06.639Z"
      },
      {
        "duration": 26,
        "start_time": "2022-12-25T12:24:06.736Z"
      },
      {
        "duration": 34,
        "start_time": "2022-12-25T12:24:06.764Z"
      },
      {
        "duration": 7,
        "start_time": "2022-12-25T12:24:06.800Z"
      },
      {
        "duration": 1042,
        "start_time": "2022-12-25T12:24:06.808Z"
      },
      {
        "duration": 1023,
        "start_time": "2022-12-25T12:24:07.852Z"
      },
      {
        "duration": 1067,
        "start_time": "2022-12-25T12:24:08.877Z"
      },
      {
        "duration": 1091,
        "start_time": "2022-12-25T12:24:17.637Z"
      },
      {
        "duration": 412,
        "start_time": "2022-12-25T12:24:18.730Z"
      },
      {
        "duration": 5,
        "start_time": "2022-12-25T12:24:19.144Z"
      },
      {
        "duration": 734,
        "start_time": "2022-12-25T12:24:19.152Z"
      },
      {
        "duration": 515,
        "start_time": "2022-12-25T12:24:19.888Z"
      },
      {
        "duration": 557,
        "start_time": "2022-12-25T12:24:20.405Z"
      },
      {
        "duration": 3,
        "start_time": "2022-12-25T12:24:20.963Z"
      },
      {
        "duration": 44,
        "start_time": "2022-12-25T12:24:20.968Z"
      },
      {
        "duration": 27,
        "start_time": "2022-12-25T12:24:21.014Z"
      },
      {
        "duration": 28,
        "start_time": "2022-12-25T12:24:21.044Z"
      },
      {
        "duration": 20,
        "start_time": "2022-12-25T12:24:21.074Z"
      },
      {
        "duration": 49,
        "start_time": "2022-12-25T12:24:21.096Z"
      },
      {
        "duration": 8,
        "start_time": "2022-12-25T12:24:21.147Z"
      },
      {
        "duration": 79,
        "start_time": "2022-12-25T12:24:21.157Z"
      },
      {
        "duration": 3,
        "start_time": "2022-12-25T12:24:21.238Z"
      },
      {
        "duration": 193,
        "start_time": "2022-12-25T12:24:21.243Z"
      },
      {
        "duration": 11,
        "start_time": "2022-12-25T12:24:21.439Z"
      },
      {
        "duration": 11,
        "start_time": "2022-12-25T12:24:21.536Z"
      },
      {
        "duration": 35,
        "start_time": "2022-12-25T12:24:21.549Z"
      },
      {
        "duration": 7,
        "start_time": "2022-12-25T12:24:21.586Z"
      },
      {
        "duration": 1189,
        "start_time": "2022-12-25T12:24:21.595Z"
      },
      {
        "duration": 1065,
        "start_time": "2022-12-25T12:24:22.786Z"
      },
      {
        "duration": 1036,
        "start_time": "2022-12-25T12:24:23.853Z"
      },
      {
        "duration": 1143,
        "start_time": "2022-12-25T12:29:24.848Z"
      },
      {
        "duration": 432,
        "start_time": "2022-12-25T12:29:25.993Z"
      },
      {
        "duration": 4,
        "start_time": "2022-12-25T12:29:26.427Z"
      },
      {
        "duration": 757,
        "start_time": "2022-12-25T12:29:26.436Z"
      },
      {
        "duration": 463,
        "start_time": "2022-12-25T12:29:27.194Z"
      },
      {
        "duration": 535,
        "start_time": "2022-12-25T12:29:27.659Z"
      },
      {
        "duration": 3,
        "start_time": "2022-12-25T12:29:28.196Z"
      },
      {
        "duration": 27,
        "start_time": "2022-12-25T12:29:28.201Z"
      },
      {
        "duration": 3,
        "start_time": "2022-12-25T12:29:28.234Z"
      },
      {
        "duration": 31,
        "start_time": "2022-12-25T12:29:28.240Z"
      },
      {
        "duration": 10,
        "start_time": "2022-12-25T12:29:28.273Z"
      },
      {
        "duration": 35,
        "start_time": "2022-12-25T12:29:28.285Z"
      },
      {
        "duration": 8,
        "start_time": "2022-12-25T12:29:28.322Z"
      },
      {
        "duration": 53,
        "start_time": "2022-12-25T12:29:28.331Z"
      },
      {
        "duration": 3,
        "start_time": "2022-12-25T12:29:28.386Z"
      },
      {
        "duration": 248,
        "start_time": "2022-12-25T12:29:28.391Z"
      },
      {
        "duration": 92,
        "start_time": "2022-12-25T12:29:28.645Z"
      },
      {
        "duration": 20,
        "start_time": "2022-12-25T12:29:28.738Z"
      },
      {
        "duration": 44,
        "start_time": "2022-12-25T12:29:28.760Z"
      },
      {
        "duration": 8,
        "start_time": "2022-12-25T12:29:28.805Z"
      },
      {
        "duration": 1048,
        "start_time": "2022-12-25T12:29:28.814Z"
      },
      {
        "duration": 1023,
        "start_time": "2022-12-25T12:29:29.864Z"
      },
      {
        "duration": 1041,
        "start_time": "2022-12-25T12:29:30.889Z"
      },
      {
        "duration": 1071,
        "start_time": "2022-12-27T19:38:11.492Z"
      },
      {
        "duration": 715,
        "start_time": "2022-12-27T19:38:12.565Z"
      },
      {
        "duration": 5,
        "start_time": "2022-12-27T19:38:13.281Z"
      },
      {
        "duration": 662,
        "start_time": "2022-12-27T19:38:13.288Z"
      },
      {
        "duration": 407,
        "start_time": "2022-12-27T19:38:13.952Z"
      },
      {
        "duration": 457,
        "start_time": "2022-12-27T19:38:14.361Z"
      },
      {
        "duration": 3,
        "start_time": "2022-12-27T19:38:14.819Z"
      },
      {
        "duration": 16,
        "start_time": "2022-12-27T19:38:14.824Z"
      },
      {
        "duration": 7,
        "start_time": "2022-12-27T19:38:14.841Z"
      },
      {
        "duration": 13,
        "start_time": "2022-12-27T19:38:14.850Z"
      },
      {
        "duration": 6,
        "start_time": "2022-12-27T19:38:14.864Z"
      },
      {
        "duration": 31,
        "start_time": "2022-12-27T19:38:14.871Z"
      },
      {
        "duration": 15,
        "start_time": "2022-12-27T19:38:14.904Z"
      },
      {
        "duration": 40,
        "start_time": "2022-12-27T19:38:14.921Z"
      },
      {
        "duration": 3,
        "start_time": "2022-12-27T19:38:14.963Z"
      },
      {
        "duration": 158,
        "start_time": "2022-12-27T19:38:14.967Z"
      },
      {
        "duration": 4,
        "start_time": "2022-12-27T19:38:15.217Z"
      },
      {
        "duration": 105,
        "start_time": "2022-12-27T19:38:15.223Z"
      },
      {
        "duration": 26,
        "start_time": "2022-12-27T19:38:15.329Z"
      },
      {
        "duration": 6,
        "start_time": "2022-12-27T19:38:15.357Z"
      },
      {
        "duration": 1067,
        "start_time": "2022-12-27T19:38:15.365Z"
      },
      {
        "duration": 913,
        "start_time": "2022-12-27T19:38:16.433Z"
      },
      {
        "duration": 943,
        "start_time": "2022-12-27T19:38:17.348Z"
      },
      {
        "duration": 1028,
        "start_time": "2022-12-27T19:38:41.843Z"
      },
      {
        "duration": 341,
        "start_time": "2022-12-27T19:38:42.873Z"
      },
      {
        "duration": 3,
        "start_time": "2022-12-27T19:38:43.216Z"
      },
      {
        "duration": 640,
        "start_time": "2022-12-27T19:38:43.221Z"
      },
      {
        "duration": 424,
        "start_time": "2022-12-27T19:38:43.862Z"
      },
      {
        "duration": 469,
        "start_time": "2022-12-27T19:38:44.288Z"
      },
      {
        "duration": 3,
        "start_time": "2022-12-27T19:38:44.759Z"
      },
      {
        "duration": 20,
        "start_time": "2022-12-27T19:38:44.763Z"
      },
      {
        "duration": 14,
        "start_time": "2022-12-27T19:38:44.784Z"
      },
      {
        "duration": 18,
        "start_time": "2022-12-27T19:38:44.801Z"
      },
      {
        "duration": 7,
        "start_time": "2022-12-27T19:38:44.820Z"
      },
      {
        "duration": 29,
        "start_time": "2022-12-27T19:38:44.828Z"
      },
      {
        "duration": 7,
        "start_time": "2022-12-27T19:38:44.859Z"
      },
      {
        "duration": 54,
        "start_time": "2022-12-27T19:38:44.867Z"
      },
      {
        "duration": 3,
        "start_time": "2022-12-27T19:38:44.922Z"
      },
      {
        "duration": 195,
        "start_time": "2022-12-27T19:38:44.927Z"
      },
      {
        "duration": 92,
        "start_time": "2022-12-27T19:38:45.125Z"
      },
      {
        "duration": 97,
        "start_time": "2022-12-27T19:38:45.219Z"
      },
      {
        "duration": 19,
        "start_time": "2022-12-27T19:38:45.318Z"
      },
      {
        "duration": 7,
        "start_time": "2022-12-27T19:38:45.339Z"
      },
      {
        "duration": 1014,
        "start_time": "2022-12-27T19:38:45.347Z"
      },
      {
        "duration": 990,
        "start_time": "2022-12-27T19:38:46.363Z"
      },
      {
        "duration": 935,
        "start_time": "2022-12-27T19:38:47.354Z"
      },
      {
        "duration": 1030,
        "start_time": "2022-12-27T19:39:09.047Z"
      },
      {
        "duration": 358,
        "start_time": "2022-12-27T19:39:10.079Z"
      },
      {
        "duration": 3,
        "start_time": "2022-12-27T19:39:10.439Z"
      },
      {
        "duration": 633,
        "start_time": "2022-12-27T19:39:10.444Z"
      },
      {
        "duration": 398,
        "start_time": "2022-12-27T19:39:11.079Z"
      },
      {
        "duration": 447,
        "start_time": "2022-12-27T19:39:11.479Z"
      },
      {
        "duration": 2,
        "start_time": "2022-12-27T19:39:11.928Z"
      },
      {
        "duration": 19,
        "start_time": "2022-12-27T19:39:11.931Z"
      },
      {
        "duration": 6,
        "start_time": "2022-12-27T19:39:11.951Z"
      },
      {
        "duration": 10,
        "start_time": "2022-12-27T19:39:11.960Z"
      },
      {
        "duration": 7,
        "start_time": "2022-12-27T19:39:11.971Z"
      },
      {
        "duration": 45,
        "start_time": "2022-12-27T19:39:11.979Z"
      },
      {
        "duration": 8,
        "start_time": "2022-12-27T19:39:12.025Z"
      },
      {
        "duration": 54,
        "start_time": "2022-12-27T19:39:12.034Z"
      },
      {
        "duration": 4,
        "start_time": "2022-12-27T19:39:12.090Z"
      },
      {
        "duration": 230,
        "start_time": "2022-12-27T19:39:12.095Z"
      },
      {
        "duration": 94,
        "start_time": "2022-12-27T19:39:12.328Z"
      },
      {
        "duration": 101,
        "start_time": "2022-12-27T19:39:12.424Z"
      },
      {
        "duration": 22,
        "start_time": "2022-12-27T19:39:12.527Z"
      },
      {
        "duration": 6,
        "start_time": "2022-12-27T19:39:12.551Z"
      },
      {
        "duration": 967,
        "start_time": "2022-12-27T19:39:12.559Z"
      },
      {
        "duration": 936,
        "start_time": "2022-12-27T19:39:13.528Z"
      },
      {
        "duration": 917,
        "start_time": "2022-12-27T19:39:14.466Z"
      },
      {
        "duration": 2,
        "start_time": "2022-12-27T20:10:43.243Z"
      },
      {
        "duration": 1041,
        "start_time": "2022-12-27T20:21:45.749Z"
      },
      {
        "duration": 1007,
        "start_time": "2022-12-27T20:21:49.525Z"
      },
      {
        "duration": 1031,
        "start_time": "2022-12-27T20:21:51.869Z"
      },
      {
        "duration": 942,
        "start_time": "2022-12-27T20:21:54.477Z"
      },
      {
        "duration": 7,
        "start_time": "2022-12-27T20:22:04.734Z"
      },
      {
        "duration": 985,
        "start_time": "2022-12-27T20:22:07.606Z"
      },
      {
        "duration": 948,
        "start_time": "2022-12-27T20:22:11.524Z"
      },
      {
        "duration": 962,
        "start_time": "2022-12-27T20:22:13.709Z"
      },
      {
        "duration": 1117,
        "start_time": "2022-12-27T20:22:16.021Z"
      },
      {
        "duration": 973,
        "start_time": "2022-12-27T20:22:17.139Z"
      },
      {
        "duration": 1037,
        "start_time": "2022-12-27T20:22:20.205Z"
      },
      {
        "duration": 1077,
        "start_time": "2022-12-29T08:23:14.454Z"
      },
      {
        "duration": 1601,
        "start_time": "2022-12-29T08:23:15.534Z"
      },
      {
        "duration": 3,
        "start_time": "2022-12-29T08:23:17.137Z"
      },
      {
        "duration": 819,
        "start_time": "2022-12-29T08:23:17.142Z"
      },
      {
        "duration": 439,
        "start_time": "2022-12-29T08:23:17.962Z"
      },
      {
        "duration": 483,
        "start_time": "2022-12-29T08:23:18.403Z"
      },
      {
        "duration": 2,
        "start_time": "2022-12-29T08:23:18.887Z"
      },
      {
        "duration": 22,
        "start_time": "2022-12-29T08:23:18.891Z"
      },
      {
        "duration": 8,
        "start_time": "2022-12-29T08:23:18.915Z"
      },
      {
        "duration": 13,
        "start_time": "2022-12-29T08:23:18.925Z"
      },
      {
        "duration": 11,
        "start_time": "2022-12-29T08:23:18.940Z"
      },
      {
        "duration": 43,
        "start_time": "2022-12-29T08:23:18.953Z"
      },
      {
        "duration": 6,
        "start_time": "2022-12-29T08:23:18.998Z"
      },
      {
        "duration": 57,
        "start_time": "2022-12-29T08:23:19.006Z"
      },
      {
        "duration": 3,
        "start_time": "2022-12-29T08:23:19.065Z"
      },
      {
        "duration": 300,
        "start_time": "2022-12-29T08:23:19.078Z"
      },
      {
        "duration": 3,
        "start_time": "2022-12-29T08:23:19.380Z"
      },
      {
        "duration": 93,
        "start_time": "2022-12-29T08:23:19.385Z"
      },
      {
        "duration": 4,
        "start_time": "2022-12-29T08:23:19.480Z"
      },
      {
        "duration": 26,
        "start_time": "2022-12-29T08:23:19.485Z"
      },
      {
        "duration": 2,
        "start_time": "2022-12-29T08:23:19.513Z"
      },
      {
        "duration": 118,
        "start_time": "2022-12-29T08:23:19.516Z"
      },
      {
        "duration": 0,
        "start_time": "2022-12-29T08:23:19.635Z"
      },
      {
        "duration": 0,
        "start_time": "2022-12-29T08:23:19.637Z"
      },
      {
        "duration": 0,
        "start_time": "2022-12-29T08:23:19.638Z"
      },
      {
        "duration": 0,
        "start_time": "2022-12-29T08:23:19.639Z"
      },
      {
        "duration": 0,
        "start_time": "2022-12-29T08:23:19.640Z"
      },
      {
        "duration": 5,
        "start_time": "2022-12-29T08:23:44.886Z"
      },
      {
        "duration": 9,
        "start_time": "2022-12-29T08:23:47.100Z"
      },
      {
        "duration": 5,
        "start_time": "2022-12-29T08:23:58.793Z"
      },
      {
        "duration": 1515,
        "start_time": "2023-03-07T09:49:35.305Z"
      },
      {
        "duration": 1380,
        "start_time": "2023-03-07T09:49:36.823Z"
      },
      {
        "duration": 95,
        "start_time": "2023-03-07T09:49:38.208Z"
      },
      {
        "duration": 2505,
        "start_time": "2023-03-07T09:49:38.306Z"
      },
      {
        "duration": 1514,
        "start_time": "2023-03-07T09:49:40.813Z"
      },
      {
        "duration": 1704,
        "start_time": "2023-03-07T09:49:42.329Z"
      },
      {
        "duration": 3,
        "start_time": "2023-03-07T09:49:44.034Z"
      },
      {
        "duration": 79,
        "start_time": "2023-03-07T09:49:44.039Z"
      },
      {
        "duration": 5,
        "start_time": "2023-03-07T09:49:44.120Z"
      },
      {
        "duration": 13,
        "start_time": "2023-03-07T09:49:44.127Z"
      },
      {
        "duration": 5,
        "start_time": "2023-03-07T09:49:44.142Z"
      },
      {
        "duration": 84,
        "start_time": "2023-03-07T09:49:44.149Z"
      },
      {
        "duration": 206,
        "start_time": "2023-03-07T09:49:44.236Z"
      },
      {
        "duration": 399,
        "start_time": "2023-03-07T09:49:44.502Z"
      },
      {
        "duration": 4,
        "start_time": "2023-03-07T09:49:44.904Z"
      },
      {
        "duration": 599,
        "start_time": "2023-03-07T09:49:44.910Z"
      },
      {
        "duration": 92,
        "start_time": "2023-03-07T09:49:45.510Z"
      },
      {
        "duration": 10,
        "start_time": "2023-03-07T09:49:45.605Z"
      },
      {
        "duration": 93,
        "start_time": "2023-03-07T09:49:45.617Z"
      },
      {
        "duration": 24,
        "start_time": "2023-03-07T09:49:45.712Z"
      },
      {
        "duration": 3,
        "start_time": "2023-03-07T09:49:45.738Z"
      },
      {
        "duration": 66,
        "start_time": "2023-03-07T09:49:45.742Z"
      },
      {
        "duration": 3722,
        "start_time": "2023-03-07T09:49:45.810Z"
      },
      {
        "duration": 3489,
        "start_time": "2023-03-07T09:49:49.534Z"
      },
      {
        "duration": 3606,
        "start_time": "2023-03-07T09:49:53.024Z"
      },
      {
        "duration": 3,
        "start_time": "2023-03-16T16:09:20.545Z"
      },
      {
        "duration": 1297,
        "start_time": "2023-03-16T16:09:54.521Z"
      },
      {
        "duration": 901,
        "start_time": "2023-03-16T16:09:55.821Z"
      },
      {
        "duration": 3,
        "start_time": "2023-03-16T16:09:56.724Z"
      },
      {
        "duration": 934,
        "start_time": "2023-03-16T16:09:56.729Z"
      },
      {
        "duration": 395,
        "start_time": "2023-03-16T16:09:57.664Z"
      },
      {
        "duration": 466,
        "start_time": "2023-03-16T16:09:58.061Z"
      },
      {
        "duration": 2,
        "start_time": "2023-03-16T16:09:58.529Z"
      },
      {
        "duration": 43,
        "start_time": "2023-03-16T16:09:58.533Z"
      },
      {
        "duration": 32,
        "start_time": "2023-03-16T16:09:58.578Z"
      },
      {
        "duration": 3,
        "start_time": "2023-03-16T16:09:58.614Z"
      },
      {
        "duration": 16,
        "start_time": "2023-03-16T16:09:58.618Z"
      },
      {
        "duration": 11,
        "start_time": "2023-03-16T16:09:58.636Z"
      },
      {
        "duration": 26,
        "start_time": "2023-03-16T16:09:58.649Z"
      },
      {
        "duration": 24,
        "start_time": "2023-03-16T16:09:58.677Z"
      },
      {
        "duration": 56,
        "start_time": "2023-03-16T16:09:58.702Z"
      },
      {
        "duration": 4,
        "start_time": "2023-03-16T16:09:58.760Z"
      },
      {
        "duration": 121,
        "start_time": "2023-03-16T16:09:58.765Z"
      },
      {
        "duration": 11,
        "start_time": "2023-03-16T16:09:58.893Z"
      },
      {
        "duration": 7,
        "start_time": "2023-03-16T16:09:58.913Z"
      },
      {
        "duration": 85,
        "start_time": "2023-03-16T16:09:58.921Z"
      },
      {
        "duration": 29,
        "start_time": "2023-03-16T16:09:59.008Z"
      },
      {
        "duration": 2,
        "start_time": "2023-03-16T16:09:59.039Z"
      },
      {
        "duration": 9,
        "start_time": "2023-03-16T16:09:59.043Z"
      },
      {
        "duration": 843,
        "start_time": "2023-03-16T16:09:59.053Z"
      },
      {
        "duration": 1058,
        "start_time": "2023-03-16T16:09:59.897Z"
      },
      {
        "duration": 1052,
        "start_time": "2023-03-16T16:10:00.957Z"
      },
      {
        "duration": 6,
        "start_time": "2023-03-16T16:10:13.970Z"
      },
      {
        "duration": 1273,
        "start_time": "2023-03-16T16:10:22.936Z"
      },
      {
        "duration": 346,
        "start_time": "2023-03-16T16:10:24.211Z"
      },
      {
        "duration": 3,
        "start_time": "2023-03-16T16:10:24.559Z"
      },
      {
        "duration": 837,
        "start_time": "2023-03-16T16:10:24.564Z"
      },
      {
        "duration": 372,
        "start_time": "2023-03-16T16:10:25.403Z"
      },
      {
        "duration": 524,
        "start_time": "2023-03-16T16:10:25.779Z"
      },
      {
        "duration": 3,
        "start_time": "2023-03-16T16:10:26.306Z"
      },
      {
        "duration": 38,
        "start_time": "2023-03-16T16:10:26.311Z"
      },
      {
        "duration": 17,
        "start_time": "2023-03-16T16:10:26.351Z"
      },
      {
        "duration": 14,
        "start_time": "2023-03-16T16:10:26.371Z"
      },
      {
        "duration": 33,
        "start_time": "2023-03-16T16:10:26.386Z"
      },
      {
        "duration": 16,
        "start_time": "2023-03-16T16:10:26.421Z"
      },
      {
        "duration": 9,
        "start_time": "2023-03-16T16:10:26.439Z"
      },
      {
        "duration": 27,
        "start_time": "2023-03-16T16:10:26.450Z"
      },
      {
        "duration": 18,
        "start_time": "2023-03-16T16:10:26.479Z"
      },
      {
        "duration": 51,
        "start_time": "2023-03-16T16:10:26.501Z"
      },
      {
        "duration": 4,
        "start_time": "2023-03-16T16:10:26.553Z"
      },
      {
        "duration": 50,
        "start_time": "2023-03-16T16:10:26.559Z"
      },
      {
        "duration": 16,
        "start_time": "2023-03-16T16:10:26.682Z"
      },
      {
        "duration": 13,
        "start_time": "2023-03-16T16:10:26.699Z"
      },
      {
        "duration": 34,
        "start_time": "2023-03-16T16:10:26.779Z"
      },
      {
        "duration": 28,
        "start_time": "2023-03-16T16:10:26.815Z"
      },
      {
        "duration": 3,
        "start_time": "2023-03-16T16:10:26.845Z"
      },
      {
        "duration": 8,
        "start_time": "2023-03-16T16:10:26.849Z"
      },
      {
        "duration": 838,
        "start_time": "2023-03-16T16:10:26.859Z"
      },
      {
        "duration": 775,
        "start_time": "2023-03-16T16:10:27.698Z"
      },
      {
        "duration": 826,
        "start_time": "2023-03-16T16:10:28.475Z"
      },
      {
        "duration": 1056,
        "start_time": "2023-03-16T16:10:43.463Z"
      },
      {
        "duration": 331,
        "start_time": "2023-03-16T16:10:44.520Z"
      },
      {
        "duration": 3,
        "start_time": "2023-03-16T16:10:44.853Z"
      },
      {
        "duration": 701,
        "start_time": "2023-03-16T16:10:44.858Z"
      },
      {
        "duration": 411,
        "start_time": "2023-03-16T16:10:45.560Z"
      },
      {
        "duration": 517,
        "start_time": "2023-03-16T16:10:45.974Z"
      },
      {
        "duration": 3,
        "start_time": "2023-03-16T16:10:46.498Z"
      },
      {
        "duration": 12,
        "start_time": "2023-03-16T16:10:46.502Z"
      },
      {
        "duration": 20,
        "start_time": "2023-03-16T16:10:46.516Z"
      },
      {
        "duration": 23,
        "start_time": "2023-03-16T16:10:46.539Z"
      },
      {
        "duration": 6,
        "start_time": "2023-03-16T16:10:46.564Z"
      },
      {
        "duration": 38,
        "start_time": "2023-03-16T16:10:46.572Z"
      },
      {
        "duration": 6,
        "start_time": "2023-03-16T16:10:46.612Z"
      },
      {
        "duration": 27,
        "start_time": "2023-03-16T16:10:46.620Z"
      },
      {
        "duration": 10,
        "start_time": "2023-03-16T16:10:46.649Z"
      },
      {
        "duration": 73,
        "start_time": "2023-03-16T16:10:46.660Z"
      },
      {
        "duration": 3,
        "start_time": "2023-03-16T16:10:46.735Z"
      },
      {
        "duration": 253,
        "start_time": "2023-03-16T16:10:46.739Z"
      },
      {
        "duration": 4,
        "start_time": "2023-03-16T16:10:46.994Z"
      },
      {
        "duration": 108,
        "start_time": "2023-03-16T16:10:47.000Z"
      },
      {
        "duration": 7,
        "start_time": "2023-03-16T16:10:47.110Z"
      },
      {
        "duration": 24,
        "start_time": "2023-03-16T16:10:47.118Z"
      },
      {
        "duration": 3,
        "start_time": "2023-03-16T16:10:47.143Z"
      },
      {
        "duration": 12,
        "start_time": "2023-03-16T16:10:47.148Z"
      },
      {
        "duration": 835,
        "start_time": "2023-03-16T16:10:47.162Z"
      },
      {
        "duration": 799,
        "start_time": "2023-03-16T16:10:47.999Z"
      },
      {
        "duration": 800,
        "start_time": "2023-03-16T16:10:48.800Z"
      },
      {
        "duration": 1547,
        "start_time": "2023-03-16T16:13:42.711Z"
      },
      {
        "duration": 330,
        "start_time": "2023-03-16T16:13:44.260Z"
      },
      {
        "duration": 4,
        "start_time": "2023-03-16T16:13:44.592Z"
      },
      {
        "duration": 676,
        "start_time": "2023-03-16T16:13:44.598Z"
      },
      {
        "duration": 375,
        "start_time": "2023-03-16T16:13:45.276Z"
      },
      {
        "duration": 432,
        "start_time": "2023-03-16T16:13:45.652Z"
      },
      {
        "duration": 16,
        "start_time": "2023-03-16T16:13:46.086Z"
      },
      {
        "duration": 24,
        "start_time": "2023-03-16T16:13:46.104Z"
      },
      {
        "duration": 33,
        "start_time": "2023-03-16T16:13:46.130Z"
      },
      {
        "duration": 27,
        "start_time": "2023-03-16T16:13:46.166Z"
      },
      {
        "duration": 48,
        "start_time": "2023-03-16T16:13:46.195Z"
      },
      {
        "duration": 85,
        "start_time": "2023-03-16T16:13:46.245Z"
      },
      {
        "duration": 63,
        "start_time": "2023-03-16T16:13:46.332Z"
      },
      {
        "duration": 4,
        "start_time": "2023-03-16T16:13:46.397Z"
      },
      {
        "duration": 178,
        "start_time": "2023-03-16T16:13:46.403Z"
      },
      {
        "duration": 3,
        "start_time": "2023-03-16T16:13:46.582Z"
      },
      {
        "duration": 108,
        "start_time": "2023-03-16T16:13:46.587Z"
      },
      {
        "duration": 12,
        "start_time": "2023-03-16T16:13:46.697Z"
      },
      {
        "duration": 26,
        "start_time": "2023-03-16T16:13:46.710Z"
      },
      {
        "duration": 2,
        "start_time": "2023-03-16T16:13:46.737Z"
      },
      {
        "duration": 8,
        "start_time": "2023-03-16T16:13:46.741Z"
      },
      {
        "duration": 868,
        "start_time": "2023-03-16T16:13:46.750Z"
      },
      {
        "duration": 774,
        "start_time": "2023-03-16T16:13:47.620Z"
      },
      {
        "duration": 759,
        "start_time": "2023-03-16T16:13:48.395Z"
      },
      {
        "duration": 1309,
        "start_time": "2023-03-16T16:21:20.795Z"
      },
      {
        "duration": 373,
        "start_time": "2023-03-16T16:21:22.107Z"
      },
      {
        "duration": 4,
        "start_time": "2023-03-16T16:21:22.482Z"
      },
      {
        "duration": 627,
        "start_time": "2023-03-16T16:21:22.488Z"
      },
      {
        "duration": 495,
        "start_time": "2023-03-16T16:21:23.118Z"
      },
      {
        "duration": 406,
        "start_time": "2023-03-16T16:21:23.614Z"
      },
      {
        "duration": 15,
        "start_time": "2023-03-16T16:21:24.021Z"
      },
      {
        "duration": 11,
        "start_time": "2023-03-16T16:21:24.038Z"
      },
      {
        "duration": 10,
        "start_time": "2023-03-16T16:21:24.051Z"
      },
      {
        "duration": 5,
        "start_time": "2023-03-16T16:21:24.079Z"
      },
      {
        "duration": 32,
        "start_time": "2023-03-16T16:21:24.086Z"
      },
      {
        "duration": 78,
        "start_time": "2023-03-16T16:21:24.120Z"
      },
      {
        "duration": 44,
        "start_time": "2023-03-16T16:21:24.200Z"
      },
      {
        "duration": 3,
        "start_time": "2023-03-16T16:21:24.246Z"
      },
      {
        "duration": 336,
        "start_time": "2023-03-16T16:21:24.250Z"
      },
      {
        "duration": 4,
        "start_time": "2023-03-16T16:21:24.588Z"
      },
      {
        "duration": 101,
        "start_time": "2023-03-16T16:21:24.594Z"
      },
      {
        "duration": 9,
        "start_time": "2023-03-16T16:21:24.697Z"
      },
      {
        "duration": 29,
        "start_time": "2023-03-16T16:21:24.709Z"
      },
      {
        "duration": 3,
        "start_time": "2023-03-16T16:21:24.739Z"
      },
      {
        "duration": 23,
        "start_time": "2023-03-16T16:21:24.744Z"
      },
      {
        "duration": 843,
        "start_time": "2023-03-16T16:21:24.769Z"
      },
      {
        "duration": 920,
        "start_time": "2023-03-16T16:21:25.614Z"
      },
      {
        "duration": 847,
        "start_time": "2023-03-16T16:21:26.536Z"
      },
      {
        "duration": 51,
        "start_time": "2023-05-03T16:05:55.851Z"
      },
      {
        "duration": 1104,
        "start_time": "2023-05-03T16:06:14.009Z"
      },
      {
        "duration": 1172,
        "start_time": "2023-05-03T16:06:15.115Z"
      },
      {
        "duration": 3,
        "start_time": "2023-05-03T16:06:16.289Z"
      },
      {
        "duration": 883,
        "start_time": "2023-05-03T16:06:16.294Z"
      },
      {
        "duration": 425,
        "start_time": "2023-05-03T16:06:17.178Z"
      },
      {
        "duration": 386,
        "start_time": "2023-05-03T16:06:17.604Z"
      },
      {
        "duration": 29,
        "start_time": "2023-05-03T16:06:17.991Z"
      },
      {
        "duration": 8,
        "start_time": "2023-05-03T16:06:18.022Z"
      },
      {
        "duration": 11,
        "start_time": "2023-05-03T16:06:18.031Z"
      },
      {
        "duration": 6,
        "start_time": "2023-05-03T16:06:18.044Z"
      },
      {
        "duration": 28,
        "start_time": "2023-05-03T16:06:18.051Z"
      },
      {
        "duration": 91,
        "start_time": "2023-05-03T16:06:18.080Z"
      },
      {
        "duration": 54,
        "start_time": "2023-05-03T16:06:18.172Z"
      },
      {
        "duration": 4,
        "start_time": "2023-05-03T16:06:18.227Z"
      },
      {
        "duration": 201,
        "start_time": "2023-05-03T16:06:18.233Z"
      },
      {
        "duration": 83,
        "start_time": "2023-05-03T16:06:18.436Z"
      },
      {
        "duration": 3,
        "start_time": "2023-05-03T16:06:18.521Z"
      },
      {
        "duration": 92,
        "start_time": "2023-05-03T16:06:18.526Z"
      },
      {
        "duration": 19,
        "start_time": "2023-05-03T16:06:18.620Z"
      },
      {
        "duration": 2,
        "start_time": "2023-05-03T16:06:18.640Z"
      },
      {
        "duration": 6,
        "start_time": "2023-05-03T16:06:18.644Z"
      },
      {
        "duration": 852,
        "start_time": "2023-05-03T16:06:18.652Z"
      },
      {
        "duration": 854,
        "start_time": "2023-05-03T16:06:19.506Z"
      },
      {
        "duration": 817,
        "start_time": "2023-05-03T16:06:20.361Z"
      },
      {
        "duration": 92,
        "start_time": "2023-05-03T16:07:58.134Z"
      },
      {
        "duration": 91,
        "start_time": "2023-05-03T16:08:19.835Z"
      },
      {
        "duration": 22,
        "start_time": "2023-05-03T16:08:49.994Z"
      },
      {
        "duration": 13,
        "start_time": "2023-05-03T16:08:52.984Z"
      },
      {
        "duration": 4,
        "start_time": "2023-05-03T16:10:32.360Z"
      },
      {
        "duration": 211,
        "start_time": "2023-05-03T16:10:33.009Z"
      },
      {
        "duration": 6,
        "start_time": "2023-05-03T16:11:22.697Z"
      },
      {
        "duration": 1785,
        "start_time": "2023-05-03T16:13:17.239Z"
      },
      {
        "duration": 1060,
        "start_time": "2023-05-03T16:13:34.177Z"
      },
      {
        "duration": 350,
        "start_time": "2023-05-03T16:13:35.239Z"
      },
      {
        "duration": 3,
        "start_time": "2023-05-03T16:13:35.591Z"
      },
      {
        "duration": 636,
        "start_time": "2023-05-03T16:13:35.597Z"
      },
      {
        "duration": 443,
        "start_time": "2023-05-03T16:13:36.235Z"
      },
      {
        "duration": 416,
        "start_time": "2023-05-03T16:13:36.680Z"
      },
      {
        "duration": 15,
        "start_time": "2023-05-03T16:13:37.098Z"
      },
      {
        "duration": 10,
        "start_time": "2023-05-03T16:13:37.117Z"
      },
      {
        "duration": 10,
        "start_time": "2023-05-03T16:13:37.129Z"
      },
      {
        "duration": 3,
        "start_time": "2023-05-03T16:13:37.142Z"
      },
      {
        "duration": 28,
        "start_time": "2023-05-03T16:13:37.146Z"
      },
      {
        "duration": 90,
        "start_time": "2023-05-03T16:13:37.176Z"
      },
      {
        "duration": 61,
        "start_time": "2023-05-03T16:13:37.268Z"
      },
      {
        "duration": 4,
        "start_time": "2023-05-03T16:13:37.331Z"
      },
      {
        "duration": 6,
        "start_time": "2023-05-03T16:13:37.337Z"
      },
      {
        "duration": 173,
        "start_time": "2023-05-03T16:13:37.345Z"
      },
      {
        "duration": 3,
        "start_time": "2023-05-03T16:13:37.522Z"
      },
      {
        "duration": 93,
        "start_time": "2023-05-03T16:13:37.526Z"
      },
      {
        "duration": 35,
        "start_time": "2023-05-03T16:13:37.621Z"
      },
      {
        "duration": 4,
        "start_time": "2023-05-03T16:13:37.658Z"
      },
      {
        "duration": 21,
        "start_time": "2023-05-03T16:13:37.663Z"
      },
      {
        "duration": 888,
        "start_time": "2023-05-03T16:13:37.685Z"
      },
      {
        "duration": 850,
        "start_time": "2023-05-03T16:13:38.575Z"
      },
      {
        "duration": 838,
        "start_time": "2023-05-03T16:13:39.427Z"
      },
      {
        "duration": 1424,
        "start_time": "2023-05-03T16:14:16.434Z"
      },
      {
        "duration": 1072,
        "start_time": "2023-05-03T16:14:32.435Z"
      },
      {
        "duration": 358,
        "start_time": "2023-05-03T16:14:33.508Z"
      },
      {
        "duration": 2,
        "start_time": "2023-05-03T16:14:33.868Z"
      },
      {
        "duration": 752,
        "start_time": "2023-05-03T16:14:33.872Z"
      },
      {
        "duration": 0,
        "start_time": "2023-05-03T16:14:34.626Z"
      },
      {
        "duration": 0,
        "start_time": "2023-05-03T16:14:34.627Z"
      },
      {
        "duration": 0,
        "start_time": "2023-05-03T16:14:34.628Z"
      },
      {
        "duration": 0,
        "start_time": "2023-05-03T16:14:34.630Z"
      },
      {
        "duration": 0,
        "start_time": "2023-05-03T16:14:34.630Z"
      },
      {
        "duration": 0,
        "start_time": "2023-05-03T16:14:34.631Z"
      },
      {
        "duration": 0,
        "start_time": "2023-05-03T16:14:34.632Z"
      },
      {
        "duration": 0,
        "start_time": "2023-05-03T16:14:34.633Z"
      },
      {
        "duration": 0,
        "start_time": "2023-05-03T16:14:34.633Z"
      },
      {
        "duration": 0,
        "start_time": "2023-05-03T16:14:34.634Z"
      },
      {
        "duration": 0,
        "start_time": "2023-05-03T16:14:34.635Z"
      },
      {
        "duration": 0,
        "start_time": "2023-05-03T16:14:34.636Z"
      },
      {
        "duration": 0,
        "start_time": "2023-05-03T16:14:34.636Z"
      },
      {
        "duration": 0,
        "start_time": "2023-05-03T16:14:34.637Z"
      },
      {
        "duration": 0,
        "start_time": "2023-05-03T16:14:34.638Z"
      },
      {
        "duration": 0,
        "start_time": "2023-05-03T16:14:34.639Z"
      },
      {
        "duration": 0,
        "start_time": "2023-05-03T16:14:34.640Z"
      },
      {
        "duration": 0,
        "start_time": "2023-05-03T16:14:34.641Z"
      },
      {
        "duration": 0,
        "start_time": "2023-05-03T16:14:34.641Z"
      },
      {
        "duration": 0,
        "start_time": "2023-05-03T16:14:34.643Z"
      },
      {
        "duration": 0,
        "start_time": "2023-05-03T16:14:34.643Z"
      },
      {
        "duration": 3,
        "start_time": "2023-05-03T16:15:04.941Z"
      },
      {
        "duration": 376,
        "start_time": "2023-05-03T16:15:07.114Z"
      },
      {
        "duration": 3,
        "start_time": "2023-05-03T16:15:07.492Z"
      },
      {
        "duration": 391,
        "start_time": "2023-05-03T16:15:08.170Z"
      },
      {
        "duration": 379,
        "start_time": "2023-05-03T16:15:27.797Z"
      },
      {
        "duration": 457,
        "start_time": "2023-05-03T16:17:34.140Z"
      },
      {
        "duration": 476,
        "start_time": "2023-05-03T16:17:44.348Z"
      },
      {
        "duration": 55,
        "start_time": "2023-05-03T16:22:09.908Z"
      },
      {
        "duration": 647,
        "start_time": "2023-05-03T16:22:50.182Z"
      },
      {
        "duration": 1322,
        "start_time": "2023-05-03T16:23:51.923Z"
      },
      {
        "duration": 365,
        "start_time": "2023-05-03T16:24:29.083Z"
      },
      {
        "duration": 361,
        "start_time": "2023-05-03T16:24:41.029Z"
      },
      {
        "duration": 369,
        "start_time": "2023-05-03T16:24:44.280Z"
      },
      {
        "duration": 1475,
        "start_time": "2023-05-03T16:24:52.816Z"
      },
      {
        "duration": 1143,
        "start_time": "2023-05-03T16:25:12.280Z"
      },
      {
        "duration": 1183,
        "start_time": "2023-05-03T16:25:27.015Z"
      },
      {
        "duration": 1249,
        "start_time": "2023-05-03T16:25:41.975Z"
      },
      {
        "duration": 964,
        "start_time": "2023-05-03T16:26:21.376Z"
      },
      {
        "duration": 1775,
        "start_time": "2023-05-03T16:26:31.536Z"
      },
      {
        "duration": 1404,
        "start_time": "2023-05-03T16:27:21.678Z"
      },
      {
        "duration": 2454,
        "start_time": "2023-05-03T16:27:28.022Z"
      },
      {
        "duration": 3081,
        "start_time": "2023-05-03T16:28:18.196Z"
      },
      {
        "duration": 1086,
        "start_time": "2023-05-03T16:28:41.478Z"
      },
      {
        "duration": 1019,
        "start_time": "2023-05-03T16:28:56.829Z"
      },
      {
        "duration": 1174,
        "start_time": "2023-05-03T16:29:05.470Z"
      },
      {
        "duration": 857,
        "start_time": "2023-05-03T16:29:38.810Z"
      },
      {
        "duration": 70,
        "start_time": "2023-05-03T16:30:08.548Z"
      },
      {
        "duration": 496,
        "start_time": "2023-05-03T16:30:16.274Z"
      },
      {
        "duration": 394,
        "start_time": "2023-05-03T16:30:29.312Z"
      },
      {
        "duration": 863,
        "start_time": "2023-05-03T16:30:37.870Z"
      },
      {
        "duration": 482,
        "start_time": "2023-05-03T16:31:30.799Z"
      },
      {
        "duration": 763,
        "start_time": "2023-05-03T16:31:55.321Z"
      },
      {
        "duration": 826,
        "start_time": "2023-05-03T16:32:19.699Z"
      },
      {
        "duration": 981,
        "start_time": "2023-05-03T16:32:26.197Z"
      },
      {
        "duration": 480,
        "start_time": "2023-05-03T16:33:50.880Z"
      },
      {
        "duration": 507,
        "start_time": "2023-05-03T16:34:15.441Z"
      },
      {
        "duration": 767,
        "start_time": "2023-05-03T16:34:27.341Z"
      },
      {
        "duration": 858,
        "start_time": "2023-05-03T16:34:39.506Z"
      },
      {
        "duration": 757,
        "start_time": "2023-05-03T16:35:00.833Z"
      },
      {
        "duration": 738,
        "start_time": "2023-05-03T16:39:34.281Z"
      },
      {
        "duration": 781,
        "start_time": "2023-05-03T16:39:42.308Z"
      },
      {
        "duration": 916,
        "start_time": "2023-05-03T16:41:34.670Z"
      },
      {
        "duration": 895,
        "start_time": "2023-05-03T16:41:49.650Z"
      },
      {
        "duration": 842,
        "start_time": "2023-05-03T16:44:20.889Z"
      },
      {
        "duration": 725,
        "start_time": "2023-05-03T16:44:39.520Z"
      },
      {
        "duration": 954,
        "start_time": "2023-05-03T16:44:56.477Z"
      },
      {
        "duration": 718,
        "start_time": "2023-05-03T16:45:15.003Z"
      },
      {
        "duration": 836,
        "start_time": "2023-05-03T16:46:22.110Z"
      },
      {
        "duration": 1438,
        "start_time": "2023-05-03T16:46:42.701Z"
      },
      {
        "duration": 370,
        "start_time": "2023-05-03T16:46:44.141Z"
      },
      {
        "duration": 5,
        "start_time": "2023-05-03T16:46:44.513Z"
      },
      {
        "duration": 843,
        "start_time": "2023-05-03T16:46:44.520Z"
      },
      {
        "duration": 904,
        "start_time": "2023-05-03T16:46:45.365Z"
      },
      {
        "duration": 944,
        "start_time": "2023-05-03T16:46:46.271Z"
      },
      {
        "duration": 23,
        "start_time": "2023-05-03T16:46:47.218Z"
      },
      {
        "duration": 5,
        "start_time": "2023-05-03T16:46:47.243Z"
      },
      {
        "duration": 14,
        "start_time": "2023-05-03T16:46:47.250Z"
      },
      {
        "duration": 4,
        "start_time": "2023-05-03T16:46:47.268Z"
      },
      {
        "duration": 51,
        "start_time": "2023-05-03T16:46:47.273Z"
      },
      {
        "duration": 11,
        "start_time": "2023-05-03T16:46:47.326Z"
      },
      {
        "duration": 47,
        "start_time": "2023-05-03T16:46:47.339Z"
      },
      {
        "duration": 4,
        "start_time": "2023-05-03T16:46:47.388Z"
      },
      {
        "duration": 27,
        "start_time": "2023-05-03T16:46:47.394Z"
      },
      {
        "duration": 297,
        "start_time": "2023-05-03T16:46:47.422Z"
      },
      {
        "duration": 3,
        "start_time": "2023-05-03T16:46:47.720Z"
      },
      {
        "duration": 97,
        "start_time": "2023-05-03T16:46:47.724Z"
      },
      {
        "duration": 22,
        "start_time": "2023-05-03T16:46:47.823Z"
      },
      {
        "duration": 3,
        "start_time": "2023-05-03T16:46:47.846Z"
      },
      {
        "duration": 6,
        "start_time": "2023-05-03T16:46:47.850Z"
      },
      {
        "duration": 873,
        "start_time": "2023-05-03T16:46:47.857Z"
      },
      {
        "duration": 828,
        "start_time": "2023-05-03T16:46:48.733Z"
      },
      {
        "duration": 851,
        "start_time": "2023-05-03T16:46:49.563Z"
      },
      {
        "duration": 10,
        "start_time": "2023-05-03T16:47:52.518Z"
      },
      {
        "duration": 858,
        "start_time": "2023-05-03T16:47:53.689Z"
      },
      {
        "duration": 861,
        "start_time": "2023-05-03T16:47:54.548Z"
      },
      {
        "duration": 848,
        "start_time": "2023-05-03T16:47:55.411Z"
      }
    ],
    "kernelspec": {
      "display_name": "Python 3 (ipykernel)",
      "language": "python",
      "name": "python3"
    },
    "language_info": {
      "codemirror_mode": {
        "name": "ipython",
        "version": 3
      },
      "file_extension": ".py",
      "mimetype": "text/x-python",
      "name": "python",
      "nbconvert_exporter": "python",
      "pygments_lexer": "ipython3",
      "version": "3.9.5"
    },
    "toc": {
      "base_numbering": 1,
      "nav_menu": {},
      "number_sections": true,
      "sideBar": true,
      "skip_h1_title": true,
      "title_cell": "Table of Contents",
      "title_sidebar": "Contents",
      "toc_cell": false,
      "toc_position": {},
      "toc_section_display": true,
      "toc_window_display": false
    },
    "colab": {
      "provenance": []
    }
  },
  "nbformat": 4,
  "nbformat_minor": 0
}
